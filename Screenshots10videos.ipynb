{
 "cells": [
  {
   "cell_type": "code",
   "execution_count": 1,
   "id": "58f7be41",
   "metadata": {},
   "outputs": [],
   "source": [
    "import pandas as pd\n",
    "import numpy as np\n",
    "import csv\n",
    "import youtube_dl\n",
    "import urllib\n",
    "import urllib.request\n",
    "import re\n",
    "import unidecode\n",
    "import pafy\n",
    "import pytube\n",
    "from pytube import YouTube"
   ]
  },
  {
   "cell_type": "code",
   "execution_count": 35,
   "id": "749c71f6",
   "metadata": {},
   "outputs": [
    {
     "name": "stdout",
     "output_type": "stream",
     "text": [
      "Ancient+Ferrous+Metallurgy+Sites+of+Burkina+Faso\n",
      "Aldabra+Atoll\n",
      "Air+and+Tenere+Natural+Reserves\n",
      "Aapravasi+Ghat\n",
      "Al+Qal'a+of+Beni+Hammad\n",
      "Abu+Mena\n",
      "Aapravasi+Ghat\n",
      "Aksum\n",
      "Amphitheatre+of+El+Jem\n",
      "Aksum\n"
     ]
    }
   ],
   "source": [
    "import random\n",
    "inputfile = csv.reader(open('video_info2.csv','r'), delimiter=',')\n",
    "\n",
    "\n",
    "allplaces = []\n",
    "places10 = []\n",
    "IDdict = {}\n",
    "allIDs = []\n",
    "IDs10 = []\n",
    "\n",
    "# choose 10 places randomly\n",
    "\n",
    "for row in inputfile:\n",
    "    place = row[1]\n",
    "    place_clean1 = unidecode.unidecode(place)\n",
    "    place_clean2 = place_clean1.replace(' ', '+')\n",
    "    allplaces.append(place_clean2)\n",
    "  \n",
    "\n",
    " #print(random.sample(allplaces, 10))\n",
    "\n",
    "for r in random.sample(allplaces, 10):\n",
    "    places10.append(r)\n",
    " \n",
    "\n",
    " #Place all IDs of each video in a dictionary\n",
    "#print(places10)\n",
    "for element in places10:\n",
    "    print(element)\n",
    "    for row in inputfile:\n",
    "        print(row[1])\n",
    "        if element == row[1]:\n",
    "            print(\"sandra\")\n",
    "            videoid = row[0]\n",
    "            IDdict[element] = videoid\n",
    "            \n",
    "       \n",
    "            \n",
    "# # choose 10 IDs randomly\n",
    "\n",
    "# for key in IDdict:\n",
    "#     allIDs.append(IDdict[key])\n",
    "# IDs10.append(random.sample(allIDs, 10))\n",
    "\n"
   ]
  },
  {
   "cell_type": "code",
   "execution_count": 31,
   "id": "b47c8ab3",
   "metadata": {},
   "outputs": [
    {
     "name": "stdout",
     "output_type": "stream",
     "text": [
      "{}\n"
     ]
    }
   ],
   "source": [
    "print(IDdict)"
   ]
  },
  {
   "cell_type": "code",
   "execution_count": 4,
   "id": "e49ded59",
   "metadata": {},
   "outputs": [],
   "source": [
    "import pafy\n",
    "import vlc\n",
    "import os\n",
    "import time"
   ]
  },
  {
   "cell_type": "code",
   "execution_count": 5,
   "id": "37e525e7",
   "metadata": {},
   "outputs": [],
   "source": [
    "#pip install vlc\n",
    "#sudo apt-get install vlc\n",
    "#pip3 install vlc\n",
    "#pip install python-vlc"
   ]
  },
  {
   "cell_type": "code",
   "execution_count": 7,
   "id": "38a13a63",
   "metadata": {},
   "outputs": [
    {
     "name": "stdout",
     "output_type": "stream",
     "text": [
      "directory exists\n"
     ]
    },
    {
     "ename": "NameError",
     "evalue": "no function 'libvlc_new'",
     "output_type": "error",
     "traceback": [
      "\u001b[0;31m---------------------------------------------------------------------------\u001b[0m",
      "\u001b[0;31mNameError\u001b[0m                                 Traceback (most recent call last)",
      "\u001b[0;32m/tmp/ipykernel_81847/118774203.py\u001b[0m in \u001b[0;36m<module>\u001b[0;34m\u001b[0m\n\u001b[1;32m     26\u001b[0m     \u001b[0mprint\u001b[0m\u001b[0;34m(\u001b[0m\u001b[0;34m\"directory exists\"\u001b[0m\u001b[0;34m)\u001b[0m\u001b[0;34m\u001b[0m\u001b[0;34m\u001b[0m\u001b[0m\n\u001b[1;32m     27\u001b[0m \u001b[0;34m\u001b[0m\u001b[0m\n\u001b[0;32m---> 28\u001b[0;31m \u001b[0mInstance\u001b[0m \u001b[0;34m=\u001b[0m \u001b[0mvlc\u001b[0m\u001b[0;34m.\u001b[0m\u001b[0mInstance\u001b[0m\u001b[0;34m(\u001b[0m\u001b[0;34m)\u001b[0m\u001b[0;34m\u001b[0m\u001b[0;34m\u001b[0m\u001b[0m\n\u001b[0m\u001b[1;32m     29\u001b[0m \u001b[0mplayer\u001b[0m \u001b[0;34m=\u001b[0m \u001b[0mInstance\u001b[0m\u001b[0;34m.\u001b[0m\u001b[0mmedia_player_new\u001b[0m\u001b[0;34m(\u001b[0m\u001b[0;34m)\u001b[0m\u001b[0;34m\u001b[0m\u001b[0;34m\u001b[0m\u001b[0m\n\u001b[1;32m     30\u001b[0m \u001b[0meventManager\u001b[0m \u001b[0;34m=\u001b[0m \u001b[0mplayer\u001b[0m\u001b[0;34m.\u001b[0m\u001b[0mevent_manager\u001b[0m\u001b[0;34m(\u001b[0m\u001b[0;34m)\u001b[0m\u001b[0;34m\u001b[0m\u001b[0;34m\u001b[0m\u001b[0m\n",
      "\u001b[0;32m~/anaconda3/envs/dhlab_project/lib/python3.8/site-packages/vlc.py\u001b[0m in \u001b[0;36m__new__\u001b[0;34m(cls, *args)\u001b[0m\n\u001b[1;32m   1801\u001b[0m         \u001b[0;32mif\u001b[0m \u001b[0mPYTHON3\u001b[0m\u001b[0;34m:\u001b[0m\u001b[0;34m\u001b[0m\u001b[0;34m\u001b[0m\u001b[0m\n\u001b[1;32m   1802\u001b[0m             \u001b[0margs\u001b[0m \u001b[0;34m=\u001b[0m \u001b[0;34m[\u001b[0m \u001b[0mstr_to_bytes\u001b[0m\u001b[0;34m(\u001b[0m\u001b[0ma\u001b[0m\u001b[0;34m)\u001b[0m \u001b[0;32mfor\u001b[0m \u001b[0ma\u001b[0m \u001b[0;32min\u001b[0m \u001b[0margs\u001b[0m \u001b[0;34m]\u001b[0m\u001b[0;34m\u001b[0m\u001b[0;34m\u001b[0m\u001b[0m\n\u001b[0;32m-> 1803\u001b[0;31m         \u001b[0;32mreturn\u001b[0m \u001b[0mlibvlc_new\u001b[0m\u001b[0;34m(\u001b[0m\u001b[0mlen\u001b[0m\u001b[0;34m(\u001b[0m\u001b[0margs\u001b[0m\u001b[0;34m)\u001b[0m\u001b[0;34m,\u001b[0m \u001b[0margs\u001b[0m\u001b[0;34m)\u001b[0m\u001b[0;34m\u001b[0m\u001b[0;34m\u001b[0m\u001b[0m\n\u001b[0m\u001b[1;32m   1804\u001b[0m \u001b[0;34m\u001b[0m\u001b[0m\n\u001b[1;32m   1805\u001b[0m     \u001b[0;32mdef\u001b[0m \u001b[0mmedia_player_new\u001b[0m\u001b[0;34m(\u001b[0m\u001b[0mself\u001b[0m\u001b[0;34m,\u001b[0m \u001b[0muri\u001b[0m\u001b[0;34m=\u001b[0m\u001b[0;32mNone\u001b[0m\u001b[0;34m)\u001b[0m\u001b[0;34m:\u001b[0m\u001b[0;34m\u001b[0m\u001b[0;34m\u001b[0m\u001b[0m\n",
      "\u001b[0;32m~/anaconda3/envs/dhlab_project/lib/python3.8/site-packages/vlc.py\u001b[0m in \u001b[0;36mlibvlc_new\u001b[0;34m(argc, argv)\u001b[0m\n\u001b[1;32m   4967\u001b[0m     '''\n\u001b[1;32m   4968\u001b[0m     \u001b[0mf\u001b[0m \u001b[0;34m=\u001b[0m \u001b[0m_Cfunctions\u001b[0m\u001b[0;34m.\u001b[0m\u001b[0mget\u001b[0m\u001b[0;34m(\u001b[0m\u001b[0;34m'libvlc_new'\u001b[0m\u001b[0;34m,\u001b[0m \u001b[0;32mNone\u001b[0m\u001b[0;34m)\u001b[0m \u001b[0;32mor\u001b[0m\u001b[0;31m \u001b[0m\u001b[0;31m\\\u001b[0m\u001b[0;34m\u001b[0m\u001b[0;34m\u001b[0m\u001b[0m\n\u001b[0;32m-> 4969\u001b[0;31m         _Cfunction('libvlc_new', ((1,), (1,),), class_result(Instance),\n\u001b[0m\u001b[1;32m   4970\u001b[0m                     ctypes.c_void_p, ctypes.c_int, ListPOINTER(ctypes.c_char_p))\n\u001b[1;32m   4971\u001b[0m     \u001b[0;32mreturn\u001b[0m \u001b[0mf\u001b[0m\u001b[0;34m(\u001b[0m\u001b[0margc\u001b[0m\u001b[0;34m,\u001b[0m \u001b[0margv\u001b[0m\u001b[0;34m)\u001b[0m\u001b[0;34m\u001b[0m\u001b[0;34m\u001b[0m\u001b[0m\n",
      "\u001b[0;32m~/anaconda3/envs/dhlab_project/lib/python3.8/site-packages/vlc.py\u001b[0m in \u001b[0;36m_Cfunction\u001b[0;34m(name, flags, errcheck, *types)\u001b[0m\n\u001b[1;32m    290\u001b[0m             \u001b[0m_Globals\u001b[0m\u001b[0;34m[\u001b[0m\u001b[0mname\u001b[0m\u001b[0;34m]\u001b[0m \u001b[0;34m=\u001b[0m \u001b[0mf\u001b[0m\u001b[0;34m\u001b[0m\u001b[0;34m\u001b[0m\u001b[0m\n\u001b[1;32m    291\u001b[0m         \u001b[0;32mreturn\u001b[0m \u001b[0mf\u001b[0m\u001b[0;34m\u001b[0m\u001b[0;34m\u001b[0m\u001b[0m\n\u001b[0;32m--> 292\u001b[0;31m     \u001b[0;32mraise\u001b[0m \u001b[0mNameError\u001b[0m\u001b[0;34m(\u001b[0m\u001b[0;34m'no function %r'\u001b[0m \u001b[0;34m%\u001b[0m \u001b[0;34m(\u001b[0m\u001b[0mname\u001b[0m\u001b[0;34m,\u001b[0m\u001b[0;34m)\u001b[0m\u001b[0;34m)\u001b[0m\u001b[0;34m\u001b[0m\u001b[0;34m\u001b[0m\u001b[0m\n\u001b[0m\u001b[1;32m    293\u001b[0m \u001b[0;34m\u001b[0m\u001b[0m\n\u001b[1;32m    294\u001b[0m \u001b[0;32mdef\u001b[0m \u001b[0m_Cobject\u001b[0m\u001b[0;34m(\u001b[0m\u001b[0mcls\u001b[0m\u001b[0;34m,\u001b[0m \u001b[0mctype\u001b[0m\u001b[0;34m)\u001b[0m\u001b[0;34m:\u001b[0m\u001b[0;34m\u001b[0m\u001b[0;34m\u001b[0m\u001b[0m\n",
      "\u001b[0;31mNameError\u001b[0m: no function 'libvlc_new'"
     ]
    }
   ],
   "source": [
    "url = \"https://www.youtube.com/watch?v=bMt47wvK6u0\"\n",
    "\n",
    "video = pafy.new(url)\n",
    "best = video.getbest()\n",
    "playurl = best.url\n",
    "\n",
    "skipTime = 1000*10*10 # milliseconds\n",
    "\n",
    "\n",
    "directory = \"images/\"\n",
    "prefix = str.split(url, \"=\")[1] + \"_\" # get video ID, end of url\n",
    "harvesting = False\n",
    "waitForBuffer = False\n",
    "recordTime = 0\n",
    "\n",
    "def callbackBuffering(arg):\n",
    "    global waitForBuffer\n",
    "    global harvesting\n",
    "\n",
    "    if(recordTime + skipTime < arg.u.new_time and harvesting):\n",
    "        waitForBuffer = False\n",
    "\n",
    "try:\n",
    "    os.mkdir(\"images\")\n",
    "except:\n",
    "    print(\"directory exists\")    \n",
    "\n",
    "Instance = vlc.Instance()\n",
    "player = Instance.media_player_new()\n",
    "eventManager = player.event_manager()\n",
    "eventManager.event_attach(vlc.EventType.MediaPlayerBuffering, callback = callbackBuffering)\n",
    "\n",
    "\n",
    "\n",
    "Media = Instance.media_new(playurl)\n",
    "Media.get_mrl()\n",
    "player.set_media(Media)\n",
    "\n",
    "player.play()\n",
    "\n",
    "time.sleep(5) # wait till the window appears\n",
    "player.pause()\n",
    "\n",
    "images = 0\n",
    "harvesting = True\n",
    "while(player.get_time() < player.get_length()):\n",
    "\n",
    "    waitForBuffer = True\n",
    "    path = directory + prefix + str(player.get_time() )\n",
    "    print(\"image will be taken at \" + str(player.get_time() ) + \"ms at path \"+ path )   \n",
    "    time.sleep(0.5)\n",
    "    recordTime = player.get_time()\n",
    "    player.video_take_snapshot(0, directory + prefix + str(recordTime) ,i_width=player.video_get_width(), i_height=player.video_get_height())\n",
    "\n",
    "    player.set_time(recordTime+skipTime)\n",
    "\n",
    "\n",
    "\n",
    "    while(waitForBuffer):\n",
    "        print(\"waiting for buffering\")\n",
    "        time.sleep(0.1)"
   ]
  },
  {
   "cell_type": "code",
   "execution_count": null,
   "id": "b72d8bfd",
   "metadata": {},
   "outputs": [],
   "source": [
    "\n"
   ]
  },
  {
   "cell_type": "code",
   "execution_count": 8,
   "id": "5625a490",
   "metadata": {},
   "outputs": [],
   "source": [
    "df = pd.read_csv('video_info2.csv')"
   ]
  },
  {
   "cell_type": "code",
   "execution_count": 9,
   "id": "dc4f8bb4",
   "metadata": {},
   "outputs": [
    {
     "data": {
      "text/html": [
       "<div>\n",
       "<style scoped>\n",
       "    .dataframe tbody tr th:only-of-type {\n",
       "        vertical-align: middle;\n",
       "    }\n",
       "\n",
       "    .dataframe tbody tr th {\n",
       "        vertical-align: top;\n",
       "    }\n",
       "\n",
       "    .dataframe thead th {\n",
       "        text-align: right;\n",
       "    }\n",
       "</style>\n",
       "<table border=\"1\" class=\"dataframe\">\n",
       "  <thead>\n",
       "    <tr style=\"text-align: right;\">\n",
       "      <th></th>\n",
       "      <th>id</th>\n",
       "      <th>duration</th>\n",
       "      <th>title</th>\n",
       "      <th>date</th>\n",
       "    </tr>\n",
       "    <tr>\n",
       "      <th>id.1</th>\n",
       "      <th></th>\n",
       "      <th></th>\n",
       "      <th></th>\n",
       "      <th></th>\n",
       "    </tr>\n",
       "  </thead>\n",
       "  <tbody>\n",
       "    <tr>\n",
       "      <th>Aapravasi Ghat</th>\n",
       "      <td>CIdjpF_zhhI</td>\n",
       "      <td>486</td>\n",
       "      <td>Aapravasi Ghat World Heritage site</td>\n",
       "      <td>20181121</td>\n",
       "    </tr>\n",
       "    <tr>\n",
       "      <th>Aapravasi Ghat</th>\n",
       "      <td>Z_cf5JmUFzY</td>\n",
       "      <td>1758</td>\n",
       "      <td>Aapravasi Ghat Patrimoine Mondial</td>\n",
       "      <td>20210716</td>\n",
       "    </tr>\n",
       "    <tr>\n",
       "      <th>Aapravasi Ghat</th>\n",
       "      <td>Qcov8mIwWYA</td>\n",
       "      <td>194</td>\n",
       "      <td>Aapravasi Ghat - Inscription</td>\n",
       "      <td>20210715</td>\n",
       "    </tr>\n",
       "    <tr>\n",
       "      <th>Aapravasi Ghat</th>\n",
       "      <td>FxGz-BP2uL0</td>\n",
       "      <td>514</td>\n",
       "      <td>The Aapravasi Ghat</td>\n",
       "      <td>20180317</td>\n",
       "    </tr>\n",
       "    <tr>\n",
       "      <th>Aapravasi Ghat</th>\n",
       "      <td>7DSGKgZwrsk</td>\n",
       "      <td>201</td>\n",
       "      <td>Aapravasi Ghat - Grande Expérience</td>\n",
       "      <td>20210715</td>\n",
       "    </tr>\n",
       "    <tr>\n",
       "      <th>...</th>\n",
       "      <td>...</td>\n",
       "      <td>...</td>\n",
       "      <td>...</td>\n",
       "      <td>...</td>\n",
       "    </tr>\n",
       "    <tr>\n",
       "      <th>Ancient Ferrous Metallurgy Sites of Burkina Faso</th>\n",
       "      <td>39OgGIE9CEY</td>\n",
       "      <td>1041</td>\n",
       "      <td>History of Burkina Faso</td>\n",
       "      <td>20210512</td>\n",
       "    </tr>\n",
       "    <tr>\n",
       "      <th>Ancient Ferrous Metallurgy Sites of Burkina Faso</th>\n",
       "      <td>AUn6LzakHsM</td>\n",
       "      <td>1175</td>\n",
       "      <td>Smelting Iron from ROCKS (Primitive Iron Age E...</td>\n",
       "      <td>20200813</td>\n",
       "    </tr>\n",
       "    <tr>\n",
       "      <th>Ancient Ferrous Metallurgy Sites of Burkina Faso</th>\n",
       "      <td>4suIzm-t0_g</td>\n",
       "      <td>971</td>\n",
       "      <td>Aspects of Archaeology: Drones</td>\n",
       "      <td>20170529</td>\n",
       "    </tr>\n",
       "    <tr>\n",
       "      <th>Ancient Ferrous Metallurgy Sites of Burkina Faso</th>\n",
       "      <td>B6b9XzFVvfk</td>\n",
       "      <td>3774</td>\n",
       "      <td>Masks of Burkina Faso 1976-1985</td>\n",
       "      <td>20160330</td>\n",
       "    </tr>\n",
       "    <tr>\n",
       "      <th>Ancient Ferrous Metallurgy Sites of Burkina Faso</th>\n",
       "      <td>aV8Q6Amhtwc</td>\n",
       "      <td>253</td>\n",
       "      <td>Africa   Suka   Iron Farming</td>\n",
       "      <td>20110802</td>\n",
       "    </tr>\n",
       "  </tbody>\n",
       "</table>\n",
       "<p>212 rows × 4 columns</p>\n",
       "</div>"
      ],
      "text/plain": [
       "                                                           id  duration  \\\n",
       "id.1                                                                      \n",
       "Aapravasi Ghat                                    CIdjpF_zhhI       486   \n",
       "Aapravasi Ghat                                    Z_cf5JmUFzY      1758   \n",
       "Aapravasi Ghat                                    Qcov8mIwWYA       194   \n",
       "Aapravasi Ghat                                    FxGz-BP2uL0       514   \n",
       "Aapravasi Ghat                                    7DSGKgZwrsk       201   \n",
       "...                                                       ...       ...   \n",
       "Ancient Ferrous Metallurgy Sites of Burkina Faso  39OgGIE9CEY      1041   \n",
       "Ancient Ferrous Metallurgy Sites of Burkina Faso  AUn6LzakHsM      1175   \n",
       "Ancient Ferrous Metallurgy Sites of Burkina Faso  4suIzm-t0_g       971   \n",
       "Ancient Ferrous Metallurgy Sites of Burkina Faso  B6b9XzFVvfk      3774   \n",
       "Ancient Ferrous Metallurgy Sites of Burkina Faso  aV8Q6Amhtwc       253   \n",
       "\n",
       "                                                                                              title  \\\n",
       "id.1                                                                                                  \n",
       "Aapravasi Ghat                                                   Aapravasi Ghat World Heritage site   \n",
       "Aapravasi Ghat                                                    Aapravasi Ghat Patrimoine Mondial   \n",
       "Aapravasi Ghat                                                         Aapravasi Ghat - Inscription   \n",
       "Aapravasi Ghat                                                                   The Aapravasi Ghat   \n",
       "Aapravasi Ghat                                                   Aapravasi Ghat - Grande Expérience   \n",
       "...                                                                                             ...   \n",
       "Ancient Ferrous Metallurgy Sites of Burkina Faso                            History of Burkina Faso   \n",
       "Ancient Ferrous Metallurgy Sites of Burkina Faso  Smelting Iron from ROCKS (Primitive Iron Age E...   \n",
       "Ancient Ferrous Metallurgy Sites of Burkina Faso                     Aspects of Archaeology: Drones   \n",
       "Ancient Ferrous Metallurgy Sites of Burkina Faso                    Masks of Burkina Faso 1976-1985   \n",
       "Ancient Ferrous Metallurgy Sites of Burkina Faso                       Africa   Suka   Iron Farming   \n",
       "\n",
       "                                                      date  \n",
       "id.1                                                        \n",
       "Aapravasi Ghat                                    20181121  \n",
       "Aapravasi Ghat                                    20210716  \n",
       "Aapravasi Ghat                                    20210715  \n",
       "Aapravasi Ghat                                    20180317  \n",
       "Aapravasi Ghat                                    20210715  \n",
       "...                                                    ...  \n",
       "Ancient Ferrous Metallurgy Sites of Burkina Faso  20210512  \n",
       "Ancient Ferrous Metallurgy Sites of Burkina Faso  20200813  \n",
       "Ancient Ferrous Metallurgy Sites of Burkina Faso  20170529  \n",
       "Ancient Ferrous Metallurgy Sites of Burkina Faso  20160330  \n",
       "Ancient Ferrous Metallurgy Sites of Burkina Faso  20110802  \n",
       "\n",
       "[212 rows x 4 columns]"
      ]
     },
     "execution_count": 9,
     "metadata": {},
     "output_type": "execute_result"
    }
   ],
   "source": [
    "pd.DataFrame.set_index(df, 'id.1')"
   ]
  },
  {
   "cell_type": "code",
   "execution_count": 50,
   "id": "563bbfea",
   "metadata": {},
   "outputs": [
    {
     "name": "stdout",
     "output_type": "stream",
     "text": [
      "['Air and Ténéré Natural Reserves', 'Abu Mena', 'Air and Ténéré Natural Reserves', 'Aksum', 'Aksum', 'Aapravasi Ghat', \"Al Qal'a of Beni Hammad\", \"Al Qal'a of Beni Hammad\", 'Air and Ténéré Natural Reserves', 'Air and Ténéré Natural Reserves']\n"
     ]
    },
    {
     "ename": "TypeError",
     "evalue": "'method' object is not iterable",
     "output_type": "error",
     "traceback": [
      "\u001b[0;31m---------------------------------------------------------------------------\u001b[0m",
      "\u001b[0;31mTypeError\u001b[0m                                 Traceback (most recent call last)",
      "\u001b[0;32m/tmp/ipykernel_81847/2940520913.py\u001b[0m in \u001b[0;36m<module>\u001b[0;34m\u001b[0m\n\u001b[1;32m      6\u001b[0m \u001b[0;31m# # choose 10 videos for each place randomly\u001b[0m\u001b[0;34m\u001b[0m\u001b[0;34m\u001b[0m\u001b[0;34m\u001b[0m\u001b[0m\n\u001b[1;32m      7\u001b[0m \u001b[0;32mfor\u001b[0m \u001b[0mp\u001b[0m \u001b[0;32min\u001b[0m \u001b[0mplaces_10\u001b[0m\u001b[0;34m:\u001b[0m\u001b[0;34m\u001b[0m\u001b[0;34m\u001b[0m\u001b[0m\n\u001b[0;32m----> 8\u001b[0;31m     \u001b[0;32mfor\u001b[0m \u001b[0mr\u001b[0m \u001b[0;32min\u001b[0m \u001b[0mdf\u001b[0m\u001b[0;34m.\u001b[0m\u001b[0mitertuples\u001b[0m\u001b[0;34m:\u001b[0m\u001b[0;34m\u001b[0m\u001b[0;34m\u001b[0m\u001b[0m\n\u001b[0m\u001b[1;32m      9\u001b[0m         \u001b[0;32mif\u001b[0m \u001b[0mp\u001b[0m \u001b[0;34m==\u001b[0m \u001b[0mdf\u001b[0m\u001b[0;34m.\u001b[0m\u001b[0mat\u001b[0m\u001b[0;34m[\u001b[0m\u001b[0mr\u001b[0m\u001b[0;34m,\u001b[0m \u001b[0mp\u001b[0m\u001b[0;34m]\u001b[0m\u001b[0;34m:\u001b[0m\u001b[0;34m\u001b[0m\u001b[0;34m\u001b[0m\u001b[0m\n\u001b[1;32m     10\u001b[0m             \u001b[0mprint\u001b[0m\u001b[0;34m(\u001b[0m\u001b[0mr\u001b[0m\u001b[0;34m)\u001b[0m\u001b[0;34m\u001b[0m\u001b[0;34m\u001b[0m\u001b[0m\n",
      "\u001b[0;31mTypeError\u001b[0m: 'method' object is not iterable"
     ]
    }
   ],
   "source": [
    "# choose 10 places randomly\n",
    "places = list(df['id.1'])\n",
    "places_10 = random.sample(places, 10)\n",
    "print(places_10)\n",
    "\n",
    "# # choose 10 videos for each place randomly\n",
    "for p in places_10:\n",
    "    for r in df.itertuples:\n",
    "        if p == df.at[r, p]:\n",
    "            print(r)\n",
    "            \n",
    "\n",
    "\n",
    "    \n",
    "    \n",
    "    "
   ]
  },
  {
   "cell_type": "code",
   "execution_count": 11,
   "id": "48f741ab",
   "metadata": {},
   "outputs": [
    {
     "ename": "NameError",
     "evalue": "name 'places_10' is not defined",
     "output_type": "error",
     "traceback": [
      "\u001b[0;31m---------------------------------------------------------------------------\u001b[0m",
      "\u001b[0;31mNameError\u001b[0m                                 Traceback (most recent call last)",
      "\u001b[0;32m/tmp/ipykernel_81847/3218642849.py\u001b[0m in \u001b[0;36m<module>\u001b[0;34m\u001b[0m\n\u001b[0;32m----> 1\u001b[0;31m \u001b[0mtype\u001b[0m\u001b[0;34m(\u001b[0m\u001b[0mplaces_10\u001b[0m\u001b[0;34m)\u001b[0m\u001b[0;34m\u001b[0m\u001b[0;34m\u001b[0m\u001b[0m\n\u001b[0m",
      "\u001b[0;31mNameError\u001b[0m: name 'places_10' is not defined"
     ]
    }
   ],
   "source": []
  },
  {
   "cell_type": "code",
   "execution_count": 12,
   "id": "15a9b12f",
   "metadata": {},
   "outputs": [
    {
     "ename": "SyntaxError",
     "evalue": "invalid syntax (2791085117.py, line 2)",
     "output_type": "error",
     "traceback": [
      "\u001b[0;36m  File \u001b[0;32m\"/tmp/ipykernel_81847/2791085117.py\"\u001b[0;36m, line \u001b[0;32m2\u001b[0m\n\u001b[0;31m    source env/bin/activate\u001b[0m\n\u001b[0m           ^\u001b[0m\n\u001b[0;31mSyntaxError\u001b[0m\u001b[0;31m:\u001b[0m invalid syntax\n"
     ]
    }
   ],
   "source": [
    "python -m \n",
    "source env/bin/activate\n",
    "pip install -r requirements.txt"
   ]
  },
  {
   "cell_type": "code",
   "execution_count": null,
   "id": "80808aee",
   "metadata": {},
   "outputs": [],
   "source": []
  }
 ],
 "metadata": {
  "kernelspec": {
   "display_name": "Python 3 (ipykernel)",
   "language": "python",
   "name": "python3"
  },
  "language_info": {
   "codemirror_mode": {
    "name": "ipython",
    "version": 3
   },
   "file_extension": ".py",
   "mimetype": "text/x-python",
   "name": "python",
   "nbconvert_exporter": "python",
   "pygments_lexer": "ipython3",
   "version": "3.8.8"
  }
 },
 "nbformat": 4,
 "nbformat_minor": 5
}
