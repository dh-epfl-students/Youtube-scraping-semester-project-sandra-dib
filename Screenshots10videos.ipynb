{
 "cells": [
  {
   "cell_type": "code",
   "execution_count": 12,
   "id": "58f7be41",
   "metadata": {},
   "outputs": [],
   "source": [
    "import pandas as pd\n",
    "import numpy as np\n",
    "import csv\n",
    "import youtube_dl\n",
    "import urllib\n",
    "import urllib.request\n",
    "import re\n",
    "import unidecode\n",
    "import pafy\n",
    "import pytube\n",
    "from pytube import YouTube"
   ]
  },
  {
   "cell_type": "code",
   "execution_count": 13,
   "id": "749c71f6",
   "metadata": {},
   "outputs": [],
   "source": [
    "import random\n",
    "inputfile = csv.reader(open('video_info2.csv','r'), delimiter=',')\n",
    "\n",
    "\n",
    "allplaces = []\n",
    "places10 = []\n",
    "IDdict = {}\n",
    "allIDs = []\n",
    "IDs10 = []\n",
    "\n",
    "# choose 10 places randomly\n",
    "\n",
    "for row in inputfile:\n",
    "    place = row[1]\n",
    "    place_clean1 = unidecode.unidecode(place)\n",
    "    place_clean2 = place_clean1.replace(' ', '+')\n",
    "    allplaces.append(place_clean2)\n",
    "\n",
    "for i in range(10):    \n",
    "    places10.append(random.choice(allplaces))\n",
    " \n",
    "\n",
    " # Place all IDs of each video in a dictionary\n",
    "\n",
    "for element in places10:\n",
    "    for row in inputfile:\n",
    "        if element == row[1]:\n",
    "            videoid = row[0]\n",
    "            IDdict.update({element : [videoid]})\n",
    "       \n",
    "            \n",
    "# choose 10 IDs randomly\n",
    "\n",
    "for key in IDdict:\n",
    "    allIDs.append(IDdict[key])\n",
    "    for i in range(10):    \n",
    "        IDs10.append(random.choice(allIDs))\n",
    "\n"
   ]
  },
  {
   "cell_type": "code",
   "execution_count": null,
   "id": "38a13a63",
   "metadata": {},
   "outputs": [],
   "source": []
  },
  {
   "cell_type": "code",
   "execution_count": null,
   "id": "dc4f8bb4",
   "metadata": {},
   "outputs": [],
   "source": []
  },
  {
   "cell_type": "code",
   "execution_count": null,
   "id": "563bbfea",
   "metadata": {},
   "outputs": [],
   "source": []
  },
  {
   "cell_type": "code",
   "execution_count": null,
   "id": "48f741ab",
   "metadata": {},
   "outputs": [],
   "source": []
  },
  {
   "cell_type": "code",
   "execution_count": null,
   "id": "15a9b12f",
   "metadata": {},
   "outputs": [],
   "source": []
  },
  {
   "cell_type": "code",
   "execution_count": null,
   "id": "80808aee",
   "metadata": {},
   "outputs": [],
   "source": []
  }
 ],
 "metadata": {
  "kernelspec": {
   "display_name": "Python 3 (ipykernel)",
   "language": "python",
   "name": "python3"
  },
  "language_info": {
   "codemirror_mode": {
    "name": "ipython",
    "version": 3
   },
   "file_extension": ".py",
   "mimetype": "text/x-python",
   "name": "python",
   "nbconvert_exporter": "python",
   "pygments_lexer": "ipython3",
   "version": "3.8.8"
  }
 },
 "nbformat": 4,
 "nbformat_minor": 5
}
