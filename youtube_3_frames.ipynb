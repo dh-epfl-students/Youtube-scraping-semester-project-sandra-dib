{
 "cells": [
  {
   "cell_type": "code",
   "execution_count": 1,
   "id": "d1b0115d",
   "metadata": {},
   "outputs": [],
   "source": [
    "import pandas as pd\n",
    "import numpy as np\n",
    "import csv\n",
    "import youtube_dl\n",
    "import urllib\n",
    "import urllib.request\n",
    "import re\n",
    "import unidecode\n",
    "import pafy\n",
    "import pytube\n",
    "from pytube import YouTube\n",
    "import numpy as np\n",
    "import cv2\n",
    "import matplotlib.pyplot as plt"
   ]
  },
  {
   "cell_type": "code",
   "execution_count": 3,
   "id": "14d8a30d",
   "metadata": {},
   "outputs": [
    {
     "name": "stdout",
     "output_type": "stream",
     "text": [
      "[youtube] HECa3bAFAYk: Downloading webpage\n"
     ]
    }
   ],
   "source": [
    "video_url = 'https://www.youtube.com/watch?v=HECa3bAFAYkq'\n",
    "\n",
    "ydl_opts = {}\n",
    "\n",
    "# create youtube-dl object\n",
    "ydl = youtube_dl.YoutubeDL(ydl_opts)\n",
    "\n",
    "# set video url, extract video information\n",
    "info_dict = ydl.extract_info(video_url, download=False)\n",
    "\n",
    "# get video formats available\n",
    "formats = info_dict.get('formats',None)\n"
   ]
  },
  {
   "cell_type": "code",
   "execution_count": 10,
   "id": "5dfe1c4f",
   "metadata": {},
   "outputs": [
    {
     "name": "stdout",
     "output_type": "stream",
     "text": [
      "video not opened\n"
     ]
    },
    {
     "name": "stderr",
     "output_type": "stream",
     "text": [
      "[ERROR:0] global /tmp/pip-req-build-afu9cjzs/opencv/modules/videoio/src/cap.cpp (160) open VIDEOIO(CV_IMAGES): raised OpenCV exception:\n",
      "\n",
      "OpenCV(4.5.3) /tmp/pip-req-build-afu9cjzs/opencv/modules/videoio/src/cap_images.cpp:235: error: (-5:Bad argument) CAP_IMAGES: error, expected '0?[1-9][du]' pattern, got: https://r3---sn-nfpuji-1gil.googlevideo.com/videoplayback?expire=1634676141&ei=TdluYam1CIjI1gLSsLPICA&ip=128.178.21.36&id=o-AASsV-zXJncLT2s47E8vYmRam_XNGk5zOOjbJ07D5CPd&itag=249&source=youtube&requiressl=yes&mh=Yk&mm=31%2C29&mn=sn-nfpuji-1gil%2Csn-1gi7znek&ms=au%2Crdu&mv=m&mvi=3&pl=16&initcwndbps=1086250&vprv=1&mime=audio%2Fwebm&ns=JsDZCGYfq8hOkXmI87qvIF4G&gir=yes&clen=132426&dur=25.821&lmt=1495887644900835&mt=1634654239&fvip=4&keepalive=yes&fexp=24001373%2C24007246&c=WEB&n=DmHDCZXIl4bh1wuvOzn&sparams=expire%2Cei%2Cip%2Cid%2Citag%2Csource%2Crequiressl%2Cvprv%2Cmime%2Cns%2Cgir%2Cclen%2Cdur%2Clmt&sig=AOq0QJ8wRgIhAKvuwf6yYFmFKcJCngLpHPfesbl_zoPB9ENILvK8oNhpAiEAjzYlGapR8FUotwP0gYGViVxqGG4JCaMnvf74XekiNuk%3D&lsparams=mh%2Cmm%2Cmn%2Cms%2Cmv%2Cmvi%2Cpl%2Cinitcwndbps&lsig=AG3C_xAwRQIhAPYO_MQNuxabtuZejXmxA5fvMaOuE0c3u-WcVR5p9DioAiBoSm6HZnkEBp_NFoLdTmAPwvYHaPgGszMViDmlw0Vo8w%3D%3D in function 'icvExtractPattern'\n",
      "\n",
      "\n"
     ]
    }
   ],
   "source": [
    "\n",
    "\n",
    "\n",
    "f = formats[0]\n",
    "\n",
    "# I want the lowest resolution, so I set resolution as 144p\n",
    "\n",
    "#get the video url\n",
    "url = f['url']\n",
    "\n",
    "# open url with opencv\n",
    "cap = cv2.VideoCapture(url)\n",
    "\n",
    "# check if url was opened\n",
    "if not cap.isOpened():\n",
    "    print('video not opened')\n",
    "    exit(-1)\n",
    "\n",
    "while True:\n",
    "    # read frame\n",
    "    ret, frame = cap.read()\n",
    "\n",
    "    # check if frame is empty\n",
    "    if not ret:\n",
    "        break\n",
    "\n",
    "    # display frame\n",
    "    cv2.imshow('frame', frame)\n",
    "\n",
    "    if cv2.waitKey(30)&0xFF == ord('q'):\n",
    "        break\n",
    "\n",
    "# release VideoCapture\n",
    "cap.release()\n",
    "\n"
   ]
  },
  {
   "cell_type": "code",
   "execution_count": 8,
   "id": "9545eeea",
   "metadata": {},
   "outputs": [
    {
     "data": {
      "text/plain": [
       "{'asr': 48000,\n",
       " 'filesize': 132426,\n",
       " 'format_id': '249',\n",
       " 'format_note': 'tiny',\n",
       " 'fps': None,\n",
       " 'height': None,\n",
       " 'quality': 0,\n",
       " 'tbr': 41.028,\n",
       " 'url': 'https://r3---sn-nfpuji-1gil.googlevideo.com/videoplayback?expire=1634676141&ei=TdluYam1CIjI1gLSsLPICA&ip=128.178.21.36&id=o-AASsV-zXJncLT2s47E8vYmRam_XNGk5zOOjbJ07D5CPd&itag=249&source=youtube&requiressl=yes&mh=Yk&mm=31%2C29&mn=sn-nfpuji-1gil%2Csn-1gi7znek&ms=au%2Crdu&mv=m&mvi=3&pl=16&initcwndbps=1086250&vprv=1&mime=audio%2Fwebm&ns=JsDZCGYfq8hOkXmI87qvIF4G&gir=yes&clen=132426&dur=25.821&lmt=1495887644900835&mt=1634654239&fvip=4&keepalive=yes&fexp=24001373%2C24007246&c=WEB&n=DmHDCZXIl4bh1wuvOzn&sparams=expire%2Cei%2Cip%2Cid%2Citag%2Csource%2Crequiressl%2Cvprv%2Cmime%2Cns%2Cgir%2Cclen%2Cdur%2Clmt&sig=AOq0QJ8wRgIhAKvuwf6yYFmFKcJCngLpHPfesbl_zoPB9ENILvK8oNhpAiEAjzYlGapR8FUotwP0gYGViVxqGG4JCaMnvf74XekiNuk%3D&lsparams=mh%2Cmm%2Cmn%2Cms%2Cmv%2Cmvi%2Cpl%2Cinitcwndbps&lsig=AG3C_xAwRQIhAPYO_MQNuxabtuZejXmxA5fvMaOuE0c3u-WcVR5p9DioAiBoSm6HZnkEBp_NFoLdTmAPwvYHaPgGszMViDmlw0Vo8w%3D%3D',\n",
       " 'width': None,\n",
       " 'ext': 'webm',\n",
       " 'vcodec': 'none',\n",
       " 'acodec': 'opus',\n",
       " 'abr': 41.028,\n",
       " 'downloader_options': {'http_chunk_size': 10485760},\n",
       " 'container': 'webm_dash',\n",
       " 'format': '249 - audio only (tiny)',\n",
       " 'protocol': 'https',\n",
       " 'http_headers': {'User-Agent': 'Mozilla/5.0 (Windows NT 10.0; Win64; x64) AppleWebKit/537.36 (KHTML, like Gecko) Chrome/75.0.3745.3 Safari/537.36',\n",
       "  'Accept-Charset': 'ISO-8859-1,utf-8;q=0.7,*;q=0.7',\n",
       "  'Accept': 'text/html,application/xhtml+xml,application/xml;q=0.9,*/*;q=0.8',\n",
       "  'Accept-Encoding': 'gzip, deflate',\n",
       "  'Accept-Language': 'en-us,en;q=0.5'}}"
      ]
     },
     "execution_count": 8,
     "metadata": {},
     "output_type": "execute_result"
    }
   ],
   "source": [
    "formats[0]"
   ]
  },
  {
   "cell_type": "code",
   "execution_count": null,
   "id": "2c947b36",
   "metadata": {},
   "outputs": [],
   "source": []
  },
  {
   "cell_type": "code",
   "execution_count": null,
   "id": "2d2e8443",
   "metadata": {},
   "outputs": [],
   "source": []
  }
 ],
 "metadata": {
  "kernelspec": {
   "display_name": "Python 3 (ipykernel)",
   "language": "python",
   "name": "python3"
  },
  "language_info": {
   "codemirror_mode": {
    "name": "ipython",
    "version": 3
   },
   "file_extension": ".py",
   "mimetype": "text/x-python",
   "name": "python",
   "nbconvert_exporter": "python",
   "pygments_lexer": "ipython3",
   "version": "3.8.8"
  }
 },
 "nbformat": 4,
 "nbformat_minor": 5
}
