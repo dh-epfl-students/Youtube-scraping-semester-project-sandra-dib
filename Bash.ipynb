{
 "cells": [
  {
   "cell_type": "code",
   "execution_count": 1,
   "id": "7f2eafee-d076-4563-95ee-2f3b7c6b2e49",
   "metadata": {},
   "outputs": [
    {
     "ename": "SyntaxError",
     "evalue": "invalid syntax (2682589871.py, line 1)",
     "output_type": "error",
     "traceback": [
      "\u001b[0;36m  File \u001b[0;32m\"/tmp/ipykernel_58649/2682589871.py\"\u001b[0;36m, line \u001b[0;32m1\u001b[0m\n\u001b[0;31m    kbuilder_create p3_youtube_dl youtube_dl\u001b[0m\n\u001b[0m                    ^\u001b[0m\n\u001b[0;31mSyntaxError\u001b[0m\u001b[0;31m:\u001b[0m invalid syntax\n"
     ]
    }
   ],
   "source": [
    "kbuilder_create p3_youtube_dl youtube_dl"
   ]
  },
  {
   "cell_type": "code",
   "execution_count": null,
   "id": "e8b921cb-d093-4600-bb8d-c0d2934c62cc",
   "metadata": {},
   "outputs": [],
   "source": [
    "kbuilder_create p3_youtube_dl beautifulsoup4"
   ]
  },
  {
   "cell_type": "code",
   "execution_count": null,
   "id": "60f69d28-0ebe-4e5f-ad0f-1a1eea2089da",
   "metadata": {},
   "outputs": [],
   "source": [
    "kbuilder_create p3_youtube_dl requests"
   ]
  },
  {
   "cell_type": "code",
   "execution_count": null,
   "id": "4651ce4a-bbbe-4398-a4b3-7cee13203d19",
   "metadata": {},
   "outputs": [],
   "source": [
    "kbuilder_create p3_youtube_dl pandas"
   ]
  },
  {
   "cell_type": "code",
   "execution_count": null,
   "id": "42481565-d337-4ffa-a66a-a5beba9bbe08",
   "metadata": {},
   "outputs": [],
   "source": [
    "pip install selenium"
   ]
  },
  {
   "cell_type": "code",
   "execution_count": null,
   "id": "b9d1a632-7028-48dd-8e5f-7df14da46b45",
   "metadata": {},
   "outputs": [],
   "source": [
    "pip install virtualenv"
   ]
  },
  {
   "cell_type": "code",
   "execution_count": null,
   "id": "02a088c4-c3f2-4530-96dc-07cb7667dbbe",
   "metadata": {},
   "outputs": [],
   "source": [
    "pip install pafy"
   ]
  },
  {
   "cell_type": "code",
   "execution_count": null,
   "id": "d0a7ea2d-de54-492d-a86d-ca5c984e749d",
   "metadata": {},
   "outputs": [],
   "source": [
    "ls /usr/bin\n"
   ]
  },
  {
   "cell_type": "code",
   "execution_count": null,
   "id": "fa89e0a4-2b17-4ed7-a1b3-e55a15fd0e0b",
   "metadata": {},
   "outputs": [],
   "source": [
    "!export PATH=/home/sdib/Desktop/geckodriver"
   ]
  },
  {
   "cell_type": "code",
   "execution_count": 2,
   "id": "ae106044-dfd8-41b5-9ee5-6f8afc164cb9",
   "metadata": {},
   "outputs": [
    {
     "name": "stdout",
     "output_type": "stream",
     "text": [
      "Requirement already satisfied: python-vlc in /home/sdib/anaconda3/envs/dhlab_project/lib/python3.8/site-packages (3.0.12118)\n",
      "Note: you may need to restart the kernel to use updated packages.\n"
     ]
    }
   ],
   "source": [
    " pip install python-vlc"
   ]
  },
  {
   "cell_type": "code",
   "execution_count": 5,
   "id": "31da150a",
   "metadata": {},
   "outputs": [
    {
     "ename": "SyntaxError",
     "evalue": "invalid syntax (128418538.py, line 1)",
     "output_type": "error",
     "traceback": [
      "\u001b[0;36m  File \u001b[0;32m\"/tmp/ipykernel_58649/128418538.py\"\u001b[0;36m, line \u001b[0;32m1\u001b[0m\n\u001b[0;31m    sudo apt-get install vlc\u001b[0m\n\u001b[0m         ^\u001b[0m\n\u001b[0;31mSyntaxError\u001b[0m\u001b[0;31m:\u001b[0m invalid syntax\n"
     ]
    }
   ],
   "source": [
    "sudo apt-get install vlc"
   ]
  },
  {
   "cell_type": "code",
   "execution_count": null,
   "id": "fa13f9d1",
   "metadata": {},
   "outputs": [],
   "source": [
    "sudo apt-get install vlc"
   ]
  },
  {
   "cell_type": "code",
   "execution_count": null,
   "id": "f9d0fa4e",
   "metadata": {},
   "outputs": [],
   "source": []
  }
 ],
 "metadata": {
  "kernelspec": {
   "display_name": "Python 3 (ipykernel)",
   "language": "python",
   "name": "python3"
  },
  "language_info": {
   "codemirror_mode": {
    "name": "ipython",
    "version": 3
   },
   "file_extension": ".py",
   "mimetype": "text/x-python",
   "name": "python",
   "nbconvert_exporter": "python",
   "pygments_lexer": "ipython3",
   "version": "3.8.8"
  }
 },
 "nbformat": 4,
 "nbformat_minor": 5
}
