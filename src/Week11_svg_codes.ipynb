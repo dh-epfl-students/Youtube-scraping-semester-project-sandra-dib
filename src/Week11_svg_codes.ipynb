{
 "cells": [
  {
   "cell_type": "code",
   "execution_count": 22,
   "id": "3d325451",
   "metadata": {},
   "outputs": [],
   "source": [
    "import numpy as np\n",
    "import struct\n",
    "import json \n",
    "import pandas as pd\n",
    "import matplotlib.pyplot as plt\n",
    "from pathlib import Path\n"
   ]
  },
  {
   "cell_type": "code",
   "execution_count": 3,
   "id": "4e6d6171",
   "metadata": {},
   "outputs": [],
   "source": [
    "from __future__ import unicode_literals\n",
    "import youtube_dl\n",
    "import os\n",
    "import shutil\n",
    "import time"
   ]
  },
  {
   "cell_type": "code",
   "execution_count": 4,
   "id": "68f2facf",
   "metadata": {},
   "outputs": [
    {
     "name": "stderr",
     "output_type": "stream",
     "text": [
      "/tmp/ipykernel_1605513/1364053985.py:7: DeprecationWarning: `np.float` is a deprecated alias for the builtin `float`. To silence this warning, use `float` by itself. Doing this will not modify any behavior and is safe. If you specifically wanted the numpy scalar type, use `np.float64` here.\n",
      "Deprecated in NumPy 1.20; for more details and guidance: https://numpy.org/devdocs/release/1.20.0-notes.html#deprecations\n",
      "  x = ( np.float(line.split('\"')[1]) / 5 )\n",
      "/tmp/ipykernel_1605513/1364053985.py:8: DeprecationWarning: `np.float` is a deprecated alias for the builtin `float`. To silence this warning, use `float` by itself. Doing this will not modify any behavior and is safe. If you specifically wanted the numpy scalar type, use `np.float64` here.\n",
      "Deprecated in NumPy 1.20; for more details and guidance: https://numpy.org/devdocs/release/1.20.0-notes.html#deprecations\n",
      "  y = ( np.float(line.split('\"')[3]) / 5 )\n"
     ]
    }
   ],
   "source": [
    "# input : svg file (\"Geometric\" or \"Putative\" Adjacency Matrix) for a given model\n",
    "# output : list of matches\n",
    "matches = []\n",
    "svg_file = '/home/sdib/Desktop/1xBp5cFqSvQ'+ \"/\" + \"GeometricAdjacencyMatrix.svg\"\n",
    "for line in open(svg_file, 'r').read().split('\\n'):\n",
    "    if \"<rect\" in line:\n",
    "        x = ( np.float(line.split('\"')[1]) / 5 )\n",
    "        y = ( np.float(line.split('\"')[3]) / 5 )\n",
    "        matches.append(sorted([int(x),int(y)]))"
   ]
  },
  {
   "cell_type": "code",
   "execution_count": 5,
   "id": "4c02bccc",
   "metadata": {},
   "outputs": [
    {
     "name": "stdout",
     "output_type": "stream",
     "text": [
      "[[0, 1], [0, 2], [0, 3], [0, 4], [0, 5], [0, 6], [0, 7], [0, 8], [0, 9], [0, 23], [0, 24], [0, 25], [0, 26], [0, 27], [0, 28], [0, 29], [0, 30], [1, 2], [1, 3], [1, 4], [1, 5], [1, 6], [1, 7], [1, 8], [1, 9], [1, 23], [1, 24], [1, 25], [1, 26], [1, 27], [1, 28], [1, 29], [1, 30], [1, 31], [2, 3], [2, 4], [2, 5], [2, 6], [2, 7], [2, 8], [2, 9], [2, 23], [2, 24], [2, 25], [2, 26], [2, 27], [2, 28], [2, 29], [2, 30], [2, 31], [2, 32], [3, 4], [3, 5], [3, 6], [3, 7], [3, 8], [3, 9], [3, 23], [3, 24], [3, 25], [3, 26], [3, 27], [3, 28], [3, 29], [3, 30], [3, 31], [3, 32], [3, 33], [4, 5], [4, 6], [4, 7], [4, 8], [4, 9], [4, 23], [4, 24], [4, 25], [4, 26], [4, 27], [4, 28], [4, 29], [4, 30], [4, 31], [4, 32], [4, 33], [4, 34], [5, 6], [5, 7], [5, 8], [5, 9], [5, 10], [5, 23], [5, 24], [5, 25], [5, 26], [5, 27], [5, 28], [5, 29], [5, 30], [5, 31], [5, 32], [5, 33], [5, 34], [5, 35], [6, 7], [6, 8], [6, 9], [6, 10], [6, 11], [6, 12], [6, 23], [6, 24], [6, 25], [6, 26], [6, 27], [6, 28], [6, 29], [6, 30], [6, 31], [6, 32], [6, 33], [6, 34], [7, 8], [7, 9], [7, 10], [7, 11], [7, 12], [7, 13], [8, 9], [8, 10], [8, 11], [8, 12], [8, 13], [8, 14], [8, 15], [9, 10], [9, 11], [9, 12], [9, 13], [9, 14], [9, 15], [9, 16], [9, 17], [10, 11], [10, 12], [10, 13], [10, 14], [10, 15], [10, 16], [10, 17], [10, 18], [11, 12], [11, 13], [11, 14], [11, 15], [11, 16], [11, 17], [11, 18], [11, 19], [11, 20], [12, 13], [12, 14], [12, 15], [12, 16], [12, 17], [12, 18], [12, 19], [12, 20], [13, 14], [13, 15], [13, 16], [13, 17], [13, 18], [13, 19], [13, 20], [13, 21], [14, 15], [14, 16], [14, 17], [14, 18], [14, 19], [14, 20], [14, 21], [14, 22], [15, 16], [15, 17], [15, 18], [15, 19], [15, 20], [15, 21], [15, 22], [16, 17], [16, 18], [16, 19], [16, 20], [16, 21], [16, 22], [17, 18], [17, 19], [17, 20], [17, 21], [17, 22], [18, 19], [18, 20], [18, 21], [18, 22], [19, 20], [19, 21], [19, 22], [20, 21], [20, 22], [21, 22], [23, 24], [23, 25], [23, 26], [23, 27], [23, 28], [23, 29], [23, 30], [23, 31], [23, 32], [23, 33], [23, 34], [23, 35], [23, 36], [23, 37], [23, 38], [23, 51], [23, 52], [23, 53], [24, 25], [24, 26], [24, 27], [24, 28], [24, 29], [24, 30], [24, 31], [24, 32], [24, 33], [24, 34], [24, 35], [24, 36], [24, 37], [24, 38], [24, 51], [24, 52], [24, 53], [24, 54], [25, 26], [25, 27], [25, 28], [25, 29], [25, 30], [25, 31], [25, 32], [25, 33], [25, 34], [25, 35], [25, 36], [25, 37], [25, 38], [25, 51], [25, 52], [25, 53], [25, 54], [25, 55], [26, 27], [26, 28], [26, 29], [26, 30], [26, 31], [26, 32], [26, 33], [26, 34], [26, 35], [26, 36], [26, 37], [26, 38], [26, 51], [26, 52], [26, 53], [26, 54], [26, 55], [26, 56], [27, 28], [27, 29], [27, 30], [27, 31], [27, 32], [27, 33], [27, 34], [27, 35], [27, 36], [27, 37], [27, 38], [27, 51], [27, 52], [27, 53], [27, 54], [27, 55], [27, 56], [27, 57], [28, 29], [28, 30], [28, 31], [28, 32], [28, 33], [28, 34], [28, 35], [28, 36], [28, 37], [28, 38], [28, 51], [28, 52], [28, 53], [28, 54], [28, 55], [28, 56], [28, 57], [29, 30], [29, 31], [29, 32], [29, 33], [29, 34], [29, 35], [29, 36], [29, 37], [29, 38], [29, 51], [29, 52], [29, 53], [29, 54], [29, 55], [29, 56], [29, 57], [30, 31], [30, 32], [30, 33], [30, 34], [30, 35], [30, 36], [30, 37], [30, 38], [30, 51], [30, 52], [30, 53], [30, 54], [30, 55], [30, 56], [30, 57], [31, 32], [31, 33], [31, 34], [31, 35], [31, 36], [31, 37], [31, 38], [31, 51], [31, 52], [31, 53], [31, 54], [31, 55], [31, 56], [31, 57], [32, 33], [32, 34], [32, 35], [32, 36], [32, 37], [32, 38], [32, 51], [32, 52], [32, 53], [32, 54], [32, 55], [32, 56], [32, 57], [33, 34], [33, 35], [33, 36], [33, 37], [33, 38], [33, 51], [33, 52], [33, 53], [33, 54], [33, 55], [33, 56], [33, 57], [34, 35], [34, 36], [34, 37], [34, 38], [34, 51], [34, 52], [34, 53], [34, 54], [34, 55], [34, 56], [34, 57], [35, 36], [35, 37], [35, 38], [35, 51], [35, 52], [35, 53], [35, 54], [35, 55], [35, 56], [35, 57], [36, 37], [36, 38], [36, 51], [36, 52], [36, 53], [36, 54], [36, 55], [36, 56], [36, 57], [37, 38], [37, 51], [37, 52], [37, 53], [37, 54], [37, 55], [37, 56], [37, 57], [38, 51], [38, 52], [38, 53], [38, 54], [38, 55], [38, 56], [38, 57], [39, 40], [39, 41], [39, 42], [39, 43], [39, 44], [39, 45], [39, 46], [39, 47], [39, 48], [39, 49], [39, 50], [40, 41], [40, 42], [40, 43], [40, 44], [40, 45], [40, 46], [40, 47], [40, 48], [40, 49], [40, 50], [41, 42], [41, 43], [41, 44], [41, 45], [41, 46], [41, 47], [41, 48], [41, 49], [41, 50], [42, 43], [42, 44], [42, 45], [42, 46], [42, 47], [42, 48], [42, 49], [42, 50], [43, 44], [43, 45], [43, 46], [43, 47], [43, 48], [43, 49], [43, 50], [44, 45], [44, 46], [44, 47], [44, 48], [44, 49], [44, 50], [45, 46], [45, 47], [45, 48], [45, 49], [45, 50], [46, 47], [46, 48], [46, 49], [46, 50], [47, 48], [47, 49], [47, 50], [48, 49], [48, 50], [49, 50], [51, 52], [51, 53], [51, 54], [51, 55], [51, 56], [51, 57], [52, 53], [52, 54], [52, 55], [52, 56], [52, 57], [53, 54], [53, 55], [53, 56], [53, 57], [54, 55], [54, 56], [54, 57], [55, 56], [55, 57], [56, 57]]\n"
     ]
    }
   ],
   "source": [
    "print(matches)"
   ]
  },
  {
   "cell_type": "code",
   "execution_count": 6,
   "id": "92f2856c",
   "metadata": {},
   "outputs": [],
   "source": [
    "#Function to recreate an adjacency matrix out of\n",
    "#the match_list passed as argument.\"\"\"\n",
    "\n",
    "# retrieve size of matrix\n",
    "n = 61\n",
    "\n",
    "# initialize matrix\n",
    "adj_mat = np.zeros((61, 61))\n",
    "\n",
    "idx = np.asarray(matches)\n",
    "\n",
    "# slice the matrix with correct idxs\n",
    "adj_mat[idx[:, 0], idx[:, 1]] = 1\n",
    "\n",
    "#return adj_mat"
   ]
  },
  {
   "cell_type": "code",
   "execution_count": 7,
   "id": "323ad743",
   "metadata": {},
   "outputs": [
    {
     "data": {
      "text/plain": [
       "<matplotlib.image.AxesImage at 0x7f3d961179d0>"
      ]
     },
     "execution_count": 7,
     "metadata": {},
     "output_type": "execute_result"
    },
    {
     "data": {
      "image/png": "[encoded data removed]",
      "text/plain": [
       "<Figure size 288x288 with 1 Axes>"
      ]
     },
     "metadata": {
      "needs_background": "light"
     },
     "output_type": "display_data"
    }
   ],
   "source": [
    "plt.matshow(adj_mat)"
   ]
  },
  {
   "cell_type": "code",
   "execution_count": 8,
   "id": "f8352307",
   "metadata": {},
   "outputs": [],
   "source": [
    "# input : list of matches\n",
    "# output : triangles\n",
    "#def split_triangles(adj_mat, tol=30):\n",
    "    #Provides a list containing tuples that describe\n",
    "    #triangles of images that match : the triangle are composed of the points\n",
    "    #(i_min, i_min+1), (i_min, i_max), (i_max-1, i_max) in the adjacency matrix.\n",
    "\n",
    "n = adj_mat.shape[0]\n",
    "triangles = []\n",
    "i_min = 0\n",
    "i_max = 0\n",
    "\n",
    "for i in range(n):\n",
    "# Retrieve non zero value for current line\n",
    "    non_zer = np.nonzero(adj_mat[i])[0]\n",
    "\n",
    "    # check if at begining or triangle\n",
    "    if non_zer.size > 0:\n",
    "\n",
    "        # check if no far image is taken into account\n",
    "        if abs(non_zer[-1] - non_zer[0]) >= 10:\n",
    "\n",
    "            length = len(non_zer)\n",
    "            j = 0\n",
    "\n",
    "            while j != length-1 and abs(non_zer[j+1] - non_zer[j]) < 10:\n",
    "                j += 1\n",
    "\n",
    "        # no far image: take them all\n",
    "        else:\n",
    "            i_max = non_zer[-1]\n",
    "\n",
    "    # empty triangle or at end of triangle\n",
    "    else:\n",
    "        if i == i_max:\n",
    "            # Close triangle\n",
    "            if i_min < i_max:\n",
    "                triangles.append((i_min, i_max))\n",
    "            i_min = i_max = i_max + 1\n",
    "\n",
    "\n",
    "    #return triangles"
   ]
  },
  {
   "cell_type": "code",
   "execution_count": 9,
   "id": "1f4d5fe4",
   "metadata": {},
   "outputs": [
    {
     "data": {
      "text/plain": [
       "[(0, 22), (23, 50), (51, 57)]"
      ]
     },
     "execution_count": 9,
     "metadata": {},
     "output_type": "execute_result"
    }
   ],
   "source": [
    "triangles"
   ]
  },
  {
   "cell_type": "code",
   "execution_count": 10,
   "id": "d1350621",
   "metadata": {},
   "outputs": [],
   "source": [
    "#Read sfm data json file, and transforms it into dictionary\n",
    "sfm_data_json = '/home/sdib/Desktop/1xBp5cFqSvQ'+ \"/\" + \"sfm_data.json\"\n",
    "with open(sfm_data_json, 'r') as fp:\n",
    "    sfm_data = json.load(fp)\n",
    "\n",
    "views = sfm_data['views']\n",
    "extrinsics = sfm_data['extrinsics']\n",
    "\n",
    "views_dict = {}\n",
    "ext_dict = {}\n",
    "\n",
    "for element in views:\n",
    "    assert element['key'] not in views_dict.keys(), \"Key entry already exists\"\n",
    "    views_dict.update({element['key']: element['value']})\n",
    "    \n",
    "for element in extrinsics:\n",
    "    print('test')\n",
    "    assert element['key'] not in ext_dict.keys(), \"Key entry already exists\"\n",
    "    ext_dict.update({element['key']: element['value']})\n",
    "    \n",
    "\n",
    "#return views_dict, ext_dict"
   ]
  },
  {
   "cell_type": "code",
   "execution_count": 11,
   "id": "381ff54c",
   "metadata": {
    "scrolled": true
   },
   "outputs": [
    {
     "data": {
      "text/plain": [
       "'frame0001.png'"
      ]
     },
     "execution_count": 11,
     "metadata": {},
     "output_type": "execute_result"
    }
   ],
   "source": [
    "views_dict.get(0)['ptr_wrapper']['data']['filename']"
   ]
  },
  {
   "cell_type": "code",
   "execution_count": 30,
   "id": "ff433ad8",
   "metadata": {},
   "outputs": [
    {
     "name": "stdout",
     "output_type": "stream",
     "text": [
      "/home/sdib/Desktop/1xBp5cFqSvQ/frames/frame0001.png\n",
      "/home/sdib/Desktop/1xBp5cFqSvQ/set_0/frames/frame0001.png\n",
      "/home/sdib/Desktop/1xBp5cFqSvQ/frames/frame0002.png\n",
      "/home/sdib/Desktop/1xBp5cFqSvQ/set_0/frames/frame0002.png\n",
      "/home/sdib/Desktop/1xBp5cFqSvQ/frames/frame0003.png\n",
      "/home/sdib/Desktop/1xBp5cFqSvQ/set_0/frames/frame0003.png\n",
      "/home/sdib/Desktop/1xBp5cFqSvQ/frames/frame0004.png\n",
      "/home/sdib/Desktop/1xBp5cFqSvQ/set_0/frames/frame0004.png\n",
      "/home/sdib/Desktop/1xBp5cFqSvQ/frames/frame0005.png\n",
      "/home/sdib/Desktop/1xBp5cFqSvQ/set_0/frames/frame0005.png\n",
      "/home/sdib/Desktop/1xBp5cFqSvQ/frames/frame0006.png\n",
      "/home/sdib/Desktop/1xBp5cFqSvQ/set_0/frames/frame0006.png\n",
      "/home/sdib/Desktop/1xBp5cFqSvQ/frames/frame0007.png\n",
      "/home/sdib/Desktop/1xBp5cFqSvQ/set_0/frames/frame0007.png\n",
      "/home/sdib/Desktop/1xBp5cFqSvQ/frames/frame0008.png\n",
      "/home/sdib/Desktop/1xBp5cFqSvQ/set_0/frames/frame0008.png\n",
      "/home/sdib/Desktop/1xBp5cFqSvQ/frames/frame0009.png\n",
      "/home/sdib/Desktop/1xBp5cFqSvQ/set_0/frames/frame0009.png\n",
      "/home/sdib/Desktop/1xBp5cFqSvQ/frames/frame0010.png\n",
      "/home/sdib/Desktop/1xBp5cFqSvQ/set_0/frames/frame0010.png\n",
      "/home/sdib/Desktop/1xBp5cFqSvQ/frames/frame0011.png\n",
      "/home/sdib/Desktop/1xBp5cFqSvQ/set_0/frames/frame0011.png\n",
      "/home/sdib/Desktop/1xBp5cFqSvQ/frames/frame0012.png\n",
      "/home/sdib/Desktop/1xBp5cFqSvQ/set_0/frames/frame0012.png\n",
      "/home/sdib/Desktop/1xBp5cFqSvQ/frames/frame0013.png\n",
      "/home/sdib/Desktop/1xBp5cFqSvQ/set_0/frames/frame0013.png\n",
      "/home/sdib/Desktop/1xBp5cFqSvQ/frames/frame0014.png\n",
      "/home/sdib/Desktop/1xBp5cFqSvQ/set_0/frames/frame0014.png\n",
      "/home/sdib/Desktop/1xBp5cFqSvQ/frames/frame0015.png\n",
      "/home/sdib/Desktop/1xBp5cFqSvQ/set_0/frames/frame0015.png\n",
      "/home/sdib/Desktop/1xBp5cFqSvQ/frames/frame0016.png\n",
      "/home/sdib/Desktop/1xBp5cFqSvQ/set_0/frames/frame0016.png\n",
      "/home/sdib/Desktop/1xBp5cFqSvQ/frames/frame0017.png\n",
      "/home/sdib/Desktop/1xBp5cFqSvQ/set_0/frames/frame0017.png\n",
      "/home/sdib/Desktop/1xBp5cFqSvQ/frames/frame0018.png\n",
      "/home/sdib/Desktop/1xBp5cFqSvQ/set_0/frames/frame0018.png\n",
      "/home/sdib/Desktop/1xBp5cFqSvQ/frames/frame0019.png\n",
      "/home/sdib/Desktop/1xBp5cFqSvQ/set_0/frames/frame0019.png\n",
      "/home/sdib/Desktop/1xBp5cFqSvQ/frames/frame0020.png\n",
      "/home/sdib/Desktop/1xBp5cFqSvQ/set_0/frames/frame0020.png\n",
      "/home/sdib/Desktop/1xBp5cFqSvQ/frames/frame0021.png\n",
      "/home/sdib/Desktop/1xBp5cFqSvQ/set_0/frames/frame0021.png\n",
      "/home/sdib/Desktop/1xBp5cFqSvQ/frames/frame0022.png\n",
      "/home/sdib/Desktop/1xBp5cFqSvQ/set_0/frames/frame0022.png\n",
      "/home/sdib/Desktop/1xBp5cFqSvQ/frames/frame0023.png\n",
      "/home/sdib/Desktop/1xBp5cFqSvQ/set_0/frames/frame0023.png\n",
      "/home/sdib/Desktop/1xBp5cFqSvQ/frames/frame0024.png\n",
      "/home/sdib/Desktop/1xBp5cFqSvQ/set_1/frames/frame0024.png\n",
      "/home/sdib/Desktop/1xBp5cFqSvQ/frames/frame0025.png\n",
      "/home/sdib/Desktop/1xBp5cFqSvQ/set_1/frames/frame0025.png\n",
      "/home/sdib/Desktop/1xBp5cFqSvQ/frames/frame0026.png\n",
      "/home/sdib/Desktop/1xBp5cFqSvQ/set_1/frames/frame0026.png\n",
      "/home/sdib/Desktop/1xBp5cFqSvQ/frames/frame0027.png\n",
      "/home/sdib/Desktop/1xBp5cFqSvQ/set_1/frames/frame0027.png\n",
      "/home/sdib/Desktop/1xBp5cFqSvQ/frames/frame0028.png\n",
      "/home/sdib/Desktop/1xBp5cFqSvQ/set_1/frames/frame0028.png\n",
      "/home/sdib/Desktop/1xBp5cFqSvQ/frames/frame0029.png\n",
      "/home/sdib/Desktop/1xBp5cFqSvQ/set_1/frames/frame0029.png\n",
      "/home/sdib/Desktop/1xBp5cFqSvQ/frames/frame0030.png\n",
      "/home/sdib/Desktop/1xBp5cFqSvQ/set_1/frames/frame0030.png\n",
      "/home/sdib/Desktop/1xBp5cFqSvQ/frames/frame0031.png\n",
      "/home/sdib/Desktop/1xBp5cFqSvQ/set_1/frames/frame0031.png\n",
      "/home/sdib/Desktop/1xBp5cFqSvQ/frames/frame0032.png\n",
      "/home/sdib/Desktop/1xBp5cFqSvQ/set_1/frames/frame0032.png\n",
      "/home/sdib/Desktop/1xBp5cFqSvQ/frames/frame0033.png\n",
      "/home/sdib/Desktop/1xBp5cFqSvQ/set_1/frames/frame0033.png\n",
      "/home/sdib/Desktop/1xBp5cFqSvQ/frames/frame0034.png\n",
      "/home/sdib/Desktop/1xBp5cFqSvQ/set_1/frames/frame0034.png\n",
      "/home/sdib/Desktop/1xBp5cFqSvQ/frames/frame0035.png\n",
      "/home/sdib/Desktop/1xBp5cFqSvQ/set_1/frames/frame0035.png\n",
      "/home/sdib/Desktop/1xBp5cFqSvQ/frames/frame0036.png\n",
      "/home/sdib/Desktop/1xBp5cFqSvQ/set_1/frames/frame0036.png\n",
      "/home/sdib/Desktop/1xBp5cFqSvQ/frames/frame0037.png\n",
      "/home/sdib/Desktop/1xBp5cFqSvQ/set_1/frames/frame0037.png\n",
      "/home/sdib/Desktop/1xBp5cFqSvQ/frames/frame0038.png\n",
      "/home/sdib/Desktop/1xBp5cFqSvQ/set_1/frames/frame0038.png\n",
      "/home/sdib/Desktop/1xBp5cFqSvQ/frames/frame0039.png\n",
      "/home/sdib/Desktop/1xBp5cFqSvQ/set_1/frames/frame0039.png\n",
      "/home/sdib/Desktop/1xBp5cFqSvQ/frames/frame0040.png\n",
      "/home/sdib/Desktop/1xBp5cFqSvQ/set_1/frames/frame0040.png\n",
      "/home/sdib/Desktop/1xBp5cFqSvQ/frames/frame0041.png\n",
      "/home/sdib/Desktop/1xBp5cFqSvQ/set_1/frames/frame0041.png\n",
      "/home/sdib/Desktop/1xBp5cFqSvQ/frames/frame0042.png\n",
      "/home/sdib/Desktop/1xBp5cFqSvQ/set_1/frames/frame0042.png\n",
      "/home/sdib/Desktop/1xBp5cFqSvQ/frames/frame0043.png\n",
      "/home/sdib/Desktop/1xBp5cFqSvQ/set_1/frames/frame0043.png\n",
      "/home/sdib/Desktop/1xBp5cFqSvQ/frames/frame0044.png\n",
      "/home/sdib/Desktop/1xBp5cFqSvQ/set_1/frames/frame0044.png\n",
      "/home/sdib/Desktop/1xBp5cFqSvQ/frames/frame0045.png\n",
      "/home/sdib/Desktop/1xBp5cFqSvQ/set_1/frames/frame0045.png\n",
      "/home/sdib/Desktop/1xBp5cFqSvQ/frames/frame0046.png\n",
      "/home/sdib/Desktop/1xBp5cFqSvQ/set_1/frames/frame0046.png\n",
      "/home/sdib/Desktop/1xBp5cFqSvQ/frames/frame0047.png\n",
      "/home/sdib/Desktop/1xBp5cFqSvQ/set_1/frames/frame0047.png\n",
      "/home/sdib/Desktop/1xBp5cFqSvQ/frames/frame0048.png\n",
      "/home/sdib/Desktop/1xBp5cFqSvQ/set_1/frames/frame0048.png\n",
      "/home/sdib/Desktop/1xBp5cFqSvQ/frames/frame0049.png\n",
      "/home/sdib/Desktop/1xBp5cFqSvQ/set_1/frames/frame0049.png\n",
      "/home/sdib/Desktop/1xBp5cFqSvQ/frames/frame0050.png\n",
      "/home/sdib/Desktop/1xBp5cFqSvQ/set_1/frames/frame0050.png\n",
      "/home/sdib/Desktop/1xBp5cFqSvQ/frames/frame0051.png\n",
      "/home/sdib/Desktop/1xBp5cFqSvQ/set_1/frames/frame0051.png\n",
      "/home/sdib/Desktop/1xBp5cFqSvQ/frames/frame0052.png\n",
      "/home/sdib/Desktop/1xBp5cFqSvQ/set_2/frames/frame0052.png\n",
      "/home/sdib/Desktop/1xBp5cFqSvQ/frames/frame0053.png\n",
      "/home/sdib/Desktop/1xBp5cFqSvQ/set_2/frames/frame0053.png\n",
      "/home/sdib/Desktop/1xBp5cFqSvQ/frames/frame0054.png\n",
      "/home/sdib/Desktop/1xBp5cFqSvQ/set_2/frames/frame0054.png\n",
      "/home/sdib/Desktop/1xBp5cFqSvQ/frames/frame0055.png\n",
      "/home/sdib/Desktop/1xBp5cFqSvQ/set_2/frames/frame0055.png\n",
      "/home/sdib/Desktop/1xBp5cFqSvQ/frames/frame0056.png\n",
      "/home/sdib/Desktop/1xBp5cFqSvQ/set_2/frames/frame0056.png\n",
      "/home/sdib/Desktop/1xBp5cFqSvQ/frames/frame0057.png\n",
      "/home/sdib/Desktop/1xBp5cFqSvQ/set_2/frames/frame0057.png\n",
      "/home/sdib/Desktop/1xBp5cFqSvQ/frames/frame0058.png\n",
      "/home/sdib/Desktop/1xBp5cFqSvQ/set_2/frames/frame0058.png\n"
     ]
    }
   ],
   "source": [
    "#def move_triangles(triangles, path_vid, path_frames, path_feats):\n",
    "\n",
    "path_frames = '/home/sdib/Desktop/1xBp5cFqSvQ/frames'\n",
    "path_feats = '/home/sdib/Desktop/1xBp5cFqSvQ/features'\n",
    "path = '/home/sdib/Desktop/1xBp5cFqSvQ'\n",
    "\n",
    "s = 0\n",
    "path_sets = os.path.join(path, 'sets')\n",
    "if not os.path.isdir(path_sets):\n",
    "    os.mkdir(path_sets)\n",
    "\n",
    "for t in triangles:\n",
    "    \n",
    "    path_new_folder = os.path.join(path, 'set_{}'.format(s))\n",
    "    if not os.path.isdir(path_new_folder):\n",
    "        os.mkdir(path_new_folder)\n",
    "\n",
    "    path_frames_n = os.path.join(path_new_folder, 'frames')\n",
    "    if not os.path.isdir((path_frames_n)):\n",
    "        os.mkdir((path_frames_n))\n",
    "    \n",
    "    path_feats_n = os.path.join(path_new_folder, 'features')\n",
    "    if not os.path.isdir((path_feats_n)):\n",
    "        os.mkdir((path_feats_n))\n",
    "\n",
    "    for i in range(t[0], t[1] + 1):\n",
    "\n",
    "        frame = Path(views_dict.get(i)['ptr_wrapper']['data']['filename'].format(i + 1)).stem\n",
    "        frame_png = '{}.png'.format(frame)\n",
    "        frame_desc = '{}.desc'.format(frame)\n",
    "        frame_feat = '{}.feat'.format(frame)\n",
    "\n",
    "        # move frames\n",
    "        try:\n",
    "            os.rename(os.path.join(path_frames, frame_png),\n",
    "                      os.path.join(path_frames_n, frame_png))\n",
    "            print(os.path.join(path_frames, frame_png))\n",
    "            print(os.path.join(path_frames_n, frame_png))\n",
    "        except FileNotFoundError:\n",
    "            pass\n",
    "        \n",
    "        # move .desc and .feat\n",
    "        try:\n",
    "            os.rename(os.path.join(path_feats, frame_desc),\n",
    "                      os.path.join(path_feats_n, frame_desc))\n",
    "        except FileNotFoundError:\n",
    "            pass\n",
    "        try:\n",
    "            os.rename(os.path.join(path_feats, frame_feat),\n",
    "                      os.path.join(path_feats_n, frame_feat))\n",
    "        except FileNotFoundError:\n",
    "            pass\n",
    "        \n",
    "    s += 1\n"
   ]
  },
  {
   "cell_type": "code",
   "execution_count": null,
   "id": "50cfdcb9",
   "metadata": {},
   "outputs": [],
   "source": []
  }
 ],
 "metadata": {
  "kernelspec": {
   "display_name": "Python 3 (ipykernel)",
   "language": "python",
   "name": "python3"
  },
  "language_info": {
   "codemirror_mode": {
    "name": "ipython",
    "version": 3
   },
   "file_extension": ".py",
   "mimetype": "text/x-python",
   "name": "python",
   "nbconvert_exporter": "python",
   "pygments_lexer": "ipython3",
   "version": "3.8.8"
  }
 },
 "nbformat": 4,
 "nbformat_minor": 5
}
