{
 "cells": [
  {
   "cell_type": "markdown",
   "id": "30c467e6",
   "metadata": {},
   "source": [
    "## Web scraping \n",
    "\n",
    "Goal : get a table of all the locations listed [here](https://en.wikipedia.org/wiki/Lists_of_World_Heritage_Sites), in the format \\[url; name; coordinates\\]"
   ]
  },
  {
   "cell_type": "code",
   "execution_count": 1,
   "id": "829a1375",
   "metadata": {},
   "outputs": [],
   "source": [
    "import requests\n",
    "from bs4 import BeautifulSoup\n",
    "import random\n",
    "import pandas as pd\n",
    "import lxml\n",
    "import unicodedata2 as unicodedata"
   ]
  },
  {
   "cell_type": "code",
   "execution_count": 2,
   "id": "4aada190",
   "metadata": {},
   "outputs": [],
   "source": [
    "response = requests.get(url=\"https://en.wikipedia.org/wiki/Lists_of_World_Heritage_Sites\")\n",
    "\n",
    "soup = BeautifulSoup(response.content, 'html.parser')\n",
    "\n",
    "title = soup.find(id=\"firstHeading\")\n",
    "\n",
    "# Get all the links\n",
    "allLinks = soup.find(id=\"bodyContent\").find_all(\"a\")\n",
    "\n",
    "\n",
    "link_list = []\n",
    "str_link = str(allLinks).split('<a')\n",
    "\n",
    "for link in str_link:\n",
    "    if 'href=\"/wiki/' in link:\n",
    "        link_list.append(link)\n",
    "    "
   ]
  },
  {
   "cell_type": "code",
   "execution_count": 3,
   "id": "7fa04e6a",
   "metadata": {},
   "outputs": [
    {
     "name": "stdout",
     "output_type": "stream",
     "text": [
      "[<a class=\"mw-jump-link\" href=\"#mw-head\">Jump to navigation</a>, <a class=\"mw-jump-link\" href=\"#searchInput\">Jump to search</a>, <a class=\"image\" href=\"/wiki/File:Welterbe.svg\"><img alt=\"\" class=\"thumbimage\" data-file-height=\"160\" data-file-width=\"160\" decoding=\"async\" height=\"150\" src=\"//upload.wikimedia.org/wikipedia/commons/thumb/2/24/Welterbe.svg/150px-Welterbe.svg.png\" srcset=\"//upload.wikimedia.org/wikipedia/commons/thumb/2/24/Welterbe.svg/225px-Welterbe.svg.png 1.5x, //upload.wikimedia.org/wikipedia/commons/thumb/2/24/Welterbe.svg/300px-Welterbe.svg.png 2x\" width=\"150\"/></a>, <a class=\"internal\" href=\"/wiki/File:Welterbe.svg\" title=\"Enlarge\"></a>, <a href=\"/wiki/Logo\" title=\"Logo\">Logo</a>, <a href=\"/wiki/UNESCO\" title=\"UNESCO\">UNESCO</a>, <a href=\"/wiki/World_Heritage_Committee\" title=\"World Heritage Committee\">World Heritage Committee</a>, <a href=\"/wiki/World_Heritage_Site\" title=\"World Heritage Site\">World Heritage Site</a>, <a href=\"/wiki/UNESCO\" title=\"UNESCO\">United Nations Educational, Scientific and Cultural Organization</a>, <a href=\"#General_lists\"><span class=\"tocnumber\">1</span> <span class=\"toctext\">General lists</span></a>, <a href=\"#Lists_by_continent\"><span class=\"tocnumber\">2</span> <span class=\"toctext\">Lists by continent</span></a>, <a href=\"#Africa\"><span class=\"tocnumber\">2.1</span> <span class=\"toctext\">Africa</span></a>, <a href=\"#Americas\"><span class=\"tocnumber\">2.2</span> <span class=\"toctext\">Americas</span></a>, <a href=\"#Asia\"><span class=\"tocnumber\">2.3</span> <span class=\"toctext\">Asia</span></a>, <a href=\"#Europe\"><span class=\"tocnumber\">2.4</span> <span class=\"toctext\">Europe</span></a>, <a href=\"#Oceania\"><span class=\"tocnumber\">2.5</span> <span class=\"toctext\">Oceania</span></a>, <a href=\"/w/index.php?title=Lists_of_World_Heritage_Sites&amp;action=edit&amp;section=1\" title=\"Edit section: General lists\">edit</a>, <a href=\"/wiki/Former_UNESCO_World_Heritage_Sites\" title=\"Former UNESCO World Heritage Sites\">Former UNESCO World Heritage Sites</a>, <a href=\"/wiki/List_of_World_Heritage_in_Danger\" title=\"List of World Heritage in Danger\">List of World Heritage in Danger</a>, <a href=\"/wiki/List_of_World_Heritage_Sites_by_year_of_inscription\" title=\"List of World Heritage Sites by year of inscription\">List of World Heritage Sites by year of inscription</a>, <a href=\"/wiki/World_Heritage_Sites_by_country\" title=\"World Heritage Sites by country\">World Heritage Sites by country</a>, <a href=\"/wiki/World_Heritage_Earthen_Architecture_Programme#Sites\" title=\"World Heritage Earthen Architecture Programme\">World Heritage Earthen Architecture Programme § Sites</a>, <a href=\"/w/index.php?title=Lists_of_World_Heritage_Sites&amp;action=edit&amp;section=2\" title=\"Edit section: Lists by continent\">edit</a>, <a href=\"/w/index.php?title=Lists_of_World_Heritage_Sites&amp;action=edit&amp;section=3\" title=\"Edit section: Africa\">edit</a>, <a href=\"/wiki/List_of_World_Heritage_Sites_in_Africa\" title=\"List of World Heritage Sites in Africa\">List of World Heritage Sites in Africa</a>, <a class=\"mw-redirect\" href=\"/wiki/List_of_World_Heritage_Sites_in_the_Arab_States\" title=\"List of World Heritage Sites in the Arab States\">List of World Heritage Sites in the Arab States</a>, <a href=\"/wiki/List_of_World_Heritage_Sites_in_Egypt\" title=\"List of World Heritage Sites in Egypt\">List of World Heritage Sites in Egypt</a>, <a href=\"/wiki/List_of_World_Heritage_Sites_in_Ethiopia\" title=\"List of World Heritage Sites in Ethiopia\">List of World Heritage Sites in Ethiopia</a>, <a href=\"/wiki/List_of_World_Heritage_Sites_in_Kenya\" title=\"List of World Heritage Sites in Kenya\">List of World Heritage Sites in Kenya</a>, <a href=\"/wiki/List_of_World_Heritage_Sites_in_Madagascar\" title=\"List of World Heritage Sites in Madagascar\">List of World Heritage Sites in Madagascar</a>, <a href=\"/wiki/List_of_World_Heritage_Sites_in_Mauritania\" title=\"List of World Heritage Sites in Mauritania\">List of World Heritage Sites in Mauritania</a>, <a href=\"/wiki/List_of_World_Heritage_Sites_in_Morocco\" title=\"List of World Heritage Sites in Morocco\">List of World Heritage Sites in Morocco</a>, <a href=\"/wiki/List_of_World_Heritage_Sites_in_South_Africa\" title=\"List of World Heritage Sites in South Africa\">List of World Heritage Sites in South Africa</a>, <a href=\"/wiki/List_of_World_Heritage_Sites_in_Tanzania\" title=\"List of World Heritage Sites in Tanzania\">List of World Heritage Sites in Tanzania</a>, <a href=\"/wiki/List_of_World_Heritage_Sites_in_Tunisia\" title=\"List of World Heritage Sites in Tunisia\">List of World Heritage Sites in Tunisia</a>, <a class=\"mw-redirect\" href=\"/wiki/List_of_World_Heritage_Sites_in_Zambia\" title=\"List of World Heritage Sites in Zambia\">List of World Heritage Sites in Zambia</a>, <a href=\"/wiki/List_of_World_Heritage_Sites_in_Africa\" title=\"List of World Heritage Sites in Africa\">List of World Heritage Sites in Uganda</a>, <a href=\"/w/index.php?title=Lists_of_World_Heritage_Sites&amp;action=edit&amp;section=4\" title=\"Edit section: Americas\">edit</a>, <a class=\"image\" href=\"/wiki/File:World_Heritage_Sites_in_the_Americas,_by_country.pdf\"><img alt=\"\" class=\"thumbimage\" data-file-height=\"1414\" data-file-width=\"1106\" decoding=\"async\" height=\"281\" src=\"//upload.wikimedia.org/wikipedia/commons/thumb/a/a5/World_Heritage_Sites_in_the_Americas%2C_by_country.pdf/page1-220px-World_Heritage_Sites_in_the_Americas%2C_by_country.pdf.jpg\" srcset=\"//upload.wikimedia.org/wikipedia/commons/thumb/a/a5/World_Heritage_Sites_in_the_Americas%2C_by_country.pdf/page1-330px-World_Heritage_Sites_in_the_Americas%2C_by_country.pdf.jpg 1.5x, //upload.wikimedia.org/wikipedia/commons/thumb/a/a5/World_Heritage_Sites_in_the_Americas%2C_by_country.pdf/page1-440px-World_Heritage_Sites_in_the_Americas%2C_by_country.pdf.jpg 2x\" width=\"220\"/></a>, <a class=\"internal\" href=\"/wiki/File:World_Heritage_Sites_in_the_Americas,_by_country.pdf\" title=\"Enlarge\"></a>, <a href=\"/wiki/List_of_World_Heritage_Sites_in_the_Caribbean\" title=\"List of World Heritage Sites in the Caribbean\">List of World Heritage Sites in the Caribbean</a>, <a href=\"/wiki/List_of_World_Heritage_Sites_in_Cuba\" title=\"List of World Heritage Sites in Cuba\">List of World Heritage Sites in Cuba</a>, <a href=\"/wiki/List_of_World_Heritage_Sites_in_Central_America\" title=\"List of World Heritage Sites in Central America\">List of World Heritage Sites in Central America</a>, <a href=\"/wiki/List_of_World_Heritage_Sites_in_North_America\" title=\"List of World Heritage Sites in North America\">List of World Heritage Sites in North America</a>, <a href=\"/wiki/List_of_World_Heritage_Sites_in_Canada\" title=\"List of World Heritage Sites in Canada\">List of World Heritage Sites in Canada</a>, <a href=\"/wiki/List_of_World_Heritage_Sites_in_the_United_States\" title=\"List of World Heritage Sites in the United States\">List of World Heritage Sites in the United States</a>, <a href=\"/wiki/List_of_World_Heritage_Sites_in_Mexico\" title=\"List of World Heritage Sites in Mexico\">List of World Heritage Sites in Mexico</a>, <a href=\"/wiki/List_of_World_Heritage_Sites_in_South_America\" title=\"List of World Heritage Sites in South America\">List of World Heritage Sites in South America</a>, <a href=\"/wiki/List_of_World_Heritage_Sites_in_Argentina\" title=\"List of World Heritage Sites in Argentina\">List of World Heritage Sites in Argentina</a>, <a href=\"/wiki/List_of_World_Heritage_Sites_in_Brazil\" title=\"List of World Heritage Sites in Brazil\">List of World Heritage Sites in Brazil</a>, <a href=\"/wiki/List_of_World_Heritage_Sites_in_Chile\" title=\"List of World Heritage Sites in Chile\">List of World Heritage Sites in Chile</a>, <a href=\"/wiki/List_of_World_Heritage_Sites_in_Colombia\" title=\"List of World Heritage Sites in Colombia\">List of World Heritage Sites in Colombia</a>, <a href=\"/wiki/List_of_World_Heritage_Sites_in_Peru\" title=\"List of World Heritage Sites in Peru\">List of World Heritage Sites in Peru</a>, <a href=\"/w/index.php?title=Lists_of_World_Heritage_Sites&amp;action=edit&amp;section=5\" title=\"Edit section: Asia\">edit</a>, <a href=\"/wiki/List_of_World_Heritage_Sites_in_Eastern_Asia\" title=\"List of World Heritage Sites in Eastern Asia\">List of World Heritage Sites in Eastern Asia</a>, <a href=\"/wiki/List_of_World_Heritage_Sites_in_China\" title=\"List of World Heritage Sites in China\">List of World Heritage Sites in China</a>, <a href=\"/wiki/List_of_World_Heritage_Sites_in_Japan\" title=\"List of World Heritage Sites in Japan\">List of World Heritage Sites in Japan</a>, <a href=\"/wiki/List_of_World_Heritage_Sites_in_Mongolia\" title=\"List of World Heritage Sites in Mongolia\">List of World Heritage Sites in Mongolia</a>, <a href=\"/wiki/Tourism_in_North_Korea#World_Heritage_Sites\" title=\"Tourism in North Korea\">List of World Heritage Sites in North Korea</a>, <a href=\"/wiki/List_of_World_Heritage_Sites_in_South_Korea\" title=\"List of World Heritage Sites in South Korea\">List of World Heritage Sites in South Korea</a>, <a href=\"/wiki/List_of_World_Heritage_Sites_in_Northern_and_Central_Asia\" title=\"List of World Heritage Sites in Northern and Central Asia\">List of World Heritage Sites in Northern and Central Asia</a>, <a href=\"/wiki/List_of_World_Heritage_Sites_in_Kazakhstan\" title=\"List of World Heritage Sites in Kazakhstan\">List of World Heritage Sites in Kazakhstan</a>, <a href=\"/wiki/List_of_World_Heritage_Sites_in_Kyrgyzstan\" title=\"List of World Heritage Sites in Kyrgyzstan\">List of World Heritage Sites in Kyrgyzstan</a>, <a href=\"/wiki/List_of_World_Heritage_Sites_in_Tajikistan\" title=\"List of World Heritage Sites in Tajikistan\">List of World Heritage Sites in Tajikistan</a>, <a href=\"/wiki/List_of_World_Heritage_Sites_in_Turkmenistan\" title=\"List of World Heritage Sites in Turkmenistan\">List of World Heritage Sites in Turkmenistan</a>, <a href=\"/wiki/List_of_World_Heritage_Sites_in_Uzbekistan\" title=\"List of World Heritage Sites in Uzbekistan\">List of World Heritage Sites in Uzbekistan</a>, <a href=\"/wiki/List_of_World_Heritage_Sites_in_Southeast_Asia\" title=\"List of World Heritage Sites in Southeast Asia\">List of World Heritage Sites in Southeast Asia</a>, <a href=\"/wiki/List_of_World_Heritage_Sites_in_Cambodia\" title=\"List of World Heritage Sites in Cambodia\">List of World Heritage Sites in Cambodia</a>, <a href=\"/wiki/List_of_World_Heritage_Sites_in_Indonesia\" title=\"List of World Heritage Sites in Indonesia\">List of World Heritage Sites in Indonesia</a>, <a class=\"mw-redirect\" href=\"/wiki/List_of_World_Heritage_Sites_in_Laos\" title=\"List of World Heritage Sites in Laos\">List of World Heritage Sites in Laos</a>, <a href=\"/wiki/List_of_World_Heritage_Sites_in_Malaysia\" title=\"List of World Heritage Sites in Malaysia\">List of World Heritage Sites in Malaysia</a>, <a class=\"mw-redirect\" href=\"/wiki/List_of_World_Heritage_Sites_in_Myanmar\" title=\"List of World Heritage Sites in Myanmar\">List of World Heritage Sites in Myanmar</a>, <a href=\"/wiki/List_of_World_Heritage_Sites_in_the_Philippines\" title=\"List of World Heritage Sites in the Philippines\">List of World Heritage Sites in the Philippines</a>, <a class=\"mw-redirect\" href=\"/wiki/List_of_World_Heritage_Sites_in_Singapore\" title=\"List of World Heritage Sites in Singapore\">List of World Heritage Sites in Singapore</a>, <a href=\"/wiki/List_of_World_Heritage_Sites_in_Thailand\" title=\"List of World Heritage Sites in Thailand\">List of World Heritage Sites in Thailand</a>, <a href=\"/wiki/List_of_World_Heritage_Sites_in_Vietnam\" title=\"List of World Heritage Sites in Vietnam\">List of World Heritage Sites in Vietnam</a>, <a href=\"/wiki/List_of_World_Heritage_Sites_in_Southern_Asia\" title=\"List of World Heritage Sites in Southern Asia\">List of World Heritage Sites in Southern Asia</a>, <a href=\"/wiki/List_of_World_Heritage_Sites_in_Bangladesh\" title=\"List of World Heritage Sites in Bangladesh\">List of World Heritage Sites in Bangladesh</a>, <a href=\"/wiki/List_of_World_Heritage_Sites_in_India\" title=\"List of World Heritage Sites in India\">List of World Heritage Sites in India</a>, <a href=\"/wiki/List_of_World_Heritage_Sites_in_Nepal\" title=\"List of World Heritage Sites in Nepal\">List of World Heritage Sites in Nepal</a>, <a href=\"/wiki/List_of_World_Heritage_Sites_in_Pakistan\" title=\"List of World Heritage Sites in Pakistan\">List of World Heritage Sites in Pakistan</a>, <a class=\"mw-redirect\" href=\"/wiki/World_Heritage_Sites_of_Sri_Lanka\" title=\"World Heritage Sites of Sri Lanka\">List of World Heritage Sites in Sri Lanka</a>, <a href=\"/wiki/List_of_World_Heritage_Sites_in_Western_Asia\" title=\"List of World Heritage Sites in Western Asia\">List of World Heritage Sites in Western Asia</a>, <a href=\"/wiki/List_of_World_Heritage_Sites_in_the_Arab_states\" title=\"List of World Heritage Sites in the Arab states\">List of World Heritage Sites in the Arab states</a>, <a href=\"/wiki/List_of_World_Heritage_Sites_in_Iran\" title=\"List of World Heritage Sites in Iran\">List of World Heritage Sites in Iran</a>, <a href=\"/wiki/List_of_World_Heritage_Sites_in_Israel\" title=\"List of World Heritage Sites in Israel\">List of World Heritage Sites in Israel</a>, <a class=\"mw-redirect\" href=\"/wiki/List_of_World_Heritage_Sites_in_Palestine\" title=\"List of World Heritage Sites in Palestine\">List of World Heritage Sites in Palestine</a>, <a href=\"/wiki/List_of_World_Heritage_Sites_in_Jordan\" title=\"List of World Heritage Sites in Jordan\">List of World Heritage Sites in Jordan</a>, <a href=\"/w/index.php?title=Lists_of_World_Heritage_Sites&amp;action=edit&amp;section=6\" title=\"Edit section: Europe\">edit</a>, <a href=\"/wiki/List_of_World_Heritage_Sites_in_Eastern_Europe\" title=\"List of World Heritage Sites in Eastern Europe\">List of World Heritage Sites in Eastern Europe</a>, <a href=\"/wiki/List_of_World_Heritage_Sites_in_Armenia\" title=\"List of World Heritage Sites in Armenia\">List of World Heritage Sites in Armenia</a>, <a href=\"/wiki/List_of_World_Heritage_Sites_in_Azerbaijan\" title=\"List of World Heritage Sites in Azerbaijan\">List of World Heritage Sites in Azerbaijan</a>, <a href=\"/wiki/List_of_World_Heritage_Sites_in_Belarus\" title=\"List of World Heritage Sites in Belarus\">List of World Heritage Sites in Belarus</a>, <a href=\"/wiki/List_of_World_Heritage_Sites_in_Bulgaria\" title=\"List of World Heritage Sites in Bulgaria\">List of World Heritage Sites in Bulgaria</a>, <a href=\"/wiki/List_of_World_Heritage_Sites_in_the_Czech_Republic\" title=\"List of World Heritage Sites in the Czech Republic\">List of World Heritage Sites in the Czech Republic</a>, <a href=\"/wiki/List_of_World_Heritage_Sites_in_Georgia_(country)\" title=\"List of World Heritage Sites in Georgia (country)\">List of World Heritage Sites in Georgia</a>, <a href=\"/wiki/List_of_World_Heritage_Sites_in_Hungary\" title=\"List of World Heritage Sites in Hungary\">List of World Heritage Sites in Hungary</a>, <a class=\"mw-redirect\" href=\"/wiki/List_of_World_Heritage_Sites_in_Moldova\" title=\"List of World Heritage Sites in Moldova\">List of World Heritage Sites in Moldova</a>, <a class=\"mw-redirect\" href=\"/wiki/List_of_World_Heritage_Sites_of_Poland\" title=\"List of World Heritage Sites of Poland\">List of World Heritage Sites in Poland</a>, <a href=\"/wiki/List_of_World_Heritage_Sites_in_Romania\" title=\"List of World Heritage Sites in Romania\">List of World Heritage Sites in Romania</a>, <a href=\"/wiki/List_of_World_Heritage_Sites_in_Russia\" title=\"List of World Heritage Sites in Russia\">List of World Heritage Sites in Russia</a>, <a href=\"/wiki/List_of_World_Heritage_Sites_in_Slovakia\" title=\"List of World Heritage Sites in Slovakia\">List of World Heritage Sites in Slovakia</a>, <a href=\"/wiki/List_of_World_Heritage_Sites_in_Ukraine\" title=\"List of World Heritage Sites in Ukraine\">List of World Heritage Sites in Ukraine</a>, <a href=\"/wiki/List_of_World_Heritage_Sites_in_Northern_Europe\" title=\"List of World Heritage Sites in Northern Europe\">List of World Heritage Sites in Northern Europe</a>, <a href=\"/wiki/List_of_World_Heritage_Sites_in_Denmark\" title=\"List of World Heritage Sites in Denmark\">List of World Heritage Sites in Denmark</a>, <a href=\"/wiki/List_of_World_Heritage_Sites_in_Estonia\" title=\"List of World Heritage Sites in Estonia\">List of World Heritage Sites in Estonia</a>, <a href=\"/wiki/List_of_World_Heritage_Sites_in_Finland\" title=\"List of World Heritage Sites in Finland\">List of World Heritage Sites in Finland</a>, <a href=\"/wiki/List_of_World_Heritage_Sites_in_Iceland\" title=\"List of World Heritage Sites in Iceland\">List of World Heritage Sites in Iceland</a>, <a href=\"/wiki/List_of_World_Heritage_Sites_in_Latvia\" title=\"List of World Heritage Sites in Latvia\">List of World Heritage Sites in Latvia</a>, <a href=\"/wiki/List_of_World_Heritage_Sites_in_Lithuania\" title=\"List of World Heritage Sites in Lithuania\">List of World Heritage Sites in Lithuania</a>, <a href=\"/wiki/List_of_World_Heritage_Sites_in_Norway\" title=\"List of World Heritage Sites in Norway\">List of World Heritage Sites in Norway</a>, <a href=\"/wiki/List_of_World_Heritage_Sites_in_Sweden\" title=\"List of World Heritage Sites in Sweden\">List of World Heritage Sites in Sweden</a>, <a href=\"/wiki/List_of_World_Heritage_Sites_in_Southern_Europe\" title=\"List of World Heritage Sites in Southern Europe\">List of World Heritage Sites in Southern Europe</a>, <a href=\"/wiki/List_of_World_Heritage_Sites_in_Albania\" title=\"List of World Heritage Sites in Albania\">List of World Heritage Sites in Albania</a>, <a class=\"mw-redirect\" href=\"/wiki/List_of_World_Heritage_Sites_in_Andorra\" title=\"List of World Heritage Sites in Andorra\">List of World Heritage Sites in Andorra</a>, <a href=\"/wiki/List_of_World_Heritage_Sites_in_Bosnia_and_Herzegovina\" title=\"List of World Heritage Sites in Bosnia and Herzegovina\">List of World Heritage Sites in Bosnia and Herzegovina</a>, <a href=\"/wiki/List_of_World_Heritage_Sites_in_Croatia\" title=\"List of World Heritage Sites in Croatia\">List of World Heritage Sites in Croatia</a>, <a href=\"/wiki/List_of_World_Heritage_Sites_in_Cyprus\" title=\"List of World Heritage Sites in Cyprus\">List of World Heritage Sites in Cyprus</a>, <a href=\"/wiki/List_of_World_Heritage_Sites_in_Greece\" title=\"List of World Heritage Sites in Greece\">List of World Heritage Sites in Greece</a>, <a href=\"/wiki/List_of_World_Heritage_Sites_in_Italy\" title=\"List of World Heritage Sites in Italy\">List of World Heritage Sites in Italy</a>, <a href=\"/wiki/List_of_World_Heritage_Sites_in_Malta\" title=\"List of World Heritage Sites in Malta\">List of World Heritage Sites in Malta</a>, <a href=\"/wiki/List_of_World_Heritage_Sites_in_Montenegro\" title=\"List of World Heritage Sites in Montenegro\">List of World Heritage Sites in Montenegro</a>, <a href=\"/wiki/List_of_World_Heritage_Sites_in_North_Macedonia\" title=\"List of World Heritage Sites in North Macedonia\">List of World Heritage Sites in North Macedonia</a>, <a href=\"/wiki/List_of_World_Heritage_Sites_in_Portugal\" title=\"List of World Heritage Sites in Portugal\">List of World Heritage Sites in Portugal</a>, <a class=\"mw-redirect\" href=\"/wiki/List_of_World_Heritage_Sites_in_San_Marino\" title=\"List of World Heritage Sites in San Marino\">List of World Heritage Sites in San Marino</a>, <a href=\"/wiki/List_of_World_Heritage_Sites_in_Serbia\" title=\"List of World Heritage Sites in Serbia\">List of World Heritage Sites in Serbia</a>, <a href=\"/wiki/List_of_World_Heritage_Sites_in_Slovenia\" title=\"List of World Heritage Sites in Slovenia\">List of World Heritage Sites in Slovenia</a>, <a href=\"/wiki/List_of_World_Heritage_Sites_in_Spain\" title=\"List of World Heritage Sites in Spain\">List of World Heritage Sites in Spain</a>, <a href=\"/wiki/List_of_World_Heritage_Sites_in_Turkey\" title=\"List of World Heritage Sites in Turkey\">List of World Heritage Sites in Turkey</a>, <a href=\"/wiki/Vatican_City\" title=\"Vatican City\">Vatican City</a>, <a href=\"/wiki/List_of_World_Heritage_Sites_in_Western_Europe\" title=\"List of World Heritage Sites in Western Europe\">List of World Heritage Sites in Western Europe</a>, <a href=\"/wiki/List_of_World_Heritage_Sites_in_Austria\" title=\"List of World Heritage Sites in Austria\">List of World Heritage Sites in Austria</a>, <a href=\"/wiki/List_of_World_Heritage_Sites_in_Belgium\" title=\"List of World Heritage Sites in Belgium\">List of World Heritage Sites in Belgium</a>, <a href=\"/wiki/List_of_World_Heritage_Sites_in_France\" title=\"List of World Heritage Sites in France\">List of World Heritage Sites in France</a>, <a href=\"/wiki/List_of_World_Heritage_Sites_in_Germany\" title=\"List of World Heritage Sites in Germany\">List of World Heritage Sites in Germany</a>, <a href=\"/wiki/List_of_World_Heritage_Sites_in_Luxembourg\" title=\"List of World Heritage Sites in Luxembourg\">List of World Heritage Sites in Luxembourg</a>, <a href=\"/wiki/List_of_World_Heritage_Sites_in_the_Netherlands\" title=\"List of World Heritage Sites in the Netherlands\">List of World Heritage Sites in the Netherlands</a>, <a href=\"/wiki/List_of_World_Heritage_Sites_in_the_Republic_of_Ireland\" title=\"List of World Heritage Sites in the Republic of Ireland\">List of World Heritage Sites in the Republic of Ireland</a>, <a href=\"/wiki/List_of_World_Heritage_Sites_in_Switzerland\" title=\"List of World Heritage Sites in Switzerland\">List of World Heritage Sites in Switzerland</a>, <a href=\"/wiki/List_of_World_Heritage_Sites_in_the_United_Kingdom\" title=\"List of World Heritage Sites in the United Kingdom\">List of World Heritage Sites in the United Kingdom</a>, <a href=\"/w/index.php?title=Lists_of_World_Heritage_Sites&amp;action=edit&amp;section=7\" title=\"Edit section: Oceania\">edit</a>, <a href=\"/wiki/List_of_World_Heritage_Sites_in_Oceania\" title=\"List of World Heritage Sites in Oceania\">List of World Heritage Sites in Oceania</a>, <a href=\"/wiki/Template:Lists_of_World_Heritage_Sites\" title=\"Template:Lists of World Heritage Sites\"><abbr style=\";;background:none transparent;border:none;box-shadow:none;padding:0;\" title=\"View this template\">v</abbr></a>, <a href=\"/wiki/Template_talk:Lists_of_World_Heritage_Sites\" title=\"Template talk:Lists of World Heritage Sites\"><abbr style=\";;background:none transparent;border:none;box-shadow:none;padding:0;\" title=\"Discuss this template\">t</abbr></a>, <a class=\"external text\" href=\"https://en.wikipedia.org/w/index.php?title=Template:Lists_of_World_Heritage_Sites&amp;action=edit\"><abbr style=\";;background:none transparent;border:none;box-shadow:none;padding:0;\" title=\"Edit this template\">e</abbr></a>, <a class=\"mw-selflink selflink\">Lists</a>, <a href=\"/wiki/World_Heritage_Site\" title=\"World Heritage Site\">World Heritage Sites</a>, <a href=\"/wiki/List_of_World_Heritage_Sites_in_Africa\" title=\"List of World Heritage Sites in Africa\">Africa</a>, <a href=\"/wiki/List_of_World_Heritage_Sites_in_North_America\" title=\"List of World Heritage Sites in North America\">North America</a>, <a href=\"/wiki/List_of_World_Heritage_Sites_in_Central_America\" title=\"List of World Heritage Sites in Central America\">Central America</a>, <a href=\"/wiki/List_of_World_Heritage_Sites_in_the_Caribbean\" title=\"List of World Heritage Sites in the Caribbean\">Caribbean</a>, <a href=\"/wiki/List_of_World_Heritage_Sites_in_South_America\" title=\"List of World Heritage Sites in South America\">South America</a>, <a href=\"/wiki/List_of_World_Heritage_Sites_in_Eastern_Asia\" title=\"List of World Heritage Sites in Eastern Asia\">Eastern</a>, <a href=\"/wiki/List_of_World_Heritage_Sites_in_Northern_and_Central_Asia\" title=\"List of World Heritage Sites in Northern and Central Asia\">Northern and Central</a>, <a href=\"/wiki/List_of_World_Heritage_Sites_in_Southeast_Asia\" title=\"List of World Heritage Sites in Southeast Asia\">Southeast</a>, <a href=\"/wiki/List_of_World_Heritage_Sites_in_Southern_Asia\" title=\"List of World Heritage Sites in Southern Asia\">Southern</a>, <a href=\"/wiki/List_of_World_Heritage_Sites_in_Western_Asia\" title=\"List of World Heritage Sites in Western Asia\">Western</a>, <a href=\"/wiki/List_of_World_Heritage_Sites_in_Eastern_Europe\" title=\"List of World Heritage Sites in Eastern Europe\">Eastern</a>, <a href=\"/wiki/List_of_World_Heritage_Sites_in_Northern_Europe\" title=\"List of World Heritage Sites in Northern Europe\">Northern</a>, <a href=\"/wiki/List_of_World_Heritage_Sites_in_Southern_Europe\" title=\"List of World Heritage Sites in Southern Europe\">Southern</a>, <a href=\"/wiki/List_of_World_Heritage_Sites_in_Western_Europe\" title=\"List of World Heritage Sites in Western Europe\">Western</a>, <a href=\"/wiki/List_of_World_Heritage_Sites_in_Oceania\" title=\"List of World Heritage Sites in Oceania\">Oceania</a>, <a class=\"image\" href=\"/wiki/File:World_Heritage_Logo_global.svg\" title=\"UNESCO World Heritage logo\"><img alt=\"UNESCO World Heritage logo\" data-file-height=\"500\" data-file-width=\"500\" decoding=\"async\" height=\"64\" src=\"//upload.wikimedia.org/wikipedia/commons/thumb/c/ce/World_Heritage_Logo_global.svg/64px-World_Heritage_Logo_global.svg.png\" srcset=\"//upload.wikimedia.org/wikipedia/commons/thumb/c/ce/World_Heritage_Logo_global.svg/96px-World_Heritage_Logo_global.svg.png 1.5x, //upload.wikimedia.org/wikipedia/commons/thumb/c/ce/World_Heritage_Logo_global.svg/128px-World_Heritage_Logo_global.svg.png 2x\" width=\"64\"/></a>, <a href=\"/wiki/List_of_World_Heritage_in_Danger\" title=\"List of World Heritage in Danger\">World Heritage in Danger</a>, <a href=\"/wiki/Former_UNESCO_World_Heritage_Sites\" title=\"Former UNESCO World Heritage Sites\">Former sites</a>, <a href=\"/wiki/World_Heritage_Sites_by_country\" title=\"World Heritage Sites by country\">By country</a>, <a href=\"/wiki/List_of_World_Heritage_Sites_by_year_of_inscription\" title=\"List of World Heritage Sites by year of inscription\">By year of inscription</a>, <a class=\"image\" href=\"/wiki/File:The_Earth_seen_from_Apollo_17.jpg\"><img alt=\"The Earth seen from Apollo 17.jpg\" class=\"noviewer\" data-file-height=\"3002\" data-file-width=\"3000\" decoding=\"async\" height=\"16\" src=\"//upload.wikimedia.org/wikipedia/commons/thumb/9/97/The_Earth_seen_from_Apollo_17.jpg/16px-The_Earth_seen_from_Apollo_17.jpg\" srcset=\"//upload.wikimedia.org/wikipedia/commons/thumb/9/97/The_Earth_seen_from_Apollo_17.jpg/24px-The_Earth_seen_from_Apollo_17.jpg 1.5x, //upload.wikimedia.org/wikipedia/commons/thumb/9/97/The_Earth_seen_from_Apollo_17.jpg/32px-The_Earth_seen_from_Apollo_17.jpg 2x\" width=\"16\"/></a>, <a href=\"/wiki/Portal:World\" title=\"Portal:World\">World portal</a>, <a class=\"image\" href=\"/wiki/File:A_coloured_voting_box.svg\"><img alt=\"\" data-file-height=\"160\" data-file-width=\"160\" decoding=\"async\" height=\"21\" src=\"//upload.wikimedia.org/wikipedia/en/thumb/0/01/A_coloured_voting_box.svg/21px-A_coloured_voting_box.svg.png\" srcset=\"//upload.wikimedia.org/wikipedia/en/thumb/0/01/A_coloured_voting_box.svg/32px-A_coloured_voting_box.svg.png 1.5x, //upload.wikimedia.org/wikipedia/en/thumb/0/01/A_coloured_voting_box.svg/42px-A_coloured_voting_box.svg.png 2x\" width=\"21\"/></a>, <a href=\"/wiki/Portal:Politics\" title=\"Portal:Politics\">Politics portal</a>, <a class=\"image\" href=\"/wiki/File:Aegopodium_podagraria1_ies.jpg\"><img alt=\"\" data-file-height=\"700\" data-file-width=\"800\" decoding=\"async\" height=\"21\" src=\"//upload.wikimedia.org/wikipedia/commons/thumb/b/bf/Aegopodium_podagraria1_ies.jpg/24px-Aegopodium_podagraria1_ies.jpg\" srcset=\"//upload.wikimedia.org/wikipedia/commons/thumb/b/bf/Aegopodium_podagraria1_ies.jpg/36px-Aegopodium_podagraria1_ies.jpg 1.5x, //upload.wikimedia.org/wikipedia/commons/thumb/b/bf/Aegopodium_podagraria1_ies.jpg/48px-Aegopodium_podagraria1_ies.jpg 2x\" width=\"24\"/></a>, <a href=\"/wiki/Portal:Environment\" title=\"Portal:Environment\">Environment portal</a>, <a class=\"image\" href=\"/wiki/File:Social_sciences.svg\"><img alt=\"\" data-file-height=\"122\" data-file-width=\"139\" decoding=\"async\" height=\"21\" src=\"//upload.wikimedia.org/wikipedia/commons/thumb/4/42/Social_sciences.svg/24px-Social_sciences.svg.png\" srcset=\"//upload.wikimedia.org/wikipedia/commons/thumb/4/42/Social_sciences.svg/36px-Social_sciences.svg.png 1.5x, //upload.wikimedia.org/wikipedia/commons/thumb/4/42/Social_sciences.svg/48px-Social_sciences.svg.png 2x\" width=\"24\"/></a>, <a href=\"/wiki/Portal:Society\" title=\"Portal:Society\">Society portal</a>, <a class=\"image\" href=\"/wiki/File:DAB_list_gray.svg\"><img alt=\"Disambiguation icon\" data-file-height=\"168\" data-file-width=\"220\" decoding=\"async\" height=\"23\" src=\"//upload.wikimedia.org/wikipedia/commons/thumb/8/8c/DAB_list_gray.svg/30px-DAB_list_gray.svg.png\" srcset=\"//upload.wikimedia.org/wikipedia/commons/thumb/8/8c/DAB_list_gray.svg/45px-DAB_list_gray.svg.png 1.5x, //upload.wikimedia.org/wikipedia/commons/thumb/8/8c/DAB_list_gray.svg/60px-DAB_list_gray.svg.png 2x\" width=\"30\"/></a>, <a href=\"/wiki/Wikipedia:Lists_of_lists\" title=\"Wikipedia:Lists of lists\">list of lists</a>, <a dir=\"ltr\" href=\"https://en.wikipedia.org/w/index.php?title=Lists_of_World_Heritage_Sites&amp;oldid=1057252370\">https://en.wikipedia.org/w/index.php?title=Lists_of_World_Heritage_Sites&amp;oldid=1057252370</a>, <a href=\"/wiki/Help:Category\" title=\"Help:Category\">Categories</a>, <a href=\"/wiki/Category:Lists_of_protected_areas_lists\" title=\"Category:Lists of protected areas lists\">Lists of protected areas lists</a>, <a href=\"/wiki/Category:Lists_of_World_Heritage_Sites\" title=\"Category:Lists of World Heritage Sites\">Lists of World Heritage Sites</a>, <a href=\"/wiki/Category:World_Heritage_Sites\" title=\"Category:World Heritage Sites\">World Heritage Sites</a>, <a href=\"/wiki/Category:Articles_with_short_description\" title=\"Category:Articles with short description\">Articles with short description</a>, <a href=\"/wiki/Category:Short_description_is_different_from_Wikidata\" title=\"Category:Short description is different from Wikidata\">Short description is different from Wikidata</a>]\n"
     ]
    }
   ],
   "source": [
    "print(allLinks)"
   ]
  },
  {
   "cell_type": "code",
   "execution_count": 5,
   "id": "f2809ab1",
   "metadata": {},
   "outputs": [],
   "source": [
    "links1 = []\n",
    "for elem in soup.select(\"a[href*=wiki\\/List_of]\"):\n",
    "    links1.append(elem['href'])"
   ]
  },
  {
   "cell_type": "code",
   "execution_count": 6,
   "id": "b8d38600",
   "metadata": {},
   "outputs": [
    {
     "ename": "NameError",
     "evalue": "name 'unicodedata' is not defined",
     "output_type": "error",
     "traceback": [
      "\u001b[0;31m---------------------------------------------------------------------------\u001b[0m",
      "\u001b[0;31mNameError\u001b[0m                                 Traceback (most recent call last)",
      "\u001b[0;32m/tmp/ipykernel_763812/414783618.py\u001b[0m in \u001b[0;36m<module>\u001b[0;34m\u001b[0m\n\u001b[1;32m     19\u001b[0m             \u001b[0;31m# add information to the csv file\u001b[0m\u001b[0;34m\u001b[0m\u001b[0;34m\u001b[0m\u001b[0;34m\u001b[0m\u001b[0m\n\u001b[1;32m     20\u001b[0m             \u001b[0;32mfor\u001b[0m \u001b[0mindex\u001b[0m\u001b[0;34m,\u001b[0m \u001b[0mvalue\u001b[0m \u001b[0;32min\u001b[0m \u001b[0mdata\u001b[0m\u001b[0;34m.\u001b[0m\u001b[0miterrows\u001b[0m\u001b[0;34m(\u001b[0m\u001b[0;34m)\u001b[0m\u001b[0;34m:\u001b[0m\u001b[0;34m\u001b[0m\u001b[0;34m\u001b[0m\u001b[0m\n\u001b[0;32m---> 21\u001b[0;31m                 \u001b[0mlocation_cleaned\u001b[0m \u001b[0;34m=\u001b[0m \u001b[0municodedata\u001b[0m\u001b[0;34m.\u001b[0m\u001b[0mnormalize\u001b[0m\u001b[0;34m(\u001b[0m\u001b[0;34m'NFKD'\u001b[0m\u001b[0;34m,\u001b[0m \u001b[0mvalue\u001b[0m\u001b[0;34m[\u001b[0m\u001b[0;34m'Location'\u001b[0m\u001b[0;34m]\u001b[0m\u001b[0;34m)\u001b[0m\u001b[0;34m.\u001b[0m\u001b[0mencode\u001b[0m\u001b[0;34m(\u001b[0m\u001b[0;34m'ascii'\u001b[0m\u001b[0;34m,\u001b[0m\u001b[0;34m'ignore'\u001b[0m\u001b[0;34m)\u001b[0m\u001b[0;34m.\u001b[0m\u001b[0mdecode\u001b[0m\u001b[0;34m(\u001b[0m\u001b[0;34m'ascii'\u001b[0m\u001b[0;34m)\u001b[0m\u001b[0;34m.\u001b[0m\u001b[0mreplace\u001b[0m\u001b[0;34m(\u001b[0m\u001b[0;34m';'\u001b[0m\u001b[0;34m,\u001b[0m \u001b[0;34m','\u001b[0m\u001b[0;34m)\u001b[0m\u001b[0;34m\u001b[0m\u001b[0;34m\u001b[0m\u001b[0m\n\u001b[0m\u001b[1;32m     22\u001b[0m                 \u001b[0mf\u001b[0m\u001b[0;34m.\u001b[0m\u001b[0mwrite\u001b[0m\u001b[0;34m(\u001b[0m\u001b[0;34m\"%s;%s;%s\\n\"\u001b[0m \u001b[0;34m%\u001b[0m \u001b[0;34m(\u001b[0m\u001b[0mlink\u001b[0m\u001b[0;34m,\u001b[0m \u001b[0mvalue\u001b[0m\u001b[0;34m[\u001b[0m\u001b[0;34m'Site'\u001b[0m\u001b[0;34m]\u001b[0m\u001b[0;34m,\u001b[0m \u001b[0mlocation_cleaned\u001b[0m\u001b[0;34m)\u001b[0m\u001b[0;34m)\u001b[0m\u001b[0;34m\u001b[0m\u001b[0;34m\u001b[0m\u001b[0m\n",
      "\u001b[0;31mNameError\u001b[0m: name 'unicodedata' is not defined"
     ]
    }
   ],
   "source": [
    "# create a csv file\n",
    "with open('../data/unesco_sites_raw.csv', 'w') as f:\n",
    "\n",
    "    for link in links1:\n",
    "        response = requests.get(url = 'https://en.wikipedia.org' + link)\n",
    "\n",
    "        soup = BeautifulSoup(response.text, 'html.parser')\n",
    "        table = soup.find('table',{'class':\"wikitable\"})\n",
    "        df = pd.read_html(str(table))\n",
    "\n",
    "        # convert list to dataframe\n",
    "        df = pd.DataFrame(df[0])\n",
    "        newdf = df.fillna('')\n",
    "\n",
    "        # drop the unwanted column\n",
    "        if 'Site' in newdf.columns and 'Location' in newdf.columns:\n",
    "            data = newdf[['Site', 'Location']]\n",
    "\n",
    "            # add information to the csv file\n",
    "            for index, value in data.iterrows():\n",
    "                location_cleaned = unicodedata.normalize('NFKD', value['Location']).encode('ascii','ignore').decode('ascii').replace(';', ',')\n",
    "                f.write(\"%s;%s;%s\\n\" % (link, value['Site'], location_cleaned))\n"
   ]
  },
  {
   "cell_type": "markdown",
   "id": "edc80ef1",
   "metadata": {},
   "source": [
    "### Clean the data \n",
    "Clean the text related to place entities. "
   ]
  },
  {
   "cell_type": "code",
   "execution_count": null,
   "id": "45ff5989",
   "metadata": {},
   "outputs": [],
   "source": [
    "import pandas as pd\n",
    "import csv\n",
    "import re\n",
    "from tqdm.autonotebook import tqdm\n",
    "from Levenshtein import distance as lev "
   ]
  },
  {
   "cell_type": "code",
   "execution_count": null,
   "id": "86044f74",
   "metadata": {},
   "outputs": [],
   "source": [
    "data = pd.read_csv('../data/unesco_sites_raw.csv', delimiter=';', header = None)\n",
    "data.rename(columns = {0: 'link', 1: 'place', 2: 'location'}, inplace = True)"
   ]
  },
  {
   "cell_type": "code",
   "execution_count": null,
   "id": "b1ced6e7",
   "metadata": {},
   "outputs": [],
   "source": [
    "data['place'] = data['place'].apply(lambda x: x.replace(\"-\",\" \"))\n",
    "data['place'] = data['place'].apply(lambda x: re.sub(r'[^A-Za-z0-9 ]+', '', x))\n",
    "data['place'] = data['place'].apply(lambda x: x.strip())\n",
    "data['place'] = data['place'].apply(lambda x: x.capitalize())"
   ]
  },
  {
   "cell_type": "code",
   "execution_count": 7,
   "id": "86c3196b",
   "metadata": {},
   "outputs": [
    {
     "ename": "AttributeError",
     "evalue": "'DataFrame' object has no attribute 'place'",
     "output_type": "error",
     "traceback": [
      "\u001b[0;31m---------------------------------------------------------------------------\u001b[0m",
      "\u001b[0;31mAttributeError\u001b[0m                            Traceback (most recent call last)",
      "\u001b[0;32m/tmp/ipykernel_763812/3268025445.py\u001b[0m in \u001b[0;36m<module>\u001b[0;34m\u001b[0m\n\u001b[0;32m----> 1\u001b[0;31m \u001b[0mlen\u001b[0m\u001b[0;34m(\u001b[0m\u001b[0mdata\u001b[0m\u001b[0;34m)\u001b[0m\u001b[0;34m,\u001b[0m \u001b[0mlen\u001b[0m\u001b[0;34m(\u001b[0m\u001b[0mdata\u001b[0m\u001b[0;34m.\u001b[0m\u001b[0mplace\u001b[0m\u001b[0;34m.\u001b[0m\u001b[0munique\u001b[0m\u001b[0;34m(\u001b[0m\u001b[0;34m)\u001b[0m\u001b[0;34m)\u001b[0m\u001b[0;34m\u001b[0m\u001b[0;34m\u001b[0m\u001b[0m\n\u001b[0m",
      "\u001b[0;32m~/anaconda3/envs/dhlab_project/lib/python3.8/site-packages/pandas/core/generic.py\u001b[0m in \u001b[0;36m__getattr__\u001b[0;34m(self, name)\u001b[0m\n\u001b[1;32m   5485\u001b[0m         ):\n\u001b[1;32m   5486\u001b[0m             \u001b[0;32mreturn\u001b[0m \u001b[0mself\u001b[0m\u001b[0;34m[\u001b[0m\u001b[0mname\u001b[0m\u001b[0;34m]\u001b[0m\u001b[0;34m\u001b[0m\u001b[0;34m\u001b[0m\u001b[0m\n\u001b[0;32m-> 5487\u001b[0;31m         \u001b[0;32mreturn\u001b[0m \u001b[0mobject\u001b[0m\u001b[0;34m.\u001b[0m\u001b[0m__getattribute__\u001b[0m\u001b[0;34m(\u001b[0m\u001b[0mself\u001b[0m\u001b[0;34m,\u001b[0m \u001b[0mname\u001b[0m\u001b[0;34m)\u001b[0m\u001b[0;34m\u001b[0m\u001b[0;34m\u001b[0m\u001b[0m\n\u001b[0m\u001b[1;32m   5488\u001b[0m \u001b[0;34m\u001b[0m\u001b[0m\n\u001b[1;32m   5489\u001b[0m     \u001b[0;32mdef\u001b[0m \u001b[0m__setattr__\u001b[0m\u001b[0;34m(\u001b[0m\u001b[0mself\u001b[0m\u001b[0;34m,\u001b[0m \u001b[0mname\u001b[0m\u001b[0;34m:\u001b[0m \u001b[0mstr\u001b[0m\u001b[0;34m,\u001b[0m \u001b[0mvalue\u001b[0m\u001b[0;34m)\u001b[0m \u001b[0;34m->\u001b[0m \u001b[0;32mNone\u001b[0m\u001b[0;34m:\u001b[0m\u001b[0;34m\u001b[0m\u001b[0;34m\u001b[0m\u001b[0m\n",
      "\u001b[0;31mAttributeError\u001b[0m: 'DataFrame' object has no attribute 'place'"
     ]
    }
   ],
   "source": [
    "len(data), len(data.place.unique())"
   ]
  },
  {
   "cell_type": "code",
   "execution_count": 8,
   "id": "2b5a8b49",
   "metadata": {},
   "outputs": [
    {
     "data": {
      "text/html": [
       "<div>\n",
       "<style scoped>\n",
       "    .dataframe tbody tr th:only-of-type {\n",
       "        vertical-align: middle;\n",
       "    }\n",
       "\n",
       "    .dataframe tbody tr th {\n",
       "        vertical-align: top;\n",
       "    }\n",
       "\n",
       "    .dataframe thead th {\n",
       "        text-align: right;\n",
       "    }\n",
       "</style>\n",
       "<table border=\"1\" class=\"dataframe\">\n",
       "  <thead>\n",
       "    <tr style=\"text-align: right;\">\n",
       "      <th></th>\n",
       "      <th>Site</th>\n",
       "      <th>Location</th>\n",
       "    </tr>\n",
       "  </thead>\n",
       "  <tbody>\n",
       "    <tr>\n",
       "      <th>0</th>\n",
       "      <td>Aapravasi Ghat</td>\n",
       "      <td>Port Louis District, Mauritius.mw-parser-outpu...</td>\n",
       "    </tr>\n",
       "    <tr>\n",
       "      <th>1</th>\n",
       "      <td>Abu Mena</td>\n",
       "      <td>Abusir, Egypt30°50′28″N 29°39′47″E﻿ / ﻿30.8409...</td>\n",
       "    </tr>\n",
       "    <tr>\n",
       "      <th>2</th>\n",
       "      <td>Air and Ténéré Natural Reserves</td>\n",
       "      <td>Arlit Department, Niger18°N 9°E﻿ / ﻿18°N 9°E</td>\n",
       "    </tr>\n",
       "    <tr>\n",
       "      <th>3</th>\n",
       "      <td>Aksum</td>\n",
       "      <td>Tigray Region, Ethiopia14°07′49″N 38°43′07″E﻿ ...</td>\n",
       "    </tr>\n",
       "    <tr>\n",
       "      <th>4</th>\n",
       "      <td>Al Qal'a of Beni Hammad</td>\n",
       "      <td>Maadid, Algeria35°49′06″N 4°47′13″E﻿ / ﻿35.818...</td>\n",
       "    </tr>\n",
       "  </tbody>\n",
       "</table>\n",
       "</div>"
      ],
      "text/plain": [
       "                              Site  \\\n",
       "0                   Aapravasi Ghat   \n",
       "1                         Abu Mena   \n",
       "2  Air and Ténéré Natural Reserves   \n",
       "3                            Aksum   \n",
       "4          Al Qal'a of Beni Hammad   \n",
       "\n",
       "                                            Location  \n",
       "0  Port Louis District, Mauritius.mw-parser-outpu...  \n",
       "1  Abusir, Egypt30°50′28″N 29°39′47″E﻿ / ﻿30.8409...  \n",
       "2       Arlit Department, Niger18°N 9°E﻿ / ﻿18°N 9°E  \n",
       "3  Tigray Region, Ethiopia14°07′49″N 38°43′07″E﻿ ...  \n",
       "4  Maadid, Algeria35°49′06″N 4°47′13″E﻿ / ﻿35.818...  "
      ]
     },
     "execution_count": 8,
     "metadata": {},
     "output_type": "execute_result"
    }
   ],
   "source": [
    "data.head()"
   ]
  },
  {
   "cell_type": "code",
   "execution_count": 9,
   "id": "2a9ada19",
   "metadata": {},
   "outputs": [
    {
     "ename": "NameError",
     "evalue": "name 'tqdm' is not defined",
     "output_type": "error",
     "traceback": [
      "\u001b[0;31m---------------------------------------------------------------------------\u001b[0m",
      "\u001b[0;31mNameError\u001b[0m                                 Traceback (most recent call last)",
      "\u001b[0;32m/tmp/ipykernel_763812/2484137340.py\u001b[0m in \u001b[0;36m<module>\u001b[0;34m\u001b[0m\n\u001b[0;32m----> 1\u001b[0;31m \u001b[0;32mfor\u001b[0m \u001b[0mi\u001b[0m \u001b[0;32min\u001b[0m \u001b[0mtqdm\u001b[0m\u001b[0;34m(\u001b[0m\u001b[0mrange\u001b[0m\u001b[0;34m(\u001b[0m\u001b[0mlen\u001b[0m\u001b[0;34m(\u001b[0m\u001b[0mdata\u001b[0m\u001b[0;34m)\u001b[0m \u001b[0;34m-\u001b[0m \u001b[0;36m1\u001b[0m\u001b[0;34m)\u001b[0m\u001b[0;34m)\u001b[0m\u001b[0;34m:\u001b[0m\u001b[0;34m\u001b[0m\u001b[0;34m\u001b[0m\u001b[0m\n\u001b[0m\u001b[1;32m      2\u001b[0m     \u001b[0mplace1\u001b[0m \u001b[0;34m=\u001b[0m \u001b[0mdata\u001b[0m\u001b[0;34m.\u001b[0m\u001b[0miloc\u001b[0m\u001b[0;34m[\u001b[0m\u001b[0mi\u001b[0m\u001b[0;34m]\u001b[0m\u001b[0;34m.\u001b[0m\u001b[0mplace\u001b[0m\u001b[0;34m\u001b[0m\u001b[0;34m\u001b[0m\u001b[0m\n\u001b[1;32m      3\u001b[0m     \u001b[0mplace2\u001b[0m \u001b[0;34m=\u001b[0m \u001b[0mdata\u001b[0m\u001b[0;34m.\u001b[0m\u001b[0miloc\u001b[0m\u001b[0;34m[\u001b[0m\u001b[0mi\u001b[0m\u001b[0;34m+\u001b[0m\u001b[0;36m1\u001b[0m\u001b[0;34m]\u001b[0m\u001b[0;34m.\u001b[0m\u001b[0mplace\u001b[0m\u001b[0;34m\u001b[0m\u001b[0;34m\u001b[0m\u001b[0m\n\u001b[1;32m      4\u001b[0m     \u001b[0;32mif\u001b[0m \u001b[0mlev\u001b[0m\u001b[0;34m(\u001b[0m\u001b[0mplace1\u001b[0m\u001b[0;34m,\u001b[0m \u001b[0mplace2\u001b[0m\u001b[0;34m)\u001b[0m \u001b[0;34m<\u001b[0m \u001b[0;36m3\u001b[0m\u001b[0;34m:\u001b[0m \u001b[0;31m# if the writing of the place differs of less than 2 characters\u001b[0m\u001b[0;34m\u001b[0m\u001b[0;34m\u001b[0m\u001b[0m\n\u001b[1;32m      5\u001b[0m         \u001b[0mdata\u001b[0m\u001b[0;34m.\u001b[0m\u001b[0miloc\u001b[0m\u001b[0;34m[\u001b[0m\u001b[0mi\u001b[0m\u001b[0;34m+\u001b[0m\u001b[0;36m1\u001b[0m\u001b[0;34m]\u001b[0m\u001b[0;34m.\u001b[0m\u001b[0mplace\u001b[0m \u001b[0;34m=\u001b[0m \u001b[0mplace1\u001b[0m \u001b[0;31m# only the first version of the writing is kept\u001b[0m\u001b[0;34m\u001b[0m\u001b[0;34m\u001b[0m\u001b[0m\n",
      "\u001b[0;31mNameError\u001b[0m: name 'tqdm' is not defined"
     ]
    }
   ],
   "source": [
    "for i in tqdm(range(len(data) - 1)):\n",
    "    place1 = data.iloc[i].place\n",
    "    place2 = data.iloc[i+1].place\n",
    "    if lev(place1, place2) < 3: # if the writing of the place differs of less than 2 characters\n",
    "        data.iloc[i+1].place = place1 # only the first version of the writing is kept\n"
   ]
  },
  {
   "cell_type": "code",
   "execution_count": 10,
   "id": "93983d14",
   "metadata": {},
   "outputs": [
    {
     "ename": "KeyError",
     "evalue": "Index(['place'], dtype='object')",
     "output_type": "error",
     "traceback": [
      "\u001b[0;31m---------------------------------------------------------------------------\u001b[0m",
      "\u001b[0;31mKeyError\u001b[0m                                  Traceback (most recent call last)",
      "\u001b[0;32m/tmp/ipykernel_763812/3930518811.py\u001b[0m in \u001b[0;36m<module>\u001b[0;34m\u001b[0m\n\u001b[0;32m----> 1\u001b[0;31m \u001b[0mdata\u001b[0m\u001b[0;34m.\u001b[0m\u001b[0mdrop_duplicates\u001b[0m\u001b[0;34m(\u001b[0m\u001b[0msubset\u001b[0m \u001b[0;34m=\u001b[0m \u001b[0;34m'place'\u001b[0m\u001b[0;34m,\u001b[0m \u001b[0mkeep\u001b[0m\u001b[0;34m=\u001b[0m\u001b[0;34m'first'\u001b[0m\u001b[0;34m,\u001b[0m\u001b[0minplace\u001b[0m\u001b[0;34m=\u001b[0m\u001b[0;32mTrue\u001b[0m\u001b[0;34m)\u001b[0m\u001b[0;34m\u001b[0m\u001b[0;34m\u001b[0m\u001b[0m\n\u001b[0m\u001b[1;32m      2\u001b[0m \u001b[0mdata\u001b[0m\u001b[0;34m.\u001b[0m\u001b[0msort_values\u001b[0m\u001b[0;34m(\u001b[0m\u001b[0;34m'place'\u001b[0m\u001b[0;34m,\u001b[0m \u001b[0mascending\u001b[0m\u001b[0;34m=\u001b[0m\u001b[0;32mTrue\u001b[0m\u001b[0;34m,\u001b[0m \u001b[0minplace\u001b[0m \u001b[0;34m=\u001b[0m \u001b[0;32mTrue\u001b[0m\u001b[0;34m)\u001b[0m\u001b[0;34m\u001b[0m\u001b[0;34m\u001b[0m\u001b[0m\n",
      "\u001b[0;32m~/anaconda3/envs/dhlab_project/lib/python3.8/site-packages/pandas/util/_decorators.py\u001b[0m in \u001b[0;36mwrapper\u001b[0;34m(*args, **kwargs)\u001b[0m\n\u001b[1;32m    309\u001b[0m                     \u001b[0mstacklevel\u001b[0m\u001b[0;34m=\u001b[0m\u001b[0mstacklevel\u001b[0m\u001b[0;34m,\u001b[0m\u001b[0;34m\u001b[0m\u001b[0;34m\u001b[0m\u001b[0m\n\u001b[1;32m    310\u001b[0m                 )\n\u001b[0;32m--> 311\u001b[0;31m             \u001b[0;32mreturn\u001b[0m \u001b[0mfunc\u001b[0m\u001b[0;34m(\u001b[0m\u001b[0;34m*\u001b[0m\u001b[0margs\u001b[0m\u001b[0;34m,\u001b[0m \u001b[0;34m**\u001b[0m\u001b[0mkwargs\u001b[0m\u001b[0;34m)\u001b[0m\u001b[0;34m\u001b[0m\u001b[0;34m\u001b[0m\u001b[0m\n\u001b[0m\u001b[1;32m    312\u001b[0m \u001b[0;34m\u001b[0m\u001b[0m\n\u001b[1;32m    313\u001b[0m         \u001b[0;32mreturn\u001b[0m \u001b[0mwrapper\u001b[0m\u001b[0;34m\u001b[0m\u001b[0;34m\u001b[0m\u001b[0m\n",
      "\u001b[0;32m~/anaconda3/envs/dhlab_project/lib/python3.8/site-packages/pandas/core/frame.py\u001b[0m in \u001b[0;36mdrop_duplicates\u001b[0;34m(self, subset, keep, inplace, ignore_index)\u001b[0m\n\u001b[1;32m   6061\u001b[0m         \u001b[0minplace\u001b[0m \u001b[0;34m=\u001b[0m \u001b[0mvalidate_bool_kwarg\u001b[0m\u001b[0;34m(\u001b[0m\u001b[0minplace\u001b[0m\u001b[0;34m,\u001b[0m \u001b[0;34m\"inplace\"\u001b[0m\u001b[0;34m)\u001b[0m\u001b[0;34m\u001b[0m\u001b[0;34m\u001b[0m\u001b[0m\n\u001b[1;32m   6062\u001b[0m         \u001b[0mignore_index\u001b[0m \u001b[0;34m=\u001b[0m \u001b[0mvalidate_bool_kwarg\u001b[0m\u001b[0;34m(\u001b[0m\u001b[0mignore_index\u001b[0m\u001b[0;34m,\u001b[0m \u001b[0;34m\"ignore_index\"\u001b[0m\u001b[0;34m)\u001b[0m\u001b[0;34m\u001b[0m\u001b[0;34m\u001b[0m\u001b[0m\n\u001b[0;32m-> 6063\u001b[0;31m         \u001b[0mduplicated\u001b[0m \u001b[0;34m=\u001b[0m \u001b[0mself\u001b[0m\u001b[0;34m.\u001b[0m\u001b[0mduplicated\u001b[0m\u001b[0;34m(\u001b[0m\u001b[0msubset\u001b[0m\u001b[0;34m,\u001b[0m \u001b[0mkeep\u001b[0m\u001b[0;34m=\u001b[0m\u001b[0mkeep\u001b[0m\u001b[0;34m)\u001b[0m\u001b[0;34m\u001b[0m\u001b[0;34m\u001b[0m\u001b[0m\n\u001b[0m\u001b[1;32m   6064\u001b[0m \u001b[0;34m\u001b[0m\u001b[0m\n\u001b[1;32m   6065\u001b[0m         \u001b[0mresult\u001b[0m \u001b[0;34m=\u001b[0m \u001b[0mself\u001b[0m\u001b[0;34m[\u001b[0m\u001b[0;34m-\u001b[0m\u001b[0mduplicated\u001b[0m\u001b[0;34m]\u001b[0m\u001b[0;34m\u001b[0m\u001b[0;34m\u001b[0m\u001b[0m\n",
      "\u001b[0;32m~/anaconda3/envs/dhlab_project/lib/python3.8/site-packages/pandas/core/frame.py\u001b[0m in \u001b[0;36mduplicated\u001b[0;34m(self, subset, keep)\u001b[0m\n\u001b[1;32m   6195\u001b[0m         \u001b[0mdiff\u001b[0m \u001b[0;34m=\u001b[0m \u001b[0mIndex\u001b[0m\u001b[0;34m(\u001b[0m\u001b[0msubset\u001b[0m\u001b[0;34m)\u001b[0m\u001b[0;34m.\u001b[0m\u001b[0mdifference\u001b[0m\u001b[0;34m(\u001b[0m\u001b[0mself\u001b[0m\u001b[0;34m.\u001b[0m\u001b[0mcolumns\u001b[0m\u001b[0;34m)\u001b[0m\u001b[0;34m\u001b[0m\u001b[0;34m\u001b[0m\u001b[0m\n\u001b[1;32m   6196\u001b[0m         \u001b[0;32mif\u001b[0m \u001b[0;32mnot\u001b[0m \u001b[0mdiff\u001b[0m\u001b[0;34m.\u001b[0m\u001b[0mempty\u001b[0m\u001b[0;34m:\u001b[0m\u001b[0;34m\u001b[0m\u001b[0;34m\u001b[0m\u001b[0m\n\u001b[0;32m-> 6197\u001b[0;31m             \u001b[0;32mraise\u001b[0m \u001b[0mKeyError\u001b[0m\u001b[0;34m(\u001b[0m\u001b[0mdiff\u001b[0m\u001b[0;34m)\u001b[0m\u001b[0;34m\u001b[0m\u001b[0;34m\u001b[0m\u001b[0m\n\u001b[0m\u001b[1;32m   6198\u001b[0m \u001b[0;34m\u001b[0m\u001b[0m\n\u001b[1;32m   6199\u001b[0m         \u001b[0mvals\u001b[0m \u001b[0;34m=\u001b[0m \u001b[0;34m(\u001b[0m\u001b[0mcol\u001b[0m\u001b[0;34m.\u001b[0m\u001b[0mvalues\u001b[0m \u001b[0;32mfor\u001b[0m \u001b[0mname\u001b[0m\u001b[0;34m,\u001b[0m \u001b[0mcol\u001b[0m \u001b[0;32min\u001b[0m \u001b[0mself\u001b[0m\u001b[0;34m.\u001b[0m\u001b[0mitems\u001b[0m\u001b[0;34m(\u001b[0m\u001b[0;34m)\u001b[0m \u001b[0;32mif\u001b[0m \u001b[0mname\u001b[0m \u001b[0;32min\u001b[0m \u001b[0msubset\u001b[0m\u001b[0;34m)\u001b[0m\u001b[0;34m\u001b[0m\u001b[0;34m\u001b[0m\u001b[0m\n",
      "\u001b[0;31mKeyError\u001b[0m: Index(['place'], dtype='object')"
     ]
    }
   ],
   "source": [
    "data.drop_duplicates(subset = 'place', keep='first',inplace=True)\n",
    "data.sort_values('place', ascending=True, inplace = True)"
   ]
  },
  {
   "cell_type": "code",
   "execution_count": 11,
   "id": "2eb1adfe",
   "metadata": {},
   "outputs": [
    {
     "ename": "AttributeError",
     "evalue": "'DataFrame' object has no attribute 'place'",
     "output_type": "error",
     "traceback": [
      "\u001b[0;31m---------------------------------------------------------------------------\u001b[0m",
      "\u001b[0;31mAttributeError\u001b[0m                            Traceback (most recent call last)",
      "\u001b[0;32m/tmp/ipykernel_763812/219924487.py\u001b[0m in \u001b[0;36m<module>\u001b[0;34m\u001b[0m\n\u001b[1;32m      1\u001b[0m \u001b[0;31m# check that all names of places are unique\u001b[0m\u001b[0;34m\u001b[0m\u001b[0;34m\u001b[0m\u001b[0;34m\u001b[0m\u001b[0m\n\u001b[0;32m----> 2\u001b[0;31m \u001b[0mlen\u001b[0m\u001b[0;34m(\u001b[0m\u001b[0mdata\u001b[0m\u001b[0;34m)\u001b[0m\u001b[0;34m,\u001b[0m \u001b[0mlen\u001b[0m\u001b[0;34m(\u001b[0m\u001b[0mdata\u001b[0m\u001b[0;34m.\u001b[0m\u001b[0mplace\u001b[0m\u001b[0;34m.\u001b[0m\u001b[0munique\u001b[0m\u001b[0;34m(\u001b[0m\u001b[0;34m)\u001b[0m\u001b[0;34m)\u001b[0m\u001b[0;34m\u001b[0m\u001b[0;34m\u001b[0m\u001b[0m\n\u001b[0m",
      "\u001b[0;32m~/anaconda3/envs/dhlab_project/lib/python3.8/site-packages/pandas/core/generic.py\u001b[0m in \u001b[0;36m__getattr__\u001b[0;34m(self, name)\u001b[0m\n\u001b[1;32m   5485\u001b[0m         ):\n\u001b[1;32m   5486\u001b[0m             \u001b[0;32mreturn\u001b[0m \u001b[0mself\u001b[0m\u001b[0;34m[\u001b[0m\u001b[0mname\u001b[0m\u001b[0;34m]\u001b[0m\u001b[0;34m\u001b[0m\u001b[0;34m\u001b[0m\u001b[0m\n\u001b[0;32m-> 5487\u001b[0;31m         \u001b[0;32mreturn\u001b[0m \u001b[0mobject\u001b[0m\u001b[0;34m.\u001b[0m\u001b[0m__getattribute__\u001b[0m\u001b[0;34m(\u001b[0m\u001b[0mself\u001b[0m\u001b[0;34m,\u001b[0m \u001b[0mname\u001b[0m\u001b[0;34m)\u001b[0m\u001b[0;34m\u001b[0m\u001b[0;34m\u001b[0m\u001b[0m\n\u001b[0m\u001b[1;32m   5488\u001b[0m \u001b[0;34m\u001b[0m\u001b[0m\n\u001b[1;32m   5489\u001b[0m     \u001b[0;32mdef\u001b[0m \u001b[0m__setattr__\u001b[0m\u001b[0;34m(\u001b[0m\u001b[0mself\u001b[0m\u001b[0;34m,\u001b[0m \u001b[0mname\u001b[0m\u001b[0;34m:\u001b[0m \u001b[0mstr\u001b[0m\u001b[0;34m,\u001b[0m \u001b[0mvalue\u001b[0m\u001b[0;34m)\u001b[0m \u001b[0;34m->\u001b[0m \u001b[0;32mNone\u001b[0m\u001b[0;34m:\u001b[0m\u001b[0;34m\u001b[0m\u001b[0;34m\u001b[0m\u001b[0m\n",
      "\u001b[0;31mAttributeError\u001b[0m: 'DataFrame' object has no attribute 'place'"
     ]
    }
   ],
   "source": [
    "# check that all names of places are unique\n",
    "len(data), len(data.place.unique())"
   ]
  },
  {
   "cell_type": "code",
   "execution_count": 12,
   "id": "3261aee7",
   "metadata": {},
   "outputs": [],
   "source": [
    "# save the dataframe \n",
    "data.to_csv('../data/unesco_sites_cleaned.csv', sep = ';', header = False, index = False)"
   ]
  },
  {
   "cell_type": "markdown",
   "id": "dc8924d9",
   "metadata": {},
   "source": [
    "## Video search\n",
    "\n",
    "Get all the links resulting from the youtube requests. Refer to video-search.py for the python script."
   ]
  },
  {
   "cell_type": "code",
   "execution_count": 13,
   "id": "c0b2e124",
   "metadata": {},
   "outputs": [
    {
     "name": "stderr",
     "output_type": "stream",
     "text": [
      "/tmp/ipykernel_763812/1353721322.py:8: TqdmExperimentalWarning: Using `tqdm.autonotebook.tqdm` in notebook mode. Use `tqdm.tqdm` instead to force console mode (e.g. in jupyter console)\n",
      "  from tqdm.autonotebook import tqdm\n"
     ]
    }
   ],
   "source": [
    "import numpy as np\n",
    "import youtube_dl\n",
    "import csv\n",
    "import urllib\n",
    "import urllib.request\n",
    "import re\n",
    "import unidecode\n",
    "from tqdm.autonotebook import tqdm\n",
    "import pytube\n",
    "import pandas as pd\n",
    "from pytube import YouTube"
   ]
  },
  {
   "cell_type": "code",
   "execution_count": 14,
   "id": "76029684",
   "metadata": {},
   "outputs": [],
   "source": [
    "inputfile = csv.reader(open('../data/unesco_sites_cleaned.csv','r'), delimiter=';')\n",
    "\n",
    "ydl_opts = {\n",
    "'format': 'bestaudio/best',\n",
    "'outtmpl': 'tmp/%(id)s.%(ext)s',\n",
    "'noplaylist': True,\n",
    "'quiet': True,\n",
    "'prefer_ffmpeg': True,\n",
    "'audioformat': 'wav',\n",
    "'forceduration':True\n",
    "}\n",
    "\n",
    "# create an empty dictionnary\n",
    "video_dict = {}"
   ]
  },
  {
   "cell_type": "code",
   "execution_count": 15,
   "id": "017d2e56",
   "metadata": {
    "scrolled": true
   },
   "outputs": [
    {
     "name": "stdout",
     "output_type": "stream",
     "text": [
      "['Aapravasi Ghat', 'Port Louis District,\\xa0Mauritius.mw-parser-output .geo-default,.mw-parser-output .geo-dms,.mw-parser-output .geo-dec{display:inline}.mw-parser-output .geo-nondefault,.mw-parser-output .geo-multi-punct{display:none}.mw-parser-output .longitude,.mw-parser-output .latitude{white-space:nowrap}20°09′31″S 57°30′11″E\\ufeff / \\ufeff20.158611°S 57.503056°E']\n"
     ]
    },
    {
     "data": {
      "application/vnd.jupyter.widget-view+json": {
       "model_id": "6ecb2c4556e640c1bc386f772ab18fd3",
       "version_major": 2,
       "version_minor": 0
      },
      "text/plain": [
       "  0%|          | 0/32 [00:00<?, ?it/s]"
      ]
     },
     "metadata": {},
     "output_type": "display_data"
    },
    {
     "name": "stdout",
     "output_type": "stream",
     "text": [
      "[youtube] _CU1pndJgQw: Downloading webpage\n",
      "[youtube] _CU1pndJgQw: Downloading MPD manifest\n",
      "[youtube] gKRtzTDmTiE: Downloading webpage\n",
      "[youtube] gKRtzTDmTiE: Downloading MPD manifest\n",
      "[youtube] EgvQojibIfc: Downloading webpage\n",
      "[youtube] EgvQojibIfc: Downloading MPD manifest\n"
     ]
    },
    {
     "name": "stderr",
     "output_type": "stream",
     "text": [
      "\n",
      "KeyboardInterrupt\n",
      "\n"
     ]
    }
   ],
   "source": [
    "\n",
    "# read line by line\n",
    "for row in inputfile:\n",
    "    \n",
    "    print(row)\n",
    "    # get second column (names of places)\n",
    "    place = row[1]\n",
    "    \n",
    "    # clean string : remove accents\n",
    "    place_clean1 = unidecode.unidecode(place)\n",
    "    # clean string : remove spaces\n",
    "    place_clean2 = place_clean1.replace(' ', '+')\n",
    "    \n",
    "    # add key words \n",
    "    search_words = place_clean2 + \"+drone\"\n",
    "    \n",
    "    # make a request in youtube, store the results in a list\n",
    "    results = []\n",
    "    html = urllib.request.urlopen(\"https://www.youtube.com/results?search_query=\" + search_words)\n",
    "    \n",
    "    # store the results\n",
    "    video_ids = re.findall(r\"watch\\?v=(\\S{11})\", html.read().decode())\n",
    "  \n",
    "    for video_id in tqdm(video_ids):\n",
    "        try:\n",
    "            ydl_opts = {'ignoreerrors': True}\n",
    "            with youtube_dl.YoutubeDL(ydl_opts) as ydl:\n",
    "                myVideo = YouTube(\"https://www.youtube.com/watch?v=%s\" % video_id)\n",
    "                if (myVideo.streams.filter(res=\"2160p\") != None) :\n",
    "                    if not myVideo.age_restricted:\n",
    "                        dictMeta = ydl.extract_info(\"https://www.youtube.com/watch?v=%s\" % video_id, download=False)\n",
    "            \n",
    "                        video_dict.update({video_id : [place_clean1, dictMeta['duration'], dictMeta['title'], dictMeta['upload_date']]})\n",
    "            \n",
    "        except Exception as e:\n",
    "            print(\"ERROR Catched and Passed\", e)\n",
    "            pass \n",
    "        \n",
    "    \n",
    "video_df = pd.DataFrame.from_dict(video_dict, orient='index', columns=['place', 'duration', 'title', 'date'])\n",
    "\n",
    "video_df.to_csv('../data/video_info.csv', index_label = 'id')"
   ]
  },
  {
   "cell_type": "markdown",
   "id": "7278d6d0",
   "metadata": {},
   "source": [
    "## Screenshots\n",
    "\n",
    "Select randomly 10 places, from which select 10 random videos, and take 3 screenshots for each video without downloading it for analysis purposes"
   ]
  },
  {
   "cell_type": "code",
   "execution_count": null,
   "id": "eeca362a",
   "metadata": {},
   "outputs": [],
   "source": [
    "import pandas as pd\n",
    "import random\n",
    "import youtube_dl\n",
    "import numpy\n",
    "import cv2"
   ]
  },
  {
   "cell_type": "code",
   "execution_count": null,
   "id": "c76d8288",
   "metadata": {},
   "outputs": [],
   "source": [
    "df = pd.read_csv('../data/video_info.csv', delimiter=',')\n",
    "dict_sample = {}\n",
    "places_sel = random.sample(df.place.unique().tolist(), 10)\n",
    "for place in places_sel:\n",
    "    ids = df.loc[df['place'] == place].id.tolist()\n",
    "    ids_sample = random.sample(ids, 10)\n",
    "    dict_sample.update({place : ids_sample})"
   ]
  },
  {
   "cell_type": "code",
   "execution_count": null,
   "id": "47d4ec6c",
   "metadata": {},
   "outputs": [],
   "source": [
    "for key, value in dict_sample.items():\n",
    "    \n",
    "    place = key\n",
    "    for youtube_id in value:\n",
    "        print(youtube_id)\n",
    "        video_url = 'https://www.youtube.com/watch?v=%s' % youtube_id  #The Youtube URL\n",
    "        ydl_opts = {}\n",
    "        ydl = youtube_dl.YoutubeDL(ydl_opts)\n",
    "        info_dict = ydl.extract_info(video_url, download=False)\n",
    "\n",
    "        formats = info_dict.get('formats',None)\n",
    "\n",
    "        f = formats[-1]\n",
    "        url = f.get('url',None)\n",
    "        cap = cv2.VideoCapture(url)\n",
    "\n",
    "        x = 1\n",
    "        count = info_dict['duration'] / 4\n",
    "\n",
    "        while x < 4 :\n",
    "\n",
    "            for i in range(3):\n",
    "\n",
    "                time = x * info_dict['duration'] + ( 10 * i ) # each time, take 3 shots at 10 sec intervals\n",
    "                ret, frame = cap.read()\n",
    "                if not ret:\n",
    "                    break\n",
    "                filename = \"../data/screenshots/%s-%d.png\" % (youtube_id, time)\n",
    "\n",
    "                cv2.imwrite(filename, frame)\n",
    "                count += int(info_dict['duration'] / 4)\n",
    "                cap.set(1,count)\n",
    "\n",
    "            x += 1\n",
    "\n",
    "        cap.release()"
   ]
  },
  {
   "cell_type": "code",
   "execution_count": null,
   "id": "6b64d4ca",
   "metadata": {},
   "outputs": [],
   "source": []
  }
 ],
 "metadata": {
  "kernelspec": {
   "display_name": "Python 3 (ipykernel)",
   "language": "python",
   "name": "python3"
  },
  "language_info": {
   "codemirror_mode": {
    "name": "ipython",
    "version": 3
   },
   "file_extension": ".py",
   "mimetype": "text/x-python",
   "name": "python",
   "nbconvert_exporter": "python",
   "pygments_lexer": "ipython3",
   "version": "3.8.8"
  }
 },
 "nbformat": 4,
 "nbformat_minor": 5
}
