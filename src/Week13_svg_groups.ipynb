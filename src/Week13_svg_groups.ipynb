{
 "cells": [
  {
   "cell_type": "code",
   "execution_count": 12,
   "id": "3d325451",
   "metadata": {},
   "outputs": [],
   "source": [
    "import numpy as np\n",
    "import struct\n",
    "import json \n",
    "import pandas as pd\n",
    "import matplotlib.pyplot as plt\n",
    "from pathlib import Path\n"
   ]
  },
  {
   "cell_type": "code",
   "execution_count": 13,
   "id": "4e6d6171",
   "metadata": {},
   "outputs": [],
   "source": [
    "from __future__ import unicode_literals\n",
    "import youtube_dl\n",
    "import os\n",
    "import shutil\n",
    "import time"
   ]
  },
  {
   "cell_type": "code",
   "execution_count": 28,
   "id": "68f2facf",
   "metadata": {},
   "outputs": [
    {
     "name": "stdout",
     "output_type": "stream",
     "text": [
      "1.0\n"
     ]
    },
    {
     "name": "stderr",
     "output_type": "stream",
     "text": [
      "/tmp/ipykernel_76446/3410769777.py:7: DeprecationWarning: `np.float` is a deprecated alias for the builtin `float`. To silence this warning, use `float` by itself. Doing this will not modify any behavior and is safe. If you specifically wanted the numpy scalar type, use `np.float64` here.\n",
      "Deprecated in NumPy 1.20; for more details and guidance: https://numpy.org/devdocs/release/1.20.0-notes.html#deprecations\n",
      "  x = ( np.float(line.split('\"')[1]) / 5 )\n",
      "/tmp/ipykernel_76446/3410769777.py:9: DeprecationWarning: `np.float` is a deprecated alias for the builtin `float`. To silence this warning, use `float` by itself. Doing this will not modify any behavior and is safe. If you specifically wanted the numpy scalar type, use `np.float64` here.\n",
      "Deprecated in NumPy 1.20; for more details and guidance: https://numpy.org/devdocs/release/1.20.0-notes.html#deprecations\n",
      "  y = ( np.float(line.split('\"')[3]) / 5 )\n"
     ]
    }
   ],
   "source": [
    "# input : svg file (\"Geometric\" or \"Putative\" Adjacency Matrix) for a given model\n",
    "# output : list of matches\n",
    "matches = []\n",
    "svg_file = '/media/sdib/wd_elements/youtube_3Dgroups/media/sdib/wd_elements/group1/list'+ \"/\" + \"GeometricAdjacencyMatrix.svg\"\n",
    "for line in open(svg_file, 'r').read().split('\\n'):\n",
    "    if \"<rect\" in line:\n",
    "        x = ( np.float(line.split('\"')[1]) / 5 )\n",
    "        print(x)\n",
    "        y = ( np.float(line.split('\"')[3]) / 5 )\n",
    "        matches.append(sorted([int(x),int(y)]))"
   ]
  },
  {
   "cell_type": "code",
   "execution_count": 15,
   "id": "4c02bccc",
   "metadata": {},
   "outputs": [
    {
     "name": "stdout",
     "output_type": "stream",
     "text": [
      "[[0, 1]]\n"
     ]
    }
   ],
   "source": [
    "print(matches)"
   ]
  },
  {
   "cell_type": "code",
   "execution_count": 26,
   "id": "96206095",
   "metadata": {},
   "outputs": [
    {
     "data": {
      "text/plain": [
       "1"
      ]
     },
     "execution_count": 26,
     "metadata": {},
     "output_type": "execute_result"
    }
   ],
   "source": [
    "len(matches)"
   ]
  },
  {
   "cell_type": "code",
   "execution_count": 16,
   "id": "92f2856c",
   "metadata": {},
   "outputs": [],
   "source": [
    "#Function to recreate an adjacency matrix out of\n",
    "#the match_list passed as argument.\"\"\"\n",
    "\n",
    "# retrieve size of matrix\n",
    "n = 61\n",
    "\n",
    "# initialize matrix\n",
    "adj_mat = np.zeros((61, 61))\n",
    "\n",
    "idx = np.asarray(matches)\n",
    "\n",
    "# slice the matrix with correct idxs\n",
    "adj_mat[idx[:, 0], idx[:, 1]] = 1\n",
    "\n",
    "#return adj_mat"
   ]
  },
  {
   "cell_type": "code",
   "execution_count": 17,
   "id": "323ad743",
   "metadata": {},
   "outputs": [
    {
     "data": {
      "text/plain": [
       "<matplotlib.image.AxesImage at 0x7f65e1b2c640>"
      ]
     },
     "execution_count": 17,
     "metadata": {},
     "output_type": "execute_result"
    },
    {
     "data": {
      "image/png": "[encoded data removed]",
      "text/plain": [
       "<Figure size 288x288 with 1 Axes>"
      ]
     },
     "metadata": {
      "needs_background": "light"
     },
     "output_type": "display_data"
    }
   ],
   "source": [
    "plt.matshow(adj_mat)"
   ]
  },
  {
   "cell_type": "code",
   "execution_count": 18,
   "id": "f8352307",
   "metadata": {},
   "outputs": [],
   "source": [
    "# input : list of matches\n",
    "# output : triangles\n",
    "#def split_triangles(adj_mat, tol=30):\n",
    "    #Provides a list containing tuples that describe\n",
    "    #triangles of images that match : the triangle are composed of the points\n",
    "    #(i_min, i_min+1), (i_min, i_max), (i_max-1, i_max) in the adjacency matrix.\n",
    "\n",
    "n = adj_mat.shape[0]\n",
    "triangles = []\n",
    "i_min = 0\n",
    "i_max = 0\n",
    "\n",
    "for i in range(n):\n",
    "# Retrieve non zero value for current line\n",
    "    non_zer = np.nonzero(adj_mat[i])[0]\n",
    "\n",
    "    # check if at begining or triangle\n",
    "    if non_zer.size > 0:\n",
    "\n",
    "        # check if no far image is taken into account\n",
    "        if abs(non_zer[-1] - non_zer[0]) >= 10:\n",
    "\n",
    "            length = len(non_zer)\n",
    "            j = 0\n",
    "\n",
    "            while j != length-1 and abs(non_zer[j+1] - non_zer[j]) < 10:\n",
    "                j += 1\n",
    "\n",
    "        # no far image: take them all\n",
    "        else:\n",
    "            i_max = non_zer[-1]\n",
    "\n",
    "    # empty triangle or at end of triangle\n",
    "    else:\n",
    "        if i == i_max:\n",
    "            # Close triangle\n",
    "            if i_min < i_max:\n",
    "                triangles.append((i_min, i_max))\n",
    "            i_min = i_max = i_max + 1\n",
    "\n",
    "\n",
    "    #return triangles"
   ]
  },
  {
   "cell_type": "code",
   "execution_count": 19,
   "id": "1f4d5fe4",
   "metadata": {},
   "outputs": [
    {
     "data": {
      "text/plain": [
       "[(0, 1)]"
      ]
     },
     "execution_count": 19,
     "metadata": {},
     "output_type": "execute_result"
    }
   ],
   "source": [
    "triangles"
   ]
  },
  {
   "cell_type": "code",
   "execution_count": 20,
   "id": "106d395b",
   "metadata": {
    "scrolled": true
   },
   "outputs": [
    {
     "name": "stderr",
     "output_type": "stream",
     "text": [
      "/tmp/ipykernel_76446/3558460117.py:5: DeprecationWarning: `np.float` is a deprecated alias for the builtin `float`. To silence this warning, use `float` by itself. Doing this will not modify any behavior and is safe. If you specifically wanted the numpy scalar type, use `np.float64` here.\n",
      "Deprecated in NumPy 1.20; for more details and guidance: https://numpy.org/devdocs/release/1.20.0-notes.html#deprecations\n",
      "  x = ( np.float(line.split('\"')[1]) / 5 )\n",
      "/tmp/ipykernel_76446/3558460117.py:6: DeprecationWarning: `np.float` is a deprecated alias for the builtin `float`. To silence this warning, use `float` by itself. Doing this will not modify any behavior and is safe. If you specifically wanted the numpy scalar type, use `np.float64` here.\n",
      "Deprecated in NumPy 1.20; for more details and guidance: https://numpy.org/devdocs/release/1.20.0-notes.html#deprecations\n",
      "  y = ( np.float(line.split('\"')[3]) / 5 )\n"
     ]
    }
   ],
   "source": [
    "matches = []\n",
    "svg_file = '/media/sdib/wd_elements/youtube_3Dgroups/media/sdib/wd_elements/group1/list'+ \"/\" + \"GeometricAdjacencyMatrix.svg\"\n",
    "for line in open(svg_file, 'r').read().split('\\n'):\n",
    "    if \"<rect\" in line:\n",
    "        x = ( np.float(line.split('\"')[1]) / 5 )\n",
    "        y = ( np.float(line.split('\"')[3]) / 5 )\n",
    "        matches.append(sorted([int(x),int(y)]))\n",
    "\n"
   ]
  },
  {
   "cell_type": "code",
   "execution_count": 21,
   "id": "d52a3f59",
   "metadata": {},
   "outputs": [],
   "source": [
    "m = np.zeros((max(max(matches)) + 1, max(max(matches)) + 1))\n",
    "\n",
    "for pair in matches:\n",
    "    i = pair[0]\n",
    "    j = pair[1]\n",
    "    m[i,j] = 1"
   ]
  },
  {
   "cell_type": "code",
   "execution_count": 25,
   "id": "cb5e7a8b",
   "metadata": {},
   "outputs": [
    {
     "data": {
      "text/plain": [
       "array([[0., 1.],\n",
       "       [0., 0.]])"
      ]
     },
     "execution_count": 25,
     "metadata": {},
     "output_type": "execute_result"
    }
   ],
   "source": [
    "m\n"
   ]
  },
  {
   "cell_type": "code",
   "execution_count": null,
   "id": "5285e92b",
   "metadata": {},
   "outputs": [],
   "source": []
  }
 ],
 "metadata": {
  "kernelspec": {
   "display_name": "Python 3 (ipykernel)",
   "language": "python",
   "name": "python3"
  },
  "language_info": {
   "codemirror_mode": {
    "name": "ipython",
    "version": 3
   },
   "file_extension": ".py",
   "mimetype": "text/x-python",
   "name": "python",
   "nbconvert_exporter": "python",
   "pygments_lexer": "ipython3",
   "version": "3.8.8"
  }
 },
 "nbformat": 4,
 "nbformat_minor": 5
}
