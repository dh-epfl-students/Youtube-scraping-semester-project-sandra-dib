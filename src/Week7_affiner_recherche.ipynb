{
 "cells": [
  {
   "cell_type": "code",
   "execution_count": null,
   "id": "1e1bd47c",
   "metadata": {},
   "outputs": [],
   "source": [
    "pip install unidecode"
   ]
  },
  {
   "cell_type": "code",
   "execution_count": 7,
   "id": "20f3bd0c",
   "metadata": {},
   "outputs": [
    {
     "data": {
      "text/plain": [
       "'The Rise of Experimental Music in the 1960s documentary (2005)'"
      ]
     },
     "execution_count": 7,
     "metadata": {},
     "output_type": "execute_result"
    }
   ],
   "source": [
    "info_dict.get('title')"
   ]
  },
  {
   "cell_type": "code",
   "execution_count": 10,
   "id": "2c88b401",
   "metadata": {
    "scrolled": false
   },
   "outputs": [
    {
     "data": {
      "application/vnd.jupyter.widget-view+json": {
       "model_id": "1cdaa37cb21f4759a5bc36e37500f0a2",
       "version_major": 2,
       "version_minor": 0
      },
      "text/plain": [
       "  0%|          | 0/2 [00:00<?, ?it/s]"
      ]
     },
     "metadata": {},
     "output_type": "display_data"
    },
    {
     "name": "stdout",
     "output_type": "stream",
     "text": [
      "[youtube] -ac_PFBbP78: Downloading webpage\n",
      "[youtube] rAmeoNYO9Tc: Downloading webpage\n",
      "[youtube] f2viE-yIfyI: Downloading webpage\n",
      "[youtube] FcfHNtj8EXs: Downloading webpage\n",
      "[youtube] Nn-slZagpJ4: Downloading webpage\n",
      "[youtube] RJpMVB7QxXw: Downloading webpage\n",
      "[youtube] Xbi2B_1hDls: Downloading webpage\n",
      "[youtube] Q2OtJNYoWEc: Downloading webpage\n",
      "[youtube] eowjThUjCHE: Downloading webpage\n",
      "[youtube] wEosKBB91jU: Downloading webpage\n",
      "[youtube] u9gXr-N5uvY: Downloading webpage\n",
      "[youtube] LmrVk4OtvQg: Downloading webpage\n",
      "[youtube] UmxB_oRFKk4: Downloading webpage\n",
      "[youtube] wEq9qdTdR_0: Downloading webpage\n",
      "[youtube] DNQGh3riqsw: Downloading webpage\n",
      "[youtube] 9iq9KjPfDi8: Downloading webpage\n",
      "[youtube] qvvW5fQwjws: Downloading webpage\n",
      "[youtube] AsY-_p4jLQk: Downloading webpage\n",
      "[youtube] y4BjC1Y1RaE: Downloading webpage\n",
      "[youtube] 9ayyxgiMuQ0: Downloading webpage\n"
     ]
    }
   ],
   "source": [
    "import numpy as np\n",
    "import youtube_dl\n",
    "import urllib\n",
    "import urllib.request\n",
    "import re\n",
    "import unidecode\n",
    "from tqdm.autonotebook import tqdm\n",
    "#import pytube\n",
    "import pandas as pd\n",
    "\n",
    "\n",
    "# create an empty dictionnary\n",
    "video_dict = {}\n",
    "\n",
    "inputfile = pd.read_csv('../data/unesco_sites_cleaned.csv',delimiter=';', header= None)\n",
    "for place in tqdm(inputfile[1][:2]):\n",
    "    \n",
    "    # clean string : remove accents\n",
    "    place_clean1 = unidecode.unidecode(place)\n",
    "    # clean string : remove spaces\n",
    "    place_clean2 = place_clean1.replace(' ', '+')\n",
    "    \n",
    "    # add key words \n",
    "    search_words = place_clean2 + \"+drone\"\n",
    "    id_4k = \"&sp=EgJwAQ%253D%253D\"\n",
    "    \n",
    "    # make a request in youtube, store the results in a list\n",
    "    results = []\n",
    "    html = urllib.request.urlopen(\"https://www.youtube.com/results?search_query=\" + search_words + id_4k)\n",
    "    \n",
    "    # store the results\n",
    "    video_ids = re.findall(r\"watch\\?v=(\\S{11})\", html.read().decode())\n",
    "  \n",
    "    for video_id in video_ids:\n",
    "        try:\n",
    "            video_url = 'https://www.youtube.com/watch?v=%s' % video_id  #The Youtube URL\n",
    "            ydl_opts = {}\n",
    "            ydl = youtube_dl.YoutubeDL(ydl_opts)\n",
    "            info_dict = ydl.extract_info(video_url, download=False)\n",
    "            formats = info_dict.get('formats',None)\n",
    "\n",
    "            x = 2160 # HD -> change to 2160 for 4k\n",
    "            keyword = \"drone\"\n",
    "            title = info_dict.get('title')\n",
    "\n",
    "            for f in formats:\n",
    "                height = f.get('height')\n",
    "                if height is not None and height >= x and f.get('filesize') is not None and title.__contains__(keyword):\n",
    "\n",
    "                    print('passed')\n",
    "                    filesize = f.get('filesize')\n",
    "                    video_dict[video_id] =  [place_clean1, info_dict.get('duration'), info_dict.get('title'), info_dict.get('upload_date'), height, filesize ]\n",
    "\n",
    "        except:\n",
    "            pass\n",
    "        \n",
    "    \n",
    "            \n",
    "\n",
    "\n",
    "        \n",
    "    \n",
    "video_df = pd.DataFrame.from_dict(video_dict, orient='index', columns=['place', 'duration', 'title', 'date', 'height', 'filesize'])\n",
    "\n",
    "video_df.to_csv('../data/video_info_2.csv', index_label = 'id')\n"
   ]
  },
  {
   "cell_type": "code",
   "execution_count": null,
   "id": "b5926132",
   "metadata": {},
   "outputs": [],
   "source": [
    "#https://stackoverflow.com/questions/50876292/capture-youtube-video-for-further-processing-without-downloading-the-video"
   ]
  },
  {
   "cell_type": "code",
   "execution_count": null,
   "id": "785e7c9d",
   "metadata": {},
   "outputs": [],
   "source": []
  }
 ],
 "metadata": {
  "kernelspec": {
   "display_name": "Python 3 (ipykernel)",
   "language": "python",
   "name": "python3"
  },
  "language_info": {
   "codemirror_mode": {
    "name": "ipython",
    "version": 3
   },
   "file_extension": ".py",
   "mimetype": "text/x-python",
   "name": "python",
   "nbconvert_exporter": "python",
   "pygments_lexer": "ipython3",
   "version": "3.8.8"
  }
 },
 "nbformat": 4,
 "nbformat_minor": 5
}
