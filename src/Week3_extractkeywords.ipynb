{
 "cells": [
  {
   "cell_type": "code",
   "execution_count": 36,
   "id": "067475f4",
   "metadata": {},
   "outputs": [],
   "source": [
    "import pandas as pd\n",
    "import numpy as np\n",
    "import csv\n",
    "import youtube_dl\n",
    "import urllib\n",
    "import urllib.request\n",
    "import re\n",
    "import unidecode\n",
    "import pafy\n",
    "import pytube\n",
    "from pytube import YouTube"
   ]
  },
  {
   "cell_type": "code",
   "execution_count": 37,
   "id": "9a2458a1",
   "metadata": {},
   "outputs": [
    {
     "name": "stdout",
     "output_type": "stream",
     "text": [
      "Requirement already satisfied: pytube in /home/sdib/anaconda3/envs/dhlab_project/lib/python3.8/site-packages (11.0.1)\n",
      "Note: you may need to restart the kernel to use updated packages.\n"
     ]
    }
   ],
   "source": [
    "pip install pytube"
   ]
  },
  {
   "cell_type": "code",
   "execution_count": 38,
   "id": "af3a7fa5",
   "metadata": {},
   "outputs": [],
   "source": [
    "from __future__ import unicode_literals"
   ]
  },
  {
   "cell_type": "code",
   "execution_count": 39,
   "id": "4efecf2f",
   "metadata": {
    "scrolled": true
   },
   "outputs": [],
   "source": [
    "inputfile = csv.reader(open('unesco_sites.csv','r'), delimiter=';')"
   ]
  },
  {
   "cell_type": "code",
   "execution_count": 40,
   "id": "a84a9923",
   "metadata": {},
   "outputs": [],
   "source": [
    "ydl_opts = {\n",
    "'format': 'bestaudio/best',\n",
    "'outtmpl': 'tmp/%(id)s.%(ext)s',\n",
    "'noplaylist': True,\n",
    "'quiet': True,\n",
    "'prefer_ffmpeg': True,\n",
    "'audioformat': 'wav',\n",
    "'forceduration':True\n",
    "}"
   ]
  },
  {
   "cell_type": "code",
   "execution_count": 61,
   "id": "3bba27dc",
   "metadata": {
    "scrolled": true
   },
   "outputs": [
    {
     "name": "stdout",
     "output_type": "stream",
     "text": [
      "[youtube] OzLrRiJeU1A: Downloading webpage\n"
     ]
    },
    {
     "name": "stderr",
     "output_type": "stream",
     "text": [
      "ERROR: Video unavailable\n"
     ]
    },
    {
     "name": "stdout",
     "output_type": "stream",
     "text": [
      "<pytube.__main__.YouTube object: videoId=OzLrRiJeU1A>\n",
      "Sandra\n",
      "[youtube] OzLrRiJeU1A: Downloading webpage\n"
     ]
    },
    {
     "name": "stderr",
     "output_type": "stream",
     "text": [
      "ERROR: Video unavailable\n"
     ]
    },
    {
     "name": "stdout",
     "output_type": "stream",
     "text": [
      "<pytube.__main__.YouTube object: videoId=OzLrRiJeU1A>\n",
      "Sandra\n",
      "[youtube] OzLrRiJeU1A: Downloading webpage\n"
     ]
    },
    {
     "name": "stderr",
     "output_type": "stream",
     "text": [
      "ERROR: Video unavailable\n"
     ]
    },
    {
     "name": "stdout",
     "output_type": "stream",
     "text": [
      "<pytube.__main__.YouTube object: videoId=OzLrRiJeU1A>\n",
      "Sandra\n",
      "[youtube] OzLrRiJeU1A: Downloading webpage\n"
     ]
    },
    {
     "name": "stderr",
     "output_type": "stream",
     "text": [
      "ERROR: Video unavailable\n"
     ]
    },
    {
     "name": "stdout",
     "output_type": "stream",
     "text": [
      "<pytube.__main__.YouTube object: videoId=OzLrRiJeU1A>\n",
      "Sandra\n",
      "[youtube] OzLrRiJeU1A: Downloading webpage\n"
     ]
    },
    {
     "name": "stderr",
     "output_type": "stream",
     "text": [
      "ERROR: Video unavailable\n"
     ]
    },
    {
     "name": "stdout",
     "output_type": "stream",
     "text": [
      "<pytube.__main__.YouTube object: videoId=OzLrRiJeU1A>\n",
      "Sandra\n",
      "[youtube] OzLrRiJeU1A: Downloading webpage\n"
     ]
    },
    {
     "name": "stderr",
     "output_type": "stream",
     "text": [
      "ERROR: Video unavailable\n"
     ]
    },
    {
     "name": "stdout",
     "output_type": "stream",
     "text": [
      "<pytube.__main__.YouTube object: videoId=OzLrRiJeU1A>\n",
      "Sandra\n",
      "[youtube] OzLrRiJeU1A: Downloading webpage\n"
     ]
    },
    {
     "name": "stderr",
     "output_type": "stream",
     "text": [
      "ERROR: Video unavailable\n"
     ]
    },
    {
     "name": "stdout",
     "output_type": "stream",
     "text": [
      "<pytube.__main__.YouTube object: videoId=OzLrRiJeU1A>\n",
      "Sandra\n",
      "[youtube] OzLrRiJeU1A: Downloading webpage\n"
     ]
    },
    {
     "name": "stderr",
     "output_type": "stream",
     "text": [
      "ERROR: Video unavailable\n"
     ]
    },
    {
     "name": "stdout",
     "output_type": "stream",
     "text": [
      "<pytube.__main__.YouTube object: videoId=OzLrRiJeU1A>\n",
      "Sandra\n",
      "[youtube] OzLrRiJeU1A: Downloading webpage\n"
     ]
    },
    {
     "name": "stderr",
     "output_type": "stream",
     "text": [
      "ERROR: Video unavailable\n"
     ]
    },
    {
     "name": "stdout",
     "output_type": "stream",
     "text": [
      "<pytube.__main__.YouTube object: videoId=OzLrRiJeU1A>\n",
      "Sandra\n",
      "[youtube] OzLrRiJeU1A: Downloading webpage\n"
     ]
    },
    {
     "name": "stderr",
     "output_type": "stream",
     "text": [
      "ERROR: Video unavailable\n"
     ]
    },
    {
     "name": "stdout",
     "output_type": "stream",
     "text": [
      "<pytube.__main__.YouTube object: videoId=OzLrRiJeU1A>\n",
      "Sandra\n"
     ]
    }
   ],
   "source": [
    "# create an empty dictionnary\n",
    "video_dict = {}\n",
    "\n",
    "# open the csv file \n",
    "inputfile = csv.reader(open('test.csv','r'), delimiter=';')\n",
    "\n",
    "# read line by line\n",
    "for row in inputfile:\n",
    "\n",
    "    # get second column (names of places)\n",
    "    place = row[0]\n",
    "    \n",
    "    # clean string : remove accents\n",
    "    place_clean1 = unidecode.unidecode(place)\n",
    "    # clean string : remove spaces\n",
    "    place_clean2 = place_clean1.replace(' ', '+')\n",
    "    \n",
    "    # add key words \n",
    "    search_words = place_clean2 + \"+drone\"\n",
    "    \n",
    "    # make a request in youtube, store the results in a list\n",
    "    results = []\n",
    "    html = urllib.request.urlopen(\"https://www.youtube.com/results?search_query=\" + search_words)\n",
    "    \n",
    "    \n",
    "    # store the results\n",
    "    video_ids = re.findall(r\"watch\\?v=(\\S{11})\", html.read().decode())\n",
    "    \n",
    "\n",
    "   # for each video id, find also the duration and title of the video\n",
    "    durations = []\n",
    "    titles = []\n",
    "    dates = []\n",
    "    \n",
    "    for video_id in video_ids[:10]:\n",
    "        video_id = \"OzLrRiJeU1A\"\n",
    "        ydl_opts = {'ignoreerrors': True}\n",
    "        with youtube_dl.YoutubeDL(ydl_opts) as ydl:\n",
    "            dictMeta = ydl.extract_info(\"https://www.youtube.com/watch?v=%s\" % video_id, download=False)\n",
    "            try: \n",
    "                myVideo = YouTube(\"https://www.youtube.com/watch?v=%s\" % video_id)\n",
    "                print(myVideo)\n",
    "            \n",
    "\n",
    "                if (myVideo.streams.filter(res=\"720p\").first() != None or myVideo.streams.filter(res=\"2160p\").first()):\n",
    "                    if not myVideo.age_restricted:\n",
    "                        print(myVideo.streams.filter(res=\"720p\").first())\n",
    "                        if dictMeta != None:\n",
    "                            durations.append(dictMeta['duration'])\n",
    "                            titles.append(dictMeta['title'])\n",
    "                            dates.append(dictMeta['upload_date'])\n",
    "                else:\n",
    "                    print(\"Sandra\")\n",
    "                    print(myVideo.streams.filter(res=\"2160p\").first())\n",
    "            except Exception as e:\n",
    "                print(\"Sandra\")\n",
    "                pass \n",
    "        \n",
    "        video_dict.update({place : [video_id, durations, titles, dates]})\n",
    "    "
   ]
  },
  {
   "cell_type": "code",
   "execution_count": 7,
   "id": "db9d60ba",
   "metadata": {},
   "outputs": [
    {
     "name": "stdout",
     "output_type": "stream",
     "text": [
      "Requirement already satisfied: youtube-search-python in /home/sdib/anaconda3/envs/dhlab_project/lib/python3.8/site-packages (1.4.9)\n",
      "Requirement already satisfied: httpx in /home/sdib/anaconda3/envs/dhlab_project/lib/python3.8/site-packages (from youtube-search-python) (0.19.0)\n",
      "Requirement already satisfied: rfc3986[idna2008]<2,>=1.3 in /home/sdib/anaconda3/envs/dhlab_project/lib/python3.8/site-packages (from httpx->youtube-search-python) (1.5.0)\n",
      "Requirement already satisfied: httpcore<0.14.0,>=0.13.3 in /home/sdib/anaconda3/envs/dhlab_project/lib/python3.8/site-packages (from httpx->youtube-search-python) (0.13.7)\n",
      "Requirement already satisfied: sniffio in /home/sdib/anaconda3/envs/dhlab_project/lib/python3.8/site-packages (from httpx->youtube-search-python) (1.2.0)\n",
      "Requirement already satisfied: charset-normalizer in /home/sdib/anaconda3/envs/dhlab_project/lib/python3.8/site-packages (from httpx->youtube-search-python) (2.0.6)\n",
      "Requirement already satisfied: certifi in /home/sdib/anaconda3/envs/dhlab_project/lib/python3.8/site-packages (from httpx->youtube-search-python) (2021.5.30)\n",
      "Requirement already satisfied: h11<0.13,>=0.11 in /home/sdib/anaconda3/envs/dhlab_project/lib/python3.8/site-packages (from httpcore<0.14.0,>=0.13.3->httpx->youtube-search-python) (0.12.0)\n",
      "Requirement already satisfied: anyio==3.* in /home/sdib/anaconda3/envs/dhlab_project/lib/python3.8/site-packages (from httpcore<0.14.0,>=0.13.3->httpx->youtube-search-python) (3.3.2)\n",
      "Requirement already satisfied: idna>=2.8 in /home/sdib/anaconda3/envs/dhlab_project/lib/python3.8/site-packages (from anyio==3.*->httpcore<0.14.0,>=0.13.3->httpx->youtube-search-python) (3.2)\n",
      "Note: you may need to restart the kernel to use updated packages.\n"
     ]
    }
   ],
   "source": [
    "pip install youtube-search-python\n"
   ]
  },
  {
   "cell_type": "code",
   "execution_count": null,
   "id": "21258c80",
   "metadata": {},
   "outputs": [],
   "source": []
  },
  {
   "cell_type": "code",
   "execution_count": 8,
   "id": "770a9f97",
   "metadata": {},
   "outputs": [],
   "source": [
    "import subprocess"
   ]
  },
  {
   "cell_type": "code",
   "execution_count": 9,
   "id": "d9905258",
   "metadata": {},
   "outputs": [],
   "source": [
    "#youtube dl -f 'bestvideo[height<=480]+bestaudio/best[height<=480]'"
   ]
  },
  {
   "cell_type": "code",
   "execution_count": 10,
   "id": "eebccad1",
   "metadata": {},
   "outputs": [],
   "source": [
    "#mkdir /config/youtube-dl\n",
    "#echo \"f 'bestvideo[height<=720]+bestaudio/best[height<=720]'\" >> ~/config/youtube-dl/config\n"
   ]
  },
  {
   "cell_type": "code",
   "execution_count": 21,
   "id": "01517adf",
   "metadata": {},
   "outputs": [
    {
     "ename": "SyntaxError",
     "evalue": "invalid syntax (2160084236.py, line 1)",
     "output_type": "error",
     "traceback": [
      "\u001b[0;36m  File \u001b[0;32m\"/tmp/ipykernel_40951/2160084236.py\"\u001b[0;36m, line \u001b[0;32m1\u001b[0m\n\u001b[0;31m    -f 'bestvideo[height<=480]+bestaudio/best[height<=480]'\u001b[0m\n\u001b[0m       ^\u001b[0m\n\u001b[0;31mSyntaxError\u001b[0m\u001b[0;31m:\u001b[0m invalid syntax\n"
     ]
    }
   ],
   "source": [
    "command = \"-f 'bestvideo[height<=480]+bestaudio/best[height<=480]'"
   ]
  },
  {
   "cell_type": "code",
   "execution_count": 12,
   "id": "36fcb425",
   "metadata": {},
   "outputs": [],
   "source": [
    "youtube-dl -f 137+141 https://www.youtube.com/watch\\?v\\=-pxRXP3w-sQ"
   ]
  },
  {
   "cell_type": "code",
   "execution_count": 30,
   "id": "73cab0a3",
   "metadata": {},
   "outputs": [],
   "source": [
    "command1 = \"-f bestvideo[height=2160]\""
   ]
  },
  {
   "cell_type": "code",
   "execution_count": 31,
   "id": "2e65be9c",
   "metadata": {},
   "outputs": [],
   "source": [
    "result1 = subprocess.run(command1, shell=True, capture_output=True, text=True)"
   ]
  },
  {
   "cell_type": "code",
   "execution_count": 34,
   "id": "5c344dcc",
   "metadata": {},
   "outputs": [
    {
     "name": "stdout",
     "output_type": "stream",
     "text": [
      "CompletedProcess(args='-f bestvideo[height=2160]', returncode=2, stdout='', stderr='/bin/sh: 0: Illegal option - \\n')\n"
     ]
    }
   ],
   "source": [
    "print(result1)"
   ]
  },
  {
   "cell_type": "code",
   "execution_count": 32,
   "id": "8439c577",
   "metadata": {},
   "outputs": [],
   "source": [
    "command2 = \"-f bestvideo[height=720]\""
   ]
  },
  {
   "cell_type": "code",
   "execution_count": 33,
   "id": "26b58e33",
   "metadata": {},
   "outputs": [],
   "source": [
    "result2 = subprocess.run(command1, shell=True, capture_output=True, text=True)"
   ]
  },
  {
   "cell_type": "code",
   "execution_count": 115,
   "id": "cd413c84",
   "metadata": {},
   "outputs": [
    {
     "data": {
      "text/plain": [
       "str"
      ]
     },
     "execution_count": 115,
     "metadata": {},
     "output_type": "execute_result"
    }
   ],
   "source": [
    "type(result.stdout)"
   ]
  },
  {
   "cell_type": "code",
   "execution_count": 121,
   "id": "b8f5bdb3",
   "metadata": {},
   "outputs": [
    {
     "name": "stdout",
     "output_type": "stream",
     "text": [
      "[youtube] U0InulJD86I: Downloading webpage\n",
      "[info] Available formats for U0InulJD86I:\n",
      "format code  extension  resolution note\n",
      "249          webm       audio only tiny   51k , webm_dash container, opus @ 51k (48000Hz), 4.04MiB\n",
      "250          webm       audio only tiny   63k , webm_dash container, opus @ 63k (48000Hz), 5.00MiB\n",
      "251          webm       audio only tiny  114k , webm_dash container, opus @114k (48000Hz), 9.03MiB\n",
      "140          m4a        audio only tiny  129k , m4a_dash container, mp4a.40.2@129k (44100Hz), 10.25MiB\n",
      "278          webm       256x144    144p   77k , webm_dash container, vp9@  77k, 30fps, video only, 6.10MiB\n",
      "160          mp4        256x144    144p   85k , mp4_dash container, avc1.4d400c@  85k, 30fps, video only, 6.73MiB\n",
      "242          webm       426x240    240p  143k , webm_dash container, vp9@ 143k, 30fps, video only, 11.38MiB\n",
      "133          mp4        426x240    240p  195k , mp4_dash container, avc1.4d4015@ 195k, 30fps, video only, 15.44MiB\n",
      "243          webm       640x360    360p  256k , webm_dash container, vp9@ 256k, 30fps, video only, 20.31MiB\n",
      "134          mp4        640x360    360p  391k , mp4_dash container, avc1.4d401e@ 391k, 30fps, video only, 31.02MiB\n",
      "244          webm       854x480    480p  439k , webm_dash container, vp9@ 439k, 30fps, video only, 34.79MiB\n",
      "135          mp4        854x480    480p  722k , mp4_dash container, avc1.4d401f@ 722k, 30fps, video only, 57.20MiB\n",
      "247          webm       1280x720   720p  825k , webm_dash container, vp9@ 825k, 30fps, video only, 65.38MiB\n",
      "136          mp4        1280x720   720p 1381k , mp4_dash container, avc1.64001f@1381k, 30fps, video only, 109.34MiB\n",
      "248          webm       1920x1080  1080p 1336k , webm_dash container, vp9@1336k, 30fps, video only, 105.80MiB\n",
      "137          mp4        1920x1080  1080p 2611k , mp4_dash container, avc1.640028@2611k, 30fps, video only, 206.73MiB\n",
      "271          webm       2560x1440  1440p 4086k , webm_dash container, vp9@4086k, 30fps, video only, 323.45MiB\n",
      "313          webm       3840x2160  2160p 7626k , webm_dash container, vp9@7626k, 30fps, video only, 603.64MiB\n",
      "18           mp4        640x360    360p  501k , avc1.42001E, 30fps, mp4a.40.2 (44100Hz), 39.74MiB\n",
      "22           mp4        1280x720   720p 1866k , avc1.64001F, 30fps, mp4a.40.2 (44100Hz) (best)\n",
      "\n"
     ]
    }
   ],
   "source": [
    "print(result.stdout)"
   ]
  },
  {
   "cell_type": "code",
   "execution_count": 60,
   "id": "0cc60d29",
   "metadata": {},
   "outputs": [
    {
     "name": "stdout",
     "output_type": "stream",
     "text": [
      "{'place,id,duration,title,date': [['C0sM8rIprow', 'kpwRRdxXiMk', '546lkP6vBUg', 'e_A3bAm4r10', '5luR20Di9EY', 'JuSJQZDRjeE', 'Fy5npfJNbv8', 'Dj_2JT2v0J0', 'fadrfhG_tWU', 'RIjrchogCrs', 'E_1AuU27Vn4', '1DzTWu9riLs', 'KwfD6Ybb5SU', '-dtzEA2Y36s', 'OF7SU-bm_IU', 'CqxjzfudGAc', 'U1H4sys4nmA', 'MCBXKITOGo4', 'D_a3_15Vgrs', 'aAEdCAm7DDA', 'orJSJGHjBLI', 'kTJczUoc26U', 'NJ3Z1hSOoMc', 'gUNHSsXDdjM', 's2i7x-ycoh0', 'rdC22G4HC3g', 'Ok5x_6aWRqA', 'UQyd0jsGx2M', '4MMdJHYHoiA', 'vmd8SS1F7d0'], [], [], []]}\n"
     ]
    }
   ],
   "source": [
    "print(video_dict)"
   ]
  },
  {
   "cell_type": "code",
   "execution_count": 84,
   "id": "87347b7f",
   "metadata": {},
   "outputs": [
    {
     "name": "stdout",
     "output_type": "stream",
     "text": [
      "{'result': [{'type': 'video', 'id': 'n-AFjDVcIZg', 'title': 'Edit Id Card, Mark Sheets and Documents in Photoshop with Practical Examples | English Language', 'publishedTime': '7 months ago', 'duration': '15:20', 'viewCount': {'text': '102,148 views', 'short': '102K views'}, 'thumbnails': [{'url': 'https://i.ytimg.com/vi/n-AFjDVcIZg/hq720.jpg?sqp=-oaymwEcCOgCEMoBSFXyq4qpAw4IARUAAIhCGAFwAcABBg==&rs=AOn4CLAzbA2UMF_6-VElE6k0hTRQRgr6Zw', 'width': 360, 'height': 202}, {'url': 'https://i.ytimg.com/vi/n-AFjDVcIZg/hq720.jpg?sqp=-oaymwEcCNAFEJQDSFXyq4qpAw4IARUAAIhCGAFwAcABBg==&rs=AOn4CLCJayGa39PeWdYrSjJgTXfGw7O3LQ', 'width': 720, 'height': 404}], 'richThumbnail': {'url': 'https://i.ytimg.com/an_webp/n-AFjDVcIZg/mqdefault_6s.webp?du=3000&sqp=CLDT-4oG&rs=AOn4CLB_vyI0dpOjLXZcIW3v3zxxCG9CkA', 'width': 320, 'height': 180}, 'descriptionSnippet': [{'text': 'This Video is for Educational Purpose Timeline is given Below:- 1:00\\u200b min – 8:30\\u200b min '}, {'text': 'ID', 'bold': True}, {'text': ' Card Editing 8:30\\u200b min – 11:20\\u200b min\\xa0...'}], 'channel': {'name': 'Innovative Codes', 'id': 'UCufj5LvjzN23kIGxzw_W14A', 'thumbnails': [{'url': 'https://yt3.ggpht.com/ytc/AKedOLRduDL5b4DbU4h1gIzZRAeotRq5krzt6S3W4jgm-g=s68-c-k-c0x00ffffff-no-rj', 'width': 68, 'height': 68}], 'link': 'https://www.youtube.com/channel/UCufj5LvjzN23kIGxzw_W14A'}, 'accessibility': {'title': 'Edit Id Card, Mark Sheets and Documents in Photoshop with Practical Examples | English Language by Innovative Codes 7 months ago 15 minutes 102,148 views', 'duration': '15 minutes, 20 seconds'}, 'link': 'https://www.youtube.com/watch?v=n-AFjDVcIZg', 'shelfTitle': None}, {'type': 'video', 'id': 'Q4D7SRPuOkA', 'title': 'DEG DEG Rooble Oo Amniga Doorashada Ku Wareejiyey Fahad Yasin, Farmajo Oo Helay Fursad Lama Filaan A', 'publishedTime': '4 hours ago', 'duration': '11:41', 'viewCount': {'text': '10,740 views', 'short': '10K views'}, 'thumbnails': [{'url': 'https://i.ytimg.com/vi/Q4D7SRPuOkA/hq720.jpg?sqp=-oaymwEcCOgCEMoBSFXyq4qpAw4IARUAAIhCGAFwAcABBg==&rs=AOn4CLDvytaMtabvu6RYyXfHFMk1Ys3d5Q', 'width': 360, 'height': 202}, {'url': 'https://i.ytimg.com/vi/Q4D7SRPuOkA/hq720.jpg?sqp=-oaymwEcCNAFEJQDSFXyq4qpAw4IARUAAIhCGAFwAcABBg==&rs=AOn4CLBfLlh86eP-G-294eC96pOQuiva7g', 'width': 720, 'height': 404}], 'richThumbnail': {'url': 'https://i.ytimg.com/an_webp/Q4D7SRPuOkA/mqdefault_6s.webp?du=3000&sqp=COC0-4oG&rs=AOn4CLAA_23eIhwWMAYZ5Qwt3MTLo7PdPQ', 'width': 320, 'height': 180}, 'descriptionSnippet': [{'text': 'Item '}, {'text': 'Title', 'bold': True}, {'text': ': News Item URL: https://elements.envato.com/news-V2UJTZQ Item '}, {'text': 'ID', 'bold': True}, {'text': ': V2UJTZQ Author Username: MusicalSmile\\xa0...'}], 'channel': {'name': 'WADDANKA TV', 'id': 'UCI0sz1-w9Mo-SQ0AFQ7ZuUQ', 'thumbnails': [{'url': 'https://yt3.ggpht.com/ytc/AKedOLQfWC-PLkEyBTMwwLFrwGNxoGNq53rZ6l17_eO4sA=s68-c-k-c0x00ffffff-no-rj', 'width': 68, 'height': 68}], 'link': 'https://www.youtube.com/channel/UCI0sz1-w9Mo-SQ0AFQ7ZuUQ'}, 'accessibility': {'title': 'DEG DEG Rooble Oo Amniga Doorashada Ku Wareejiyey Fahad Yasin, Farmajo Oo Helay Fursad Lama Filaan A by WADDANKA TV 4 hours ago 11 minutes, 41 seconds 10,740 views', 'duration': '11 minutes, 41 seconds'}, 'link': 'https://www.youtube.com/watch?v=Q4D7SRPuOkA', 'shelfTitle': None}, {'type': 'video', 'id': 'hZN1hhqXHMk', 'title': 'DUBAI SHOPPING unboxing || See what I got! || Ashtrixx', 'publishedTime': '1 hour ago', 'duration': '27:21', 'viewCount': {'text': '16,719 views', 'short': '16K views'}, 'thumbnails': [{'url': 'https://i.ytimg.com/vi/hZN1hhqXHMk/hq720.jpg?sqp=-oaymwEcCOgCEMoBSFXyq4qpAw4IARUAAIhCGAFwAcABBg==&rs=AOn4CLCnIZBCvetOqqHeRInOLUcFk8RbDQ', 'width': 360, 'height': 202}, {'url': 'https://i.ytimg.com/vi/hZN1hhqXHMk/hq720.jpg?sqp=-oaymwEcCNAFEJQDSFXyq4qpAw4IARUAAIhCGAFwAcABBg==&rs=AOn4CLC3aVvatYZkHWzbH_oUgPN4nXkOyQ', 'width': 720, 'height': 404}], 'richThumbnail': {'url': 'https://i.ytimg.com/an_webp/hZN1hhqXHMk/mqdefault_6s.webp?du=3000&sqp=COml-4oG&rs=AOn4CLDmx3RbgqhqY5rAAcqcDFKAYXsHBA', 'width': 320, 'height': 180}, 'descriptionSnippet': [{'text': 'dubai #shopping #unboxing Salcylic acid patches are amazing to reduce redness instantly! Try them here -: The Derma Co\\xa0...'}], 'channel': {'name': 'Ashtrixx', 'id': 'UCXsOq3SXWaSxeE7zNK9FgYA', 'thumbnails': [{'url': 'https://yt3.ggpht.com/ytc/AKedOLQ3ZCOTpViRwBKZjAfo4tW7GeZswhdz6QART129=s68-c-k-c0x00ffffff-no-rj', 'width': 68, 'height': 68}], 'link': 'https://www.youtube.com/channel/UCXsOq3SXWaSxeE7zNK9FgYA'}, 'accessibility': {'title': 'DUBAI SHOPPING unboxing || See what I got! || Ashtrixx by Ashtrixx 1 hour ago 27 minutes 16,719 views', 'duration': '27 minutes, 21 seconds'}, 'link': 'https://www.youtube.com/watch?v=hZN1hhqXHMk', 'shelfTitle': None}, {'type': 'video', 'id': 'WPdWvnAAurg', 'title': \"aespa 에스파 'Savage' MV\", 'publishedTime': '2 days ago', 'duration': '4:19', 'viewCount': {'text': '47,518,017 views', 'short': '47M views'}, 'thumbnails': [{'url': 'https://i.ytimg.com/vi/WPdWvnAAurg/hq720.jpg?sqp=-oaymwEcCOgCEMoBSFXyq4qpAw4IARUAAIhCGAFwAcABBg==&rs=AOn4CLA5ucLSXgBJHa-Sve5PjqHY3VFDjw', 'width': 360, 'height': 202}, {'url': 'https://i.ytimg.com/vi/WPdWvnAAurg/hq720.jpg?sqp=-oaymwEcCNAFEJQDSFXyq4qpAw4IARUAAIhCGAFwAcABBg==&rs=AOn4CLDBlTLqGDw0hsDsWxycGmQNmlv2Fw', 'width': 720, 'height': 404}], 'richThumbnail': {'url': 'https://i.ytimg.com/an_webp/WPdWvnAAurg/mqdefault_6s.webp?du=3000&sqp=CJjH-4oG&rs=AOn4CLDcIeW9DmC8DvVUl8T9OI_xKYEsBw', 'width': 320, 'height': 180}, 'descriptionSnippet': [{'text': 'aespa\\'s 1st mini album \"Savage\" is out! Listen and download on your favorite platform: https://smarturl.it/ae_Savage [Tracklist] 01\\xa0...'}], 'channel': {'name': 'SMTOWN', 'id': 'UCEf_Bc-KVd7onSeifS3py9g', 'thumbnails': [{'url': 'https://yt3.ggpht.com/ytc/AKedOLSXEKHwjY8vsYiHiuythAqiZmKkktXucDF978zaow4=s68-c-k-c0x00ffffff-no-rj', 'width': 68, 'height': 68}], 'link': 'https://www.youtube.com/channel/UCEf_Bc-KVd7onSeifS3py9g'}, 'accessibility': {'title': \"aespa 에스파 'Savage' MV by SMTOWN 2 days ago 4 minutes, 19 seconds 47,518,017 views\", 'duration': '4 minutes, 19 seconds'}, 'link': 'https://www.youtube.com/watch?v=WPdWvnAAurg', 'shelfTitle': None}, {'type': 'video', 'id': 'm-M1AtrxztU', 'title': 'Clean Bandit - Rather Be ft. Jess Glynne [Official Video]', 'publishedTime': '7 years ago', 'duration': '4:29', 'viewCount': {'text': '655,221,905 views', 'short': '655M views'}, 'thumbnails': [{'url': 'https://i.ytimg.com/vi/m-M1AtrxztU/hq720.jpg?sqp=-oaymwEcCOgCEMoBSFXyq4qpAw4IARUAAIhCGAFwAcABBg==&rs=AOn4CLCYINExpvDr1ENe-DWEkt1pxG2N-w', 'width': 360, 'height': 202}, {'url': 'https://i.ytimg.com/vi/m-M1AtrxztU/hq720.jpg?sqp=-oaymwEcCNAFEJQDSFXyq4qpAw4IARUAAIhCGAFwAcABBg==&rs=AOn4CLAyK_59a_54DHYWIjwO_8QsbwAG5w', 'width': 720, 'height': 404}], 'richThumbnail': {'url': 'https://i.ytimg.com/an_webp/m-M1AtrxztU/mqdefault_6s.webp?du=3000&sqp=CKzL-4oG&rs=AOn4CLDw7xaF03-rx7Ba6I0H6Pswlb0k3A', 'width': 320, 'height': 180}, 'descriptionSnippet': [{'text': 'Download or stream our new single Tick Tock with Mabel ft. 24kGoldn: https://cleanbandit.lnk.to/TickTock Download or stream our\\xa0...'}], 'channel': {'name': 'Clean Bandit', 'id': 'UCvhQPdeTHzIRneScV8MIocg', 'thumbnails': [{'url': 'https://yt3.ggpht.com/FKUkrslGErLkesB0nSWEWL8cgtVawEnBssCeYUpPbfCZ1hb5piPf2qSmJtoDv4zRMrrvgxgQJA=s88-c-k-c0x00ffffff-no-rj', 'width': 68, 'height': 68}], 'link': 'https://www.youtube.com/channel/UCvhQPdeTHzIRneScV8MIocg'}, 'accessibility': {'title': 'Clean Bandit - Rather Be ft. Jess Glynne [Official Video] by Clean Bandit 7 years ago 4 minutes, 29 seconds 655,221,905 views', 'duration': '4 minutes, 29 seconds'}, 'link': 'https://www.youtube.com/watch?v=m-M1AtrxztU', 'shelfTitle': None}, {'type': 'video', 'id': 'jUjDcqdvCrk', 'title': 'Clean Bandit - Rather Be (Lyrics) feat. Jess Glynne', 'publishedTime': '1 year ago', 'duration': '3:48', 'viewCount': {'text': '16,374,467 views', 'short': '16M views'}, 'thumbnails': [{'url': 'https://i.ytimg.com/vi/jUjDcqdvCrk/hq720.jpg?sqp=-oaymwEcCOgCEMoBSFXyq4qpAw4IARUAAIhCGAFwAcABBg==&rs=AOn4CLAzMHuhgOZqLpDr-QYqUUifHIZSLQ', 'width': 360, 'height': 202}, {'url': 'https://i.ytimg.com/vi/jUjDcqdvCrk/hq720.jpg?sqp=-oaymwEcCNAFEJQDSFXyq4qpAw4IARUAAIhCGAFwAcABBg==&rs=AOn4CLBiDuRqgX-G3SZJdxsdFbVapanbuA', 'width': 720, 'height': 404}], 'richThumbnail': {'url': 'https://i.ytimg.com/an_webp/jUjDcqdvCrk/mqdefault_6s.webp?du=3000&sqp=CNfV-4oG&rs=AOn4CLClIuWMTBxBHv-HcXTT4sMyEKYHrQ', 'width': 320, 'height': 180}, 'descriptionSnippet': [{'text': \"......... Lyrics: Clean Bandit - Rather Be (Lyrics) feat. Jess Glynne Oh, Woah, Ooh, ooh We're a thousand miles from comfort, we\\xa0...\"}], 'channel': {'name': '7clouds', 'id': 'UCNqFDjYTexJDET3rPDrmJKg', 'thumbnails': [{'url': 'https://yt3.ggpht.com/ytc/AKedOLS47SGZoq9qhTlM6ANNiXN5I3sUcV4_owFydPkU=s68-c-k-c0x00ffffff-no-rj', 'width': 68, 'height': 68}], 'link': 'https://www.youtube.com/channel/UCNqFDjYTexJDET3rPDrmJKg'}, 'accessibility': {'title': 'Clean Bandit - Rather Be (Lyrics) feat. Jess Glynne by 7clouds 1 year ago 3 minutes, 48 seconds 16,374,467 views', 'duration': '3 minutes, 48 seconds'}, 'link': 'https://www.youtube.com/watch?v=jUjDcqdvCrk', 'shelfTitle': None}, {'type': 'video', 'id': 'krfcq5pF8u8', 'title': '13TH | FULL FEATURE | Netflix', 'publishedTime': '1 year ago', 'duration': '1:40:03', 'viewCount': {'text': '10,949,443 views', 'short': '10M views'}, 'thumbnails': [{'url': 'https://i.ytimg.com/vi/krfcq5pF8u8/hq720.jpg?sqp=-oaymwEcCOgCEMoBSFXyq4qpAw4IARUAAIhCGAFwAcABBg==&rs=AOn4CLD18L-C7cFu9JE0sW7ZX0IcLkvLPA', 'width': 360, 'height': 202}, {'url': 'https://i.ytimg.com/vi/krfcq5pF8u8/hq720.jpg?sqp=-oaymwEcCNAFEJQDSFXyq4qpAw4IARUAAIhCGAFwAcABBg==&rs=AOn4CLDmzvd13AmwfrZc1diRe_fz2w9eFA', 'width': 720, 'height': 404}], 'richThumbnail': {'url': 'https://i.ytimg.com/an_webp/krfcq5pF8u8/mqdefault_6s.webp?du=3000&sqp=CIfe-4oG&rs=AOn4CLAVOIhSfxtSPcDgiUKZ4TvA2myORA', 'width': 320, 'height': 180}, 'descriptionSnippet': [{'text': \"Combining archival footage with testimony from activists and scholars, director Ava DuVernay's examination of the U.S. prison\\xa0...\"}], 'channel': {'name': 'Netflix', 'id': 'UCWOA1ZGywLbqmigxE4Qlvuw', 'thumbnails': [{'url': 'https://yt3.ggpht.com/ytc/AKedOLSIL-3Y7k9QAFE2MKEtPe5I4gmTdJ5dCyxFH-sxbg=s68-c-k-c0x00ffffff-no-rj', 'width': 68, 'height': 68}], 'link': 'https://www.youtube.com/channel/UCWOA1ZGywLbqmigxE4Qlvuw'}, 'accessibility': {'title': '13TH | FULL FEATURE | Netflix by Netflix 1 year ago 1 hour, 40 minutes 10,949,443 views', 'duration': '1 hour, 40 minutes, 3 seconds'}, 'link': 'https://www.youtube.com/watch?v=krfcq5pF8u8', 'shelfTitle': None}, {'type': 'video', 'id': '8g18jFHCLXk', 'title': 'Dune | Official Main Trailer', 'publishedTime': '2 months ago', 'duration': '3:28', 'viewCount': {'text': '20,782,008 views', 'short': '20M views'}, 'thumbnails': [{'url': 'https://i.ytimg.com/vi/8g18jFHCLXk/hq720.jpg?sqp=-oaymwEcCOgCEMoBSFXyq4qpAw4IARUAAIhCGAFwAcABBg==&rs=AOn4CLAqwvzFkCZvXsZBbDaWPCm94Lr8kQ', 'width': 360, 'height': 202}, {'url': 'https://i.ytimg.com/vi/8g18jFHCLXk/hq720.jpg?sqp=-oaymwEcCNAFEJQDSFXyq4qpAw4IARUAAIhCGAFwAcABBg==&rs=AOn4CLCUwwmyQAXfIaLLPpaJM0TYz7xfAw', 'width': 720, 'height': 404}], 'richThumbnail': {'url': 'https://i.ytimg.com/an_webp/8g18jFHCLXk/mqdefault_6s.webp?du=3000&sqp=CJak-4oG&rs=AOn4CLByX43vzqrCgdaR6sfKZhe-OBDeCQ', 'width': 320, 'height': 180}, 'descriptionSnippet': [{'text': \"IT'S \"}, {'text': 'TIME', 'bold': True}, {'text': '. #DuneMovie coming October 22. ----------------- https://www.instagram.com/dunemovie/ https://www.facebook.com/dune\\xa0...'}], 'channel': {'name': 'Warner Bros. Pictures', 'id': 'UCjmJDM5pRKbUlVIzDYYWb6g', 'thumbnails': [{'url': 'https://yt3.ggpht.com/ytc/AKedOLRF9_MOYUXfJ-8Bxknj0YSma7RNmZ6TU9jInnpxvg=s68-c-k-c0x00ffffff-no-rj', 'width': 68, 'height': 68}], 'link': 'https://www.youtube.com/channel/UCjmJDM5pRKbUlVIzDYYWb6g'}, 'accessibility': {'title': 'Dune | Official Main Trailer by Warner Bros. Pictures 2 months ago 3 minutes, 28 seconds 20,782,008 views', 'duration': '3 minutes, 28 seconds'}, 'link': 'https://www.youtube.com/watch?v=8g18jFHCLXk', 'shelfTitle': None}, {'type': 'video', 'id': 'K7l5ZeVVoCA', 'title': \"blink-182 - What's My Age Again? (Official Music Video)\", 'publishedTime': '12 years ago', 'duration': '2:27', 'viewCount': {'text': '84,018,451 views', 'short': '84M views'}, 'thumbnails': [{'url': 'https://i.ytimg.com/vi/K7l5ZeVVoCA/hq720.jpg?sqp=-oaymwEcCOgCEMoBSFXyq4qpAw4IARUAAIhCGAFwAcABBg==&rs=AOn4CLDlW7FJmbpunylqo3E2aSuvBK6iOw', 'width': 360, 'height': 202}, {'url': 'https://i.ytimg.com/vi/K7l5ZeVVoCA/hq720.jpg?sqp=-oaymwEcCNAFEJQDSFXyq4qpAw4IARUAAIhCGAFwAcABBg==&rs=AOn4CLDrJve84vu-svZEOIFlavY4WtFM3g', 'width': 720, 'height': 404}], 'richThumbnail': {'url': 'https://i.ytimg.com/an_webp/K7l5ZeVVoCA/mqdefault_6s.webp?du=3000&sqp=COC0-4oG&rs=AOn4CLB8z3GZ_qV3WpVmHlc0Vm_8rJuidQ', 'width': 320, 'height': 180}, 'descriptionSnippet': [{'text': \"Music video by blink-182 performing What's My Age Again?. (C) 2000 Geffen Records #Blink182 #WhatsMyAgeAgain\\xa0...\"}], 'channel': {'name': 'blink-182', 'id': 'UCdvlHk5SZWwr9HjUcwtu8ng', 'thumbnails': [{'url': 'https://yt3.ggpht.com/ytc/AKedOLS9wSSSch2T5RCOqeWes0CQPq6CuE7n6BH6SGqp9g=s88-c-k-c0x00ffffff-no-rj', 'width': 68, 'height': 68}], 'link': 'https://www.youtube.com/channel/UCdvlHk5SZWwr9HjUcwtu8ng'}, 'accessibility': {'title': \"blink-182 - What's My Age Again? (Official Music Video) by blink-182 12 years ago 2 minutes, 27 seconds 84,018,451 views\", 'duration': '2 minutes, 27 seconds'}, 'link': 'https://www.youtube.com/watch?v=K7l5ZeVVoCA', 'shelfTitle': None}, {'type': 'video', 'id': 'GukIoZ8d3Ew', 'title': 'Why Life Jackets Should Be Mandatory!', 'publishedTime': '4 days ago', 'duration': '5:39', 'viewCount': {'text': '1,170,725 views', 'short': '1.1M views'}, 'thumbnails': [{'url': 'https://i.ytimg.com/vi/GukIoZ8d3Ew/hq720.jpg?sqp=-oaymwEcCOgCEMoBSFXyq4qpAw4IARUAAIhCGAFwAcABBg==&rs=AOn4CLA11PDd9lGMcP4_hSfjbqhUtQy1hw', 'width': 360, 'height': 202}, {'url': 'https://i.ytimg.com/vi/GukIoZ8d3Ew/hq720.jpg?sqp=-oaymwEcCNAFEJQDSFXyq4qpAw4IARUAAIhCGAFwAcABBg==&rs=AOn4CLB2_6JW3cF0b3qls3sxmVaf2xHj3g', 'width': 720, 'height': 404}], 'richThumbnail': {'url': 'https://i.ytimg.com/an_webp/GukIoZ8d3Ew/mqdefault_6s.webp?du=3000&sqp=CMS3-4oG&rs=AOn4CLCmvnS3bfIp4PoAEtNpC_zPR9QXvg', 'width': 320, 'height': 180}, 'descriptionSnippet': [{'text': 'Grab your Blood Sugar Breakthrough at https://bloodsugarbreakthrough.health/jp20 Use Discount Code \"AWJP\" for a Deal Check\\xa0...'}], 'channel': {'name': 'AwakenWithJP', 'id': 'UCwUizOU8pPWXdXNniXypQEQ', 'thumbnails': [{'url': 'https://yt3.ggpht.com/h5s6dVOF3Z35f12EMF7-7y7mXE2B1iyTcrIXiMcta-KyMvcK-kUgZXK-p36V8AKSp-vfJc_q=s68-c-k-c0x00ffffff-no-rj', 'width': 68, 'height': 68}], 'link': 'https://www.youtube.com/channel/UCwUizOU8pPWXdXNniXypQEQ'}, 'accessibility': {'title': 'Why Life Jackets Should Be Mandatory! by AwakenWithJP 4 days ago 5 minutes, 39 seconds 1,170,725 views', 'duration': '5 minutes, 39 seconds'}, 'link': 'https://www.youtube.com/watch?v=GukIoZ8d3Ew', 'shelfTitle': None}, {'type': 'video', 'id': 'BboMpayJomw', 'title': 'Billie Eilish - No Time To Die', 'publishedTime': '1 year ago', 'duration': '4:00', 'viewCount': {'text': '46,469,626 views', 'short': '46M views'}, 'thumbnails': [{'url': 'https://i.ytimg.com/vi/BboMpayJomw/hq720.jpg?sqp=-oaymwEcCOgCEMoBSFXyq4qpAw4IARUAAIhCGAFwAcABBg==&rs=AOn4CLD9UDbR1rGX3HCsd_1Pz_5aVreQgg', 'width': 360, 'height': 202}, {'url': 'https://i.ytimg.com/vi/BboMpayJomw/hq720.jpg?sqp=-oaymwEcCNAFEJQDSFXyq4qpAw4IARUAAIhCGAFwAcABBg==&rs=AOn4CLA89kdWNOWgYuQD90egRH4t1Jy39Q', 'width': 720, 'height': 404}], 'richThumbnail': {'url': 'https://i.ytimg.com/an_webp/BboMpayJomw/mqdefault_6s.webp?du=3000&sqp=CIjb-4oG&rs=AOn4CLDRV8FsF9dbvM-u1wcsPwyHkqLuUA', 'width': 320, 'height': 180}, 'descriptionSnippet': [{'text': 'Music video by Billie Eilish performing No '}, {'text': 'Time', 'bold': True}, {'text': ' To Die. © 2020 Darkroom/Interscope Records http://vevo.ly/Dupdf6.'}], 'channel': {'name': 'Billie Eilish', 'id': 'UCiGm_E4ZwYSHV3bcW1pnSeQ', 'thumbnails': [{'url': 'https://yt3.ggpht.com/ytc/AKedOLTAirqzFYUbcrpr8K0Bh8iDCZvBopbEb3K9klVNBA=s88-c-k-c0x00ffffff-no-rj', 'width': 68, 'height': 68}], 'link': 'https://www.youtube.com/channel/UCiGm_E4ZwYSHV3bcW1pnSeQ'}, 'accessibility': {'title': 'Billie Eilish - No Time To Die by Billie Eilish 1 year ago 4 minutes 46,469,626 views', 'duration': '4 minutes'}, 'link': 'https://www.youtube.com/watch?v=BboMpayJomw', 'shelfTitle': None}, {'type': 'video', 'id': 'hlznpxNGFGQ', 'title': 'Clean Bandit - Baby (feat. Marina & Luis Fonsi) [Official Video]', 'publishedTime': '2 years ago', 'duration': '4:08', 'viewCount': {'text': '279,284,208 views', 'short': '279M views'}, 'thumbnails': [{'url': 'https://i.ytimg.com/vi/hlznpxNGFGQ/hq720.jpg?sqp=-oaymwEcCOgCEMoBSFXyq4qpAw4IARUAAIhCGAFwAcABBg==&rs=AOn4CLCgiVoqTeniyYDLi1AecLiSYDsNUw', 'width': 360, 'height': 202}, {'url': 'https://i.ytimg.com/vi/hlznpxNGFGQ/hq720.jpg?sqp=-oaymwEcCNAFEJQDSFXyq4qpAw4IARUAAIhCGAFwAcABBg==&rs=AOn4CLBrGYnny0EIor3wCnCV4E6wZapS5Q', 'width': 720, 'height': 404}], 'richThumbnail': {'url': 'https://i.ytimg.com/an_webp/hlznpxNGFGQ/mqdefault_6s.webp?du=3000&sqp=CNi7-4oG&rs=AOn4CLC3fmeEjNiG705YbrfrGwaS9xeB9w', 'width': 320, 'height': 180}, 'descriptionSnippet': [{'text': 'Download or stream our new single Tick Tock with Mabel ft. 24kGoldn: https://cleanbandit.lnk.to/TickTock Download or stream\\xa0...'}], 'channel': {'name': 'Clean Bandit', 'id': 'UCvhQPdeTHzIRneScV8MIocg', 'thumbnails': [{'url': 'https://yt3.ggpht.com/FKUkrslGErLkesB0nSWEWL8cgtVawEnBssCeYUpPbfCZ1hb5piPf2qSmJtoDv4zRMrrvgxgQJA=s88-c-k-c0x00ffffff-no-rj', 'width': 68, 'height': 68}], 'link': 'https://www.youtube.com/channel/UCvhQPdeTHzIRneScV8MIocg'}, 'accessibility': {'title': 'Clean Bandit - Baby (feat. Marina & Luis Fonsi) [Official Video] by Clean Bandit 2 years ago 4 minutes, 8 seconds 279,284,208 views', 'duration': '4 minutes, 8 seconds'}, 'link': 'https://www.youtube.com/watch?v=hlznpxNGFGQ', 'shelfTitle': None}, {'type': 'video', 'id': 'xlg-HDnh_TQ', 'title': 'DEG DEG MD Farmajo Oo Tuutaha Gashaday, Dagaalka Oo Qarxay, Qoor Qoor Oo Garab Istaag Wayn Helay', 'publishedTime': '7 hours ago', 'duration': '11:53', 'viewCount': {'text': '16,409 views', 'short': '16K views'}, 'thumbnails': [{'url': 'https://i.ytimg.com/vi/xlg-HDnh_TQ/hq720.jpg?sqp=-oaymwEcCOgCEMoBSFXyq4qpAw4IARUAAIhCGAFwAcABBg==&rs=AOn4CLBDAUlHTuklsqgKPWs9yctVJR3ZQg', 'width': 360, 'height': 202}, {'url': 'https://i.ytimg.com/vi/xlg-HDnh_TQ/hq720.jpg?sqp=-oaymwEcCNAFEJQDSFXyq4qpAw4IARUAAIhCGAFwAcABBg==&rs=AOn4CLAK0oG3vnUOwBcS4qPs6aDV5ESKpQ', 'width': 720, 'height': 404}], 'richThumbnail': {'url': 'https://i.ytimg.com/an_webp/xlg-HDnh_TQ/mqdefault_6s.webp?du=3000&sqp=CNiq-4oG&rs=AOn4CLBe3LEua7ipyACV6Accn_9pRKMwzg', 'width': 320, 'height': 180}, 'descriptionSnippet': [{'text': 'Item '}, {'text': 'Title', 'bold': True}, {'text': ': News Item URL: https://elements.envato.com/news-V2UJTZQ Item '}, {'text': 'ID', 'bold': True}, {'text': ': V2UJTZQ Author Username: MusicalSmile\\xa0...'}], 'channel': {'name': 'WADDANKA TV', 'id': 'UCI0sz1-w9Mo-SQ0AFQ7ZuUQ', 'thumbnails': [{'url': 'https://yt3.ggpht.com/ytc/AKedOLQfWC-PLkEyBTMwwLFrwGNxoGNq53rZ6l17_eO4sA=s68-c-k-c0x00ffffff-no-rj', 'width': 68, 'height': 68}], 'link': 'https://www.youtube.com/channel/UCI0sz1-w9Mo-SQ0AFQ7ZuUQ'}, 'accessibility': {'title': 'DEG DEG MD Farmajo Oo Tuutaha Gashaday, Dagaalka Oo Qarxay, Qoor Qoor Oo Garab Istaag Wayn Helay by WADDANKA TV 7 hours ago 11 minutes, 53 seconds 16,409 views', 'duration': '11 minutes, 53 seconds'}, 'link': 'https://www.youtube.com/watch?v=xlg-HDnh_TQ', 'shelfTitle': None}, {'type': 'video', 'id': 'by3yRdlQvzs', 'title': 'Khalid - Location (Official Video)', 'publishedTime': '5 years ago', 'duration': '3:42', 'viewCount': {'text': '513,504,587 views', 'short': '513M views'}, 'thumbnails': [{'url': 'https://i.ytimg.com/vi/by3yRdlQvzs/hq720.jpg?sqp=-oaymwEcCOgCEMoBSFXyq4qpAw4IARUAAIhCGAFwAcABBg==&rs=AOn4CLAFE-oJk6aF_nhrUO4gsDobVuqixA', 'width': 360, 'height': 202}, {'url': 'https://i.ytimg.com/vi/by3yRdlQvzs/hq720.jpg?sqp=-oaymwEcCNAFEJQDSFXyq4qpAw4IARUAAIhCGAFwAcABBg==&rs=AOn4CLCE3LSFgu7TJksFb4VthM-WwSDoww', 'width': 720, 'height': 404}], 'richThumbnail': {'url': 'https://i.ytimg.com/an_webp/by3yRdlQvzs/mqdefault_6s.webp?du=3000&sqp=CP-z-4oG&rs=AOn4CLA7HCLxDPS7JJWwfK1aGfxlYNsyhg', 'width': 320, 'height': 180}, 'descriptionSnippet': [{'text': 'Lyrics: Send me your '}, {'text': 'location', 'bold': True}, {'text': \", let's Focus on communicating 'Cause I just need the \"}, {'text': 'time', 'bold': True}, {'text': ' and '}, {'text': 'place', 'bold': True}, {'text': ' to come through ('}, {'text': 'place', 'bold': True}, {'text': ' to\\xa0...'}], 'channel': {'name': 'Khalid', 'id': 'UCkntT5Je5DDopF70YUsnuEQ', 'thumbnails': [{'url': 'https://yt3.ggpht.com/H0d6VEs50RnnHxCFbwLU_Z2ItKjt_LDzcHxuqup3CBZrwqyMbHBUsZqXJUPsNeK7w81lJr1yYQ=s88-c-k-c0x00ffffff-no-rj', 'width': 68, 'height': 68}], 'link': 'https://www.youtube.com/channel/UCkntT5Je5DDopF70YUsnuEQ'}, 'accessibility': {'title': 'Khalid - Location (Official Video) by Khalid 5 years ago 3 minutes, 42 seconds 513,504,587 views', 'duration': '3 minutes, 42 seconds'}, 'link': 'https://www.youtube.com/watch?v=by3yRdlQvzs', 'shelfTitle': None}, {'type': 'video', 'id': 'g9FY9D9ig3U', 'title': 'DEG DEG Qoor qoor oo jab u geystay ahlusuna, farmaajo oo seefta labaxay, T/ xijaar oo afduub...', 'publishedTime': '9 hours ago', 'duration': '11:22', 'viewCount': {'text': '6,019 views', 'short': '6K views'}, 'thumbnails': [{'url': 'https://i.ytimg.com/vi/g9FY9D9ig3U/hq720.jpg?sqp=-oaymwEcCOgCEMoBSFXyq4qpAw4IARUAAIhCGAFwAcABBg==&rs=AOn4CLCi3VkrKsC7fNDHbds6zMtUX7SQFg', 'width': 360, 'height': 202}, {'url': 'https://i.ytimg.com/vi/g9FY9D9ig3U/hq720.jpg?sqp=-oaymwEcCNAFEJQDSFXyq4qpAw4IARUAAIhCGAFwAcABBg==&rs=AOn4CLAESwOQDuS7pW4GhV87B48MSUy48Q', 'width': 720, 'height': 404}], 'richThumbnail': {'url': 'https://i.ytimg.com/an_webp/g9FY9D9ig3U/mqdefault_6s.webp?du=3000&sqp=CLfY-4oG&rs=AOn4CLDuZrzpRDXA6ms_JEVirT6vjFNVMA', 'width': 320, 'height': 180}, 'descriptionSnippet': [{'text': 'Item '}, {'text': 'Title', 'bold': True}, {'text': ': Breaking News Item URL: https://elements.envato.com/breaking-news-NB2TDKL Item '}, {'text': 'ID', 'bold': True}, {'text': ': NB2TDKL Author Username:\\xa0...'}], 'channel': {'name': 'IDAACADDA WADDANKA', 'id': 'UCAswZS9nem1Hpv5WQGVDoXw', 'thumbnails': [{'url': 'https://yt3.ggpht.com/w7HYi8PFJhp43RsCWdAwBgLzzJzmQJUrgc-i5f0uTfycTKZvfYKixKXVI7U0Odqu7Vdon7jC=s68-c-k-c0x00ffffff-no-rj', 'width': 68, 'height': 68}], 'link': 'https://www.youtube.com/channel/UCAswZS9nem1Hpv5WQGVDoXw'}, 'accessibility': {'title': 'DEG DEG Qoor qoor oo jab u geystay ahlusuna, farmaajo oo seefta labaxay, T/ xijaar oo afduub... by IDAACADDA WADDANKA 9 hours ago 11 minutes, 22 seconds 6,019 views', 'duration': '11 minutes, 22 seconds'}, 'link': 'https://www.youtube.com/watch?v=g9FY9D9ig3U', 'shelfTitle': None}, {'type': 'video', 'id': 'RHUYL_NVC3I', 'title': 'Fortnite Naruto Trailer', 'publishedTime': '2 days ago', 'duration': '12:31', 'viewCount': {'text': '98,265 views', 'short': '98K views'}, 'thumbnails': [{'url': 'https://i.ytimg.com/vi/RHUYL_NVC3I/hq720.jpg?sqp=-oaymwEcCOgCEMoBSFXyq4qpAw4IARUAAIhCGAFwAcABBg==&rs=AOn4CLCpgMUzoYzAZYzJice6aIVE9G9Dlg', 'width': 360, 'height': 202}, {'url': 'https://i.ytimg.com/vi/RHUYL_NVC3I/hq720.jpg?sqp=-oaymwEcCNAFEJQDSFXyq4qpAw4IARUAAIhCGAFwAcABBg==&rs=AOn4CLCXrru9m89HdwTZGcG_Ve9q67agRw', 'width': 720, 'height': 404}], 'richThumbnail': {'url': 'https://i.ytimg.com/an_webp/RHUYL_NVC3I/mqdefault_6s.webp?du=3000&sqp=CMy3-4oG&rs=AOn4CLALn3kXq-2zAOipMkwG7FJuPAHB2Q', 'width': 320, 'height': 180}, 'descriptionSnippet': [{'text': \"Fortnite Naruto Trailer ▭▭▭▭▭▭▭▭▭▭▭▭▭▭▭▭▭▭▭▭ Today's Fortnite 60fps Gameplay video covers Fortnite Naruto\\xa0...\"}], 'channel': {'name': 'FriendlyMachine', 'id': 'UCIeZnTPkQL2wwiGJ1iqJMyA', 'thumbnails': [{'url': 'https://yt3.ggpht.com/ytc/AKedOLRo6e_OHyfzV-N0wX7PfBV6eNdoBOzM7LIdjyE3JA=s68-c-k-c0x00ffffff-no-rj', 'width': 68, 'height': 68}], 'link': 'https://www.youtube.com/channel/UCIeZnTPkQL2wwiGJ1iqJMyA'}, 'accessibility': {'title': 'Fortnite Naruto Trailer by FriendlyMachine 2 days ago 12 minutes, 31 seconds 98,265 views', 'duration': '12 minutes, 31 seconds'}, 'link': 'https://www.youtube.com/watch?v=RHUYL_NVC3I', 'shelfTitle': None}, {'type': 'video', 'id': 'lWGx7EL_rsQ', 'title': 'THERE IS A PLACE - NATHANIEL BASSEY', 'publishedTime': '3 months ago', 'duration': '8:09', 'viewCount': {'text': '2,472,283 views', 'short': '2.4M views'}, 'thumbnails': [{'url': 'https://i.ytimg.com/vi/lWGx7EL_rsQ/hq720.jpg?sqp=-oaymwEcCOgCEMoBSFXyq4qpAw4IARUAAIhCGAFwAcABBg==&rs=AOn4CLDW2Gcr5KA3sxTphjxH9LAwU-xVfQ', 'width': 360, 'height': 202}, {'url': 'https://i.ytimg.com/vi/lWGx7EL_rsQ/hq720.jpg?sqp=-oaymwEcCNAFEJQDSFXyq4qpAw4IARUAAIhCGAFwAcABBg==&rs=AOn4CLA5oSexG5QlabPsskOG0tugwqdftw', 'width': 720, 'height': 404}], 'richThumbnail': {'url': 'https://i.ytimg.com/an_webp/lWGx7EL_rsQ/mqdefault_6s.webp?du=3000&sqp=CJS3-4oG&rs=AOn4CLCwgBoX6Py5FGAaYgL72Ohzy4vCqw', 'width': 320, 'height': 180}, 'descriptionSnippet': [{'text': 'A SONG OF HIS PRESENCE.'}], 'channel': {'name': 'Nathaniel Bassey Main', 'id': 'UCRe2Ir9wtPk_YQjElam7n2w', 'thumbnails': [{'url': 'https://yt3.ggpht.com/ytc/AKedOLQ2CzZFlgYq22ElsI-0I0dQJDAYuUEBfd-J391S=s88-c-k-c0x00ffffff-no-rj', 'width': 68, 'height': 68}], 'link': 'https://www.youtube.com/channel/UCRe2Ir9wtPk_YQjElam7n2w'}, 'accessibility': {'title': 'THERE IS A PLACE - NATHANIEL BASSEY by Nathaniel Bassey Main 3 months ago 8 minutes, 9 seconds 2,472,283 views', 'duration': '8 minutes, 9 seconds'}, 'link': 'https://www.youtube.com/watch?v=lWGx7EL_rsQ', 'shelfTitle': None}, {'type': 'video', 'id': 'oqxAJKy0ii4', 'title': 'Squid Game | Official Trailer | Netflix', 'publishedTime': '1 month ago', 'duration': '2:20', 'viewCount': {'text': '21,369,362 views', 'short': '21M views'}, 'thumbnails': [{'url': 'https://i.ytimg.com/vi/oqxAJKy0ii4/hq720.jpg?sqp=-oaymwEcCOgCEMoBSFXyq4qpAw4IARUAAIhCGAFwAcABBg==&rs=AOn4CLBZhJBJBHxj-gY_zKzWJ6rj5pc9Fw', 'width': 360, 'height': 202}, {'url': 'https://i.ytimg.com/vi/oqxAJKy0ii4/hq720.jpg?sqp=-oaymwEcCNAFEJQDSFXyq4qpAw4IARUAAIhCGAFwAcABBg==&rs=AOn4CLCg-KGxP_f_N0jyxZ12mH2uOn8YXw', 'width': 720, 'height': 404}], 'richThumbnail': {'url': 'https://i.ytimg.com/an_webp/oqxAJKy0ii4/mqdefault_6s.webp?du=3000&sqp=CIrA-4oG&rs=AOn4CLB4x5z6OQJN8gx2tVAG_uWMaVFCUQ', 'width': 320, 'height': 180}, 'descriptionSnippet': [{'text': 'A Netflix Series | Squid Game Survive or die Who will live to see 45.6 billion won? Squid Game | Coming September 17, only on\\xa0...'}], 'channel': {'name': 'Netflix', 'id': 'UCWOA1ZGywLbqmigxE4Qlvuw', 'thumbnails': [{'url': 'https://yt3.ggpht.com/ytc/AKedOLSIL-3Y7k9QAFE2MKEtPe5I4gmTdJ5dCyxFH-sxbg=s68-c-k-c0x00ffffff-no-rj', 'width': 68, 'height': 68}], 'link': 'https://www.youtube.com/channel/UCWOA1ZGywLbqmigxE4Qlvuw'}, 'accessibility': {'title': 'Squid Game | Official Trailer | Netflix by Netflix 1 month ago 2 minutes, 20 seconds 21,369,362 views', 'duration': '2 minutes, 20 seconds'}, 'link': 'https://www.youtube.com/watch?v=oqxAJKy0ii4', 'shelfTitle': None}, {'type': 'video', 'id': '_mFbbBTDPRo', 'title': '¿Vender en Amazon, Mercado libre ó Mi propia tienda online?', 'publishedTime': '10 hours ago', 'duration': '9:58', 'viewCount': {'text': '48 views', 'short': '48 views'}, 'thumbnails': [{'url': 'https://i.ytimg.com/vi/_mFbbBTDPRo/hq720.jpg?sqp=-oaymwEcCOgCEMoBSFXyq4qpAw4IARUAAIhCGAFwAcABBg==&rs=AOn4CLCSY_roblwV-Yig55idqO6jBEwLXg', 'width': 360, 'height': 202}, {'url': 'https://i.ytimg.com/vi/_mFbbBTDPRo/hq720.jpg?sqp=-oaymwEcCNAFEJQDSFXyq4qpAw4IARUAAIhCGAFwAcABBg==&rs=AOn4CLBoi-OeOt8nGGifEbrZZ2IFku3nHA', 'width': 720, 'height': 404}], 'richThumbnail': {'url': 'https://i.ytimg.com/an_webp/_mFbbBTDPRo/mqdefault_6s.webp?du=3000&sqp=CO7J-4oG&rs=AOn4CLCdFLIMFOFA9edUfnWekJoklvdi7g', 'width': 320, 'height': 180}, 'descriptionSnippet': [{'text': 'Las tiendas en linea son cosa del pasado, Si no tienes un producto Original, o eres dueño de una marca, tu futuro como\\xa0...'}], 'channel': {'name': 'Juan De Avila', 'id': 'UCcck1iPiQeRSu_PAKOWVSkg', 'thumbnails': [{'url': 'https://yt3.ggpht.com/ytc/AKedOLTPt_7M6H3sGcjDmoVfIIchTBdO6ULb0LERUOHaqA=s68-c-k-c0x00ffffff-no-rj', 'width': 68, 'height': 68}], 'link': 'https://www.youtube.com/channel/UCcck1iPiQeRSu_PAKOWVSkg'}, 'accessibility': {'title': '¿Vender en Amazon, Mercado libre ó Mi propia tienda online? by Juan De Avila 10 hours ago 9 minutes, 58 seconds 48 views', 'duration': '9 minutes, 58 seconds'}, 'link': 'https://www.youtube.com/watch?v=_mFbbBTDPRo', 'shelfTitle': None}, {'type': 'video', 'id': 'sCSJAb0UaYU', 'title': 'COMPLAINING CHANGES NOTHING | Jim Rohn, Tony Robbins, Wayne Dyer', 'publishedTime': '1 hour ago', 'duration': '10:44', 'viewCount': {'text': '402 views', 'short': '402 views'}, 'thumbnails': [{'url': 'https://i.ytimg.com/vi/sCSJAb0UaYU/hq720.jpg?sqp=-oaymwEcCOgCEMoBSFXyq4qpAw4IARUAAIhCGAFwAcABBg==&rs=AOn4CLCdZLi3U4ue1oyqF-Gc4rQ4zoRO_A', 'width': 360, 'height': 202}, {'url': 'https://i.ytimg.com/vi/sCSJAb0UaYU/hq720.jpg?sqp=-oaymwEcCNAFEJQDSFXyq4qpAw4IARUAAIhCGAFwAcABBg==&rs=AOn4CLAXnME_s6c1dCeU8XQ4YRIcbQY7uw', 'width': 720, 'height': 404}], 'richThumbnail': {'url': 'https://i.ytimg.com/an_webp/sCSJAb0UaYU/mqdefault_6s.webp?du=3000&sqp=CIHg-4oG&rs=AOn4CLCLmAyTC3d1hfx2HcoXA0nxVAosVg', 'width': 320, 'height': 180}, 'descriptionSnippet': [{'text': 'COMPLAINING CHANGES NOTHING | Jim Rohn, Tony Robbins, Wayne Dyer Speakers: Tony Robbins Jim Rohn Jim Kwik\\xa0...'}], 'channel': {'name': 'The Motivation', 'id': 'UC5QsW5oHau40D3UrdHy1YSw', 'thumbnails': [{'url': 'https://yt3.ggpht.com/ytc/AKedOLToivtfCV2fWIdJLFli4IT1IHlrQMkGFkptByehzw=s68-c-k-c0x00ffffff-no-rj', 'width': 68, 'height': 68}], 'link': 'https://www.youtube.com/channel/UC5QsW5oHau40D3UrdHy1YSw'}, 'accessibility': {'title': 'COMPLAINING CHANGES NOTHING | Jim Rohn, Tony Robbins, Wayne Dyer by The Motivation 1 hour ago 10 minutes, 44 seconds 402 views', 'duration': '10 minutes, 44 seconds'}, 'link': 'https://www.youtube.com/watch?v=sCSJAb0UaYU', 'shelfTitle': None}]}\n"
     ]
    },
    {
     "name": "stdout",
     "output_type": "stream",
     "text": [
      "{'result': [{'type': 'video', 'id': 'n-AFjDVcIZg', 'title': 'Edit Id Card, Mark Sheets and Documents in Photoshop with Practical Examples | English Language', 'publishedTime': '7 months ago', 'duration': '15:20', 'viewCount': {'text': '102,148 views', 'short': '102K views'}, 'thumbnails': [{'url': 'https://i.ytimg.com/vi/n-AFjDVcIZg/hq720.jpg?sqp=-oaymwEcCOgCEMoBSFXyq4qpAw4IARUAAIhCGAFwAcABBg==&rs=AOn4CLAzbA2UMF_6-VElE6k0hTRQRgr6Zw', 'width': 360, 'height': 202}, {'url': 'https://i.ytimg.com/vi/n-AFjDVcIZg/hq720.jpg?sqp=-oaymwEcCNAFEJQDSFXyq4qpAw4IARUAAIhCGAFwAcABBg==&rs=AOn4CLCJayGa39PeWdYrSjJgTXfGw7O3LQ', 'width': 720, 'height': 404}], 'richThumbnail': {'url': 'https://i.ytimg.com/an_webp/n-AFjDVcIZg/mqdefault_6s.webp?du=3000&sqp=CLDT-4oG&rs=AOn4CLB_vyI0dpOjLXZcIW3v3zxxCG9CkA', 'width': 320, 'height': 180}, 'descriptionSnippet': [{'text': 'This Video is for Educational Purpose Timeline is given Below:- 1:00\\u200b min – 8:30\\u200b min '}, {'text': 'ID', 'bold': True}, {'text': ' Card Editing 8:30\\u200b min – 11:20\\u200b min\\xa0...'}], 'channel': {'name': 'Innovative Codes', 'id': 'UCufj5LvjzN23kIGxzw_W14A', 'thumbnails': [{'url': 'https://yt3.ggpht.com/ytc/AKedOLRduDL5b4DbU4h1gIzZRAeotRq5krzt6S3W4jgm-g=s68-c-k-c0x00ffffff-no-rj', 'width': 68, 'height': 68}], 'link': 'https://www.youtube.com/channel/UCufj5LvjzN23kIGxzw_W14A'}, 'accessibility': {'title': 'Edit Id Card, Mark Sheets and Documents in Photoshop with Practical Examples | English Language by Innovative Codes 7 months ago 15 minutes 102,148 views', 'duration': '15 minutes, 20 seconds'}, 'link': 'https://www.youtube.com/watch?v=n-AFjDVcIZg', 'shelfTitle': None}, {'type': 'video', 'id': 'Q4D7SRPuOkA', 'title': 'DEG DEG Rooble Oo Amniga Doorashada Ku Wareejiyey Fahad Yasin, Farmajo Oo Helay Fursad Lama Filaan A', 'publishedTime': '4 hours ago', 'duration': '11:41', 'viewCount': {'text': '10,740 views', 'short': '10K views'}, 'thumbnails': [{'url': 'https://i.ytimg.com/vi/Q4D7SRPuOkA/hq720.jpg?sqp=-oaymwEcCOgCEMoBSFXyq4qpAw4IARUAAIhCGAFwAcABBg==&rs=AOn4CLDvytaMtabvu6RYyXfHFMk1Ys3d5Q', 'width': 360, 'height': 202}, {'url': 'https://i.ytimg.com/vi/Q4D7SRPuOkA/hq720.jpg?sqp=-oaymwEcCNAFEJQDSFXyq4qpAw4IARUAAIhCGAFwAcABBg==&rs=AOn4CLBfLlh86eP-G-294eC96pOQuiva7g', 'width': 720, 'height': 404}], 'richThumbnail': {'url': 'https://i.ytimg.com/an_webp/Q4D7SRPuOkA/mqdefault_6s.webp?du=3000&sqp=COC0-4oG&rs=AOn4CLAA_23eIhwWMAYZ5Qwt3MTLo7PdPQ', 'width': 320, 'height': 180}, 'descriptionSnippet': [{'text': 'Item '}, {'text': 'Title', 'bold': True}, {'text': ': News Item URL: https://elements.envato.com/news-V2UJTZQ Item '}, {'text': 'ID', 'bold': True}, {'text': ': V2UJTZQ Author Username: MusicalSmile\\xa0...'}], 'channel': {'name': 'WADDANKA TV', 'id': 'UCI0sz1-w9Mo-SQ0AFQ7ZuUQ', 'thumbnails': [{'url': 'https://yt3.ggpht.com/ytc/AKedOLQfWC-PLkEyBTMwwLFrwGNxoGNq53rZ6l17_eO4sA=s68-c-k-c0x00ffffff-no-rj', 'width': 68, 'height': 68}], 'link': 'https://www.youtube.com/channel/UCI0sz1-w9Mo-SQ0AFQ7ZuUQ'}, 'accessibility': {'title': 'DEG DEG Rooble Oo Amniga Doorashada Ku Wareejiyey Fahad Yasin, Farmajo Oo Helay Fursad Lama Filaan A by WADDANKA TV 4 hours ago 11 minutes, 41 seconds 10,740 views', 'duration': '11 minutes, 41 seconds'}, 'link': 'https://www.youtube.com/watch?v=Q4D7SRPuOkA', 'shelfTitle': None}, {'type': 'video', 'id': 'hZN1hhqXHMk', 'title': 'DUBAI SHOPPING unboxing || See what I got! || Ashtrixx', 'publishedTime': '1 hour ago', 'duration': '27:21', 'viewCount': {'text': '16,719 views', 'short': '16K views'}, 'thumbnails': [{'url': 'https://i.ytimg.com/vi/hZN1hhqXHMk/hq720.jpg?sqp=-oaymwEcCOgCEMoBSFXyq4qpAw4IARUAAIhCGAFwAcABBg==&rs=AOn4CLCnIZBCvetOqqHeRInOLUcFk8RbDQ', 'width': 360, 'height': 202}, {'url': 'https://i.ytimg.com/vi/hZN1hhqXHMk/hq720.jpg?sqp=-oaymwEcCNAFEJQDSFXyq4qpAw4IARUAAIhCGAFwAcABBg==&rs=AOn4CLC3aVvatYZkHWzbH_oUgPN4nXkOyQ', 'width': 720, 'height': 404}], 'richThumbnail': {'url': 'https://i.ytimg.com/an_webp/hZN1hhqXHMk/mqdefault_6s.webp?du=3000&sqp=COml-4oG&rs=AOn4CLDmx3RbgqhqY5rAAcqcDFKAYXsHBA', 'width': 320, 'height': 180}, 'descriptionSnippet': [{'text': 'dubai #shopping #unboxing Salcylic acid patches are amazing to reduce redness instantly! Try them here -: The Derma Co\\xa0...'}], 'channel': {'name': 'Ashtrixx', 'id': 'UCXsOq3SXWaSxeE7zNK9FgYA', 'thumbnails': [{'url': 'https://yt3.ggpht.com/ytc/AKedOLQ3ZCOTpViRwBKZjAfo4tW7GeZswhdz6QART129=s68-c-k-c0x00ffffff-no-rj', 'width': 68, 'height': 68}], 'link': 'https://www.youtube.com/channel/UCXsOq3SXWaSxeE7zNK9FgYA'}, 'accessibility': {'title': 'DUBAI SHOPPING unboxing || See what I got! || Ashtrixx by Ashtrixx 1 hour ago 27 minutes 16,719 views', 'duration': '27 minutes, 21 seconds'}, 'link': 'https://www.youtube.com/watch?v=hZN1hhqXHMk', 'shelfTitle': None}, {'type': 'video', 'id': 'WPdWvnAAurg', 'title': \"aespa 에스파 'Savage' MV\", 'publishedTime': '2 days ago', 'duration': '4:19', 'viewCount': {'text': '47,518,017 views', 'short': '47M views'}, 'thumbnails': [{'url': 'https://i.ytimg.com/vi/WPdWvnAAurg/hq720.jpg?sqp=-oaymwEcCOgCEMoBSFXyq4qpAw4IARUAAIhCGAFwAcABBg==&rs=AOn4CLA5ucLSXgBJHa-Sve5PjqHY3VFDjw', 'width': 360, 'height': 202}, {'url': 'https://i.ytimg.com/vi/WPdWvnAAurg/hq720.jpg?sqp=-oaymwEcCNAFEJQDSFXyq4qpAw4IARUAAIhCGAFwAcABBg==&rs=AOn4CLDBlTLqGDw0hsDsWxycGmQNmlv2Fw', 'width': 720, 'height': 404}], 'richThumbnail': {'url': 'https://i.ytimg.com/an_webp/WPdWvnAAurg/mqdefault_6s.webp?du=3000&sqp=CJjH-4oG&rs=AOn4CLDcIeW9DmC8DvVUl8T9OI_xKYEsBw', 'width': 320, 'height': 180}, 'descriptionSnippet': [{'text': 'aespa\\'s 1st mini album \"Savage\" is out! Listen and download on your favorite platform: https://smarturl.it/ae_Savage [Tracklist] 01\\xa0...'}], 'channel': {'name': 'SMTOWN', 'id': 'UCEf_Bc-KVd7onSeifS3py9g', 'thumbnails': [{'url': 'https://yt3.ggpht.com/ytc/AKedOLSXEKHwjY8vsYiHiuythAqiZmKkktXucDF978zaow4=s68-c-k-c0x00ffffff-no-rj', 'width': 68, 'height': 68}], 'link': 'https://www.youtube.com/channel/UCEf_Bc-KVd7onSeifS3py9g'}, 'accessibility': {'title': \"aespa 에스파 'Savage' MV by SMTOWN 2 days ago 4 minutes, 19 seconds 47,518,017 views\", 'duration': '4 minutes, 19 seconds'}, 'link': 'https://www.youtube.com/watch?v=WPdWvnAAurg', 'shelfTitle': None}, {'type': 'video', 'id': 'm-M1AtrxztU', 'title': 'Clean Bandit - Rather Be ft. Jess Glynne [Official Video]', 'publishedTime': '7 years ago', 'duration': '4:29', 'viewCount': {'text': '655,221,905 views', 'short': '655M views'}, 'thumbnails': [{'url': 'https://i.ytimg.com/vi/m-M1AtrxztU/hq720.jpg?sqp=-oaymwEcCOgCEMoBSFXyq4qpAw4IARUAAIhCGAFwAcABBg==&rs=AOn4CLCYINExpvDr1ENe-DWEkt1pxG2N-w', 'width': 360, 'height': 202}, {'url': 'https://i.ytimg.com/vi/m-M1AtrxztU/hq720.jpg?sqp=-oaymwEcCNAFEJQDSFXyq4qpAw4IARUAAIhCGAFwAcABBg==&rs=AOn4CLAyK_59a_54DHYWIjwO_8QsbwAG5w', 'width': 720, 'height': 404}], 'richThumbnail': {'url': 'https://i.ytimg.com/an_webp/m-M1AtrxztU/mqdefault_6s.webp?du=3000&sqp=CKzL-4oG&rs=AOn4CLDw7xaF03-rx7Ba6I0H6Pswlb0k3A', 'width': 320, 'height': 180}, 'descriptionSnippet': [{'text': 'Download or stream our new single Tick Tock with Mabel ft. 24kGoldn: https://cleanbandit.lnk.to/TickTock Download or stream our\\xa0...'}], 'channel': {'name': 'Clean Bandit', 'id': 'UCvhQPdeTHzIRneScV8MIocg', 'thumbnails': [{'url': 'https://yt3.ggpht.com/FKUkrslGErLkesB0nSWEWL8cgtVawEnBssCeYUpPbfCZ1hb5piPf2qSmJtoDv4zRMrrvgxgQJA=s88-c-k-c0x00ffffff-no-rj', 'width': 68, 'height': 68}], 'link': 'https://www.youtube.com/channel/UCvhQPdeTHzIRneScV8MIocg'}, 'accessibility': {'title': 'Clean Bandit - Rather Be ft. Jess Glynne [Official Video] by Clean Bandit 7 years ago 4 minutes, 29 seconds 655,221,905 views', 'duration': '4 minutes, 29 seconds'}, 'link': 'https://www.youtube.com/watch?v=m-M1AtrxztU', 'shelfTitle': None}, {'type': 'video', 'id': 'jUjDcqdvCrk', 'title': 'Clean Bandit - Rather Be (Lyrics) feat. Jess Glynne', 'publishedTime': '1 year ago', 'duration': '3:48', 'viewCount': {'text': '16,374,467 views', 'short': '16M views'}, 'thumbnails': [{'url': 'https://i.ytimg.com/vi/jUjDcqdvCrk/hq720.jpg?sqp=-oaymwEcCOgCEMoBSFXyq4qpAw4IARUAAIhCGAFwAcABBg==&rs=AOn4CLAzMHuhgOZqLpDr-QYqUUifHIZSLQ', 'width': 360, 'height': 202}, {'url': 'https://i.ytimg.com/vi/jUjDcqdvCrk/hq720.jpg?sqp=-oaymwEcCNAFEJQDSFXyq4qpAw4IARUAAIhCGAFwAcABBg==&rs=AOn4CLBiDuRqgX-G3SZJdxsdFbVapanbuA', 'width': 720, 'height': 404}], 'richThumbnail': {'url': 'https://i.ytimg.com/an_webp/jUjDcqdvCrk/mqdefault_6s.webp?du=3000&sqp=CNfV-4oG&rs=AOn4CLClIuWMTBxBHv-HcXTT4sMyEKYHrQ', 'width': 320, 'height': 180}, 'descriptionSnippet': [{'text': \"......... Lyrics: Clean Bandit - Rather Be (Lyrics) feat. Jess Glynne Oh, Woah, Ooh, ooh We're a thousand miles from comfort, we\\xa0...\"}], 'channel': {'name': '7clouds', 'id': 'UCNqFDjYTexJDET3rPDrmJKg', 'thumbnails': [{'url': 'https://yt3.ggpht.com/ytc/AKedOLS47SGZoq9qhTlM6ANNiXN5I3sUcV4_owFydPkU=s68-c-k-c0x00ffffff-no-rj', 'width': 68, 'height': 68}], 'link': 'https://www.youtube.com/channel/UCNqFDjYTexJDET3rPDrmJKg'}, 'accessibility': {'title': 'Clean Bandit - Rather Be (Lyrics) feat. Jess Glynne by 7clouds 1 year ago 3 minutes, 48 seconds 16,374,467 views', 'duration': '3 minutes, 48 seconds'}, 'link': 'https://www.youtube.com/watch?v=jUjDcqdvCrk', 'shelfTitle': None}, {'type': 'video', 'id': 'krfcq5pF8u8', 'title': '13TH | FULL FEATURE | Netflix', 'publishedTime': '1 year ago', 'duration': '1:40:03', 'viewCount': {'text': '10,949,443 views', 'short': '10M views'}, 'thumbnails': [{'url': 'https://i.ytimg.com/vi/krfcq5pF8u8/hq720.jpg?sqp=-oaymwEcCOgCEMoBSFXyq4qpAw4IARUAAIhCGAFwAcABBg==&rs=AOn4CLD18L-C7cFu9JE0sW7ZX0IcLkvLPA', 'width': 360, 'height': 202}, {'url': 'https://i.ytimg.com/vi/krfcq5pF8u8/hq720.jpg?sqp=-oaymwEcCNAFEJQDSFXyq4qpAw4IARUAAIhCGAFwAcABBg==&rs=AOn4CLDmzvd13AmwfrZc1diRe_fz2w9eFA', 'width': 720, 'height': 404}], 'richThumbnail': {'url': 'https://i.ytimg.com/an_webp/krfcq5pF8u8/mqdefault_6s.webp?du=3000&sqp=CIfe-4oG&rs=AOn4CLAVOIhSfxtSPcDgiUKZ4TvA2myORA', 'width': 320, 'height': 180}, 'descriptionSnippet': [{'text': \"Combining archival footage with testimony from activists and scholars, director Ava DuVernay's examination of the U.S. prison\\xa0...\"}], 'channel': {'name': 'Netflix', 'id': 'UCWOA1ZGywLbqmigxE4Qlvuw', 'thumbnails': [{'url': 'https://yt3.ggpht.com/ytc/AKedOLSIL-3Y7k9QAFE2MKEtPe5I4gmTdJ5dCyxFH-sxbg=s68-c-k-c0x00ffffff-no-rj', 'width': 68, 'height': 68}], 'link': 'https://www.youtube.com/channel/UCWOA1ZGywLbqmigxE4Qlvuw'}, 'accessibility': {'title': '13TH | FULL FEATURE | Netflix by Netflix 1 year ago 1 hour, 40 minutes 10,949,443 views', 'duration': '1 hour, 40 minutes, 3 seconds'}, 'link': 'https://www.youtube.com/watch?v=krfcq5pF8u8', 'shelfTitle': None}, {'type': 'video', 'id': '8g18jFHCLXk', 'title': 'Dune | Official Main Trailer', 'publishedTime': '2 months ago', 'duration': '3:28', 'viewCount': {'text': '20,782,008 views', 'short': '20M views'}, 'thumbnails': [{'url': 'https://i.ytimg.com/vi/8g18jFHCLXk/hq720.jpg?sqp=-oaymwEcCOgCEMoBSFXyq4qpAw4IARUAAIhCGAFwAcABBg==&rs=AOn4CLAqwvzFkCZvXsZBbDaWPCm94Lr8kQ', 'width': 360, 'height': 202}, {'url': 'https://i.ytimg.com/vi/8g18jFHCLXk/hq720.jpg?sqp=-oaymwEcCNAFEJQDSFXyq4qpAw4IARUAAIhCGAFwAcABBg==&rs=AOn4CLCUwwmyQAXfIaLLPpaJM0TYz7xfAw', 'width': 720, 'height': 404}], 'richThumbnail': {'url': 'https://i.ytimg.com/an_webp/8g18jFHCLXk/mqdefault_6s.webp?du=3000&sqp=CJak-4oG&rs=AOn4CLByX43vzqrCgdaR6sfKZhe-OBDeCQ', 'width': 320, 'height': 180}, 'descriptionSnippet': [{'text': \"IT'S \"}, {'text': 'TIME', 'bold': True}, {'text': '. #DuneMovie coming October 22. ----------------- https://www.instagram.com/dunemovie/ https://www.facebook.com/dune\\xa0...'}], 'channel': {'name': 'Warner Bros. Pictures', 'id': 'UCjmJDM5pRKbUlVIzDYYWb6g', 'thumbnails': [{'url': 'https://yt3.ggpht.com/ytc/AKedOLQXLYSWClZTjdXRVhw2UlJInqZ52SCnCay0AyHz0A=s68-c-k-c0x00ffffff-no-rj', 'width': 68, 'height': 68}], 'link': 'https://www.youtube.com/channel/UCjmJDM5pRKbUlVIzDYYWb6g'}, 'accessibility': {'title': 'Dune | Official Main Trailer by Warner Bros. Pictures 2 months ago 3 minutes, 28 seconds 20,782,008 views', 'duration': '3 minutes, 28 seconds'}, 'link': 'https://www.youtube.com/watch?v=8g18jFHCLXk', 'shelfTitle': None}, {'type': 'video', 'id': 'K7l5ZeVVoCA', 'title': \"blink-182 - What's My Age Again? (Official Music Video)\", 'publishedTime': '12 years ago', 'duration': '2:27', 'viewCount': {'text': '84,018,451 views', 'short': '84M views'}, 'thumbnails': [{'url': 'https://i.ytimg.com/vi/K7l5ZeVVoCA/hq720.jpg?sqp=-oaymwEcCOgCEMoBSFXyq4qpAw4IARUAAIhCGAFwAcABBg==&rs=AOn4CLDlW7FJmbpunylqo3E2aSuvBK6iOw', 'width': 360, 'height': 202}, {'url': 'https://i.ytimg.com/vi/K7l5ZeVVoCA/hq720.jpg?sqp=-oaymwEcCNAFEJQDSFXyq4qpAw4IARUAAIhCGAFwAcABBg==&rs=AOn4CLDrJve84vu-svZEOIFlavY4WtFM3g', 'width': 720, 'height': 404}], 'richThumbnail': {'url': 'https://i.ytimg.com/an_webp/K7l5ZeVVoCA/mqdefault_6s.webp?du=3000&sqp=COC0-4oG&rs=AOn4CLB8z3GZ_qV3WpVmHlc0Vm_8rJuidQ', 'width': 320, 'height': 180}, 'descriptionSnippet': [{'text': \"Music video by blink-182 performing What's My Age Again?. (C) 2000 Geffen Records #Blink182 #WhatsMyAgeAgain\\xa0...\"}], 'channel': {'name': 'blink-182', 'id': 'UCdvlHk5SZWwr9HjUcwtu8ng', 'thumbnails': [{'url': 'https://yt3.ggpht.com/ytc/AKedOLS9wSSSch2T5RCOqeWes0CQPq6CuE7n6BH6SGqp9g=s88-c-k-c0x00ffffff-no-rj', 'width': 68, 'height': 68}], 'link': 'https://www.youtube.com/channel/UCdvlHk5SZWwr9HjUcwtu8ng'}, 'accessibility': {'title': \"blink-182 - What's My Age Again? (Official Music Video) by blink-182 12 years ago 2 minutes, 27 seconds 84,018,451 views\", 'duration': '2 minutes, 27 seconds'}, 'link': 'https://www.youtube.com/watch?v=K7l5ZeVVoCA', 'shelfTitle': None}, {'type': 'video', 'id': 'GukIoZ8d3Ew', 'title': 'Why Life Jackets Should Be Mandatory!', 'publishedTime': '4 days ago', 'duration': '5:39', 'viewCount': {'text': '1,170,725 views', 'short': '1.1M views'}, 'thumbnails': [{'url': 'https://i.ytimg.com/vi/GukIoZ8d3Ew/hq720.jpg?sqp=-oaymwEcCOgCEMoBSFXyq4qpAw4IARUAAIhCGAFwAcABBg==&rs=AOn4CLA11PDd9lGMcP4_hSfjbqhUtQy1hw', 'width': 360, 'height': 202}, {'url': 'https://i.ytimg.com/vi/GukIoZ8d3Ew/hq720.jpg?sqp=-oaymwEcCNAFEJQDSFXyq4qpAw4IARUAAIhCGAFwAcABBg==&rs=AOn4CLB2_6JW3cF0b3qls3sxmVaf2xHj3g', 'width': 720, 'height': 404}], 'richThumbnail': {'url': 'https://i.ytimg.com/an_webp/GukIoZ8d3Ew/mqdefault_6s.webp?du=3000&sqp=CMS3-4oG&rs=AOn4CLCmvnS3bfIp4PoAEtNpC_zPR9QXvg', 'width': 320, 'height': 180}, 'descriptionSnippet': [{'text': 'Grab your Blood Sugar Breakthrough at https://bloodsugarbreakthrough.health/jp20 Use Discount Code \"AWJP\" for a Deal Check\\xa0...'}], 'channel': {'name': 'AwakenWithJP', 'id': 'UCwUizOU8pPWXdXNniXypQEQ', 'thumbnails': [{'url': 'https://yt3.ggpht.com/h5s6dVOF3Z35f12EMF7-7y7mXE2B1iyTcrIXiMcta-KyMvcK-kUgZXK-p36V8AKSp-vfJc_q=s68-c-k-c0x00ffffff-no-rj', 'width': 68, 'height': 68}], 'link': 'https://www.youtube.com/channel/UCwUizOU8pPWXdXNniXypQEQ'}, 'accessibility': {'title': 'Why Life Jackets Should Be Mandatory! by AwakenWithJP 4 days ago 5 minutes, 39 seconds 1,170,725 views', 'duration': '5 minutes, 39 seconds'}, 'link': 'https://www.youtube.com/watch?v=GukIoZ8d3Ew', 'shelfTitle': None}, {'type': 'video', 'id': 'BboMpayJomw', 'title': 'Billie Eilish - No Time To Die', 'publishedTime': '1 year ago', 'duration': '4:00', 'viewCount': {'text': '46,469,626 views', 'short': '46M views'}, 'thumbnails': [{'url': 'https://i.ytimg.com/vi/BboMpayJomw/hq720.jpg?sqp=-oaymwEcCOgCEMoBSFXyq4qpAw4IARUAAIhCGAFwAcABBg==&rs=AOn4CLD9UDbR1rGX3HCsd_1Pz_5aVreQgg', 'width': 360, 'height': 202}, {'url': 'https://i.ytimg.com/vi/BboMpayJomw/hq720.jpg?sqp=-oaymwEcCNAFEJQDSFXyq4qpAw4IARUAAIhCGAFwAcABBg==&rs=AOn4CLA89kdWNOWgYuQD90egRH4t1Jy39Q', 'width': 720, 'height': 404}], 'richThumbnail': {'url': 'https://i.ytimg.com/an_webp/BboMpayJomw/mqdefault_6s.webp?du=3000&sqp=CIjb-4oG&rs=AOn4CLDRV8FsF9dbvM-u1wcsPwyHkqLuUA', 'width': 320, 'height': 180}, 'descriptionSnippet': [{'text': 'Music video by Billie Eilish performing No '}, {'text': 'Time', 'bold': True}, {'text': ' To Die. © 2020 Darkroom/Interscope Records http://vevo.ly/Dupdf6.'}], 'channel': {'name': 'Billie Eilish', 'id': 'UCiGm_E4ZwYSHV3bcW1pnSeQ', 'thumbnails': [{'url': 'https://yt3.ggpht.com/ytc/AKedOLTAirqzFYUbcrpr8K0Bh8iDCZvBopbEb3K9klVNBA=s88-c-k-c0x00ffffff-no-rj', 'width': 68, 'height': 68}], 'link': 'https://www.youtube.com/channel/UCiGm_E4ZwYSHV3bcW1pnSeQ'}, 'accessibility': {'title': 'Billie Eilish - No Time To Die by Billie Eilish 1 year ago 4 minutes 46,469,626 views', 'duration': '4 minutes'}, 'link': 'https://www.youtube.com/watch?v=BboMpayJomw', 'shelfTitle': None}, {'type': 'video', 'id': 'hlznpxNGFGQ', 'title': 'Clean Bandit - Baby (feat. Marina & Luis Fonsi) [Official Video]', 'publishedTime': '2 years ago', 'duration': '4:08', 'viewCount': {'text': '279,284,208 views', 'short': '279M views'}, 'thumbnails': [{'url': 'https://i.ytimg.com/vi/hlznpxNGFGQ/hq720.jpg?sqp=-oaymwEcCOgCEMoBSFXyq4qpAw4IARUAAIhCGAFwAcABBg==&rs=AOn4CLCgiVoqTeniyYDLi1AecLiSYDsNUw', 'width': 360, 'height': 202}, {'url': 'https://i.ytimg.com/vi/hlznpxNGFGQ/hq720.jpg?sqp=-oaymwEcCNAFEJQDSFXyq4qpAw4IARUAAIhCGAFwAcABBg==&rs=AOn4CLBrGYnny0EIor3wCnCV4E6wZapS5Q', 'width': 720, 'height': 404}], 'richThumbnail': {'url': 'https://i.ytimg.com/an_webp/hlznpxNGFGQ/mqdefault_6s.webp?du=3000&sqp=CNi7-4oG&rs=AOn4CLC3fmeEjNiG705YbrfrGwaS9xeB9w', 'width': 320, 'height': 180}, 'descriptionSnippet': [{'text': 'Download or stream our new single Tick Tock with Mabel ft. 24kGoldn: https://cleanbandit.lnk.to/TickTock Download or stream\\xa0...'}], 'channel': {'name': 'Clean Bandit', 'id': 'UCvhQPdeTHzIRneScV8MIocg', 'thumbnails': [{'url': 'https://yt3.ggpht.com/FKUkrslGErLkesB0nSWEWL8cgtVawEnBssCeYUpPbfCZ1hb5piPf2qSmJtoDv4zRMrrvgxgQJA=s88-c-k-c0x00ffffff-no-rj', 'width': 68, 'height': 68}], 'link': 'https://www.youtube.com/channel/UCvhQPdeTHzIRneScV8MIocg'}, 'accessibility': {'title': 'Clean Bandit - Baby (feat. Marina & Luis Fonsi) [Official Video] by Clean Bandit 2 years ago 4 minutes, 8 seconds 279,284,208 views', 'duration': '4 minutes, 8 seconds'}, 'link': 'https://www.youtube.com/watch?v=hlznpxNGFGQ', 'shelfTitle': None}, {'type': 'video', 'id': 'xlg-HDnh_TQ', 'title': 'DEG DEG MD Farmajo Oo Tuutaha Gashaday, Dagaalka Oo Qarxay, Qoor Qoor Oo Garab Istaag Wayn Helay', 'publishedTime': '7 hours ago', 'duration': '11:53', 'viewCount': {'text': '16,409 views', 'short': '16K views'}, 'thumbnails': [{'url': 'https://i.ytimg.com/vi/xlg-HDnh_TQ/hq720.jpg?sqp=-oaymwEcCOgCEMoBSFXyq4qpAw4IARUAAIhCGAFwAcABBg==&rs=AOn4CLBDAUlHTuklsqgKPWs9yctVJR3ZQg', 'width': 360, 'height': 202}, {'url': 'https://i.ytimg.com/vi/xlg-HDnh_TQ/hq720.jpg?sqp=-oaymwEcCNAFEJQDSFXyq4qpAw4IARUAAIhCGAFwAcABBg==&rs=AOn4CLAK0oG3vnUOwBcS4qPs6aDV5ESKpQ', 'width': 720, 'height': 404}], 'richThumbnail': {'url': 'https://i.ytimg.com/an_webp/xlg-HDnh_TQ/mqdefault_6s.webp?du=3000&sqp=CNiq-4oG&rs=AOn4CLBe3LEua7ipyACV6Accn_9pRKMwzg', 'width': 320, 'height': 180}, 'descriptionSnippet': [{'text': 'Item '}, {'text': 'Title', 'bold': True}, {'text': ': News Item URL: https://elements.envato.com/news-V2UJTZQ Item '}, {'text': 'ID', 'bold': True}, {'text': ': V2UJTZQ Author Username: MusicalSmile\\xa0...'}], 'channel': {'name': 'WADDANKA TV', 'id': 'UCI0sz1-w9Mo-SQ0AFQ7ZuUQ', 'thumbnails': [{'url': 'https://yt3.ggpht.com/ytc/AKedOLQfWC-PLkEyBTMwwLFrwGNxoGNq53rZ6l17_eO4sA=s68-c-k-c0x00ffffff-no-rj', 'width': 68, 'height': 68}], 'link': 'https://www.youtube.com/channel/UCI0sz1-w9Mo-SQ0AFQ7ZuUQ'}, 'accessibility': {'title': 'DEG DEG MD Farmajo Oo Tuutaha Gashaday, Dagaalka Oo Qarxay, Qoor Qoor Oo Garab Istaag Wayn Helay by WADDANKA TV 7 hours ago 11 minutes, 53 seconds 16,409 views', 'duration': '11 minutes, 53 seconds'}, 'link': 'https://www.youtube.com/watch?v=xlg-HDnh_TQ', 'shelfTitle': None}, {'type': 'video', 'id': 'by3yRdlQvzs', 'title': 'Khalid - Location (Official Video)', 'publishedTime': '5 years ago', 'duration': '3:42', 'viewCount': {'text': '513,504,587 views', 'short': '513M views'}, 'thumbnails': [{'url': 'https://i.ytimg.com/vi/by3yRdlQvzs/hq720.jpg?sqp=-oaymwEcCOgCEMoBSFXyq4qpAw4IARUAAIhCGAFwAcABBg==&rs=AOn4CLAFE-oJk6aF_nhrUO4gsDobVuqixA', 'width': 360, 'height': 202}, {'url': 'https://i.ytimg.com/vi/by3yRdlQvzs/hq720.jpg?sqp=-oaymwEcCNAFEJQDSFXyq4qpAw4IARUAAIhCGAFwAcABBg==&rs=AOn4CLCE3LSFgu7TJksFb4VthM-WwSDoww', 'width': 720, 'height': 404}], 'richThumbnail': {'url': 'https://i.ytimg.com/an_webp/by3yRdlQvzs/mqdefault_6s.webp?du=3000&sqp=CP-z-4oG&rs=AOn4CLA7HCLxDPS7JJWwfK1aGfxlYNsyhg', 'width': 320, 'height': 180}, 'descriptionSnippet': [{'text': 'Lyrics: Send me your '}, {'text': 'location', 'bold': True}, {'text': \", let's Focus on communicating 'Cause I just need the \"}, {'text': 'time', 'bold': True}, {'text': ' and '}, {'text': 'place', 'bold': True}, {'text': ' to come through ('}, {'text': 'place', 'bold': True}, {'text': ' to\\xa0...'}], 'channel': {'name': 'Khalid', 'id': 'UCkntT5Je5DDopF70YUsnuEQ', 'thumbnails': [{'url': 'https://yt3.ggpht.com/H0d6VEs50RnnHxCFbwLU_Z2ItKjt_LDzcHxuqup3CBZrwqyMbHBUsZqXJUPsNeK7w81lJr1yYQ=s88-c-k-c0x00ffffff-no-rj', 'width': 68, 'height': 68}], 'link': 'https://www.youtube.com/channel/UCkntT5Je5DDopF70YUsnuEQ'}, 'accessibility': {'title': 'Khalid - Location (Official Video) by Khalid 5 years ago 3 minutes, 42 seconds 513,504,587 views', 'duration': '3 minutes, 42 seconds'}, 'link': 'https://www.youtube.com/watch?v=by3yRdlQvzs', 'shelfTitle': None}, {'type': 'video', 'id': 'RHUYL_NVC3I', 'title': 'Fortnite Naruto Trailer', 'publishedTime': '2 days ago', 'duration': '12:31', 'viewCount': {'text': '98,265 views', 'short': '98K views'}, 'thumbnails': [{'url': 'https://i.ytimg.com/vi/RHUYL_NVC3I/hq720.jpg?sqp=-oaymwEcCOgCEMoBSFXyq4qpAw4IARUAAIhCGAFwAcABBg==&rs=AOn4CLCpgMUzoYzAZYzJice6aIVE9G9Dlg', 'width': 360, 'height': 202}, {'url': 'https://i.ytimg.com/vi/RHUYL_NVC3I/hq720.jpg?sqp=-oaymwEcCNAFEJQDSFXyq4qpAw4IARUAAIhCGAFwAcABBg==&rs=AOn4CLCXrru9m89HdwTZGcG_Ve9q67agRw', 'width': 720, 'height': 404}], 'richThumbnail': {'url': 'https://i.ytimg.com/an_webp/RHUYL_NVC3I/mqdefault_6s.webp?du=3000&sqp=CMy3-4oG&rs=AOn4CLALn3kXq-2zAOipMkwG7FJuPAHB2Q', 'width': 320, 'height': 180}, 'descriptionSnippet': [{'text': \"Fortnite Naruto Trailer ▭▭▭▭▭▭▭▭▭▭▭▭▭▭▭▭▭▭▭▭ Today's Fortnite 60fps Gameplay video covers Fortnite Naruto\\xa0...\"}], 'channel': {'name': 'FriendlyMachine', 'id': 'UCIeZnTPkQL2wwiGJ1iqJMyA', 'thumbnails': [{'url': 'https://yt3.ggpht.com/ytc/AKedOLRo6e_OHyfzV-N0wX7PfBV6eNdoBOzM7LIdjyE3JA=s68-c-k-c0x00ffffff-no-rj', 'width': 68, 'height': 68}], 'link': 'https://www.youtube.com/channel/UCIeZnTPkQL2wwiGJ1iqJMyA'}, 'accessibility': {'title': 'Fortnite Naruto Trailer by FriendlyMachine 2 days ago 12 minutes, 31 seconds 98,265 views', 'duration': '12 minutes, 31 seconds'}, 'link': 'https://www.youtube.com/watch?v=RHUYL_NVC3I', 'shelfTitle': None}, {'type': 'video', 'id': 'g9FY9D9ig3U', 'title': 'DEG DEG Qoor qoor oo jab u geystay ahlusuna, farmaajo oo seefta labaxay, T/ xijaar oo afduub...', 'publishedTime': '9 hours ago', 'duration': '11:22', 'viewCount': {'text': '6,019 views', 'short': '6K views'}, 'thumbnails': [{'url': 'https://i.ytimg.com/vi/g9FY9D9ig3U/hq720.jpg?sqp=-oaymwEcCOgCEMoBSFXyq4qpAw4IARUAAIhCGAFwAcABBg==&rs=AOn4CLCi3VkrKsC7fNDHbds6zMtUX7SQFg', 'width': 360, 'height': 202}, {'url': 'https://i.ytimg.com/vi/g9FY9D9ig3U/hq720.jpg?sqp=-oaymwEcCNAFEJQDSFXyq4qpAw4IARUAAIhCGAFwAcABBg==&rs=AOn4CLAESwOQDuS7pW4GhV87B48MSUy48Q', 'width': 720, 'height': 404}], 'richThumbnail': {'url': 'https://i.ytimg.com/an_webp/g9FY9D9ig3U/mqdefault_6s.webp?du=3000&sqp=CLfY-4oG&rs=AOn4CLDuZrzpRDXA6ms_JEVirT6vjFNVMA', 'width': 320, 'height': 180}, 'descriptionSnippet': [{'text': 'Item '}, {'text': 'Title', 'bold': True}, {'text': ': Breaking News Item URL: https://elements.envato.com/breaking-news-NB2TDKL Item '}, {'text': 'ID', 'bold': True}, {'text': ': NB2TDKL Author Username:\\xa0...'}], 'channel': {'name': 'IDAACADDA WADDANKA', 'id': 'UCAswZS9nem1Hpv5WQGVDoXw', 'thumbnails': [{'url': 'https://yt3.ggpht.com/w7HYi8PFJhp43RsCWdAwBgLzzJzmQJUrgc-i5f0uTfycTKZvfYKixKXVI7U0Odqu7Vdon7jC=s68-c-k-c0x00ffffff-no-rj', 'width': 68, 'height': 68}], 'link': 'https://www.youtube.com/channel/UCAswZS9nem1Hpv5WQGVDoXw'}, 'accessibility': {'title': 'DEG DEG Qoor qoor oo jab u geystay ahlusuna, farmaajo oo seefta labaxay, T/ xijaar oo afduub... by IDAACADDA WADDANKA 9 hours ago 11 minutes, 22 seconds 6,019 views', 'duration': '11 minutes, 22 seconds'}, 'link': 'https://www.youtube.com/watch?v=g9FY9D9ig3U', 'shelfTitle': None}, {'type': 'video', 'id': 'lWGx7EL_rsQ', 'title': 'THERE IS A PLACE - NATHANIEL BASSEY', 'publishedTime': '3 months ago', 'duration': '8:09', 'viewCount': {'text': '2,472,283 views', 'short': '2.4M views'}, 'thumbnails': [{'url': 'https://i.ytimg.com/vi/lWGx7EL_rsQ/hq720.jpg?sqp=-oaymwEcCOgCEMoBSFXyq4qpAw4IARUAAIhCGAFwAcABBg==&rs=AOn4CLDW2Gcr5KA3sxTphjxH9LAwU-xVfQ', 'width': 360, 'height': 202}, {'url': 'https://i.ytimg.com/vi/lWGx7EL_rsQ/hq720.jpg?sqp=-oaymwEcCNAFEJQDSFXyq4qpAw4IARUAAIhCGAFwAcABBg==&rs=AOn4CLA5oSexG5QlabPsskOG0tugwqdftw', 'width': 720, 'height': 404}], 'richThumbnail': {'url': 'https://i.ytimg.com/an_webp/lWGx7EL_rsQ/mqdefault_6s.webp?du=3000&sqp=CJS3-4oG&rs=AOn4CLCwgBoX6Py5FGAaYgL72Ohzy4vCqw', 'width': 320, 'height': 180}, 'descriptionSnippet': [{'text': 'A SONG OF HIS PRESENCE.'}], 'channel': {'name': 'Nathaniel Bassey Main', 'id': 'UCRe2Ir9wtPk_YQjElam7n2w', 'thumbnails': [{'url': 'https://yt3.ggpht.com/ytc/AKedOLQ2CzZFlgYq22ElsI-0I0dQJDAYuUEBfd-J391S=s88-c-k-c0x00ffffff-no-rj', 'width': 68, 'height': 68}], 'link': 'https://www.youtube.com/channel/UCRe2Ir9wtPk_YQjElam7n2w'}, 'accessibility': {'title': 'THERE IS A PLACE - NATHANIEL BASSEY by Nathaniel Bassey Main 3 months ago 8 minutes, 9 seconds 2,472,283 views', 'duration': '8 minutes, 9 seconds'}, 'link': 'https://www.youtube.com/watch?v=lWGx7EL_rsQ', 'shelfTitle': None}, {'type': 'video', 'id': 'sCSJAb0UaYU', 'title': 'COMPLAINING CHANGES NOTHING | Jim Rohn, Tony Robbins, Wayne Dyer', 'publishedTime': '1 hour ago', 'duration': '10:44', 'viewCount': {'text': '402 views', 'short': '402 views'}, 'thumbnails': [{'url': 'https://i.ytimg.com/vi/sCSJAb0UaYU/hq720.jpg?sqp=-oaymwEcCOgCEMoBSFXyq4qpAw4IARUAAIhCGAFwAcABBg==&rs=AOn4CLCdZLi3U4ue1oyqF-Gc4rQ4zoRO_A', 'width': 360, 'height': 202}, {'url': 'https://i.ytimg.com/vi/sCSJAb0UaYU/hq720.jpg?sqp=-oaymwEcCNAFEJQDSFXyq4qpAw4IARUAAIhCGAFwAcABBg==&rs=AOn4CLAXnME_s6c1dCeU8XQ4YRIcbQY7uw', 'width': 720, 'height': 404}], 'richThumbnail': {'url': 'https://i.ytimg.com/an_webp/sCSJAb0UaYU/mqdefault_6s.webp?du=3000&sqp=CIHg-4oG&rs=AOn4CLCLmAyTC3d1hfx2HcoXA0nxVAosVg', 'width': 320, 'height': 180}, 'descriptionSnippet': [{'text': 'COMPLAINING CHANGES NOTHING | Jim Rohn, Tony Robbins, Wayne Dyer Speakers: Tony Robbins Jim Rohn Jim Kwik\\xa0...'}], 'channel': {'name': 'The Motivation', 'id': 'UC5QsW5oHau40D3UrdHy1YSw', 'thumbnails': [{'url': 'https://yt3.ggpht.com/ytc/AKedOLToivtfCV2fWIdJLFli4IT1IHlrQMkGFkptByehzw=s68-c-k-c0x00ffffff-no-rj', 'width': 68, 'height': 68}], 'link': 'https://www.youtube.com/channel/UC5QsW5oHau40D3UrdHy1YSw'}, 'accessibility': {'title': 'COMPLAINING CHANGES NOTHING | Jim Rohn, Tony Robbins, Wayne Dyer by The Motivation 1 hour ago 10 minutes, 44 seconds 402 views', 'duration': '10 minutes, 44 seconds'}, 'link': 'https://www.youtube.com/watch?v=sCSJAb0UaYU', 'shelfTitle': None}, {'type': 'video', 'id': 'oqxAJKy0ii4', 'title': 'Squid Game | Official Trailer | Netflix', 'publishedTime': '1 month ago', 'duration': '2:20', 'viewCount': {'text': '21,369,362 views', 'short': '21M views'}, 'thumbnails': [{'url': 'https://i.ytimg.com/vi/oqxAJKy0ii4/hq720.jpg?sqp=-oaymwEcCOgCEMoBSFXyq4qpAw4IARUAAIhCGAFwAcABBg==&rs=AOn4CLBZhJBJBHxj-gY_zKzWJ6rj5pc9Fw', 'width': 360, 'height': 202}, {'url': 'https://i.ytimg.com/vi/oqxAJKy0ii4/hq720.jpg?sqp=-oaymwEcCNAFEJQDSFXyq4qpAw4IARUAAIhCGAFwAcABBg==&rs=AOn4CLCg-KGxP_f_N0jyxZ12mH2uOn8YXw', 'width': 720, 'height': 404}], 'richThumbnail': {'url': 'https://i.ytimg.com/an_webp/oqxAJKy0ii4/mqdefault_6s.webp?du=3000&sqp=CIrA-4oG&rs=AOn4CLB4x5z6OQJN8gx2tVAG_uWMaVFCUQ', 'width': 320, 'height': 180}, 'descriptionSnippet': [{'text': 'A Netflix Series | Squid Game Survive or die Who will live to see 45.6 billion won? Squid Game | Coming September 17, only on\\xa0...'}], 'channel': {'name': 'Netflix', 'id': 'UCWOA1ZGywLbqmigxE4Qlvuw', 'thumbnails': [{'url': 'https://yt3.ggpht.com/ytc/AKedOLSIL-3Y7k9QAFE2MKEtPe5I4gmTdJ5dCyxFH-sxbg=s68-c-k-c0x00ffffff-no-rj', 'width': 68, 'height': 68}], 'link': 'https://www.youtube.com/channel/UCWOA1ZGywLbqmigxE4Qlvuw'}, 'accessibility': {'title': 'Squid Game | Official Trailer | Netflix by Netflix 1 month ago 2 minutes, 20 seconds 21,369,362 views', 'duration': '2 minutes, 20 seconds'}, 'link': 'https://www.youtube.com/watch?v=oqxAJKy0ii4', 'shelfTitle': None}, {'type': 'video', 'id': '_mFbbBTDPRo', 'title': '¿Vender en Amazon, Mercado libre ó Mi propia tienda online?', 'publishedTime': '10 hours ago', 'duration': '9:58', 'viewCount': {'text': '48 views', 'short': '48 views'}, 'thumbnails': [{'url': 'https://i.ytimg.com/vi/_mFbbBTDPRo/hq720.jpg?sqp=-oaymwEcCOgCEMoBSFXyq4qpAw4IARUAAIhCGAFwAcABBg==&rs=AOn4CLCSY_roblwV-Yig55idqO6jBEwLXg', 'width': 360, 'height': 202}, {'url': 'https://i.ytimg.com/vi/_mFbbBTDPRo/hq720.jpg?sqp=-oaymwEcCNAFEJQDSFXyq4qpAw4IARUAAIhCGAFwAcABBg==&rs=AOn4CLBoi-OeOt8nGGifEbrZZ2IFku3nHA', 'width': 720, 'height': 404}], 'richThumbnail': {'url': 'https://i.ytimg.com/an_webp/_mFbbBTDPRo/mqdefault_6s.webp?du=3000&sqp=CO7J-4oG&rs=AOn4CLCdFLIMFOFA9edUfnWekJoklvdi7g', 'width': 320, 'height': 180}, 'descriptionSnippet': [{'text': 'Las tiendas en linea son cosa del pasado, Si no tienes un producto Original, o eres dueño de una marca, tu futuro como\\xa0...'}], 'channel': {'name': 'Juan De Avila', 'id': 'UCcck1iPiQeRSu_PAKOWVSkg', 'thumbnails': [{'url': 'https://yt3.ggpht.com/ytc/AKedOLTPt_7M6H3sGcjDmoVfIIchTBdO6ULb0LERUOHaqA=s68-c-k-c0x00ffffff-no-rj', 'width': 68, 'height': 68}], 'link': 'https://www.youtube.com/channel/UCcck1iPiQeRSu_PAKOWVSkg'}, 'accessibility': {'title': '¿Vender en Amazon, Mercado libre ó Mi propia tienda online? by Juan De Avila 10 hours ago 9 minutes, 58 seconds 48 views', 'duration': '9 minutes, 58 seconds'}, 'link': 'https://www.youtube.com/watch?v=_mFbbBTDPRo', 'shelfTitle': None}]}\n"
     ]
    }
   ],
   "source": [
    "from youtubesearchpython import VideosSearch\n",
    "\n",
    "videosSearch = VideosSearch(place_clean2, limit = 20)\n",
    "print(videosSearch.result())\n",
    "\n",
    "search = VideosSearch('NoCopyrightSounds')\n",
    "search.next()\n",
    "\n",
    "videosSearch = VideosSearch(place_clean2, limit = 20)\n",
    "print(videosSearch.result())"
   ]
  },
  {
   "cell_type": "code",
   "execution_count": 33,
   "id": "aeea602b",
   "metadata": {},
   "outputs": [
    {
     "data": {
      "text/plain": [
       "479722"
      ]
     },
     "execution_count": 33,
     "metadata": {},
     "output_type": "execute_result"
    }
   ],
   "source": [
    "urllib.request.urlopen(\"https://www.youtube.com/results?search_query=\" + search_words).read().__sizeof__()"
   ]
  },
  {
   "cell_type": "code",
   "execution_count": 85,
   "id": "47eaa11b",
   "metadata": {},
   "outputs": [],
   "source": [
    "from __future__ import unicode_literals"
   ]
  },
  {
   "cell_type": "code",
   "execution_count": 6,
   "id": "d511ff0e",
   "metadata": {},
   "outputs": [],
   "source": [
    "video_dict.get('Aapravasi Ghat')"
   ]
  },
  {
   "cell_type": "code",
   "execution_count": 7,
   "id": "c30003be",
   "metadata": {},
   "outputs": [],
   "source": [
    "a_file = open(\"video_info.csv\", \"w\")\n",
    "writer = csv.writer(a_file)\n",
    "for key in video_dict:\n",
    "    a_file.write(\"%s,%s\\n\"%(key,video_dict[key]))\n",
    "a_file.close() "
   ]
  },
  {
   "cell_type": "code",
   "execution_count": 8,
   "id": "11cedb52",
   "metadata": {},
   "outputs": [],
   "source": [
    "video_df = pd.DataFrame.from_dict(video_dict, orient='index', columns=['id', 'duration', 'title', 'date'])"
   ]
  },
  {
   "cell_type": "code",
   "execution_count": 9,
   "id": "3b20566f",
   "metadata": {},
   "outputs": [],
   "source": [
    "video_df.to_csv('test.csv', index_label = 'place')"
   ]
  },
  {
   "cell_type": "code",
   "execution_count": 10,
   "id": "19c76853",
   "metadata": {},
   "outputs": [],
   "source": [
    "new_df = pd.read_csv('test.csv')"
   ]
  },
  {
   "cell_type": "code",
   "execution_count": 65,
   "id": "c24d462b",
   "metadata": {},
   "outputs": [
    {
     "data": {
      "text/html": [
       "<div>\n",
       "<style scoped>\n",
       "    .dataframe tbody tr th:only-of-type {\n",
       "        vertical-align: middle;\n",
       "    }\n",
       "\n",
       "    .dataframe tbody tr th {\n",
       "        vertical-align: top;\n",
       "    }\n",
       "\n",
       "    .dataframe thead th {\n",
       "        text-align: right;\n",
       "    }\n",
       "</style>\n",
       "<table border=\"1\" class=\"dataframe\">\n",
       "  <thead>\n",
       "    <tr style=\"text-align: right;\">\n",
       "      <th></th>\n",
       "      <th>place</th>\n",
       "      <th>id</th>\n",
       "      <th>duration</th>\n",
       "      <th>title</th>\n",
       "      <th>date</th>\n",
       "    </tr>\n",
       "  </thead>\n",
       "  <tbody>\n",
       "    <tr>\n",
       "      <th>0</th>\n",
       "      <td>Aapravasi Ghat</td>\n",
       "      <td>['CIdjpF_zhhI', 'Z_cf5JmUFzY', 'E5B4XKtTolA', ...</td>\n",
       "      <td>[486, 1758, 570, 168, 758, 201, 493, 490, 194,...</td>\n",
       "      <td>['Aapravasi Ghat World Heritage site', 'Aaprav...</td>\n",
       "      <td>['20181121', '20210716', '20120510', '20210716...</td>\n",
       "    </tr>\n",
       "  </tbody>\n",
       "</table>\n",
       "</div>"
      ],
      "text/plain": [
       "            place                                                 id  \\\n",
       "0  Aapravasi Ghat  ['CIdjpF_zhhI', 'Z_cf5JmUFzY', 'E5B4XKtTolA', ...   \n",
       "\n",
       "                                            duration  \\\n",
       "0  [486, 1758, 570, 168, 758, 201, 493, 490, 194,...   \n",
       "\n",
       "                                               title  \\\n",
       "0  ['Aapravasi Ghat World Heritage site', 'Aaprav...   \n",
       "\n",
       "                                                date  \n",
       "0  ['20181121', '20210716', '20120510', '20210716...  "
      ]
     },
     "execution_count": 65,
     "metadata": {},
     "output_type": "execute_result"
    }
   ],
   "source": [
    "new_df"
   ]
  },
  {
   "cell_type": "code",
   "execution_count": null,
   "id": "b1430590",
   "metadata": {},
   "outputs": [],
   "source": [
    "pip install -U future\n",
    "pip install common\n",
    "pip install -U common\n",
    "pip install -U future"
   ]
  },
  {
   "cell_type": "code",
   "execution_count": null,
   "id": "0879b65e",
   "metadata": {},
   "outputs": [],
   "source": [
    "from __future__ import unicode_literals\n",
    "\n",
    "from youtube_dl.extractor.common import InfoExtractor\n",
    "\n",
    "class YourExtractorIE(InfoExtractor):\n",
    "    _VALID_URL = r'https?://(?:www\\.)?yourextractor\\.com/watch/(?P<id>[0-9]+)'\n",
    "    _TEST = {\n",
    "        'url': 'https://yourextractor.com/watch/42',\n",
    "        'md5': 'TODO: md5 sum of the first 10241 bytes of the video file (use --test)',\n",
    "        'info_dict': {\n",
    "            'id': '42',\n",
    "            'ext': 'mp4',\n",
    "            'title': 'Video title goes here',\n",
    "            'thumbnail': r're:^https?://.*\\.jpg$',\n",
    "            \n",
    "        }\n",
    "    }\n",
    "\n",
    "    def _real_extract(self, url):\n",
    "        video_id = self._match_id(url)\n",
    "        webpage = self._download_webpage(url, video_id)\n",
    "\n",
    "        # TODO more code goes here, for example ...\n",
    "        title = self._html_search_regex(r'<h1>(.+?)</h1>', webpage, 'title')\n",
    "\n",
    "        return {\n",
    "            'id': video_id,\n",
    "            'title': title,\n",
    "            'description': self._og_search_description(webpage),\n",
    "            'uploader': self._search_regex(r'<div[^>]+id=\"uploader\"[^>]*>([^<]+)<', webpage, 'uploader', fatal=False),\n",
    "            # TODO more properties (see youtube_dl/extractor/common.py)\n",
    "        }"
   ]
  },
  {
   "cell_type": "code",
   "execution_count": null,
   "id": "fb7c2b1d",
   "metadata": {},
   "outputs": [],
   "source": []
  },
  {
   "cell_type": "code",
   "execution_count": 23,
   "id": "00b41130",
   "metadata": {},
   "outputs": [
    {
     "ename": "KeyboardInterrupt",
     "evalue": "",
     "output_type": "error",
     "traceback": [
      "\u001b[0;31m---------------------------------------------------------------------------\u001b[0m",
      "\u001b[0;31mKeyboardInterrupt\u001b[0m                         Traceback (most recent call last)",
      "\u001b[0;32m/tmp/ipykernel_11368/774246109.py\u001b[0m in \u001b[0;36m<module>\u001b[0;34m\u001b[0m\n\u001b[1;32m     33\u001b[0m     \u001b[0;32mfor\u001b[0m \u001b[0mvideo_id\u001b[0m \u001b[0;32min\u001b[0m \u001b[0mvideo_ids\u001b[0m\u001b[0;34m:\u001b[0m\u001b[0;34m\u001b[0m\u001b[0;34m\u001b[0m\u001b[0m\n\u001b[1;32m     34\u001b[0m         \u001b[0;32mwith\u001b[0m \u001b[0myoutube_dl\u001b[0m\u001b[0;34m.\u001b[0m\u001b[0mYoutubeDL\u001b[0m\u001b[0;34m(\u001b[0m\u001b[0mydl_opts\u001b[0m\u001b[0;34m)\u001b[0m \u001b[0;32mas\u001b[0m \u001b[0mydl\u001b[0m\u001b[0;34m:\u001b[0m\u001b[0;34m\u001b[0m\u001b[0;34m\u001b[0m\u001b[0m\n\u001b[0;32m---> 35\u001b[0;31m             \u001b[0mdictMeta\u001b[0m \u001b[0;34m=\u001b[0m \u001b[0mydl\u001b[0m\u001b[0;34m.\u001b[0m\u001b[0mextract_info\u001b[0m\u001b[0;34m(\u001b[0m\u001b[0;34m\"https://www.youtube.com/watch?v=%s\"\u001b[0m \u001b[0;34m%\u001b[0m \u001b[0mvideo_id\u001b[0m\u001b[0;34m,\u001b[0m \u001b[0mdownload\u001b[0m\u001b[0;34m=\u001b[0m\u001b[0;32mFalse\u001b[0m\u001b[0;34m)\u001b[0m\u001b[0;34m\u001b[0m\u001b[0;34m\u001b[0m\u001b[0m\n\u001b[0m\u001b[1;32m     36\u001b[0m             \u001b[0mdurations\u001b[0m\u001b[0;34m.\u001b[0m\u001b[0mappend\u001b[0m\u001b[0;34m(\u001b[0m\u001b[0mdictMeta\u001b[0m\u001b[0;34m[\u001b[0m\u001b[0;34m'duration'\u001b[0m\u001b[0;34m]\u001b[0m\u001b[0;34m)\u001b[0m\u001b[0;34m\u001b[0m\u001b[0;34m\u001b[0m\u001b[0m\n\u001b[1;32m     37\u001b[0m             \u001b[0mtitles\u001b[0m\u001b[0;34m.\u001b[0m\u001b[0mappend\u001b[0m\u001b[0;34m(\u001b[0m\u001b[0mdictMeta\u001b[0m\u001b[0;34m[\u001b[0m\u001b[0;34m'title'\u001b[0m\u001b[0;34m]\u001b[0m\u001b[0;34m)\u001b[0m\u001b[0;34m\u001b[0m\u001b[0;34m\u001b[0m\u001b[0m\n",
      "\u001b[0;32m~/anaconda3/envs/dhlab_project/lib/python3.8/site-packages/youtube_dl/YoutubeDL.py\u001b[0m in \u001b[0;36mextract_info\u001b[0;34m(self, url, download, ie_key, extra_info, process, force_generic_extractor)\u001b[0m\n\u001b[1;32m    806\u001b[0m                                     'and will probably not work.')\n\u001b[1;32m    807\u001b[0m \u001b[0;34m\u001b[0m\u001b[0m\n\u001b[0;32m--> 808\u001b[0;31m             \u001b[0;32mreturn\u001b[0m \u001b[0mself\u001b[0m\u001b[0;34m.\u001b[0m\u001b[0m__extract_info\u001b[0m\u001b[0;34m(\u001b[0m\u001b[0murl\u001b[0m\u001b[0;34m,\u001b[0m \u001b[0mie\u001b[0m\u001b[0;34m,\u001b[0m \u001b[0mdownload\u001b[0m\u001b[0;34m,\u001b[0m \u001b[0mextra_info\u001b[0m\u001b[0;34m,\u001b[0m \u001b[0mprocess\u001b[0m\u001b[0;34m)\u001b[0m\u001b[0;34m\u001b[0m\u001b[0;34m\u001b[0m\u001b[0m\n\u001b[0m\u001b[1;32m    809\u001b[0m         \u001b[0;32melse\u001b[0m\u001b[0;34m:\u001b[0m\u001b[0;34m\u001b[0m\u001b[0;34m\u001b[0m\u001b[0m\n\u001b[1;32m    810\u001b[0m             \u001b[0mself\u001b[0m\u001b[0;34m.\u001b[0m\u001b[0mreport_error\u001b[0m\u001b[0;34m(\u001b[0m\u001b[0;34m'no suitable InfoExtractor for URL %s'\u001b[0m \u001b[0;34m%\u001b[0m \u001b[0murl\u001b[0m\u001b[0;34m)\u001b[0m\u001b[0;34m\u001b[0m\u001b[0;34m\u001b[0m\u001b[0m\n",
      "\u001b[0;32m~/anaconda3/envs/dhlab_project/lib/python3.8/site-packages/youtube_dl/YoutubeDL.py\u001b[0m in \u001b[0;36mwrapper\u001b[0;34m(self, *args, **kwargs)\u001b[0m\n\u001b[1;32m    813\u001b[0m         \u001b[0;32mdef\u001b[0m \u001b[0mwrapper\u001b[0m\u001b[0;34m(\u001b[0m\u001b[0mself\u001b[0m\u001b[0;34m,\u001b[0m \u001b[0;34m*\u001b[0m\u001b[0margs\u001b[0m\u001b[0;34m,\u001b[0m \u001b[0;34m**\u001b[0m\u001b[0mkwargs\u001b[0m\u001b[0;34m)\u001b[0m\u001b[0;34m:\u001b[0m\u001b[0;34m\u001b[0m\u001b[0;34m\u001b[0m\u001b[0m\n\u001b[1;32m    814\u001b[0m             \u001b[0;32mtry\u001b[0m\u001b[0;34m:\u001b[0m\u001b[0;34m\u001b[0m\u001b[0;34m\u001b[0m\u001b[0m\n\u001b[0;32m--> 815\u001b[0;31m                 \u001b[0;32mreturn\u001b[0m \u001b[0mfunc\u001b[0m\u001b[0;34m(\u001b[0m\u001b[0mself\u001b[0m\u001b[0;34m,\u001b[0m \u001b[0;34m*\u001b[0m\u001b[0margs\u001b[0m\u001b[0;34m,\u001b[0m \u001b[0;34m**\u001b[0m\u001b[0mkwargs\u001b[0m\u001b[0;34m)\u001b[0m\u001b[0;34m\u001b[0m\u001b[0;34m\u001b[0m\u001b[0m\n\u001b[0m\u001b[1;32m    816\u001b[0m             \u001b[0;32mexcept\u001b[0m \u001b[0mGeoRestrictedError\u001b[0m \u001b[0;32mas\u001b[0m \u001b[0me\u001b[0m\u001b[0;34m:\u001b[0m\u001b[0;34m\u001b[0m\u001b[0;34m\u001b[0m\u001b[0m\n\u001b[1;32m    817\u001b[0m                 \u001b[0mmsg\u001b[0m \u001b[0;34m=\u001b[0m \u001b[0me\u001b[0m\u001b[0;34m.\u001b[0m\u001b[0mmsg\u001b[0m\u001b[0;34m\u001b[0m\u001b[0;34m\u001b[0m\u001b[0m\n",
      "\u001b[0;32m~/anaconda3/envs/dhlab_project/lib/python3.8/site-packages/youtube_dl/YoutubeDL.py\u001b[0m in \u001b[0;36m__extract_info\u001b[0;34m(self, url, ie, download, extra_info, process)\u001b[0m\n\u001b[1;32m    834\u001b[0m     \u001b[0;34m@\u001b[0m\u001b[0m__handle_extraction_exceptions\u001b[0m\u001b[0;34m\u001b[0m\u001b[0;34m\u001b[0m\u001b[0m\n\u001b[1;32m    835\u001b[0m     \u001b[0;32mdef\u001b[0m \u001b[0m__extract_info\u001b[0m\u001b[0;34m(\u001b[0m\u001b[0mself\u001b[0m\u001b[0;34m,\u001b[0m \u001b[0murl\u001b[0m\u001b[0;34m,\u001b[0m \u001b[0mie\u001b[0m\u001b[0;34m,\u001b[0m \u001b[0mdownload\u001b[0m\u001b[0;34m,\u001b[0m \u001b[0mextra_info\u001b[0m\u001b[0;34m,\u001b[0m \u001b[0mprocess\u001b[0m\u001b[0;34m)\u001b[0m\u001b[0;34m:\u001b[0m\u001b[0;34m\u001b[0m\u001b[0;34m\u001b[0m\u001b[0m\n\u001b[0;32m--> 836\u001b[0;31m         \u001b[0mie_result\u001b[0m \u001b[0;34m=\u001b[0m \u001b[0mie\u001b[0m\u001b[0;34m.\u001b[0m\u001b[0mextract\u001b[0m\u001b[0;34m(\u001b[0m\u001b[0murl\u001b[0m\u001b[0;34m)\u001b[0m\u001b[0;34m\u001b[0m\u001b[0;34m\u001b[0m\u001b[0m\n\u001b[0m\u001b[1;32m    837\u001b[0m         \u001b[0;32mif\u001b[0m \u001b[0mie_result\u001b[0m \u001b[0;32mis\u001b[0m \u001b[0;32mNone\u001b[0m\u001b[0;34m:\u001b[0m  \u001b[0;31m# Finished already (backwards compatibility; listformats and friends should be moved here)\u001b[0m\u001b[0;34m\u001b[0m\u001b[0;34m\u001b[0m\u001b[0m\n\u001b[1;32m    838\u001b[0m             \u001b[0;32mreturn\u001b[0m\u001b[0;34m\u001b[0m\u001b[0;34m\u001b[0m\u001b[0m\n",
      "\u001b[0;32m~/anaconda3/envs/dhlab_project/lib/python3.8/site-packages/youtube_dl/extractor/common.py\u001b[0m in \u001b[0;36mextract\u001b[0;34m(self, url)\u001b[0m\n\u001b[1;32m    532\u001b[0m                 \u001b[0;32mtry\u001b[0m\u001b[0;34m:\u001b[0m\u001b[0;34m\u001b[0m\u001b[0;34m\u001b[0m\u001b[0m\n\u001b[1;32m    533\u001b[0m                     \u001b[0mself\u001b[0m\u001b[0;34m.\u001b[0m\u001b[0minitialize\u001b[0m\u001b[0;34m(\u001b[0m\u001b[0;34m)\u001b[0m\u001b[0;34m\u001b[0m\u001b[0;34m\u001b[0m\u001b[0m\n\u001b[0;32m--> 534\u001b[0;31m                     \u001b[0mie_result\u001b[0m \u001b[0;34m=\u001b[0m \u001b[0mself\u001b[0m\u001b[0;34m.\u001b[0m\u001b[0m_real_extract\u001b[0m\u001b[0;34m(\u001b[0m\u001b[0murl\u001b[0m\u001b[0;34m)\u001b[0m\u001b[0;34m\u001b[0m\u001b[0;34m\u001b[0m\u001b[0m\n\u001b[0m\u001b[1;32m    535\u001b[0m                     \u001b[0;32mif\u001b[0m \u001b[0mself\u001b[0m\u001b[0;34m.\u001b[0m\u001b[0m_x_forwarded_for_ip\u001b[0m\u001b[0;34m:\u001b[0m\u001b[0;34m\u001b[0m\u001b[0;34m\u001b[0m\u001b[0m\n\u001b[1;32m    536\u001b[0m                         \u001b[0mie_result\u001b[0m\u001b[0;34m[\u001b[0m\u001b[0;34m'__x_forwarded_for_ip'\u001b[0m\u001b[0;34m]\u001b[0m \u001b[0;34m=\u001b[0m \u001b[0mself\u001b[0m\u001b[0;34m.\u001b[0m\u001b[0m_x_forwarded_for_ip\u001b[0m\u001b[0;34m\u001b[0m\u001b[0;34m\u001b[0m\u001b[0m\n",
      "\u001b[0;32m~/anaconda3/envs/dhlab_project/lib/python3.8/site-packages/youtube_dl/extractor/youtube.py\u001b[0m in \u001b[0;36m_real_extract\u001b[0;34m(self, url)\u001b[0m\n\u001b[1;32m   1479\u001b[0m         \u001b[0mbase_url\u001b[0m \u001b[0;34m=\u001b[0m \u001b[0mself\u001b[0m\u001b[0;34m.\u001b[0m\u001b[0mhttp_scheme\u001b[0m\u001b[0;34m(\u001b[0m\u001b[0;34m)\u001b[0m \u001b[0;34m+\u001b[0m \u001b[0;34m'//www.youtube.com/'\u001b[0m\u001b[0;34m\u001b[0m\u001b[0;34m\u001b[0m\u001b[0m\n\u001b[1;32m   1480\u001b[0m         \u001b[0mwebpage_url\u001b[0m \u001b[0;34m=\u001b[0m \u001b[0mbase_url\u001b[0m \u001b[0;34m+\u001b[0m \u001b[0;34m'watch?v='\u001b[0m \u001b[0;34m+\u001b[0m \u001b[0mvideo_id\u001b[0m\u001b[0;34m\u001b[0m\u001b[0;34m\u001b[0m\u001b[0m\n\u001b[0;32m-> 1481\u001b[0;31m         webpage = self._download_webpage(\n\u001b[0m\u001b[1;32m   1482\u001b[0m             webpage_url + '&bpctr=9999999999&has_verified=1', video_id, fatal=False)\n\u001b[1;32m   1483\u001b[0m \u001b[0;34m\u001b[0m\u001b[0m\n",
      "\u001b[0;32m~/anaconda3/envs/dhlab_project/lib/python3.8/site-packages/youtube_dl/extractor/common.py\u001b[0m in \u001b[0;36m_download_webpage\u001b[0;34m(self, url_or_request, video_id, note, errnote, fatal, tries, timeout, encoding, data, headers, query, expected_status)\u001b[0m\n\u001b[1;32m    796\u001b[0m         \u001b[0;32mwhile\u001b[0m \u001b[0msuccess\u001b[0m \u001b[0;32mis\u001b[0m \u001b[0;32mFalse\u001b[0m\u001b[0;34m:\u001b[0m\u001b[0;34m\u001b[0m\u001b[0;34m\u001b[0m\u001b[0m\n\u001b[1;32m    797\u001b[0m             \u001b[0;32mtry\u001b[0m\u001b[0;34m:\u001b[0m\u001b[0;34m\u001b[0m\u001b[0;34m\u001b[0m\u001b[0m\n\u001b[0;32m--> 798\u001b[0;31m                 res = self._download_webpage_handle(\n\u001b[0m\u001b[1;32m    799\u001b[0m                     \u001b[0murl_or_request\u001b[0m\u001b[0;34m,\u001b[0m \u001b[0mvideo_id\u001b[0m\u001b[0;34m,\u001b[0m \u001b[0mnote\u001b[0m\u001b[0;34m,\u001b[0m \u001b[0merrnote\u001b[0m\u001b[0;34m,\u001b[0m \u001b[0mfatal\u001b[0m\u001b[0;34m,\u001b[0m\u001b[0;34m\u001b[0m\u001b[0;34m\u001b[0m\u001b[0m\n\u001b[1;32m    800\u001b[0m                     \u001b[0mencoding\u001b[0m\u001b[0;34m=\u001b[0m\u001b[0mencoding\u001b[0m\u001b[0;34m,\u001b[0m \u001b[0mdata\u001b[0m\u001b[0;34m=\u001b[0m\u001b[0mdata\u001b[0m\u001b[0;34m,\u001b[0m \u001b[0mheaders\u001b[0m\u001b[0;34m=\u001b[0m\u001b[0mheaders\u001b[0m\u001b[0;34m,\u001b[0m \u001b[0mquery\u001b[0m\u001b[0;34m=\u001b[0m\u001b[0mquery\u001b[0m\u001b[0;34m,\u001b[0m\u001b[0;34m\u001b[0m\u001b[0;34m\u001b[0m\u001b[0m\n",
      "\u001b[0;32m~/anaconda3/envs/dhlab_project/lib/python3.8/site-packages/youtube_dl/extractor/common.py\u001b[0m in \u001b[0;36m_download_webpage_handle\u001b[0;34m(self, url_or_request, video_id, note, errnote, fatal, encoding, data, headers, query, expected_status)\u001b[0m\n\u001b[1;32m    665\u001b[0m             \u001b[0murl_or_request\u001b[0m \u001b[0;34m=\u001b[0m \u001b[0murl_or_request\u001b[0m\u001b[0;34m.\u001b[0m\u001b[0mpartition\u001b[0m\u001b[0;34m(\u001b[0m\u001b[0;34m'#'\u001b[0m\u001b[0;34m)\u001b[0m\u001b[0;34m[\u001b[0m\u001b[0;36m0\u001b[0m\u001b[0;34m]\u001b[0m\u001b[0;34m\u001b[0m\u001b[0;34m\u001b[0m\u001b[0m\n\u001b[1;32m    666\u001b[0m \u001b[0;34m\u001b[0m\u001b[0m\n\u001b[0;32m--> 667\u001b[0;31m         \u001b[0murlh\u001b[0m \u001b[0;34m=\u001b[0m \u001b[0mself\u001b[0m\u001b[0;34m.\u001b[0m\u001b[0m_request_webpage\u001b[0m\u001b[0;34m(\u001b[0m\u001b[0murl_or_request\u001b[0m\u001b[0;34m,\u001b[0m \u001b[0mvideo_id\u001b[0m\u001b[0;34m,\u001b[0m \u001b[0mnote\u001b[0m\u001b[0;34m,\u001b[0m \u001b[0merrnote\u001b[0m\u001b[0;34m,\u001b[0m \u001b[0mfatal\u001b[0m\u001b[0;34m,\u001b[0m \u001b[0mdata\u001b[0m\u001b[0;34m=\u001b[0m\u001b[0mdata\u001b[0m\u001b[0;34m,\u001b[0m \u001b[0mheaders\u001b[0m\u001b[0;34m=\u001b[0m\u001b[0mheaders\u001b[0m\u001b[0;34m,\u001b[0m \u001b[0mquery\u001b[0m\u001b[0;34m=\u001b[0m\u001b[0mquery\u001b[0m\u001b[0;34m,\u001b[0m \u001b[0mexpected_status\u001b[0m\u001b[0;34m=\u001b[0m\u001b[0mexpected_status\u001b[0m\u001b[0;34m)\u001b[0m\u001b[0;34m\u001b[0m\u001b[0;34m\u001b[0m\u001b[0m\n\u001b[0m\u001b[1;32m    668\u001b[0m         \u001b[0;32mif\u001b[0m \u001b[0murlh\u001b[0m \u001b[0;32mis\u001b[0m \u001b[0;32mFalse\u001b[0m\u001b[0;34m:\u001b[0m\u001b[0;34m\u001b[0m\u001b[0;34m\u001b[0m\u001b[0m\n\u001b[1;32m    669\u001b[0m             \u001b[0;32massert\u001b[0m \u001b[0;32mnot\u001b[0m \u001b[0mfatal\u001b[0m\u001b[0;34m\u001b[0m\u001b[0;34m\u001b[0m\u001b[0m\n",
      "\u001b[0;32m~/anaconda3/envs/dhlab_project/lib/python3.8/site-packages/youtube_dl/extractor/common.py\u001b[0m in \u001b[0;36m_request_webpage\u001b[0;34m(self, url_or_request, video_id, note, errnote, fatal, data, headers, query, expected_status)\u001b[0m\n\u001b[1;32m    632\u001b[0m             \u001b[0mexceptions\u001b[0m\u001b[0;34m.\u001b[0m\u001b[0mappend\u001b[0m\u001b[0;34m(\u001b[0m\u001b[0mssl\u001b[0m\u001b[0;34m.\u001b[0m\u001b[0mCertificateError\u001b[0m\u001b[0;34m)\u001b[0m\u001b[0;34m\u001b[0m\u001b[0;34m\u001b[0m\u001b[0m\n\u001b[1;32m    633\u001b[0m         \u001b[0;32mtry\u001b[0m\u001b[0;34m:\u001b[0m\u001b[0;34m\u001b[0m\u001b[0;34m\u001b[0m\u001b[0m\n\u001b[0;32m--> 634\u001b[0;31m             \u001b[0;32mreturn\u001b[0m \u001b[0mself\u001b[0m\u001b[0;34m.\u001b[0m\u001b[0m_downloader\u001b[0m\u001b[0;34m.\u001b[0m\u001b[0murlopen\u001b[0m\u001b[0;34m(\u001b[0m\u001b[0murl_or_request\u001b[0m\u001b[0;34m)\u001b[0m\u001b[0;34m\u001b[0m\u001b[0;34m\u001b[0m\u001b[0m\n\u001b[0m\u001b[1;32m    635\u001b[0m         \u001b[0;32mexcept\u001b[0m \u001b[0mtuple\u001b[0m\u001b[0;34m(\u001b[0m\u001b[0mexceptions\u001b[0m\u001b[0;34m)\u001b[0m \u001b[0;32mas\u001b[0m \u001b[0merr\u001b[0m\u001b[0;34m:\u001b[0m\u001b[0;34m\u001b[0m\u001b[0;34m\u001b[0m\u001b[0m\n\u001b[1;32m    636\u001b[0m             \u001b[0;32mif\u001b[0m \u001b[0misinstance\u001b[0m\u001b[0;34m(\u001b[0m\u001b[0merr\u001b[0m\u001b[0;34m,\u001b[0m \u001b[0mcompat_urllib_error\u001b[0m\u001b[0;34m.\u001b[0m\u001b[0mHTTPError\u001b[0m\u001b[0;34m)\u001b[0m\u001b[0;34m:\u001b[0m\u001b[0;34m\u001b[0m\u001b[0;34m\u001b[0m\u001b[0m\n",
      "\u001b[0;32m~/anaconda3/envs/dhlab_project/lib/python3.8/site-packages/youtube_dl/YoutubeDL.py\u001b[0m in \u001b[0;36murlopen\u001b[0;34m(self, req)\u001b[0m\n\u001b[1;32m   2286\u001b[0m         \u001b[0;32mif\u001b[0m \u001b[0misinstance\u001b[0m\u001b[0;34m(\u001b[0m\u001b[0mreq\u001b[0m\u001b[0;34m,\u001b[0m \u001b[0mcompat_basestring\u001b[0m\u001b[0;34m)\u001b[0m\u001b[0;34m:\u001b[0m\u001b[0;34m\u001b[0m\u001b[0;34m\u001b[0m\u001b[0m\n\u001b[1;32m   2287\u001b[0m             \u001b[0mreq\u001b[0m \u001b[0;34m=\u001b[0m \u001b[0msanitized_Request\u001b[0m\u001b[0;34m(\u001b[0m\u001b[0mreq\u001b[0m\u001b[0;34m)\u001b[0m\u001b[0;34m\u001b[0m\u001b[0;34m\u001b[0m\u001b[0m\n\u001b[0;32m-> 2288\u001b[0;31m         \u001b[0;32mreturn\u001b[0m \u001b[0mself\u001b[0m\u001b[0;34m.\u001b[0m\u001b[0m_opener\u001b[0m\u001b[0;34m.\u001b[0m\u001b[0mopen\u001b[0m\u001b[0;34m(\u001b[0m\u001b[0mreq\u001b[0m\u001b[0;34m,\u001b[0m \u001b[0mtimeout\u001b[0m\u001b[0;34m=\u001b[0m\u001b[0mself\u001b[0m\u001b[0;34m.\u001b[0m\u001b[0m_socket_timeout\u001b[0m\u001b[0;34m)\u001b[0m\u001b[0;34m\u001b[0m\u001b[0;34m\u001b[0m\u001b[0m\n\u001b[0m\u001b[1;32m   2289\u001b[0m \u001b[0;34m\u001b[0m\u001b[0m\n\u001b[1;32m   2290\u001b[0m     \u001b[0;32mdef\u001b[0m \u001b[0mprint_debug_header\u001b[0m\u001b[0;34m(\u001b[0m\u001b[0mself\u001b[0m\u001b[0;34m)\u001b[0m\u001b[0;34m:\u001b[0m\u001b[0;34m\u001b[0m\u001b[0;34m\u001b[0m\u001b[0m\n",
      "\u001b[0;32m~/anaconda3/envs/dhlab_project/lib/python3.8/urllib/request.py\u001b[0m in \u001b[0;36mopen\u001b[0;34m(self, fullurl, data, timeout)\u001b[0m\n\u001b[1;32m    529\u001b[0m         \u001b[0;32mfor\u001b[0m \u001b[0mprocessor\u001b[0m \u001b[0;32min\u001b[0m \u001b[0mself\u001b[0m\u001b[0;34m.\u001b[0m\u001b[0mprocess_response\u001b[0m\u001b[0;34m.\u001b[0m\u001b[0mget\u001b[0m\u001b[0;34m(\u001b[0m\u001b[0mprotocol\u001b[0m\u001b[0;34m,\u001b[0m \u001b[0;34m[\u001b[0m\u001b[0;34m]\u001b[0m\u001b[0;34m)\u001b[0m\u001b[0;34m:\u001b[0m\u001b[0;34m\u001b[0m\u001b[0;34m\u001b[0m\u001b[0m\n\u001b[1;32m    530\u001b[0m             \u001b[0mmeth\u001b[0m \u001b[0;34m=\u001b[0m \u001b[0mgetattr\u001b[0m\u001b[0;34m(\u001b[0m\u001b[0mprocessor\u001b[0m\u001b[0;34m,\u001b[0m \u001b[0mmeth_name\u001b[0m\u001b[0;34m)\u001b[0m\u001b[0;34m\u001b[0m\u001b[0;34m\u001b[0m\u001b[0m\n\u001b[0;32m--> 531\u001b[0;31m             \u001b[0mresponse\u001b[0m \u001b[0;34m=\u001b[0m \u001b[0mmeth\u001b[0m\u001b[0;34m(\u001b[0m\u001b[0mreq\u001b[0m\u001b[0;34m,\u001b[0m \u001b[0mresponse\u001b[0m\u001b[0;34m)\u001b[0m\u001b[0;34m\u001b[0m\u001b[0;34m\u001b[0m\u001b[0m\n\u001b[0m\u001b[1;32m    532\u001b[0m \u001b[0;34m\u001b[0m\u001b[0m\n\u001b[1;32m    533\u001b[0m         \u001b[0;32mreturn\u001b[0m \u001b[0mresponse\u001b[0m\u001b[0;34m\u001b[0m\u001b[0;34m\u001b[0m\u001b[0m\n",
      "\u001b[0;32m~/anaconda3/envs/dhlab_project/lib/python3.8/site-packages/youtube_dl/utils.py\u001b[0m in \u001b[0;36mhttp_response\u001b[0;34m(self, req, resp)\u001b[0m\n\u001b[1;32m   2623\u001b[0m         \u001b[0;31m# gzip\u001b[0m\u001b[0;34m\u001b[0m\u001b[0;34m\u001b[0m\u001b[0;34m\u001b[0m\u001b[0m\n\u001b[1;32m   2624\u001b[0m         \u001b[0;32mif\u001b[0m \u001b[0mresp\u001b[0m\u001b[0;34m.\u001b[0m\u001b[0mheaders\u001b[0m\u001b[0;34m.\u001b[0m\u001b[0mget\u001b[0m\u001b[0;34m(\u001b[0m\u001b[0;34m'Content-encoding'\u001b[0m\u001b[0;34m,\u001b[0m \u001b[0;34m''\u001b[0m\u001b[0;34m)\u001b[0m \u001b[0;34m==\u001b[0m \u001b[0;34m'gzip'\u001b[0m\u001b[0;34m:\u001b[0m\u001b[0;34m\u001b[0m\u001b[0;34m\u001b[0m\u001b[0m\n\u001b[0;32m-> 2625\u001b[0;31m             \u001b[0mcontent\u001b[0m \u001b[0;34m=\u001b[0m \u001b[0mresp\u001b[0m\u001b[0;34m.\u001b[0m\u001b[0mread\u001b[0m\u001b[0;34m(\u001b[0m\u001b[0;34m)\u001b[0m\u001b[0;34m\u001b[0m\u001b[0;34m\u001b[0m\u001b[0m\n\u001b[0m\u001b[1;32m   2626\u001b[0m             \u001b[0mgz\u001b[0m \u001b[0;34m=\u001b[0m \u001b[0mgzip\u001b[0m\u001b[0;34m.\u001b[0m\u001b[0mGzipFile\u001b[0m\u001b[0;34m(\u001b[0m\u001b[0mfileobj\u001b[0m\u001b[0;34m=\u001b[0m\u001b[0mio\u001b[0m\u001b[0;34m.\u001b[0m\u001b[0mBytesIO\u001b[0m\u001b[0;34m(\u001b[0m\u001b[0mcontent\u001b[0m\u001b[0;34m)\u001b[0m\u001b[0;34m,\u001b[0m \u001b[0mmode\u001b[0m\u001b[0;34m=\u001b[0m\u001b[0;34m'rb'\u001b[0m\u001b[0;34m)\u001b[0m\u001b[0;34m\u001b[0m\u001b[0;34m\u001b[0m\u001b[0m\n\u001b[1;32m   2627\u001b[0m             \u001b[0;32mtry\u001b[0m\u001b[0;34m:\u001b[0m\u001b[0;34m\u001b[0m\u001b[0;34m\u001b[0m\u001b[0m\n",
      "\u001b[0;32m~/anaconda3/envs/dhlab_project/lib/python3.8/http/client.py\u001b[0m in \u001b[0;36mread\u001b[0;34m(self, amt)\u001b[0m\n\u001b[1;32m    463\u001b[0m \u001b[0;34m\u001b[0m\u001b[0m\n\u001b[1;32m    464\u001b[0m             \u001b[0;32mif\u001b[0m \u001b[0mself\u001b[0m\u001b[0;34m.\u001b[0m\u001b[0mchunked\u001b[0m\u001b[0;34m:\u001b[0m\u001b[0;34m\u001b[0m\u001b[0;34m\u001b[0m\u001b[0m\n\u001b[0;32m--> 465\u001b[0;31m                 \u001b[0;32mreturn\u001b[0m \u001b[0mself\u001b[0m\u001b[0;34m.\u001b[0m\u001b[0m_readall_chunked\u001b[0m\u001b[0;34m(\u001b[0m\u001b[0;34m)\u001b[0m\u001b[0;34m\u001b[0m\u001b[0;34m\u001b[0m\u001b[0m\n\u001b[0m\u001b[1;32m    466\u001b[0m \u001b[0;34m\u001b[0m\u001b[0m\n\u001b[1;32m    467\u001b[0m             \u001b[0;32mif\u001b[0m \u001b[0mself\u001b[0m\u001b[0;34m.\u001b[0m\u001b[0mlength\u001b[0m \u001b[0;32mis\u001b[0m \u001b[0;32mNone\u001b[0m\u001b[0;34m:\u001b[0m\u001b[0;34m\u001b[0m\u001b[0;34m\u001b[0m\u001b[0m\n",
      "\u001b[0;32m~/anaconda3/envs/dhlab_project/lib/python3.8/http/client.py\u001b[0m in \u001b[0;36m_readall_chunked\u001b[0;34m(self)\u001b[0m\n\u001b[1;32m    570\u001b[0m         \u001b[0;32mtry\u001b[0m\u001b[0;34m:\u001b[0m\u001b[0;34m\u001b[0m\u001b[0;34m\u001b[0m\u001b[0m\n\u001b[1;32m    571\u001b[0m             \u001b[0;32mwhile\u001b[0m \u001b[0;32mTrue\u001b[0m\u001b[0;34m:\u001b[0m\u001b[0;34m\u001b[0m\u001b[0;34m\u001b[0m\u001b[0m\n\u001b[0;32m--> 572\u001b[0;31m                 \u001b[0mchunk_left\u001b[0m \u001b[0;34m=\u001b[0m \u001b[0mself\u001b[0m\u001b[0;34m.\u001b[0m\u001b[0m_get_chunk_left\u001b[0m\u001b[0;34m(\u001b[0m\u001b[0;34m)\u001b[0m\u001b[0;34m\u001b[0m\u001b[0;34m\u001b[0m\u001b[0m\n\u001b[0m\u001b[1;32m    573\u001b[0m                 \u001b[0;32mif\u001b[0m \u001b[0mchunk_left\u001b[0m \u001b[0;32mis\u001b[0m \u001b[0;32mNone\u001b[0m\u001b[0;34m:\u001b[0m\u001b[0;34m\u001b[0m\u001b[0;34m\u001b[0m\u001b[0m\n\u001b[1;32m    574\u001b[0m                     \u001b[0;32mbreak\u001b[0m\u001b[0;34m\u001b[0m\u001b[0;34m\u001b[0m\u001b[0m\n",
      "\u001b[0;32m~/anaconda3/envs/dhlab_project/lib/python3.8/http/client.py\u001b[0m in \u001b[0;36m_get_chunk_left\u001b[0;34m(self)\u001b[0m\n\u001b[1;32m    553\u001b[0m                 \u001b[0mself\u001b[0m\u001b[0;34m.\u001b[0m\u001b[0m_safe_read\u001b[0m\u001b[0;34m(\u001b[0m\u001b[0;36m2\u001b[0m\u001b[0;34m)\u001b[0m  \u001b[0;31m# toss the CRLF at the end of the chunk\u001b[0m\u001b[0;34m\u001b[0m\u001b[0;34m\u001b[0m\u001b[0m\n\u001b[1;32m    554\u001b[0m             \u001b[0;32mtry\u001b[0m\u001b[0;34m:\u001b[0m\u001b[0;34m\u001b[0m\u001b[0;34m\u001b[0m\u001b[0m\n\u001b[0;32m--> 555\u001b[0;31m                 \u001b[0mchunk_left\u001b[0m \u001b[0;34m=\u001b[0m \u001b[0mself\u001b[0m\u001b[0;34m.\u001b[0m\u001b[0m_read_next_chunk_size\u001b[0m\u001b[0;34m(\u001b[0m\u001b[0;34m)\u001b[0m\u001b[0;34m\u001b[0m\u001b[0;34m\u001b[0m\u001b[0m\n\u001b[0m\u001b[1;32m    556\u001b[0m             \u001b[0;32mexcept\u001b[0m \u001b[0mValueError\u001b[0m\u001b[0;34m:\u001b[0m\u001b[0;34m\u001b[0m\u001b[0;34m\u001b[0m\u001b[0m\n\u001b[1;32m    557\u001b[0m                 \u001b[0;32mraise\u001b[0m \u001b[0mIncompleteRead\u001b[0m\u001b[0;34m(\u001b[0m\u001b[0;34mb''\u001b[0m\u001b[0;34m)\u001b[0m\u001b[0;34m\u001b[0m\u001b[0;34m\u001b[0m\u001b[0m\n",
      "\u001b[0;32m~/anaconda3/envs/dhlab_project/lib/python3.8/http/client.py\u001b[0m in \u001b[0;36m_read_next_chunk_size\u001b[0;34m(self)\u001b[0m\n\u001b[1;32m    513\u001b[0m     \u001b[0;32mdef\u001b[0m \u001b[0m_read_next_chunk_size\u001b[0m\u001b[0;34m(\u001b[0m\u001b[0mself\u001b[0m\u001b[0;34m)\u001b[0m\u001b[0;34m:\u001b[0m\u001b[0;34m\u001b[0m\u001b[0;34m\u001b[0m\u001b[0m\n\u001b[1;32m    514\u001b[0m         \u001b[0;31m# Read the next chunk size from the file\u001b[0m\u001b[0;34m\u001b[0m\u001b[0;34m\u001b[0m\u001b[0;34m\u001b[0m\u001b[0m\n\u001b[0;32m--> 515\u001b[0;31m         \u001b[0mline\u001b[0m \u001b[0;34m=\u001b[0m \u001b[0mself\u001b[0m\u001b[0;34m.\u001b[0m\u001b[0mfp\u001b[0m\u001b[0;34m.\u001b[0m\u001b[0mreadline\u001b[0m\u001b[0;34m(\u001b[0m\u001b[0m_MAXLINE\u001b[0m \u001b[0;34m+\u001b[0m \u001b[0;36m1\u001b[0m\u001b[0;34m)\u001b[0m\u001b[0;34m\u001b[0m\u001b[0;34m\u001b[0m\u001b[0m\n\u001b[0m\u001b[1;32m    516\u001b[0m         \u001b[0;32mif\u001b[0m \u001b[0mlen\u001b[0m\u001b[0;34m(\u001b[0m\u001b[0mline\u001b[0m\u001b[0;34m)\u001b[0m \u001b[0;34m>\u001b[0m \u001b[0m_MAXLINE\u001b[0m\u001b[0;34m:\u001b[0m\u001b[0;34m\u001b[0m\u001b[0;34m\u001b[0m\u001b[0m\n\u001b[1;32m    517\u001b[0m             \u001b[0;32mraise\u001b[0m \u001b[0mLineTooLong\u001b[0m\u001b[0;34m(\u001b[0m\u001b[0;34m\"chunk size\"\u001b[0m\u001b[0;34m)\u001b[0m\u001b[0;34m\u001b[0m\u001b[0;34m\u001b[0m\u001b[0m\n",
      "\u001b[0;32m~/anaconda3/envs/dhlab_project/lib/python3.8/socket.py\u001b[0m in \u001b[0;36mreadinto\u001b[0;34m(self, b)\u001b[0m\n\u001b[1;32m    667\u001b[0m         \u001b[0;32mwhile\u001b[0m \u001b[0;32mTrue\u001b[0m\u001b[0;34m:\u001b[0m\u001b[0;34m\u001b[0m\u001b[0;34m\u001b[0m\u001b[0m\n\u001b[1;32m    668\u001b[0m             \u001b[0;32mtry\u001b[0m\u001b[0;34m:\u001b[0m\u001b[0;34m\u001b[0m\u001b[0;34m\u001b[0m\u001b[0m\n\u001b[0;32m--> 669\u001b[0;31m                 \u001b[0;32mreturn\u001b[0m \u001b[0mself\u001b[0m\u001b[0;34m.\u001b[0m\u001b[0m_sock\u001b[0m\u001b[0;34m.\u001b[0m\u001b[0mrecv_into\u001b[0m\u001b[0;34m(\u001b[0m\u001b[0mb\u001b[0m\u001b[0;34m)\u001b[0m\u001b[0;34m\u001b[0m\u001b[0;34m\u001b[0m\u001b[0m\n\u001b[0m\u001b[1;32m    670\u001b[0m             \u001b[0;32mexcept\u001b[0m \u001b[0mtimeout\u001b[0m\u001b[0;34m:\u001b[0m\u001b[0;34m\u001b[0m\u001b[0;34m\u001b[0m\u001b[0m\n\u001b[1;32m    671\u001b[0m                 \u001b[0mself\u001b[0m\u001b[0;34m.\u001b[0m\u001b[0m_timeout_occurred\u001b[0m \u001b[0;34m=\u001b[0m \u001b[0;32mTrue\u001b[0m\u001b[0;34m\u001b[0m\u001b[0;34m\u001b[0m\u001b[0m\n",
      "\u001b[0;32m~/anaconda3/envs/dhlab_project/lib/python3.8/ssl.py\u001b[0m in \u001b[0;36mrecv_into\u001b[0;34m(self, buffer, nbytes, flags)\u001b[0m\n\u001b[1;32m   1239\u001b[0m                   \u001b[0;34m\"non-zero flags not allowed in calls to recv_into() on %s\"\u001b[0m \u001b[0;34m%\u001b[0m\u001b[0;34m\u001b[0m\u001b[0;34m\u001b[0m\u001b[0m\n\u001b[1;32m   1240\u001b[0m                   self.__class__)\n\u001b[0;32m-> 1241\u001b[0;31m             \u001b[0;32mreturn\u001b[0m \u001b[0mself\u001b[0m\u001b[0;34m.\u001b[0m\u001b[0mread\u001b[0m\u001b[0;34m(\u001b[0m\u001b[0mnbytes\u001b[0m\u001b[0;34m,\u001b[0m \u001b[0mbuffer\u001b[0m\u001b[0;34m)\u001b[0m\u001b[0;34m\u001b[0m\u001b[0;34m\u001b[0m\u001b[0m\n\u001b[0m\u001b[1;32m   1242\u001b[0m         \u001b[0;32melse\u001b[0m\u001b[0;34m:\u001b[0m\u001b[0;34m\u001b[0m\u001b[0;34m\u001b[0m\u001b[0m\n\u001b[1;32m   1243\u001b[0m             \u001b[0;32mreturn\u001b[0m \u001b[0msuper\u001b[0m\u001b[0;34m(\u001b[0m\u001b[0;34m)\u001b[0m\u001b[0;34m.\u001b[0m\u001b[0mrecv_into\u001b[0m\u001b[0;34m(\u001b[0m\u001b[0mbuffer\u001b[0m\u001b[0;34m,\u001b[0m \u001b[0mnbytes\u001b[0m\u001b[0;34m,\u001b[0m \u001b[0mflags\u001b[0m\u001b[0;34m)\u001b[0m\u001b[0;34m\u001b[0m\u001b[0;34m\u001b[0m\u001b[0m\n",
      "\u001b[0;32m~/anaconda3/envs/dhlab_project/lib/python3.8/ssl.py\u001b[0m in \u001b[0;36mread\u001b[0;34m(self, len, buffer)\u001b[0m\n\u001b[1;32m   1097\u001b[0m         \u001b[0;32mtry\u001b[0m\u001b[0;34m:\u001b[0m\u001b[0;34m\u001b[0m\u001b[0;34m\u001b[0m\u001b[0m\n\u001b[1;32m   1098\u001b[0m             \u001b[0;32mif\u001b[0m \u001b[0mbuffer\u001b[0m \u001b[0;32mis\u001b[0m \u001b[0;32mnot\u001b[0m \u001b[0;32mNone\u001b[0m\u001b[0;34m:\u001b[0m\u001b[0;34m\u001b[0m\u001b[0;34m\u001b[0m\u001b[0m\n\u001b[0;32m-> 1099\u001b[0;31m                 \u001b[0;32mreturn\u001b[0m \u001b[0mself\u001b[0m\u001b[0;34m.\u001b[0m\u001b[0m_sslobj\u001b[0m\u001b[0;34m.\u001b[0m\u001b[0mread\u001b[0m\u001b[0;34m(\u001b[0m\u001b[0mlen\u001b[0m\u001b[0;34m,\u001b[0m \u001b[0mbuffer\u001b[0m\u001b[0;34m)\u001b[0m\u001b[0;34m\u001b[0m\u001b[0;34m\u001b[0m\u001b[0m\n\u001b[0m\u001b[1;32m   1100\u001b[0m             \u001b[0;32melse\u001b[0m\u001b[0;34m:\u001b[0m\u001b[0;34m\u001b[0m\u001b[0;34m\u001b[0m\u001b[0m\n\u001b[1;32m   1101\u001b[0m                 \u001b[0;32mreturn\u001b[0m \u001b[0mself\u001b[0m\u001b[0;34m.\u001b[0m\u001b[0m_sslobj\u001b[0m\u001b[0;34m.\u001b[0m\u001b[0mread\u001b[0m\u001b[0;34m(\u001b[0m\u001b[0mlen\u001b[0m\u001b[0;34m)\u001b[0m\u001b[0;34m\u001b[0m\u001b[0;34m\u001b[0m\u001b[0m\n",
      "\u001b[0;31mKeyboardInterrupt\u001b[0m: "
     ]
    }
   ],
   "source": [
    "# create an empty dictionnary\n",
    "video_dict2 = {}\n",
    "\n",
    "# open the csv file \n",
    "inputfile = csv.reader(open('unesco_sites.csv','r'), delimiter=';')\n",
    "\n",
    "# read line by line\n",
    "for row in inputfile:\n",
    "\n",
    "    # get second column (names of places)\n",
    "    place = row[1]\n",
    "    \n",
    "    # clean string : remove accents\n",
    "    place_clean1 = unidecode.unidecode(place)\n",
    "    # clean string : remove spaces\n",
    "    place_clean2 = place_clean1.replace(' ', '+')\n",
    "    \n",
    "    # add key words \n",
    "    search_words = place_clean2 + \"+drone\"\n",
    "    \n",
    "    # make a request in youtube, store the results in a list\n",
    "    results = []\n",
    "    html = urllib.request.urlopen(\"https://www.youtube.com/results?search_query=\" + search_words)\n",
    "    \n",
    "    # store the results\n",
    "    video_ids = re.findall(r\"watch\\?v=(\\S{11})\", html.read().decode())\n",
    "    \n",
    "\n",
    "   # for each video id, find also the duration and title of the video\n",
    "    durations = []\n",
    "    titles = []\n",
    "    dates = []\n",
    "    for video_id in video_ids:\n",
    "        with youtube_dl.YoutubeDL(ydl_opts) as ydl:\n",
    "            dictMeta = ydl.extract_info(\"https://www.youtube.com/watch?v=%s\" % video_id, download=False)\n",
    "            durations.append(dictMeta['duration'])\n",
    "            titles.append(dictMeta['title'])\n",
    "            dates.append(dictMeta['upload_date'])\n",
    "            \n",
    "            video_dict2.update({video_id : [place, dictMeta['duration'], dictMeta['title'], dictMeta['upload_date']]})\n",
    "            \n",
    "            #video_dict2.update({video_id : [place, durations.append(dictMeta['duration'], dictMeta['title'],\n",
    "                                                                   #dictMeta['upload_date'])})"
   ]
  },
  {
   "cell_type": "code",
   "execution_count": 24,
   "id": "b985ceb3",
   "metadata": {},
   "outputs": [
    {
     "data": {
      "text/plain": [
       "{'eWe5SbF4UcI': ['Aapravasi Ghat', 'Aapravasi Ghat Documentaire', '20171020'],\n",
       " 'MQVIHIawI_8': ['Aapravasi Ghat',\n",
       "  'Aapravasi Ghat, Mauritius. The history of indentured labour.',\n",
       "  '20201113'],\n",
       " 'CIdjpF_zhhI': ['Aapravasi Ghat',\n",
       "  'Aapravasi Ghat World Heritage site',\n",
       "  '20181121'],\n",
       " 'Qcov8mIwWYA': ['Aapravasi Ghat', 'Aapravasi Ghat - Inscription', '20210715'],\n",
       " 'E5B4XKtTolA': ['Aapravasi Ghat', 'Aapravasi_Ghat_2007.mp4', '20120510'],\n",
       " 'Z_cf5JmUFzY': ['Aapravasi Ghat',\n",
       "  'Aapravasi Ghat Patrimoine Mondial',\n",
       "  '20210716'],\n",
       " '0gd2Z6233Jc': ['Aapravasi Ghat',\n",
       "  'Aapravasi Ghat - Héritage Culturel',\n",
       "  '20210716'],\n",
       " '7DSGKgZwrsk': ['Aapravasi Ghat',\n",
       "  'Aapravasi Ghat - Grande Expérience',\n",
       "  '20210715'],\n",
       " 'WadnB2dCv2c': ['Aapravasi Ghat', 'Aapravasi Ghat', '20201102'],\n",
       " 'FxGz-BP2uL0': ['Aapravasi Ghat', 'The Aapravasi Ghat', '20180317'],\n",
       " 'Jxk9O8QGZj4': ['Aapravasi Ghat',\n",
       "  'L’Aapravasi Ghat, un des héritages historiques les plus importants de l’île Maurice.',\n",
       "  '20170406'],\n",
       " 'IQBkPA42Cs0': ['Aapravasi Ghat',\n",
       "  'Mauritius drone footage in 4K',\n",
       "  '20190401'],\n",
       " 'hYiojI7VrWk': ['Aapravasi Ghat',\n",
       "  'Ile Maurice Port Louis Centre ville, Gopro / Mauritius Port Louis City center',\n",
       "  '20160428'],\n",
       " '1qnodtYv4Nk': ['Aapravasi Ghat',\n",
       "  'Port Louis, Mauritius (The hustle and bustle)',\n",
       "  '20210129'],\n",
       " '5fa1UGAxWlc': ['Aapravasi Ghat',\n",
       "  'An Amazing street in Port Louis ||Mauritius||',\n",
       "  '20201119'],\n",
       " 'nvmbfsXTlmA': ['Aapravasi Ghat',\n",
       "  \"2018-06-12 - Mauritius's Underwater Waterfall\",\n",
       "  '20180621'],\n",
       " 'GDXGE1kp-U8': ['Aapravasi Ghat',\n",
       "  'Markets in Mauritius | Delicious Street Food',\n",
       "  '20181001'],\n",
       " 'CAy9zlzkj3U': ['Aapravasi Ghat',\n",
       "  'Mauritius - The Paradise Island',\n",
       "  '20190508'],\n",
       " 'tQUajfu98wk': ['Aapravasi Ghat',\n",
       "  'Top 10 Places to Visit in Mauritius',\n",
       "  '20170912'],\n",
       " 'EnN73jYJelg': ['Aapravasi Ghat',\n",
       "  'BEST OF MAURITIUS - City of Port-Louis (HD 720p)',\n",
       "  '20130510'],\n",
       " 'y-SnBg9P2LU': ['Aapravasi Ghat',\n",
       "  'Underwater waterfall Mauritius HD 2016',\n",
       "  '20161015'],\n",
       " 'V1xZdp7uhws': ['Aapravasi Ghat',\n",
       "  'Underwater Waterfall @ Le Morne - Mauritius [EDIT]',\n",
       "  '20180412'],\n",
       " 'pir2FgK1x_0': ['Aapravasi Ghat',\n",
       "  \"Visite de l'Aapravasi Ghat : patrimoine mondial de l'UNESCO. (vidéo: Sunita Beezadhur)\",\n",
       "  '20091102'],\n",
       " '6wOGnMDNa-I': ['Aapravasi Ghat',\n",
       "  'Aapravasi Ghat - World Heritage Site 15 Years',\n",
       "  '20210714'],\n",
       " 'WMnSSLWR1k0': ['Aapravasi Ghat',\n",
       "  'Aapravasi Ghat in Mauritius, Africa',\n",
       "  '20150519'],\n",
       " 'IP05jI9Uw7A': ['Aapravasi Ghat',\n",
       "  'Highlights of Uganda from Above | DJI Mavic Pro | 4K Drone',\n",
       "  '20180210'],\n",
       " '5TPCIqny8J4': ['Aapravasi Ghat',\n",
       "  'Travaux du métro-Aapravasi Ghat: l’aval de l’UNESCO attendu',\n",
       "  '20210701'],\n",
       " 'dy0XiL61wWY': ['Aapravasi Ghat',\n",
       "  'Untold: The woes of an Indian female indentured labourer in Mauritius in the 19th Century',\n",
       "  '20210216'],\n",
       " '8x9z2rAPRdI': ['Aapravasi Ghat',\n",
       "  'MAURITIUS Adventures 4K | Drone | Gopro 6 | Travel Vlog',\n",
       "  '20180423'],\n",
       " 'doto6Jdr4XQ': ['Aapravasi Ghat',\n",
       "  'Les Grandes Lignes - Save Art Aapravasi Ghat',\n",
       "  '20210402'],\n",
       " 'mPUSZFDPRD0': ['Abu Mena',\n",
       "  'Abu Mena Vacation Travel Video Guide',\n",
       "  '20140512'],\n",
       " 'BI1GgCRy1GU': ['Abu Mena', 'Abu Mena (UNESCO/NHK)', '20130326'],\n",
       " '44KvHwRHb3A': ['Abu Mena',\n",
       "  'Biggest drone display ever! - Guinness World Records',\n",
       "  '20201015'],\n",
       " 'YaAwSaMYDyU': ['Abu Mena',\n",
       "  'Travel Amsterdam in a Minute - Aerial Drone Video | Expedia',\n",
       "  '20150715'],\n",
       " 'v7hL1aO65Sk': ['Abu Mena',\n",
       "  'RC-KK7 UAV Operation Guide#Drone teaching#Aerial photography drone#Quadcopter',\n",
       "  '20210412'],\n",
       " 'eWrMssVhRGM': ['Abu Mena',\n",
       "  'Abu Mena,Egypt-Ben.G,James.T,Sam.S~7-1 Mrs Fleming',\n",
       "  '20151004'],\n",
       " 'BDhqAArqh20': ['Abu Mena', 'Micro UAS Black Hornet PD 100 PRS', '20141029'],\n",
       " 'BSSGJL9pLbs': ['Abu Mena',\n",
       "  'Marine Rescue Mission with Hydrogen Drone',\n",
       "  '20210104'],\n",
       " 'mdr9NoSmAfI': ['Abu Mena',\n",
       "  'Drone Racing: Ist das der neue Profisport? | Galileo | ProSieben',\n",
       "  '20161223'],\n",
       " 'G-CJEXuy8rs': ['Abu Mena',\n",
       "  'Tested: Hover Camera Quadcopter Drone',\n",
       "  '20161014'],\n",
       " 'sob0g3NtOUU': ['Abu Mena',\n",
       "  'ARMA 3 - Warhammer 40k Mod (Sneak Peek) Attack of the Drones',\n",
       "  '20190425'],\n",
       " 'qwNVNE83Udo': ['Abu Mena',\n",
       "  'Drones, robots, and super sperm – the future of farming | DW Documentary (Farming documentary)',\n",
       "  '20190207'],\n",
       " 'jg3JW6EMYx0': ['Abu Mena',\n",
       "  'Waterslides at Aquapark Nessebar in Bulgaria',\n",
       "  '20210704'],\n",
       " 'xj1T2AWcI6o': ['Abu Mena',\n",
       "  'Unbelievable DRONE display - Guinness World Records',\n",
       "  '20210209'],\n",
       " 'hekx0pHnnA4': ['Abu Mena',\n",
       "  'The most amazing drone holographic light show !! Drone light show in Russia breaks world record !',\n",
       "  '20200905'],\n",
       " 'KTpaJn22w4I': ['Abu Mena',\n",
       "  'How China Turned the Desert into Green Forests',\n",
       "  '20210227'],\n",
       " '4o7mRg74qcY': ['Abu Mena',\n",
       "  'Nano UAV - Black Hornet - PD-100 PRS',\n",
       "  '20131006'],\n",
       " 'BjRb6u_PQwQ': ['Abu Mena',\n",
       "  'the most amazing drone holographic light show in China - 超震撼无人机编队表演集合',\n",
       "  '20190926'],\n",
       " '0nZuYyXET3s': ['Abu Mena',\n",
       "  \"Dubai's Crazy Underwater Train and Other Things #Only in Dubai\",\n",
       "  '20200714'],\n",
       " 'D03BxIXW_Tw': ['Abu Mena',\n",
       "  'A Cinematic Afghanistan | Aino Mena Kandahar  | The Next Dubai',\n",
       "  '20191204'],\n",
       " 'KhDEEN4gcpI': ['Abu Mena',\n",
       "  \"'Similar to fireworks, but a lot cooler.' Watch Intel's effort to break drone record\",\n",
       "  '20180716'],\n",
       " 'aOd4-T_p5fA': ['Abu Mena',\n",
       "  \"Intel's 500 Drone Light Show | Intel\",\n",
       "  '20161104'],\n",
       " 'pW2ZyXzcq7I': ['Abu Mena',\n",
       "  'Dji Mavic Air 2 |#sealife 🏊\\u200d♀️| Drone Camera |Drone footage #6 #dji',\n",
       "  '20210930'],\n",
       " 'ex8qhPTfGYg': ['Abu Mena',\n",
       "  'Unseen Kandahar | Aino Mina Part 3 | Beauty of the City 2020',\n",
       "  '20200430'],\n",
       " '--QOBH9aU1Q': ['Abu Mena',\n",
       "  'GetFPV with JohnnyFPV - Interview and Live Q&A (Aug 15)',\n",
       "  '20190823'],\n",
       " '0C4XeyLqZAA': ['Abu Mena',\n",
       "  'Webinar - Highest resolution drone platform coming to the Arabic world | Phase One',\n",
       "  '20210719'],\n",
       " '0CoyfM4gR7M': ['Abu Mena',\n",
       "  'Dubai artificially creating rainstorms with drones and electricity',\n",
       "  '20210727'],\n",
       " 'fm9L47OSr1k': ['Abu Mena', 'Drone n Base Gaming-Drone', '20180309'],\n",
       " 'uvGeYvtpPv8': ['Abu Mena',\n",
       "  'FLIR Unmanned Aerial Systems Black Hornet UAV',\n",
       "  '20190524'],\n",
       " '7cGmwnbVFFI': ['Abu Mena',\n",
       "  '😊💔  drone ride with camera #droneeye #drone / #cameradrone /😁#droneride / #dronevideo / #DroneBatta',\n",
       "  '20210926'],\n",
       " 'oTrvUf-1wiA': ['Air and Ténéré Natural Reserves',\n",
       "  'Avy - Drones for good | Using drones to detect and analyse wildfires in nature reserves',\n",
       "  '20210324'],\n",
       " 'RlEbNgkCpuI': ['Air and Ténéré Natural Reserves',\n",
       "  'Drone-based geospatial & plant health analysis: The Slack at The Chase Local Nature Reserve',\n",
       "  '20211004'],\n",
       " 'szV-P__unmU': ['Air and Ténéré Natural Reserves',\n",
       "  'Using Drones To Protect Nature',\n",
       "  '20130330'],\n",
       " 'YF5AwXplFfM': ['Air and Ténéré Natural Reserves',\n",
       "  'Having a relaxing Sunday flight around Lake Samsonvale #drone #relax',\n",
       "  '20211005'],\n",
       " 'LA3LDRZB1L8': ['Air and Ténéré Natural Reserves',\n",
       "  \"VÄRMLAND: I CRASHED my Drone!!! + Sweden's most beautiful lakes & manors. EPS 21\",\n",
       "  '20210325'],\n",
       " '2QpngdhAyQo': ['Air and Ténéré Natural Reserves',\n",
       "  'drought from the air - cinematic video drone',\n",
       "  '20210905'],\n",
       " '0TsnOxRs0r4': ['Air and Ténéré Natural Reserves',\n",
       "  'Pennask Lake FPV Drone Flight ~Mountain Air Adventures~',\n",
       "  '20211003'],\n",
       " 't9Abt5tKkvA': ['Air and Ténéré Natural Reserves',\n",
       "  'Cropduster View From a Drone',\n",
       "  '20211005'],\n",
       " 'I0gOYeNgA8A': ['Air and Ténéré Natural Reserves',\n",
       "  'Drones and Wildlife',\n",
       "  '20201111'],\n",
       " 'GDGoczeUpOI': ['Air and Ténéré Natural Reserves',\n",
       "  'Flying Drones at Altitude',\n",
       "  '20190821'],\n",
       " 'kykL0Nf-VQk': ['Air and Ténéré Natural Reserves',\n",
       "  \"Environmental Considerations for Drone Pilots Featuring Oceans Unmanned's ECO Drone Program\",\n",
       "  '20180406'],\n",
       " '5VpskRAZTIM': ['Air and Ténéré Natural Reserves',\n",
       "  'Conservation Drones',\n",
       "  '20170315'],\n",
       " 'mPI3Si5idlQ': ['Air and Ténéré Natural Reserves',\n",
       "  \"Top 9 DON'TS YOU NEED TO KNOW In Costa Rica\",\n",
       "  '20180629'],\n",
       " 'dmTlTgQGtO8': ['Air and Ténéré Natural Reserves',\n",
       "  'LBLV Amazon has unveiled the Astro home robot 2021/29/09',\n",
       "  '20210929'],\n",
       " 'agqvIG50Ocg': ['Air and Ténéré Natural Reserves',\n",
       "  'Mavic Pro flying near Airplanes | Most Illegal Drone Video on Youtube?',\n",
       "  '20170715'],\n",
       " 'PoHyUmEIDO4': ['Air and Ténéré Natural Reserves',\n",
       "  'NEVER DO THIS with your drone',\n",
       "  '20180529'],\n",
       " 'S3g0JtO6O70': ['Air and Ténéré Natural Reserves',\n",
       "  \"Tenere 700's Biggest Design Flaw FIXED | Camel ADV High Exhaust Kit Test & Review\",\n",
       "  '20210223'],\n",
       " '5wlcommimIg': ['Air and Ténéré Natural Reserves',\n",
       "  'KTM 790 Adventure R vs. Yamaha Ténéré 700',\n",
       "  '20210104'],\n",
       " 'JE-Nyt4Bmi8': ['Air and Ténéré Natural Reserves',\n",
       "  'Polar bears and dogs playing',\n",
       "  '20071024'],\n",
       " '62RA4adH0uU': ['Air and Ténéré Natural Reserves',\n",
       "  'How do you ride yours? MTB EDITION',\n",
       "  '20210327'],\n",
       " '4UaqjOvPkBE': ['Air and Ténéré Natural Reserves',\n",
       "  'Cops Pull Over Hells Angels - Watch What Happens Next!',\n",
       "  '20210522'],\n",
       " 'K4nSRILA47g': ['Air and Ténéré Natural Reserves',\n",
       "  'Ténéré 700 - 15.000km review',\n",
       "  '20210226'],\n",
       " '4NenTjOFYnM': ['Air and Ténéré Natural Reserves',\n",
       "  'VIDEO DRONE studionature.com',\n",
       "  '20151125'],\n",
       " 'E4XpyG4eMKE': ['Air and Ténéré Natural Reserves',\n",
       "  'Optimized flocking of autonomous drones in confined environments',\n",
       "  '20180718'],\n",
       " 'jMNLwKHpTqQ': ['Air and Ténéré Natural Reserves',\n",
       "  'Warm afternoon winter flight around Lake Kurwongbah #drone',\n",
       "  '20211005'],\n",
       " 'mYyDh-RziU4': ['Air and Ténéré Natural Reserves',\n",
       "  'SkyWall: Fighting Enemy Drones In UK Skies',\n",
       "  '20210915'],\n",
       " '5I_m41pfkkg': ['Air and Ténéré Natural Reserves',\n",
       "  'Luggala by Drone, Wicklow Mountains, Summer 2019, 4K',\n",
       "  '20210101'],\n",
       " 'K0hoWc8G_3w': ['Air and Ténéré Natural Reserves',\n",
       "  'Relaxing flight around Lake Kurwongbah #drone #Australia',\n",
       "  '20211005'],\n",
       " '13kWGQV-PKU': ['Air and Ténéré Natural Reserves',\n",
       "  'Know Your Drone Feature',\n",
       "  '20200301'],\n",
       " 'zH6dj_e78do': ['Aksum',\n",
       "  'Tigray Aksum አክሱም - The Kingdom of Aksum From The Sky Drone Shoot Video',\n",
       "  '20180118'],\n",
       " 'JlE_9Js5fL0': ['Aksum',\n",
       "  'Aksum Obelisk - አክሱም ሐውልት -  Tigray Ethiopia From The Sky Drone Shoot Video',\n",
       "  '20180115'],\n",
       " '1s3ACx9N60M': ['Aksum',\n",
       "  'Aksum  አክሱም From The Sky Drone Shoot Video',\n",
       "  '20180118'],\n",
       " 'ot5s8-FMMNM': ['Aksum',\n",
       "  '###Amazing places Aksum City the Land of Origen',\n",
       "  '20201102'],\n",
       " 'S3G5ZklLkm0': ['Aksum', 'Aksum (UNESCO/NHK)', '20130326'],\n",
       " 'o3euZ38gQXQ': ['Aksum',\n",
       "  'Aksum (Ethiopia) Vacation Travel Video Guide',\n",
       "  '20160201'],\n",
       " 'aC2patcUcZ4': ['Aksum', 'Tigray Aksum City 2020', '20200214'],\n",
       " 'eMMj8GuVhbo': ['Aksum',\n",
       "  'Aksum Dungur Königin Sheba s Palace From The Sky Drone Shoot Video',\n",
       "  '20181103'],\n",
       " 'F0ex2LJh58M': ['Aksum',\n",
       "  'Axum City |2020| Beautiful City| Drone Footage|',\n",
       "  '20200506'],\n",
       " 'bmuqCsslDGU': ['Aksum', 'Axum Tsion 2012 Eth. C.', '20191202'],\n",
       " 'TKAd9IaMDIg': ['Aksum', 'Aksum: A Forgotten Empire', '20191230'],\n",
       " 'PIA8nrRYdVI': ['Aksum', 'Das Reich vom Aksum', '20181213'],\n",
       " 'wje0jmIhBdA': ['Aksum', 'መግለጺ ላዕለዎት መራሕቲ ሰራዊት ትግራይ እንታይ ይመስል', '20211001'],\n",
       " 'bkPPY7rwYLU': ['Aksum',\n",
       "  'Toppled Obelisk Of Axum ~ Impossible Engineering?',\n",
       "  '20181004'],\n",
       " 'fTG55juBtmI': ['Aksum',\n",
       "  'Leaked video footage shows Eritrean troops shelling villages in Tigray',\n",
       "  '20210519'],\n",
       " 'IJCy64adY3Y': ['Aksum', 'Ethiopia’s Chapel in the Sky', '20180724'],\n",
       " 'cN4J9pZ_L0I': ['Aksum',\n",
       "  '10 Navi Corazzate più Incredibili del Mondo',\n",
       "  '20211001'],\n",
       " 'ZlwIKh2Qk14': ['Aksum',\n",
       "  'Misunderstood Moments in History -  Why the Persians Failed to Conquer Greece',\n",
       "  '20191222'],\n",
       " 'rnecYp2Pa44': ['Aksum',\n",
       "  'Ethiopia by drone - The Simien Mountains',\n",
       "  '20150429'],\n",
       " '9KYBaoNPNgA': ['Aksum',\n",
       "  'Centerline: The Surprising History of Lane Markings',\n",
       "  '20191113'],\n",
       " 't-NwOcfoPZg': ['Aksum', 'The Axum hotel In Mekelle Ethiopia', '20180811'],\n",
       " 'O2oRHic6Cms': ['Aksum',\n",
       "  'Axum City, the ancient city ጥንታዊት ከተማ ኣኽሱም',\n",
       "  '20201026'],\n",
       " 'cduwVlGpK0Q': ['Aksum',\n",
       "  'AXUM, ETHIOPIA – SECRET OF THE LARGEST OBELISK IN THE WORLD',\n",
       "  '20200220'],\n",
       " 'ctGsZC6twuY': ['Aksum', 'Ancient Aksum', '20130320'],\n",
       " '8xh5y2Zcoo0': ['Aksum',\n",
       "  'Ethiopia, extreme adventures - The legend of the Ark of the Covenant (Axum, Tigray)',\n",
       "  '20200116'],\n",
       " 'OMnH9gFjS9M': ['Aksum',\n",
       "  'ሙሽራዋ አክሱም ጽዮን። ደማቁ በዓለ ንግስ።  ጉዞ ኢትዮጵያ | travel ethiopia axum Tison ALL',\n",
       "  '20191204'],\n",
       " '6HLQCqRlQbI': ['Aksum', 'Aksumite Empire (Abyssinia/Ethiopia)', '20190615'],\n",
       " '_v9y1xipoF8': ['Aksum',\n",
       "  'ዓለም ዘስደምም ታሪክ ስልጣኔ ኣክሱም zesdemm tarik sltane Aksum !',\n",
       "  '20201017'],\n",
       " '9V47pxb5Bsg': ['Aksum', 'AKSUM CITY ROADS AND BUILDINGS VIEW', '20181101'],\n",
       " '9rnRiMh3dbI': [\"Al Qal'a of Beni Hammad\",\n",
       "  \"Al Qal'a of Beni Hammad (UNESCO/NHK)\",\n",
       "  '20130326'],\n",
       " 'WQfukdEqxuc': [\"Al Qal'a of Beni Hammad\",\n",
       "  'Kalaat Beni Hammad (2 sur 2) - Visite guidée du site',\n",
       "  '20200409'],\n",
       " 'Fl3xRkaPhDU': [\"Al Qal'a of Beni Hammad\",\n",
       "  'Documentaire Qalat Bani Hammad.MPG10min.mpg',\n",
       "  '20100630'],\n",
       " 'tK9ImUwCHIw': [\"Al Qal'a of Beni Hammad\",\n",
       "  'Patrimoine Kalâa Des Beni Hammad',\n",
       "  '20210206'],\n",
       " 'xgP6dthxRec': [\"Al Qal'a of Beni Hammad\", 'Summer Festival', '20171118'],\n",
       " '1O1IP28X3Gs': [\"Al Qal'a of Beni Hammad\", 'H & S', '20171118'],\n",
       " 'wl3PnCWMhYA': [\"Al Qal'a of Beni Hammad\",\n",
       "  \"Kalaâ des Béni Hammad - Algérie - M'sila-.mp4\",\n",
       "  '20100108'],\n",
       " 'ca5lgreCtqU': [\"Al Qal'a of Beni Hammad\",\n",
       "  \"La Qal'a des Banu Hammad\",\n",
       "  '20140113'],\n",
       " 'erao0YGQ0nY': [\"Al Qal'a of Beni Hammad\",\n",
       "  'نسخة من KALAA des Béni HAMMAD MAADID n°01',\n",
       "  '20140421'],\n",
       " 't4xGAaHRMgg': [\"Al Qal'a of Beni Hammad\", 'Kalaâ  Béni Hammad', '20130420'],\n",
       " 'N9_VF7hxhwA': [\"Al Qal'a of Beni Hammad\",\n",
       "  \"Algérie - M'Sila | La Kalâa des Béni Hammad un site archéologique classé à Maadid\",\n",
       "  '20180423'],\n",
       " '25W8QHZ9iOA': [\"Al Qal'a of Beni Hammad\", 'Qalaat Beni Hammad', '20200106'],\n",
       " '_M8MlOH7VFY': [\"Al Qal'a of Beni Hammad\",\n",
       "  \"زيارة الى عاصمة الحماديين ''القلعة'' -  a visit to the Beni Hammad citadel & capital\",\n",
       "  '20181019'],\n",
       " 'Pqov_e89MCc': [\"Al Qal'a of Beni Hammad\",\n",
       "  'قلعة بني حماد - عاصمة الحماديين في القلرن 11 م - La Kalâa des Banû Hammad',\n",
       "  '20180608'],\n",
       " 'rQCgFuRJfwI': [\"Al Qal'a of Beni Hammad\",\n",
       "  \"Don't go to Algeria - Travel film by Tolt #9\",\n",
       "  '20170629'],\n",
       " 'qv7epQ-iyF0': [\"Al Qal'a of Beni Hammad\",\n",
       "  'DJI Droner - Din Danske Drone Kanal',\n",
       "  '20180516'],\n",
       " 'uTf80PsuHHM': [\"Al Qal'a of Beni Hammad\",\n",
       "  \"L'HOTEL Beni Hamad HBH à BBA PRÉSENTATION © Agence DRP Bordj Bou Arréridj\",\n",
       "  '20150824'],\n",
       " 'nG94OgRqVhc': [\"Al Qal'a of Beni Hammad\", 'قلعة بني حماد', '20200618'],\n",
       " '3j824kXnsDg': [\"Al Qal'a of Beni Hammad\",\n",
       "  'GUÍA BÁSICA PARA EMPEZAR A VOLAR DRONES BARATOS',\n",
       "  '20160319'],\n",
       " '5Rbv20fHiCA': [\"Al Qal'a of Beni Hammad\",\n",
       "  'Algeria, Bejaia, Nature, Amazing  ♥  الجزائر بجاية روعة',\n",
       "  '20190817'],\n",
       " 'IpAZBgOQ3R0': [\"Al Qal'a of Beni Hammad\",\n",
       "  'STERKFONTEIN CAVES - A WORLD HERITAGE SITE, Johannesburg, South Africa Tourism',\n",
       "  '20171024'],\n",
       " '-nXO83DECps': [\"Al Qal'a of Beni Hammad\",\n",
       "  'Best Tourist Attractions Places To Travel In Algeria | Beni Hammad Fort Destination Spot',\n",
       "  '20171008'],\n",
       " '4ZkPcmJKaU4': [\"Al Qal'a of Beni Hammad\",\n",
       "  \"La Qal'a des Banû Hammâd\",\n",
       "  '20130524'],\n",
       " 'uRzXgUbETKI': [\"Al Qal'a of Beni Hammad\", 'kalaat beni hamad', '20210605'],\n",
       " '6mYfTZddjzw': [\"Al Qal'a of Beni Hammad\",\n",
       "  'Kalaat Beni Hammad (1 sur 2) interieur du minaret',\n",
       "  '20200409'],\n",
       " 'aYzTWy_0Rgs': [\"Al Qal'a of Beni Hammad\",\n",
       "  'Documentaire Qalat Bani Hammad.MPG09min.mpg',\n",
       "  '20100701'],\n",
       " 'WVHEe9xtEpc': [\"Al Qal'a of Beni Hammad\",\n",
       "  'Building the Airgineers Tyrant S Racing Drone',\n",
       "  '20171123'],\n",
       " 'YUSBjS3SBb4': [\"Al Qal'a of Beni Hammad\",\n",
       "  'Invictus Drone video aerienne par drone de patrimoine en Bretagne',\n",
       "  '20190409'],\n",
       " 'Ke4RVRKPz7U': [\"Al Qal'a of Beni Hammad\",\n",
       "  'Invictus Drone  video aerienne de montagne / Alpes',\n",
       "  '20190319'],\n",
       " 'OU_7VBtasVM': [\"Al Qal'a of Beni Hammad\",\n",
       "  'Djémila (UNESCO/NHK)',\n",
       "  '20130326'],\n",
       " '5M2ZxO6SSQA': ['Aldabra Atoll',\n",
       "  'Aldabra Atoll, Outer Seychelles',\n",
       "  '20200406'],\n",
       " 'A821PJGPVl0': ['Aldabra Atoll', 'Aldabra Expedition 2019', '20200101'],\n",
       " 'UMMcfdqg6Po': ['Aldabra Atoll',\n",
       "  'POLYNESIA FULL LENGTH 75 MINUTES by DRONE - 4K UHD - RELAXATION + AMBIENT',\n",
       "  '20180208'],\n",
       " 'hdE3Bj0bTgk': ['Aldabra Atoll',\n",
       "  'Seychelles Island in 4K Ultra HD - 4K Drone of Seychelles - Earth Spirit',\n",
       "  '20210309'],\n",
       " '6wNVKhLn7ZU': ['Aldabra Atoll',\n",
       "  'Seychelles #1 of the Largest coral atoll in the world - Aldabra',\n",
       "  '20160429'],\n",
       " 'n0kW_wIuxD4': ['Aldabra Atoll',\n",
       "  'French Polynesia Drone [Team NanoPirate]',\n",
       "  '20160603'],\n",
       " 'mWjcaEZ5-pM': ['Aldabra Atoll',\n",
       "  'Seychelles 4k drone - La Digue Islands',\n",
       "  '20151014'],\n",
       " 'zoseOo3VAXw': ['Aldabra Atoll', 'Aldabra Expedition 2019', '20190311'],\n",
       " 'A-7CW_mMBII': ['Aldabra Atoll',\n",
       "  'Aldabra Atoll Marine World Heritage Site',\n",
       "  '20120525'],\n",
       " '8MevVUp924c': ['Aldabra Atoll', \"L'Atoll d'Aldabra\", '20201024'],\n",
       " 'RXf4T4tjrL0': ['Aldabra Atoll',\n",
       "  'Seychelles 🇸🇨 Island Drone Views 4K 60FPS',\n",
       "  '20210706'],\n",
       " 'b0w_xDyLXz0': ['Aldabra Atoll',\n",
       "  \"Aldabra Island - World's Second Largest Coral Atoll\",\n",
       "  '20200519'],\n",
       " 'p2L1R2PTH64': ['Aldabra Atoll',\n",
       "  'Giant tortoises of the Seychelles',\n",
       "  '20120313'],\n",
       " 's9owa3BiXhQ': ['Aldabra Atoll', 'Giant Tortoises at Full Speed', '20190911'],\n",
       " '8ph59--MUXc': ['Aldabra Atoll',\n",
       "  'Seychelles. Capital Victoria & North East Point Beach Mahe',\n",
       "  '20191126'],\n",
       " 'YOYUXqR8T9g': ['Aldabra Atoll',\n",
       "  'MALDIVES NATURE (4K UHD) Drone Film + Relaxing Piano Music for Stress Relief, Sleep, Spa, Yoga, Cafe',\n",
       "  '20201203'],\n",
       " '3CK_inDmuoU': ['Aldabra Atoll',\n",
       "  'A sea of plastic: Shocking images show how bottles, bags and rubbish are choking our oceans',\n",
       "  '20171020'],\n",
       " 'DzeA12tvlMM': ['Aldabra Atoll', 'Seychelles in 4K Ultra HD', '20200724'],\n",
       " 'eGLhWR5e9Bk': ['Aldabra Atoll',\n",
       "  '[FSX] A320 Air Seychelles Landing',\n",
       "  '20151016'],\n",
       " 'dDCB-N1blHw': ['Aldabra Atoll', 'French Polynesia: The Atoll', '20181029'],\n",
       " 'ptQcC8roHsQ': ['Aldabra Atoll',\n",
       "  'Atoll Paradise of Tetiaroa - French Polynesia',\n",
       "  '20160405'],\n",
       " 'MxcJtLbIhvs': ['Aldabra Atoll',\n",
       "  'Hawaii 4K - Scenic Relaxation Film with Calming Music',\n",
       "  '20201027'],\n",
       " '6iNwTf4Zl9M': ['Aldabra Atoll',\n",
       "  'Tahiti in the air [French Polynesia drone footage, phantom 3, most beautiful lagoons in the world]',\n",
       "  '20161212'],\n",
       " 'PEmKG_ZBNlc': ['Aldabra Atoll',\n",
       "  'Zanzibar Island 4K Drone 🇹🇿 Tanzania Summer Vibes',\n",
       "  '20210307'],\n",
       " 'lDGS-HUUcMY': ['Aldabra Atoll',\n",
       "  'SEYCHELLES, La Digue and Mahé Islands in 4K Ultra HD Drone Video with Relaxing Music',\n",
       "  '20210323'],\n",
       " 'VBdQYNOMLdg': ['Aldabra Atoll',\n",
       "  'Tackling ocean plastic in the Seychelles - Eden Project',\n",
       "  '20191003'],\n",
       " '1dqa1MMJr3w': ['Aldabra Atoll',\n",
       "  '4K Seychelles Island - The Amazing Seychelles Islands In 4k Ultra HD - Part Three',\n",
       "  '20210125'],\n",
       " 'xW4o3JVeAKI': ['Aldabra Atoll',\n",
       "  'Uninhabited Aldabra coral atoll filled with plastic from humans',\n",
       "  '20200923'],\n",
       " 'eSh4UP5uj9A': ['Aldabra Atoll',\n",
       "  'JOURNEY TO TAHITI | HEAVEN ON EARTH DRONE 4K',\n",
       "  '20200616'],\n",
       " 'RigfVLxyvEs': ['Aldabra Atoll',\n",
       "  'Das Atoll Aldabra | Doku — Lehrfilm 🦀 mit lustigem Palmendieb 😜',\n",
       "  '20180308'],\n",
       " 'JEUQ1G6x8Mo': ['Amphitheatre of El Jem',\n",
       "  '【4K】The Amphitheatre of El Jem (Tunisia) | 2020 | UltraHD Travel Video',\n",
       "  '20200526'],\n",
       " 'NQJIhp_j_DU': ['Amphitheatre of El Jem',\n",
       "  'Amphitheatre of El Djem in Tunisia ~ Drone footage',\n",
       "  '20180808'],\n",
       " 'W9TKM2rCm8w': ['Amphitheatre of El Jem',\n",
       "  'El Jem - Drone  training',\n",
       "  '20200912'],\n",
       " '2E5zQ_0-ex4': ['Amphitheatre of El Jem', 'El Djem amphitheater', '20190208'],\n",
       " 'ckR2rpeD4KU': ['Amphitheatre of El Jem',\n",
       "  'The amphitheater of El Jem also called Coliseum of Thysdrus',\n",
       "  '20200923'],\n",
       " 'cogNMPXY8Qk': ['Amphitheatre of El Jem',\n",
       "  'Explore the Amphitheatre of El Djem (Tunisia) - Google Street View Experience',\n",
       "  '20171111'],\n",
       " 'jTJX4wohHgY': ['Amphitheatre of El Jem',\n",
       "  'Blick auf das Amphitheater von El Djem',\n",
       "  '20200428'],\n",
       " 'FqTxkATOFiI': ['Amphitheatre of El Jem', 'El Jem , Tunisia  HD', '20140409'],\n",
       " 'T2C4J7V0DGw': ['Amphitheatre of El Jem', 'El Jem undergound', '20200209'],\n",
       " '-4KO4qi9z3M': ['Amphitheatre of El Jem',\n",
       "  'Amphitheatre of El Jem (UNESCO/NHK)',\n",
       "  '20131105'],\n",
       " 'UCV5kIQSpX8': ['Amphitheatre of El Jem',\n",
       "  'El Djem | Amphitheatre | Exploring Tunisia!',\n",
       "  '20171110'],\n",
       " 'O62nx0Q9zP0': ['Amphitheatre of El Jem',\n",
       "  'Explore the Amphitheatre of El Djem in Tunisia on Google Maps - \\u200eاكتشف قصر الجم في تونس',\n",
       "  '20170723'],\n",
       " 'W6Dzhhu03AA': ['Amphitheatre of El Jem',\n",
       "  'DJI Mini 2 | AVVENTURA FRA BOSCHI E MONTAGNE',\n",
       "  '20211004'],\n",
       " 'uAF73qNIklk': ['Amphitheatre of El Jem',\n",
       "  \"قصر الجم---Amphithéâtre d'El Jem\",\n",
       "  '20171021'],\n",
       " 'zmK9Qv8knSA': ['Amphitheatre of El Jem',\n",
       "  'Drone Empire State Building, Madison Square Park, night.',\n",
       "  '20200205'],\n",
       " 'N7sW8KikiqM': ['Amphitheatre of El Jem',\n",
       "  'CRETE | KRETA, Greece | Beautiful Beaches Aerial Drone 4K by thedronebook',\n",
       "  '20160911'],\n",
       " '6VYGBVqrTZE': ['Amphitheatre of El Jem',\n",
       "  'Anfiteatro Romano 3D / Virtual Roman Amphitheatre - Revision',\n",
       "  '20090408'],\n",
       " 'EWSnbvCnPfM': ['Amphitheatre of El Jem',\n",
       "  'Boccherini Musica notturna delle strade di Madrid',\n",
       "  '20160722'],\n",
       " 'C9TemFmpp_M': ['Amphitheatre of El Jem',\n",
       "  'Dougga, Thugga, دڨة | Drone | La Cité Perdue',\n",
       "  '20170226'],\n",
       " 'FE1uDHh8kxw': ['Amphitheatre of El Jem',\n",
       "  'Bułgaria Elenite 2018',\n",
       "  '20180805'],\n",
       " 'rWHDtVZkKfc': ['Amphitheatre of El Jem',\n",
       "  'Average Human Height by Country (2020) | Height Comparison',\n",
       "  '20200521'],\n",
       " 'sHORcz5nqIc': ['Amphitheatre of El Jem',\n",
       "  'Amphitheatre of El Jem - 360° VR',\n",
       "  '20160525'],\n",
       " 'Kur0xy6zK5w': ['Amphitheatre of El Jem',\n",
       "  'Avenches - Roman Amphitheatre [4K]',\n",
       "  '20210527'],\n",
       " 'toqvlXMwM-U': ['Amphitheatre of El Jem',\n",
       "  'Madrid Orchestra in El Jem Amphitheater',\n",
       "  '20170803'],\n",
       " 'hJsi0qW-EYU': ['Amphitheatre of El Jem',\n",
       "  'Amphitheatre of El Jem',\n",
       "  '20120122'],\n",
       " 'TRHp34_DO-c': ['Amphitheatre of El Jem',\n",
       "  'Amphitheater EL JEM (AL DŻAMM)TUNISIA',\n",
       "  '20190507'],\n",
       " 'NZoCnltFqKg': ['Amphitheatre of El Jem', 'El Jem hyperlapse', '20200212'],\n",
       " 'hu5XFzP_zXc': ['Amphitheatre of El Jem',\n",
       "  'الجم \"تونس\" كيفاش كان؟ colosseum 3d \"El Jem\" Tunisia',\n",
       "  '20200413'],\n",
       " 'Wt5xINw8OFM': ['Amphitheatre of El Jem',\n",
       "  'Tunisia - Amphitheatre El Djem',\n",
       "  '20160819'],\n",
       " 'uUDzWEwlF2c': ['Ancient Ferrous Metallurgy Sites of Burkina Faso',\n",
       "  'IRON VILLAGE: The Mossi Village of Dablo in Burkina Faso',\n",
       "  '20170130'],\n",
       " '39OgGIE9CEY': ['Ancient Ferrous Metallurgy Sites of Burkina Faso',\n",
       "  'History of Burkina Faso',\n",
       "  '20210512'],\n",
       " '4suIzm-t0_g': ['Ancient Ferrous Metallurgy Sites of Burkina Faso',\n",
       "  'Aspects of Archaeology: Drones',\n",
       "  '20170529'],\n",
       " 'wN-CW-O-aUw': ['Ancient Ferrous Metallurgy Sites of Burkina Faso',\n",
       "  'Burkina Faso Malayalam Documentary 4k Quality | കരകൗശലങ്ങളുടെ നാട്',\n",
       "  '20210529'],\n",
       " 'r9uvB4fZfUk': ['Ancient Ferrous Metallurgy Sites of Burkina Faso',\n",
       "  'Travel Video: Burkina Faso by Drone / Thialy Lodge close to Pama',\n",
       "  '20170602'],\n",
       " 'AUn6LzakHsM': ['Ancient Ferrous Metallurgy Sites of Burkina Faso',\n",
       "  'Smelting Iron from ROCKS (Primitive Iron Age Extraction)',\n",
       "  '20200813'],\n",
       " 'aV8Q6Amhtwc': ['Ancient Ferrous Metallurgy Sites of Burkina Faso',\n",
       "  'Africa   Suka   Iron Farming',\n",
       "  '20110802'],\n",
       " 'k6Riq97a6tU': ['Ancient Ferrous Metallurgy Sites of Burkina Faso',\n",
       "  \"L'éco-tourisme au Burkina Faso, un potentiel à découvrir.\",\n",
       "  '20140210'],\n",
       " 'VXUo1L-Slwc': ['Ancient Ferrous Metallurgy Sites of Burkina Faso',\n",
       "  'A Super Quick History of Burkina Faso',\n",
       "  '20190918'],\n",
       " 'tPeNv0H-5n0': ['Ancient Ferrous Metallurgy Sites of Burkina Faso',\n",
       "  'Bronze sculpture business flourishes in Burkina Faso',\n",
       "  '20160513'],\n",
       " '9BZ1fOhowGo': ['Ancient Ferrous Metallurgy Sites of Burkina Faso',\n",
       "  '4000+ year old IRON works in Nigeria - oldest evidence of iron use in history?',\n",
       "  '20191108'],\n",
       " 'lqgn1E6hxS4': ['Ancient Ferrous Metallurgy Sites of Burkina Faso',\n",
       "  'Being an agro-pastoral mediator in Burkina Faso',\n",
       "  '20210916'],\n",
       " '67GvwJeHEF4': ['Ancient Ferrous Metallurgy Sites of Burkina Faso',\n",
       "  'Burkina Faso - Film Completo Documentario - Dans la vie',\n",
       "  '20170505'],\n",
       " 'Ga4DncsyZj8': ['Ancient Ferrous Metallurgy Sites of Burkina Faso',\n",
       "  'Socotra, Yemen in 4K Ultra HD',\n",
       "  '20200501'],\n",
       " 'Fq-0iIAtgSk': ['Ancient Ferrous Metallurgy Sites of Burkina Faso',\n",
       "  '15 Weirdest Beauty Standards Around The World',\n",
       "  '20201104'],\n",
       " 'DlJtxhR34Kg': ['Ancient Ferrous Metallurgy Sites of Burkina Faso',\n",
       "  'Deadly Oasis In The Sahara Desert',\n",
       "  '20180624'],\n",
       " '0XgeA5RQH-g': ['Ancient Ferrous Metallurgy Sites of Burkina Faso',\n",
       "  \"15 Giant & Powerful People You'd Never Want To Mess With!\",\n",
       "  '20201022'],\n",
       " 'XTalyNxJE2Q': ['Ancient Ferrous Metallurgy Sites of Burkina Faso',\n",
       "  'Archaeology Meets Technology: BYU Fremont Dig Uses New Tools',\n",
       "  '20150819'],\n",
       " 'CBjPB3Vnwws': ['Ancient Ferrous Metallurgy Sites of Burkina Faso',\n",
       "  \"Africa's Best Beach & Hot Day Experience | Tanzania Series | Tamil Trekker\",\n",
       "  '20210823'],\n",
       " 'wrcd6GJYodo': ['Ancient Ferrous Metallurgy Sites of Burkina Faso',\n",
       "  'What Happens When You Hide in the Landing Gear of a Plane',\n",
       "  '20191012'],\n",
       " 'DRVi4LiXhXs': ['Ancient Ferrous Metallurgy Sites of Burkina Faso',\n",
       "  'Getting Cat Called by Women in Kenya | Life in Kenya',\n",
       "  '20190302'],\n",
       " 'MOo7cmUFroE': ['Ancient Ferrous Metallurgy Sites of Burkina Faso',\n",
       "  'Burkina Faso- 11 Interesting Facts! | Country Facts',\n",
       "  '20210130'],\n",
       " 'aJpunVM8uTI': ['Ancient Ferrous Metallurgy Sites of Burkina Faso',\n",
       "  'Burkina Faso',\n",
       "  '20191010'],\n",
       " 'ereJcjDAKLM': ['Ancient Ferrous Metallurgy Sites of Burkina Faso',\n",
       "  'Ancient African Iron Smelting Technology',\n",
       "  '20160828'],\n",
       " 'Zea5X5FDD9M': ['Ancient Ferrous Metallurgy Sites of Burkina Faso',\n",
       "  'Facebook Drone Satellite',\n",
       "  '20211004'],\n",
       " 'sQ1Hw1VuOvs': ['Ancient Ferrous Metallurgy Sites of Burkina Faso',\n",
       "  \"Things you didn't know about Burkina Faso\",\n",
       "  '20161228'],\n",
       " 'uswLXmf6SQo': ['Ancient Ferrous Metallurgy Sites of Burkina Faso',\n",
       "  'Discover Ouagadougou city (Burkina faso) in west Africa..',\n",
       "  '20210825']}"
      ]
     },
     "execution_count": 24,
     "metadata": {},
     "output_type": "execute_result"
    }
   ],
   "source": [
    "video_dict"
   ]
  },
  {
   "cell_type": "code",
   "execution_count": 25,
   "id": "76f011f5",
   "metadata": {},
   "outputs": [],
   "source": [
    "video_df = pd.DataFrame.from_dict(video_dict2, orient='index', columns=['id', 'duration', 'title', 'date'])\n",
    "\n",
    "video_df.to_csv('video_info2.csv', index_label = 'id')"
   ]
  },
  {
   "cell_type": "code",
   "execution_count": 26,
   "id": "93227ba8",
   "metadata": {},
   "outputs": [],
   "source": [
    "#https://stackoverflow.com/questions/12940901/youtube-api-2-0-checking-if-a-video-is-age-restricted"
   ]
  },
  {
   "cell_type": "code",
   "execution_count": 27,
   "id": "8a7c5823",
   "metadata": {},
   "outputs": [],
   "source": [
    "#https://www.studytonight.com/post/pytube-to-download-youtube-videos-with-python"
   ]
  },
  {
   "cell_type": "code",
   "execution_count": null,
   "id": "2e7205b6",
   "metadata": {},
   "outputs": [],
   "source": [
    "#https://newbedev.com/youtube-dl-download-best-audio-and-video-quality-python-code-example\n",
    "#https://newbedev.com/how-to-select-video-quality-from-youtube-dl"
   ]
  }
 ],
 "metadata": {
  "kernelspec": {
   "display_name": "Python 3 (ipykernel)",
   "language": "python",
   "name": "python3"
  },
  "language_info": {
   "codemirror_mode": {
    "name": "ipython",
    "version": 3
   },
   "file_extension": ".py",
   "mimetype": "text/x-python",
   "name": "python",
   "nbconvert_exporter": "python",
   "pygments_lexer": "ipython3",
   "version": "3.8.8"
  }
 },
 "nbformat": 4,
 "nbformat_minor": 5
}
