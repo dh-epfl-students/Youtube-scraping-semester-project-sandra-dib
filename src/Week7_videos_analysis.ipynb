{
 "cells": [
  {
   "cell_type": "markdown",
   "id": "3ac5b0b8",
   "metadata": {},
   "source": [
    "## Visual analysis of the videos"
   ]
  },
  {
   "cell_type": "markdown",
   "id": "3deded70",
   "metadata": {},
   "source": [
    "Select randomly 10 places, for each place select randomly 10 videos, and for each video select randomly 3 frames "
   ]
  },
  {
   "cell_type": "code",
   "execution_count": 1,
   "id": "48993ca6",
   "metadata": {},
   "outputs": [
    {
     "ename": "ModuleNotFoundError",
     "evalue": "No module named 'cv2'",
     "output_type": "error",
     "traceback": [
      "\u001b[0;31m---------------------------------------------------------------------------\u001b[0m",
      "\u001b[0;31mModuleNotFoundError\u001b[0m                       Traceback (most recent call last)",
      "\u001b[0;32m<ipython-input-1-6d0291804747>\u001b[0m in \u001b[0;36m<module>\u001b[0;34m\u001b[0m\n\u001b[1;32m      3\u001b[0m \u001b[0;32mimport\u001b[0m \u001b[0myoutube_dl\u001b[0m\u001b[0;34m\u001b[0m\u001b[0;34m\u001b[0m\u001b[0m\n\u001b[1;32m      4\u001b[0m \u001b[0;32mimport\u001b[0m \u001b[0mnumpy\u001b[0m\u001b[0;34m\u001b[0m\u001b[0;34m\u001b[0m\u001b[0m\n\u001b[0;32m----> 5\u001b[0;31m \u001b[0;32mimport\u001b[0m \u001b[0mcv2\u001b[0m\u001b[0;34m\u001b[0m\u001b[0;34m\u001b[0m\u001b[0m\n\u001b[0m",
      "\u001b[0;31mModuleNotFoundError\u001b[0m: No module named 'cv2'"
     ]
    }
   ],
   "source": [
    "import pandas as pd\n",
    "import random\n",
    "import youtube_dl\n",
    "import numpy\n",
    "import cv2"
   ]
  },
  {
   "cell_type": "code",
   "execution_count": null,
   "id": "30e5f5bb",
   "metadata": {},
   "outputs": [],
   "source": [
    "pip install cv2"
   ]
  },
  {
   "cell_type": "code",
   "execution_count": null,
   "id": "e7a5a268",
   "metadata": {},
   "outputs": [],
   "source": [
    "df = pd.read_csv('../data/video_info.csv', delimiter=',')"
   ]
  },
  {
   "cell_type": "code",
   "execution_count": null,
   "id": "7ca2456c",
   "metadata": {},
   "outputs": [],
   "source": [
    "len(df.place.unique())"
   ]
  },
  {
   "cell_type": "code",
   "execution_count": null,
   "id": "10a36499",
   "metadata": {},
   "outputs": [],
   "source": [
    "places_sel = random.sample(df.place.unique().tolist(), 10)"
   ]
  },
  {
   "cell_type": "code",
   "execution_count": null,
   "id": "4a31fa35",
   "metadata": {},
   "outputs": [],
   "source": [
    "dict_sample = {}\n",
    "for place in places_sel:\n",
    "    ids = df.loc[df['place'] == place].id.tolist()\n",
    "    ids_sample = random.sample(ids, 10)\n",
    "    dict_sample.update({place : ids_sample})"
   ]
  },
  {
   "cell_type": "code",
   "execution_count": null,
   "id": "59efad23",
   "metadata": {},
   "outputs": [],
   "source": [
    "for key, value in dict_sample.items():\n",
    "    \n",
    "    place = key\n",
    "    for youtube_id in value:\n",
    "        print(youtube_id)\n",
    "        video_url = 'https://www.youtube.com/watch?v=%s' % youtube_id  #The Youtube URL\n",
    "        ydl_opts = {}\n",
    "        ydl = youtube_dl.YoutubeDL(ydl_opts)\n",
    "        info_dict = ydl.extract_info(video_url, download=False)\n",
    "\n",
    "        formats = info_dict.get('formats',None)\n",
    "\n",
    "        f = formats[-1]\n",
    "        url = f.get('url',None)\n",
    "        cap = cv2.VideoCapture(url)\n",
    "\n",
    "        x = 1\n",
    "        count = info_dict['duration'] / 4\n",
    "\n",
    "        while x < 4 :\n",
    "\n",
    "            for i in range(3):\n",
    "\n",
    "                time = x * info_dict['duration'] + ( 10 * i ) # each time, take 3 shots at 10 sec intervals\n",
    "                ret, frame = cap.read()\n",
    "                if not ret:\n",
    "                    break\n",
    "                filename = \"../data/screenshots/%s-%d.png\" % (youtube_id, time)\n",
    "\n",
    "                cv2.imwrite(filename, frame)\n",
    "                count += int(info_dict['duration'] / 4)\n",
    "                cap.set(1,count)\n",
    "\n",
    "            x += 1\n",
    "\n",
    "        cap.release()"
   ]
  },
  {
   "cell_type": "markdown",
   "id": "8ed8623c",
   "metadata": {},
   "source": [
    "## Stats on the collected videos"
   ]
  },
  {
   "cell_type": "code",
   "execution_count": null,
   "id": "48bbee6f",
   "metadata": {},
   "outputs": [],
   "source": [
    "df = pd.read_csv('../data/video_info.csv', delimiter=',')"
   ]
  },
  {
   "cell_type": "code",
   "execution_count": null,
   "id": "a22044b5",
   "metadata": {},
   "outputs": [],
   "source": [
    "youtube_ids = df.iloc[0:28483].id.tolist()"
   ]
  },
  {
   "cell_type": "code",
   "execution_count": null,
   "id": "4997c495",
   "metadata": {},
   "outputs": [],
   "source": [
    "youtube_ids"
   ]
  },
  {
   "cell_type": "code",
   "execution_count": null,
   "id": "c551abb5",
   "metadata": {
    "scrolled": true
   },
   "outputs": [],
   "source": [
    "for youtube_id in youtube_ids:\n",
    "    print(youtube_id)\n",
    "    video_url = 'https://www.youtube.com/watch?v=%s' % youtube_id  #The Youtube URL\n",
    "    ydl_opts = {}\n",
    "    ydl = youtube_dl.YoutubeDL(ydl_opts)\n",
    "    info_dict = ydl.extract_info(video_url, download=False)\n",
    "\n",
    "    formats = info_dict.get('formats',None)\n",
    "\n",
    "    for f in formats:\n",
    "        print(f.get('height'), f.get('filesize'))\n",
    "    print()"
   ]
  },
  {
   "cell_type": "code",
   "execution_count": null,
   "id": "98ea23bb",
   "metadata": {},
   "outputs": [],
   "source": [
    "x = 1080\n",
    "for f in formats:\n",
    "    h = f.get('height')\n",
    "    if h is not None and h >= x and f.get('filesize') is not None:\n",
    "        filesize = f.get('filesize')"
   ]
  },
  {
   "cell_type": "code",
   "execution_count": null,
   "id": "54da875e",
   "metadata": {},
   "outputs": [],
   "source": [
    "formats"
   ]
  },
  {
   "cell_type": "code",
   "execution_count": null,
   "id": "7ca41180",
   "metadata": {},
   "outputs": [],
   "source": [
    "for f in formats:\n",
    "    print(f.get('height'), f.get('filesize'))"
   ]
  },
  {
   "cell_type": "code",
   "execution_count": null,
   "id": "18538fa5",
   "metadata": {},
   "outputs": [],
   "source": [
    "youtube_id = youtube_ids[0]"
   ]
  },
  {
   "cell_type": "code",
   "execution_count": null,
   "id": "8308cc49",
   "metadata": {},
   "outputs": [],
   "source": [
    "for youtube_id in df['id']:\n",
    "    print(youtube_id)"
   ]
  },
  {
   "cell_type": "code",
   "execution_count": null,
   "id": "1e989725",
   "metadata": {},
   "outputs": [],
   "source": [
    "len(df)"
   ]
  },
  {
   "cell_type": "code",
   "execution_count": null,
   "id": "1b1606e1",
   "metadata": {},
   "outputs": [],
   "source": [
    "for youtube_id in df['id']:\n",
    "    count = 0\n",
    "    \n",
    "    video_url = 'https://www.youtube.com/watch?v=%s' % youtube_id  #The Youtube URL\n",
    "    ydl_opts = {}\n",
    "    ydl = youtube_dl.YoutubeDL(ydl_opts)\n",
    "    info_dict = ydl.extract_info(video_url, download=False)\n",
    "    formats = info_dict.get('formats',None)\n",
    "    \n",
    "    for f in formats:\n",
    "        if f.get('height') == None or f.get('height') < 1080:\n",
    "            count=count+1\n",
    "        elif f.get('height') >= 1080: \n",
    "            break\n",
    "         \n",
    "    if count == len(formats):\n",
    "        print('test3')\n",
    "        df = df[df['id'] != youtube_id]    "
   ]
  },
  {
   "cell_type": "code",
   "execution_count": null,
   "id": "f8c9e037",
   "metadata": {},
   "outputs": [],
   "source": [
    "df"
   ]
  },
  {
   "cell_type": "code",
   "execution_count": null,
   "id": "9738f1a0",
   "metadata": {},
   "outputs": [],
   "source": []
  },
  {
   "cell_type": "code",
   "execution_count": null,
   "id": "3b3c36d2",
   "metadata": {},
   "outputs": [],
   "source": []
  },
  {
   "cell_type": "code",
   "execution_count": null,
   "id": "b1d158c4",
   "metadata": {},
   "outputs": [],
   "source": []
  },
  {
   "cell_type": "code",
   "execution_count": null,
   "id": "20fc18c2",
   "metadata": {},
   "outputs": [],
   "source": []
  },
  {
   "cell_type": "code",
   "execution_count": null,
   "id": "e37311b1",
   "metadata": {},
   "outputs": [],
   "source": []
  },
  {
   "cell_type": "code",
   "execution_count": null,
   "id": "ce411924",
   "metadata": {},
   "outputs": [],
   "source": [
    "for f in formats:\n",
    "    try:\n",
    "        if f.get('height') == None:\n",
    "            df.drop(labels = df.loc[df['id'] == f.get('format_id')])\n",
    "        elif f.get('height') < 1080:\n",
    "            df.drop(labels = df.loc[df['id'] == f.get('format_id')])\n",
    "    except Exception as e:\n",
    "            print(\"ERROR Catched and Passed\", e)\n",
    "            pass"
   ]
  },
  {
   "cell_type": "code",
   "execution_count": null,
   "id": "a597bd3c",
   "metadata": {},
   "outputs": [],
   "source": [
    "for f in formats:\n",
    "    print(f.get('height'))"
   ]
  },
  {
   "cell_type": "code",
   "execution_count": null,
   "id": "990dabbb",
   "metadata": {},
   "outputs": [],
   "source": [
    "for f in formats:\n",
    "    try:\n",
    "        if f.get('height') == None:\n",
    "            df.drop(labels = df.index[f.get('format_id')].tolist(), axis=0, inplace=True)\n",
    "        elif f.get('height') < 1080:\n",
    "            df.drop(labels = df.index[f.get('format_id')].tolist(), axis=0, inplace=True)\n",
    "    except Exception as e:\n",
    "            print(\"ERROR Catched and Passed\", e)\n",
    "            pass"
   ]
  },
  {
   "cell_type": "code",
   "execution_count": null,
   "id": "73e062a6",
   "metadata": {},
   "outputs": [],
   "source": [
    "df"
   ]
  },
  {
   "cell_type": "code",
   "execution_count": null,
   "id": "4082aa08",
   "metadata": {},
   "outputs": [],
   "source": [
    "   #df.drop(labels = df.loc[df['id'] == f.get('format_id')], inplace=True)\n",
    "   # if x < 1080:\n",
    "   #     df.drop(labels = df.loc[df['id'] == f.get('format_id')] , axis=0, inplace=True)"
   ]
  }
 ],
 "metadata": {
  "kernelspec": {
   "display_name": "Python 3",
   "language": "python",
   "name": "python3"
  },
  "language_info": {
   "codemirror_mode": {
    "name": "ipython",
    "version": 3
   },
   "file_extension": ".py",
   "mimetype": "text/x-python",
   "name": "python",
   "nbconvert_exporter": "python",
   "pygments_lexer": "ipython3",
   "version": "3.8.8"
  }
 },
 "nbformat": 4,
 "nbformat_minor": 5
}
