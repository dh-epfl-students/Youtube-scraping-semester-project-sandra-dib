{
 "cells": [
  {
   "cell_type": "code",
   "execution_count": 7,
   "id": "bb744571",
   "metadata": {
    "scrolled": true
   },
   "outputs": [
    {
     "name": "stdout",
     "output_type": "stream",
     "text": [
      "Requirement already satisfied: ffmpeg in /home/sdib/anaconda3/envs/dhlab_project/lib/python3.8/site-packages (1.4)\n",
      "Note: you may need to restart the kernel to use updated packages.\n"
     ]
    }
   ],
   "source": [
    "pip install ffmpeg"
   ]
  },
  {
   "cell_type": "code",
   "execution_count": 9,
   "id": "b9f30450",
   "metadata": {},
   "outputs": [],
   "source": [
    "import youtube_dl\n",
    "import numpy as np\n",
    "import cv2"
   ]
  },
  {
   "cell_type": "code",
   "execution_count": null,
   "id": "f58fcc97",
   "metadata": {},
   "outputs": [
    {
     "name": "stdout",
     "output_type": "stream",
     "text": [
      "[youtube] HECa3bAFAYk: Downloading webpage\n"
     ]
    }
   ],
   "source": [
    "if __name__ == '__main__':\n",
    "\n",
    "    video_url = 'https://www.youtube.com/watch?v=HECa3bAFAYkq'\n",
    "\n",
    "    ydl_opts = {}\n",
    "\n",
    "    # create youtube-dl object\n",
    "    ydl = youtube_dl.YoutubeDL(ydl_opts)\n",
    "\n",
    "    # set video url, extract video information\n",
    "    info_dict = ydl.extract_info(video_url, download=False)\n",
    "\n",
    "    # get video formats available\n",
    "    formats = info_dict.get('formats',None)\n",
    "\n",
    "    for f in formats:\n",
    "\n",
    "        # I want the lowest resolution, so I set resolution as 144p\n",
    "        if f.get('format_note',None) == '144p':\n",
    "\n",
    "            #get the video url\n",
    "            url = f.get('url',None)\n",
    "\n",
    "            # open url with opencv\n",
    "            cap = cv2.VideoCapture(url)\n",
    "\n",
    "            # check if url was opened\n",
    "            if not cap.isOpened():\n",
    "                print('video not opened')\n",
    "                exit(-1)\n",
    "\n",
    "            while True:\n",
    "                # read frame\n",
    "                ret, frame = cap.read()\n",
    "\n",
    "                # check if frame is empty\n",
    "                if not ret:\n",
    "                    break\n",
    "\n",
    "                # display frame\n",
    "                cv2.imshow('frame', frame)\n",
    "\n",
    "                if cv2.waitKey(30)&0xFF == ord('q'):\n",
    "                    break\n",
    "\n",
    "            # release VideoCapture\n",
    "            cap.release()\n",
    "\n",
    "    cv2.destroyAllWindows()"
   ]
  },
  {
   "cell_type": "code",
   "execution_count": 1,
   "id": "4b518624",
   "metadata": {},
   "outputs": [
    {
     "name": "stdout",
     "output_type": "stream",
     "text": [
      "Requirement already satisfied: youtube-dl in /home/sdib/anaconda3/envs/dhlab_project/lib/python3.8/site-packages (2021.6.6)\n",
      "Note: you may need to restart the kernel to use updated packages.\n"
     ]
    }
   ],
   "source": [
    "pip install -U youtube-dl"
   ]
  },
  {
   "cell_type": "code",
   "execution_count": 5,
   "id": "eed188fc",
   "metadata": {},
   "outputs": [],
   "source": [
    "from vidgear.gears import CamGear\n",
    "import cv2"
   ]
  },
  {
   "cell_type": "code",
   "execution_count": 4,
   "id": "9421680c",
   "metadata": {},
   "outputs": [
    {
     "name": "stdout",
     "output_type": "stream",
     "text": [
      "Collecting vidgear\n",
      "  Downloading vidgear-0.2.2-py3-none-any.whl (110 kB)\n",
      "\u001b[K     |████████████████████████████████| 110 kB 6.1 MB/s eta 0:00:01\n",
      "\u001b[?25hRequirement already satisfied: pafy>=0.5.5 in /home/sdib/anaconda3/envs/dhlab_project/lib/python3.8/site-packages (from vidgear) (0.5.5)\n",
      "Requirement already satisfied: requests in /home/sdib/anaconda3/envs/dhlab_project/lib/python3.8/site-packages (from vidgear) (2.26.0)\n",
      "Collecting colorlog\n",
      "  Downloading colorlog-6.5.0-py2.py3-none-any.whl (11 kB)\n",
      "Collecting pyscreenshot>=3.0\n",
      "  Downloading pyscreenshot-3.0-py3-none-any.whl (27 kB)\n",
      "Requirement already satisfied: youtube-dl>=2021.6.6 in /home/sdib/anaconda3/envs/dhlab_project/lib/python3.8/site-packages (from vidgear) (2021.6.6)\n",
      "Collecting mss>=6.1.0\n",
      "  Downloading mss-6.1.0-py3-none-any.whl (76 kB)\n",
      "\u001b[K     |████████████████████████████████| 76 kB 5.4 MB/s  eta 0:00:01\n",
      "\u001b[?25hRequirement already satisfied: numpy in /home/sdib/anaconda3/envs/dhlab_project/lib/python3.8/site-packages (from vidgear) (1.21.2)\n",
      "Collecting Pillow\n",
      "  Downloading Pillow-8.4.0-cp38-cp38-manylinux_2_17_x86_64.manylinux2014_x86_64.whl (3.1 MB)\n",
      "\u001b[K     |████████████████████████████████| 3.1 MB 21.4 MB/s eta 0:00:01\n",
      "\u001b[?25hRequirement already satisfied: tqdm in /home/sdib/anaconda3/envs/dhlab_project/lib/python3.8/site-packages (from vidgear) (4.62.3)\n",
      "Collecting simplejpeg>=1.6.2\n",
      "  Downloading simplejpeg-1.6.2-cp38-cp38-manylinux_2_17_x86_64.manylinux2014_x86_64.manylinux_2_24_x86_64.whl (271 kB)\n",
      "\u001b[K     |████████████████████████████████| 271 kB 112.4 MB/s eta 0:00:01\n",
      "\u001b[?25hCollecting cython\n",
      "  Downloading Cython-0.29.24-cp38-cp38-manylinux1_x86_64.whl (1.9 MB)\n",
      "\u001b[K     |████████████████████████████████| 1.9 MB 60.6 MB/s eta 0:00:01\n",
      "\u001b[?25hCollecting streamlink\n",
      "  Downloading streamlink-2.4.0-py3-none-any.whl (360 kB)\n",
      "\u001b[K     |████████████████████████████████| 360 kB 117.3 MB/s eta 0:00:01\n",
      "\u001b[?25hRequirement already satisfied: pyzmq>=22.2.1 in /home/sdib/anaconda3/envs/dhlab_project/lib/python3.8/site-packages (from vidgear) (22.2.1)\n",
      "Collecting EasyProcess\n",
      "  Downloading EasyProcess-0.3-py2.py3-none-any.whl (7.9 kB)\n",
      "Collecting jeepney\n",
      "  Downloading jeepney-0.7.1-py3-none-any.whl (54 kB)\n",
      "\u001b[K     |████████████████████████████████| 54 kB 3.7 MB/s s eta 0:00:01\n",
      "\u001b[?25hCollecting entrypoint2\n",
      "  Downloading entrypoint2-0.2.4-py3-none-any.whl (6.2 kB)\n",
      "Requirement already satisfied: idna<4,>=2.5 in /home/sdib/anaconda3/envs/dhlab_project/lib/python3.8/site-packages (from requests->vidgear) (3.2)\n",
      "Requirement already satisfied: certifi>=2017.4.17 in /home/sdib/anaconda3/envs/dhlab_project/lib/python3.8/site-packages (from requests->vidgear) (2021.5.30)\n",
      "Requirement already satisfied: charset-normalizer~=2.0.0 in /home/sdib/anaconda3/envs/dhlab_project/lib/python3.8/site-packages (from requests->vidgear) (2.0.6)\n",
      "Requirement already satisfied: urllib3<1.27,>=1.21.1 in /home/sdib/anaconda3/envs/dhlab_project/lib/python3.8/site-packages (from requests->vidgear) (1.26.7)\n",
      "Collecting iso3166\n",
      "  Downloading iso3166-2.0.2-py3-none-any.whl (8.5 kB)\n",
      "Collecting PySocks!=1.5.7,>=1.5.6\n",
      "  Downloading PySocks-1.7.1-py3-none-any.whl (16 kB)\n",
      "Collecting websocket-client>=0.58.0\n",
      "  Downloading websocket_client-1.2.1-py2.py3-none-any.whl (52 kB)\n",
      "\u001b[K     |████████████████████████████████| 52 kB 1.4 MB/s  eta 0:00:01\n",
      "\u001b[?25hCollecting isodate\n",
      "  Downloading isodate-0.6.0-py2.py3-none-any.whl (45 kB)\n",
      "\u001b[K     |████████████████████████████████| 45 kB 5.3 MB/s  eta 0:00:01\n",
      "\u001b[?25hCollecting pycryptodome<4,>=3.4.3\n",
      "  Downloading pycryptodome-3.11.0-cp35-abi3-manylinux2010_x86_64.whl (1.9 MB)\n",
      "\u001b[K     |████████████████████████████████| 1.9 MB 138.5 MB/s eta 0:00:01\n",
      "\u001b[?25hCollecting iso-639\n",
      "  Downloading iso-639-0.4.5.tar.gz (167 kB)\n",
      "\u001b[K     |████████████████████████████████| 167 kB 34.9 MB/s eta 0:00:01\n",
      "\u001b[?25hRequirement already satisfied: lxml>=4.6.3 in /home/sdib/anaconda3/envs/dhlab_project/lib/python3.8/site-packages (from streamlink->vidgear) (4.6.3)\n",
      "Requirement already satisfied: six in /home/sdib/anaconda3/envs/dhlab_project/lib/python3.8/site-packages (from isodate->streamlink->vidgear) (1.16.0)\n",
      "Building wheels for collected packages: iso-639\n",
      "  Building wheel for iso-639 (setup.py) ... \u001b[?25ldone\n",
      "\u001b[?25h  Created wheel for iso-639: filename=iso_639-0.4.5-py3-none-any.whl size=169061 sha256=b4d230426240f55917272641d222955dd4c6fc144b1785be30a564d237ce1fb0\n",
      "  Stored in directory: /home/sdib/.cache/pip/wheels/ed/ce/cc/1961a4de7090b2e92895fb087abfa0080a542a5706c5948bcc\n",
      "Successfully built iso-639\n",
      "Installing collected packages: websocket-client, PySocks, pycryptodome, mss, jeepney, isodate, iso3166, iso-639, entrypoint2, EasyProcess, streamlink, simplejpeg, pyscreenshot, Pillow, cython, colorlog, vidgear\n",
      "Successfully installed EasyProcess-0.3 Pillow-8.4.0 PySocks-1.7.1 colorlog-6.5.0 cython-0.29.24 entrypoint2-0.2.4 iso-639-0.4.5 iso3166-2.0.2 isodate-0.6.0 jeepney-0.7.1 mss-6.1.0 pycryptodome-3.11.0 pyscreenshot-3.0 simplejpeg-1.6.2 streamlink-2.4.0 vidgear-0.2.2 websocket-client-1.2.1\n",
      "Note: you may need to restart the kernel to use updated packages.\n"
     ]
    }
   ],
   "source": [
    "pip install vidgear"
   ]
  },
  {
   "cell_type": "code",
   "execution_count": 6,
   "id": "c6e46db8",
   "metadata": {},
   "outputs": [
    {
     "name": "stderr",
     "output_type": "stream",
     "text": [
      "\u001b[1;34mCamGear\u001b[0m :: \u001b[1;33mDEBUG\u001b[0m :: Enabling Threaded Queue Mode for the current video source!\u001b[0m\n",
      "\u001b[1;34mHelper\u001b[0m :: \u001b[1;31mERROR\u001b[0m :: module 'cv2.cv2' has no attribute 'y_tube'\u001b[0m\n",
      "Traceback (most recent call last):\n",
      "  File \"/home/sdib/anaconda3/envs/dhlab_project/lib/python3.8/site-packages/vidgear/gears/helper.py\", line 783, in capPropId\n",
      "    integer_value = getattr(cv2, property)\n",
      "AttributeError: module 'cv2.cv2' has no attribute 'y_tube'\n",
      "\u001b[1;34mHelper\u001b[0m :: \u001b[1;31m\u001b[47mCRITICAL\u001b[0m :: `y_tube` is not a valid OpenCV property!\u001b[0m\n"
     ]
    },
    {
     "ename": "RuntimeError",
     "evalue": "[CamGear:ERROR] :: Source is invalid, CamGear failed to initialize stream on this source!",
     "output_type": "error",
     "traceback": [
      "\u001b[0;31m---------------------------------------------------------------------------\u001b[0m",
      "\u001b[0;31mRuntimeError\u001b[0m                              Traceback (most recent call last)",
      "\u001b[0;32m/tmp/ipykernel_105038/661638715.py\u001b[0m in \u001b[0;36m<module>\u001b[0;34m\u001b[0m\n\u001b[0;32m----> 1\u001b[0;31m \u001b[0mstream\u001b[0m \u001b[0;34m=\u001b[0m \u001b[0mCamGear\u001b[0m\u001b[0;34m(\u001b[0m\u001b[0msource\u001b[0m\u001b[0;34m=\u001b[0m\u001b[0;34m'https://youtu.be/dQw4w9WgXcQ'\u001b[0m\u001b[0;34m,\u001b[0m \u001b[0my_tube\u001b[0m \u001b[0;34m=\u001b[0m \u001b[0;32mTrue\u001b[0m\u001b[0;34m,\u001b[0m \u001b[0mlogging\u001b[0m\u001b[0;34m=\u001b[0m\u001b[0;32mTrue\u001b[0m\u001b[0;34m)\u001b[0m\u001b[0;34m.\u001b[0m\u001b[0mstart\u001b[0m\u001b[0;34m(\u001b[0m\u001b[0;34m)\u001b[0m \u001b[0;31m# YouTube Video URL as input\u001b[0m\u001b[0;34m\u001b[0m\u001b[0;34m\u001b[0m\u001b[0m\n\u001b[0m\u001b[1;32m      2\u001b[0m \u001b[0;34m\u001b[0m\u001b[0m\n\u001b[1;32m      3\u001b[0m \u001b[0;31m# infinite loop\u001b[0m\u001b[0;34m\u001b[0m\u001b[0;34m\u001b[0m\u001b[0;34m\u001b[0m\u001b[0m\n\u001b[1;32m      4\u001b[0m \u001b[0;32mwhile\u001b[0m \u001b[0;32mTrue\u001b[0m\u001b[0;34m:\u001b[0m\u001b[0;34m\u001b[0m\u001b[0;34m\u001b[0m\u001b[0m\n\u001b[1;32m      5\u001b[0m \u001b[0;34m\u001b[0m\u001b[0m\n",
      "\u001b[0;32m~/anaconda3/envs/dhlab_project/lib/python3.8/site-packages/vidgear/gears/camgear.py\u001b[0m in \u001b[0;36m__init__\u001b[0;34m(self, source, stream_mode, backend, colorspace, logging, time_delay, **options)\u001b[0m\n\u001b[1;32m    321\u001b[0m                 \u001b[0mself\u001b[0m\u001b[0;34m.\u001b[0m\u001b[0m__queue\u001b[0m\u001b[0;34m.\u001b[0m\u001b[0mput\u001b[0m\u001b[0;34m(\u001b[0m\u001b[0mself\u001b[0m\u001b[0;34m.\u001b[0m\u001b[0mframe\u001b[0m\u001b[0;34m)\u001b[0m\u001b[0;34m\u001b[0m\u001b[0;34m\u001b[0m\u001b[0m\n\u001b[1;32m    322\u001b[0m         \u001b[0;32melse\u001b[0m\u001b[0;34m:\u001b[0m\u001b[0;34m\u001b[0m\u001b[0;34m\u001b[0m\u001b[0m\n\u001b[0;32m--> 323\u001b[0;31m             raise RuntimeError(\n\u001b[0m\u001b[1;32m    324\u001b[0m                 \u001b[0;34m\"[CamGear:ERROR] :: Source is invalid, CamGear failed to initialize stream on this source!\"\u001b[0m\u001b[0;34m\u001b[0m\u001b[0;34m\u001b[0m\u001b[0m\n\u001b[1;32m    325\u001b[0m             )\n",
      "\u001b[0;31mRuntimeError\u001b[0m: [CamGear:ERROR] :: Source is invalid, CamGear failed to initialize stream on this source!"
     ]
    }
   ],
   "source": [
    "stream = CamGear(source='https://youtu.be/dQw4w9WgXcQ', y_tube = True, logging=True).start() # YouTube Video URL as input\n",
    "\n",
    "# infinite loop\n",
    "while True:\n",
    "    \n",
    "    frame = stream.read()\n",
    "    # read frames\n",
    "\n",
    "    # check if frame is None\n",
    "    if frame is None:\n",
    "        #if True break the infinite loop\n",
    "        break\n",
    "    \n",
    "    # do something with frame here\n",
    "    \n",
    "    cv2.imshow(\"Output Frame\", frame)\n",
    "    # Show output window\n",
    "\n",
    "    key = cv2.waitKey(1) & 0xFF\n",
    "    # check for 'q' key-press\n",
    "    if key == ord(\"q\"):\n",
    "        #if 'q' key-pressed break out\n",
    "        break\n",
    "\n",
    "cv2.destroyAllWindows()\n",
    "# close output window\n",
    "\n",
    "# safely close video stream.\n",
    "stream.stop()"
   ]
  },
  {
   "cell_type": "code",
   "execution_count": null,
   "id": "7db0dbc0",
   "metadata": {},
   "outputs": [],
   "source": []
  }
 ],
 "metadata": {
  "kernelspec": {
   "display_name": "Python 3 (ipykernel)",
   "language": "python",
   "name": "python3"
  },
  "language_info": {
   "codemirror_mode": {
    "name": "ipython",
    "version": 3
   },
   "file_extension": ".py",
   "mimetype": "text/x-python",
   "name": "python",
   "nbconvert_exporter": "python",
   "pygments_lexer": "ipython3",
   "version": "3.8.8"
  }
 },
 "nbformat": 4,
 "nbformat_minor": 5
}
