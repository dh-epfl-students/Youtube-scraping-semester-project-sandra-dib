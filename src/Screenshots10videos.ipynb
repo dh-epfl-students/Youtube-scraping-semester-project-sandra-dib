{
 "cells": [
  {
   "cell_type": "markdown",
   "id": "85d56f2a",
   "metadata": {},
   "source": [
    "## Visual analysis of the videos"
   ]
  },
  {
   "cell_type": "markdown",
   "id": "8c25fcc6",
   "metadata": {},
   "source": [
    "Select randomly 10 places, for each place select randomly 10 videos, and for each video select randomly 3 frames "
   ]
  },
  {
   "cell_type": "code",
   "execution_count": 21,
   "id": "58f7be41",
   "metadata": {},
   "outputs": [],
   "source": [
    "import pandas as pd\n",
    "import random"
   ]
  },
  {
   "cell_type": "code",
   "execution_count": 28,
   "id": "9156e837",
   "metadata": {},
   "outputs": [],
   "source": [
    "df = pd.read_csv('../data/video_info2.csv', delimiter=',')"
   ]
  },
  {
   "cell_type": "code",
   "execution_count": 1,
   "id": "86ae386a",
   "metadata": {},
   "outputs": [
    {
     "ename": "NameError",
     "evalue": "name 'df' is not defined",
     "output_type": "error",
     "traceback": [
      "\u001b[0;31m---------------------------------------------------------------------------\u001b[0m",
      "\u001b[0;31mNameError\u001b[0m                                 Traceback (most recent call last)",
      "\u001b[0;32m/tmp/ipykernel_138315/3435936696.py\u001b[0m in \u001b[0;36m<module>\u001b[0;34m\u001b[0m\n\u001b[1;32m      1\u001b[0m \u001b[0;31m# we set the index of the dataframe on the 'place' columns\u001b[0m\u001b[0;34m\u001b[0m\u001b[0;34m\u001b[0m\u001b[0;34m\u001b[0m\u001b[0m\n\u001b[0;32m----> 2\u001b[0;31m \u001b[0mdf\u001b[0m\u001b[0;34m.\u001b[0m\u001b[0mset_index\u001b[0m\u001b[0;34m(\u001b[0m\u001b[0;34m'place'\u001b[0m\u001b[0;34m,\u001b[0m \u001b[0minplace\u001b[0m \u001b[0;34m=\u001b[0m \u001b[0;32mTrue\u001b[0m\u001b[0;34m)\u001b[0m\u001b[0;34m\u001b[0m\u001b[0;34m\u001b[0m\u001b[0m\n\u001b[0m",
      "\u001b[0;31mNameError\u001b[0m: name 'df' is not defined"
     ]
    }
   ],
   "source": [
    "# we set the index of the dataframe on the 'place' columns\n",
    "df.set_index('place', inplace = True)"
   ]
  },
  {
   "cell_type": "code",
   "execution_count": 31,
   "id": "38a13a63",
   "metadata": {},
   "outputs": [
    {
     "name": "stdout",
     "output_type": "stream",
     "text": [
      "8\n"
     ]
    },
    {
     "data": {
      "text/plain": [
       "Index(['Aapravasi Ghat', 'Abu Mena', 'Air and Ténéré Natural Reserves',\n",
       "       'Aksum', 'Al Qal'a of Beni Hammad', 'Aldabra Atoll',\n",
       "       'Amphitheatre of El Jem',\n",
       "       'Ancient Ferrous Metallurgy Sites of Burkina Faso'],\n",
       "      dtype='object', name='place')"
      ]
     },
     "execution_count": 31,
     "metadata": {},
     "output_type": "execute_result"
    }
   ],
   "source": [
    "print(len(df.index.unique()))\n",
    "df.index.unique()\n",
    "\n",
    "# there are only 8 different places, so we'll just select 4 for now"
   ]
  },
  {
   "cell_type": "code",
   "execution_count": 26,
   "id": "dc4f8bb4",
   "metadata": {},
   "outputs": [],
   "source": [
    "places_sel = random.sample(df.index.unique().tolist(), 4)"
   ]
  },
  {
   "cell_type": "code",
   "execution_count": 32,
   "id": "48f741ab",
   "metadata": {},
   "outputs": [
    {
     "data": {
      "text/plain": [
       "['Abu Mena', 'Aldabra Atoll', 'Amphitheatre of El Jem', 'Aksum']"
      ]
     },
     "execution_count": 32,
     "metadata": {},
     "output_type": "execute_result"
    }
   ],
   "source": [
    "places_sel"
   ]
  },
  {
   "cell_type": "code",
   "execution_count": 40,
   "id": "15a9b12f",
   "metadata": {},
   "outputs": [],
   "source": [
    "dict_sample = {}\n",
    "for place in places_sel:\n",
    "    ids = df.loc[place].id.tolist()\n",
    "    ids_sample = random.sample(ids, 10)\n",
    "    dict_sample.update({place : ids_sample})"
   ]
  },
  {
   "cell_type": "code",
   "execution_count": 41,
   "id": "80808aee",
   "metadata": {},
   "outputs": [
    {
     "data": {
      "text/plain": [
       "{'Abu Mena': ['GX7xOqLgkTM',\n",
       "  'aOd4-T_p5fA',\n",
       "  'qwNVNE83Udo',\n",
       "  'D03BxIXW_Tw',\n",
       "  'uvGeYvtpPv8',\n",
       "  'mPUSZFDPRD0',\n",
       "  'BSSGJL9pLbs',\n",
       "  'iFpsIJivk1M',\n",
       "  'BDhqAArqh20',\n",
       "  'KhDEEN4gcpI'],\n",
       " 'Aldabra Atoll': ['3BPu2dH6eYg',\n",
       "  'Z_mq_63fEdI',\n",
       "  'zoseOo3VAXw',\n",
       "  'DzeA12tvlMM',\n",
       "  '1dqa1MMJr3w',\n",
       "  '5M2ZxO6SSQA',\n",
       "  'mWjcaEZ5-pM',\n",
       "  'n0kW_wIuxD4',\n",
       "  'RXf4T4tjrL0',\n",
       "  's9owa3BiXhQ'],\n",
       " 'Amphitheatre of El Jem': ['N7sW8KikiqM',\n",
       "  'O62nx0Q9zP0',\n",
       "  '6VYGBVqrTZE',\n",
       "  'T2C4J7V0DGw',\n",
       "  'W9TKM2rCm8w',\n",
       "  'C9TemFmpp_M',\n",
       "  'sHORcz5nqIc',\n",
       "  'uAF73qNIklk',\n",
       "  'Wt5xINw8OFM',\n",
       "  'zmK9Qv8knSA'],\n",
       " 'Aksum': ['BYUiDyqowEw',\n",
       "  'zH6dj_e78do',\n",
       "  'bl0qYRJ1nF4',\n",
       "  'IJCy64adY3Y',\n",
       "  'ot5s8-FMMNM',\n",
       "  '9MSuQPOSADU',\n",
       "  'Gh05N48FMPc',\n",
       "  'JlE_9Js5fL0',\n",
       "  'aC2patcUcZ4',\n",
       "  'fTG55juBtmI']}"
      ]
     },
     "execution_count": 41,
     "metadata": {},
     "output_type": "execute_result"
    }
   ],
   "source": [
    "dict_sample"
   ]
  },
  {
   "cell_type": "code",
   "execution_count": null,
   "id": "59f998ed",
   "metadata": {},
   "outputs": [],
   "source": []
  }
 ],
 "metadata": {
  "kernelspec": {
   "display_name": "Python 3 (ipykernel)",
   "language": "python",
   "name": "python3"
  },
  "language_info": {
   "codemirror_mode": {
    "name": "ipython",
    "version": 3
   },
   "file_extension": ".py",
   "mimetype": "text/x-python",
   "name": "python",
   "nbconvert_exporter": "python",
   "pygments_lexer": "ipython3",
   "version": "3.8.8"
  }
 },
 "nbformat": 4,
 "nbformat_minor": 5
}
