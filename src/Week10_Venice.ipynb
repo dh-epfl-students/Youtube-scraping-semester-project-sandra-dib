{
 "cells": [
  {
   "cell_type": "markdown",
   "id": "30c467e6",
   "metadata": {},
   "source": [
    "## Web scraping \n",
    "\n",
    "Goal : get a table of all the locations listed [here](https://en.wikipedia.org/wiki/Lists_of_World_Heritage_Sites), in the format \\[url; name; coordinates\\]"
   ]
  },
  {
   "cell_type": "code",
   "execution_count": 8,
   "id": "829a1375",
   "metadata": {},
   "outputs": [],
   "source": [
    "import requests\n",
    "from bs4 import BeautifulSoup\n",
    "import random\n",
    "import pandas as pd\n",
    "import lxml\n",
    "import unicodedata2 as unicodedata"
   ]
  },
  {
   "cell_type": "markdown",
   "id": "edc80ef1",
   "metadata": {},
   "source": [
    "### Clean the data \n",
    "Clean the text related to place entities. "
   ]
  },
  {
   "cell_type": "code",
   "execution_count": 9,
   "id": "45ff5989",
   "metadata": {},
   "outputs": [
    {
     "name": "stderr",
     "output_type": "stream",
     "text": [
      "/tmp/ipykernel_856814/4291796620.py:4: TqdmExperimentalWarning: Using `tqdm.autonotebook.tqdm` in notebook mode. Use `tqdm.tqdm` instead to force console mode (e.g. in jupyter console)\n",
      "  from tqdm.autonotebook import tqdm\n"
     ]
    }
   ],
   "source": [
    "import pandas as pd\n",
    "import csv\n",
    "import re\n",
    "from tqdm.autonotebook import tqdm\n",
    "from Levenshtein import distance as lev "
   ]
  },
  {
   "cell_type": "markdown",
   "id": "dc8924d9",
   "metadata": {},
   "source": [
    "## Video search\n",
    "\n",
    "Get all the links resulting from the youtube requests. Refer to video-search.py for the python script."
   ]
  },
  {
   "cell_type": "code",
   "execution_count": 10,
   "id": "c0b2e124",
   "metadata": {},
   "outputs": [],
   "source": [
    "import numpy as np\n",
    "import youtube_dl\n",
    "import csv\n",
    "import urllib\n",
    "import urllib.request\n",
    "import re\n",
    "import unidecode\n",
    "from tqdm.autonotebook import tqdm\n",
    "import pytube\n",
    "import pandas as pd\n",
    "from pytube import YouTube"
   ]
  },
  {
   "cell_type": "code",
   "execution_count": 12,
   "id": "017d2e56",
   "metadata": {
    "scrolled": true
   },
   "outputs": [
    {
     "data": {
      "application/vnd.jupyter.widget-view+json": {
       "model_id": "7bf02e1f97c749dd9787154c2e343a30",
       "version_major": 2,
       "version_minor": 0
      },
      "text/plain": [
       "  0%|          | 0/30 [00:00<?, ?it/s]"
      ]
     },
     "metadata": {},
     "output_type": "display_data"
    },
    {
     "name": "stdout",
     "output_type": "stream",
     "text": [
      "[youtube] KePQSzEact4: Downloading webpage\n",
      "[youtube] 96YMtltmYLA: Downloading webpage\n",
      "[youtube] RdmUP1xtGUk: Downloading webpage\n",
      "[youtube] HDpX9dnJHmk: Downloading webpage\n",
      "[youtube] 9nzBxX95kHA: Downloading webpage\n",
      "[youtube] oNDBrxB3eFA: Downloading webpage\n",
      "[youtube] JOO76duwwX0: Downloading webpage\n",
      "[youtube] JOO76duwwX0: Downloading MPD manifest\n",
      "[youtube] r8guZh64x4U: Downloading webpage\n",
      "[youtube] v1Ug_PO0pUY: Downloading webpage\n",
      "[youtube] v1Ug_PO0pUY: Downloading MPD manifest\n",
      "[youtube] O28DUsjPhTo: Downloading webpage\n",
      "[youtube] O28DUsjPhTo: Downloading MPD manifest\n",
      "[youtube] NAb1ATrEn5k: Downloading webpage\n",
      "[youtube] NAb1ATrEn5k: Downloading MPD manifest\n",
      "[youtube] 0m-qpIDz5cI: Downloading webpage\n",
      "[youtube] ummT6MWaAwI: Downloading webpage\n",
      "[youtube] _w_2nORo1L8: Downloading webpage\n",
      "[youtube] OXsd9HO7NAU: Downloading webpage\n",
      "[youtube] Fkl4YcZiWI0: Downloading webpage\n",
      "ERROR Catched and Passed cmkAbDUEoyA is streaming live and cannot be loaded\n",
      "[youtube] f-9ijiN31LI: Downloading webpage\n",
      "[youtube] GTGm7mye-_4: Downloading webpage\n",
      "ERROR Catched and Passed K_Vg94nBiaY is streaming live and cannot be loaded\n",
      "[youtube] PPfyShd50NQ: Downloading webpage\n",
      "[youtube] P7aaNh2LDwA: Downloading webpage\n",
      "[youtube] hX6VvxKtWZU: Downloading webpage\n",
      "[youtube] hX6VvxKtWZU: Downloading MPD manifest\n",
      "[youtube] mGbsYlsw09I: Downloading webpage\n",
      "[youtube] qGue8F1ouTM: Downloading webpage\n",
      "[youtube] qGue8F1ouTM: Downloading MPD manifest\n",
      "[youtube] RSi-25ZB7_M: Downloading webpage\n",
      "[youtube] lQ3Bx0kISbA: Downloading webpage\n",
      "[youtube] CZOiwxin3mc: Downloading webpage\n",
      "[youtube] 33aPVYzV9PA: Downloading webpage\n",
      "[youtube] TxVlXzqdsak: Downloading webpage\n"
     ]
    }
   ],
   "source": [
    "# add key words \n",
    "search_words =  \"venice+san+marco+drone\"\n",
    "\n",
    "# create an empty dictionnary\n",
    "venice_dict = {}\n",
    "\n",
    "# make a request in youtube, store the results in a list\n",
    "results = []\n",
    "html = urllib.request.urlopen(\"https://www.youtube.com/results?search_query=\" + search_words)\n",
    "    \n",
    "# store the results\n",
    "venice_ids = re.findall(r\"watch\\?v=(\\S{11})\", html.read().decode())\n",
    "\n",
    "for venice_id in tqdm(venice_ids):\n",
    "    try:\n",
    "        ydl_opts = {'ignoreerrors': True}\n",
    "        with youtube_dl.YoutubeDL(ydl_opts) as ydl:\n",
    "            myVideo = YouTube(\"https://www.youtube.com/watch?v=%s\" % venice_id)\n",
    "            if (myVideo.streams.filter(res=\"2160p\") != None) :\n",
    "                if not myVideo.age_restricted:\n",
    "                    dictMetaVenice = ydl.extract_info(\"https://www.youtube.com/watch?v=%s\" % venice_id, download=False)\n",
    "\n",
    "                    venice_dict.update({venice_id : [ dictMetaVenice['duration'], dictMetaVenice['title'], dictMetaVenice['upload_date']]})\n",
    "\n",
    "    except Exception as e:\n",
    "        print(\"ERROR Catched and Passed\", e)\n",
    "        pass \n",
    "\n",
    "    \n",
    "venice_df = pd.DataFrame.from_dict(venice_dict, orient='index', columns=['duration', 'title', 'date'])\n",
    "\n",
    "venice_df.to_csv('../data/venice_info.csv', index_label = 'id')"
   ]
  },
  {
   "cell_type": "markdown",
   "id": "7278d6d0",
   "metadata": {},
   "source": [
    "## Screenshots\n",
    "\n",
    "Select randomly 10 places, from which select 10 random videos, and take 3 screenshots for each video without downloading it for analysis purposes"
   ]
  }
 ],
 "metadata": {
  "kernelspec": {
   "display_name": "Python 3 (ipykernel)",
   "language": "python",
   "name": "python3"
  },
  "language_info": {
   "codemirror_mode": {
    "name": "ipython",
    "version": 3
   },
   "file_extension": ".py",
   "mimetype": "text/x-python",
   "name": "python",
   "nbconvert_exporter": "python",
   "pygments_lexer": "ipython3",
   "version": "3.8.8"
  }
 },
 "nbformat": 4,
 "nbformat_minor": 5
}
