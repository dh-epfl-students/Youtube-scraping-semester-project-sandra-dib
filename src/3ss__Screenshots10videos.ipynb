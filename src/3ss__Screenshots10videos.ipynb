{
 "cells": [
  {
   "cell_type": "markdown",
   "metadata": {},
   "source": [
    "## Visual analysis of the videos"
   ]
  },
  {
   "cell_type": "markdown",
   "metadata": {},
   "source": [
    "Select randomly 10 places, for each place select randomly 10 videos, and for each video select randomly 3 frames "
   ]
  },
  {
   "cell_type": "code",
   "execution_count": 59,
   "metadata": {},
   "outputs": [],
   "source": [
    "import pandas as pd\n",
    "import random\n",
    "import youtube_dl\n",
    "from pytube import YouTube\n",
    "import numpy\n",
    "import cv2"
   ]
  },
  {
   "cell_type": "code",
   "execution_count": 4,
   "metadata": {},
   "outputs": [],
   "source": [
    "df = pd.read_csv('../data/video_info.csv', delimiter=',')"
   ]
  },
  {
   "cell_type": "code",
   "execution_count": 6,
   "metadata": {},
   "outputs": [
    {
     "data": {
      "text/plain": [
       "1187"
      ]
     },
     "execution_count": 6,
     "metadata": {},
     "output_type": "execute_result"
    }
   ],
   "source": [
    "len(df.place.unique())"
   ]
  },
  {
   "cell_type": "code",
   "execution_count": 7,
   "metadata": {},
   "outputs": [
    {
     "data": {
      "text/html": [
       "<div>\n",
       "<style scoped>\n",
       "    .dataframe tbody tr th:only-of-type {\n",
       "        vertical-align: middle;\n",
       "    }\n",
       "\n",
       "    .dataframe tbody tr th {\n",
       "        vertical-align: top;\n",
       "    }\n",
       "\n",
       "    .dataframe thead th {\n",
       "        text-align: right;\n",
       "    }\n",
       "</style>\n",
       "<table border=\"1\" class=\"dataframe\">\n",
       "  <thead>\n",
       "    <tr style=\"text-align: right;\">\n",
       "      <th></th>\n",
       "      <th>id</th>\n",
       "      <th>place</th>\n",
       "      <th>duration</th>\n",
       "      <th>title</th>\n",
       "      <th>date</th>\n",
       "    </tr>\n",
       "  </thead>\n",
       "  <tbody>\n",
       "    <tr>\n",
       "      <th>0</th>\n",
       "      <td>xv_0tpSn_6s</td>\n",
       "      <td>18th century royal palace at caserta with the ...</td>\n",
       "      <td>173</td>\n",
       "      <td>18th-Century Royal Palace at Caserta with the ...</td>\n",
       "      <td>20140520</td>\n",
       "    </tr>\n",
       "    <tr>\n",
       "      <th>1</th>\n",
       "      <td>WLbGooeJHbg</td>\n",
       "      <td>18th century royal palace at caserta with the ...</td>\n",
       "      <td>120</td>\n",
       "      <td>Aqueduct of Vanvitelli and St Leucio complex -...</td>\n",
       "      <td>20101024</td>\n",
       "    </tr>\n",
       "    <tr>\n",
       "      <th>2</th>\n",
       "      <td>mmpHqNGda70</td>\n",
       "      <td>Archaeological area and the patriarchal basili...</td>\n",
       "      <td>77</td>\n",
       "      <td>Caserta Royal Palace and Park, Italy - World H...</td>\n",
       "      <td>20190429</td>\n",
       "    </tr>\n",
       "    <tr>\n",
       "      <th>3</th>\n",
       "      <td>HIHRW8DLqFg</td>\n",
       "      <td>18th century royal palace at caserta with the ...</td>\n",
       "      <td>223</td>\n",
       "      <td>Royal palace Caserta   #linooffthebeatenpathse...</td>\n",
       "      <td>20210522</td>\n",
       "    </tr>\n",
       "    <tr>\n",
       "      <th>4</th>\n",
       "      <td>hB8_td6HOYw</td>\n",
       "      <td>18th century royal palace at caserta with the ...</td>\n",
       "      <td>90</td>\n",
       "      <td>Aqueduct of Vanvitelli - Benevento, Caserta, I...</td>\n",
       "      <td>20180505</td>\n",
       "    </tr>\n",
       "    <tr>\n",
       "      <th>...</th>\n",
       "      <td>...</td>\n",
       "      <td>...</td>\n",
       "      <td>...</td>\n",
       "      <td>...</td>\n",
       "      <td>...</td>\n",
       "    </tr>\n",
       "    <tr>\n",
       "      <th>28479</th>\n",
       "      <td>0_GgaIAuTGw</td>\n",
       "      <td>Zuojiang huashan rock art cultural landscape</td>\n",
       "      <td>4401</td>\n",
       "      <td>Exploring Huashan Kung Fu, popular martial art...</td>\n",
       "      <td>20170518</td>\n",
       "    </tr>\n",
       "    <tr>\n",
       "      <th>28480</th>\n",
       "      <td>pbpO2VVVTYw</td>\n",
       "      <td>Zuojiang huashan rock art cultural landscape</td>\n",
       "      <td>356</td>\n",
       "      <td>#TravelChina Chongzuo Guangxi</td>\n",
       "      <td>20200514</td>\n",
       "    </tr>\n",
       "    <tr>\n",
       "      <th>28481</th>\n",
       "      <td>dWUAab0UXE4</td>\n",
       "      <td>Zuojiang huashan rock art cultural landscape</td>\n",
       "      <td>57</td>\n",
       "      <td>Amazing Kung Fu at Huashan: Illustrated by Mas...</td>\n",
       "      <td>20170518</td>\n",
       "    </tr>\n",
       "    <tr>\n",
       "      <th>28482</th>\n",
       "      <td>wQ5qVccmo0s</td>\n",
       "      <td>Zuojiang huashan rock art cultural landscape</td>\n",
       "      <td>2019</td>\n",
       "      <td>Wollemi | PERAHU Rock Art Documentary Series</td>\n",
       "      <td>20140807</td>\n",
       "    </tr>\n",
       "    <tr>\n",
       "      <th>28483</th>\n",
       "      <td>Y4KQhAhhhjU</td>\n",
       "      <td>Zuojiang huashan rock art cultural landscape</td>\n",
       "      <td>22</td>\n",
       "      <td>Amanecer Huashan</td>\n",
       "      <td>20180607</td>\n",
       "    </tr>\n",
       "  </tbody>\n",
       "</table>\n",
       "<p>28484 rows × 5 columns</p>\n",
       "</div>"
      ],
      "text/plain": [
       "                id                                              place  \\\n",
       "0      xv_0tpSn_6s  18th century royal palace at caserta with the ...   \n",
       "1      WLbGooeJHbg  18th century royal palace at caserta with the ...   \n",
       "2      mmpHqNGda70  Archaeological area and the patriarchal basili...   \n",
       "3      HIHRW8DLqFg  18th century royal palace at caserta with the ...   \n",
       "4      hB8_td6HOYw  18th century royal palace at caserta with the ...   \n",
       "...            ...                                                ...   \n",
       "28479  0_GgaIAuTGw       Zuojiang huashan rock art cultural landscape   \n",
       "28480  pbpO2VVVTYw       Zuojiang huashan rock art cultural landscape   \n",
       "28481  dWUAab0UXE4       Zuojiang huashan rock art cultural landscape   \n",
       "28482  wQ5qVccmo0s       Zuojiang huashan rock art cultural landscape   \n",
       "28483  Y4KQhAhhhjU       Zuojiang huashan rock art cultural landscape   \n",
       "\n",
       "       duration                                              title      date  \n",
       "0           173  18th-Century Royal Palace at Caserta with the ...  20140520  \n",
       "1           120  Aqueduct of Vanvitelli and St Leucio complex -...  20101024  \n",
       "2            77  Caserta Royal Palace and Park, Italy - World H...  20190429  \n",
       "3           223  Royal palace Caserta   #linooffthebeatenpathse...  20210522  \n",
       "4            90  Aqueduct of Vanvitelli - Benevento, Caserta, I...  20180505  \n",
       "...         ...                                                ...       ...  \n",
       "28479      4401  Exploring Huashan Kung Fu, popular martial art...  20170518  \n",
       "28480       356                      #TravelChina Chongzuo Guangxi  20200514  \n",
       "28481        57  Amazing Kung Fu at Huashan: Illustrated by Mas...  20170518  \n",
       "28482      2019       Wollemi | PERAHU Rock Art Documentary Series  20140807  \n",
       "28483        22                                   Amanecer Huashan  20180607  \n",
       "\n",
       "[28484 rows x 5 columns]"
      ]
     },
     "execution_count": 7,
     "metadata": {},
     "output_type": "execute_result"
    }
   ],
   "source": [
    "df"
   ]
  },
  {
   "cell_type": "code",
   "execution_count": 20,
   "metadata": {},
   "outputs": [],
   "source": [
    "places_sel = random.sample(df.place.unique().tolist(), 10)"
   ]
  },
  {
   "cell_type": "code",
   "execution_count": 21,
   "metadata": {},
   "outputs": [],
   "source": [
    "dict_sample = {}\n",
    "for place in places_sel:\n",
    "    ids = df.loc[df['place'] == place].id.tolist()\n",
    "    ids_sample = random.sample(ids, 10)\n",
    "    dict_sample.update({place : ids_sample})"
   ]
  },
  {
   "cell_type": "code",
   "execution_count": 27,
   "metadata": {},
   "outputs": [
    {
     "name": "stdout",
     "output_type": "stream",
     "text": [
      "[youtube] 4KBou59osMk: Downloading webpage\n",
      "test\n",
      "1\n",
      "2\n",
      "3\n"
     ]
    }
   ],
   "source": [
    "for key, value in dict_sample.items():\n",
    "    \n",
    "    place = key\n",
    "    for youtube_id in value:\n",
    "        print(youtube_id)\n",
    "        video_url = 'https://www.youtube.com/watch?v=%s' % youtube_id  #The Youtube URL\n",
    "        ydl_opts = {}\n",
    "        ydl = youtube_dl.YoutubeDL(ydl_opts)\n",
    "        info_dict = ydl.extract_info(video_url, download=False)\n",
    "\n",
    "        formats = info_dict.get('formats',None)\n",
    "\n",
    "        f = formats[-1]\n",
    "        url = f.get('url',None)\n",
    "        cap = cv2.VideoCapture(url)\n",
    "\n",
    "        x = 1\n",
    "        count = info_dict['duration'] / 4\n",
    "\n",
    "        while x < 4 :\n",
    "\n",
    "            for i in range(3):\n",
    "\n",
    "                time = x * info_dict['duration'] + ( 10 * i ) # each time, take 3 shots at 10 sec intervals\n",
    "                ret, frame = cap.read()\n",
    "                if not ret:\n",
    "                    break\n",
    "                filename = \"../data/screenshots/%s-%d.png\" % (youtube_id, time)\n",
    "\n",
    "                cv2.imwrite(filename, frame)\n",
    "                count += int(info_dict['duration'] / 4)\n",
    "                cap.set(1,count)\n",
    "\n",
    "            x += 1\n",
    "\n",
    "        cap.release()"
   ]
  },
  {
   "cell_type": "markdown",
   "metadata": {},
   "source": [
    "## Stats on the collected videos"
   ]
  },
  {
   "cell_type": "code",
   "execution_count": 28,
   "metadata": {},
   "outputs": [
    {
     "data": {
      "text/html": [
       "<div>\n",
       "<style scoped>\n",
       "    .dataframe tbody tr th:only-of-type {\n",
       "        vertical-align: middle;\n",
       "    }\n",
       "\n",
       "    .dataframe tbody tr th {\n",
       "        vertical-align: top;\n",
       "    }\n",
       "\n",
       "    .dataframe thead th {\n",
       "        text-align: right;\n",
       "    }\n",
       "</style>\n",
       "<table border=\"1\" class=\"dataframe\">\n",
       "  <thead>\n",
       "    <tr style=\"text-align: right;\">\n",
       "      <th></th>\n",
       "      <th>id</th>\n",
       "      <th>place</th>\n",
       "      <th>duration</th>\n",
       "      <th>title</th>\n",
       "      <th>date</th>\n",
       "    </tr>\n",
       "  </thead>\n",
       "  <tbody>\n",
       "    <tr>\n",
       "      <th>0</th>\n",
       "      <td>xv_0tpSn_6s</td>\n",
       "      <td>18th century royal palace at caserta with the ...</td>\n",
       "      <td>173</td>\n",
       "      <td>18th-Century Royal Palace at Caserta with the ...</td>\n",
       "      <td>20140520</td>\n",
       "    </tr>\n",
       "    <tr>\n",
       "      <th>1</th>\n",
       "      <td>WLbGooeJHbg</td>\n",
       "      <td>18th century royal palace at caserta with the ...</td>\n",
       "      <td>120</td>\n",
       "      <td>Aqueduct of Vanvitelli and St Leucio complex -...</td>\n",
       "      <td>20101024</td>\n",
       "    </tr>\n",
       "    <tr>\n",
       "      <th>2</th>\n",
       "      <td>mmpHqNGda70</td>\n",
       "      <td>Archaeological area and the patriarchal basili...</td>\n",
       "      <td>77</td>\n",
       "      <td>Caserta Royal Palace and Park, Italy - World H...</td>\n",
       "      <td>20190429</td>\n",
       "    </tr>\n",
       "    <tr>\n",
       "      <th>3</th>\n",
       "      <td>HIHRW8DLqFg</td>\n",
       "      <td>18th century royal palace at caserta with the ...</td>\n",
       "      <td>223</td>\n",
       "      <td>Royal palace Caserta   #linooffthebeatenpathse...</td>\n",
       "      <td>20210522</td>\n",
       "    </tr>\n",
       "    <tr>\n",
       "      <th>4</th>\n",
       "      <td>hB8_td6HOYw</td>\n",
       "      <td>18th century royal palace at caserta with the ...</td>\n",
       "      <td>90</td>\n",
       "      <td>Aqueduct of Vanvitelli - Benevento, Caserta, I...</td>\n",
       "      <td>20180505</td>\n",
       "    </tr>\n",
       "    <tr>\n",
       "      <th>...</th>\n",
       "      <td>...</td>\n",
       "      <td>...</td>\n",
       "      <td>...</td>\n",
       "      <td>...</td>\n",
       "      <td>...</td>\n",
       "    </tr>\n",
       "    <tr>\n",
       "      <th>28479</th>\n",
       "      <td>0_GgaIAuTGw</td>\n",
       "      <td>Zuojiang huashan rock art cultural landscape</td>\n",
       "      <td>4401</td>\n",
       "      <td>Exploring Huashan Kung Fu, popular martial art...</td>\n",
       "      <td>20170518</td>\n",
       "    </tr>\n",
       "    <tr>\n",
       "      <th>28480</th>\n",
       "      <td>pbpO2VVVTYw</td>\n",
       "      <td>Zuojiang huashan rock art cultural landscape</td>\n",
       "      <td>356</td>\n",
       "      <td>#TravelChina Chongzuo Guangxi</td>\n",
       "      <td>20200514</td>\n",
       "    </tr>\n",
       "    <tr>\n",
       "      <th>28481</th>\n",
       "      <td>dWUAab0UXE4</td>\n",
       "      <td>Zuojiang huashan rock art cultural landscape</td>\n",
       "      <td>57</td>\n",
       "      <td>Amazing Kung Fu at Huashan: Illustrated by Mas...</td>\n",
       "      <td>20170518</td>\n",
       "    </tr>\n",
       "    <tr>\n",
       "      <th>28482</th>\n",
       "      <td>wQ5qVccmo0s</td>\n",
       "      <td>Zuojiang huashan rock art cultural landscape</td>\n",
       "      <td>2019</td>\n",
       "      <td>Wollemi | PERAHU Rock Art Documentary Series</td>\n",
       "      <td>20140807</td>\n",
       "    </tr>\n",
       "    <tr>\n",
       "      <th>28483</th>\n",
       "      <td>Y4KQhAhhhjU</td>\n",
       "      <td>Zuojiang huashan rock art cultural landscape</td>\n",
       "      <td>22</td>\n",
       "      <td>Amanecer Huashan</td>\n",
       "      <td>20180607</td>\n",
       "    </tr>\n",
       "  </tbody>\n",
       "</table>\n",
       "<p>28484 rows × 5 columns</p>\n",
       "</div>"
      ],
      "text/plain": [
       "                id                                              place  \\\n",
       "0      xv_0tpSn_6s  18th century royal palace at caserta with the ...   \n",
       "1      WLbGooeJHbg  18th century royal palace at caserta with the ...   \n",
       "2      mmpHqNGda70  Archaeological area and the patriarchal basili...   \n",
       "3      HIHRW8DLqFg  18th century royal palace at caserta with the ...   \n",
       "4      hB8_td6HOYw  18th century royal palace at caserta with the ...   \n",
       "...            ...                                                ...   \n",
       "28479  0_GgaIAuTGw       Zuojiang huashan rock art cultural landscape   \n",
       "28480  pbpO2VVVTYw       Zuojiang huashan rock art cultural landscape   \n",
       "28481  dWUAab0UXE4       Zuojiang huashan rock art cultural landscape   \n",
       "28482  wQ5qVccmo0s       Zuojiang huashan rock art cultural landscape   \n",
       "28483  Y4KQhAhhhjU       Zuojiang huashan rock art cultural landscape   \n",
       "\n",
       "       duration                                              title      date  \n",
       "0           173  18th-Century Royal Palace at Caserta with the ...  20140520  \n",
       "1           120  Aqueduct of Vanvitelli and St Leucio complex -...  20101024  \n",
       "2            77  Caserta Royal Palace and Park, Italy - World H...  20190429  \n",
       "3           223  Royal palace Caserta   #linooffthebeatenpathse...  20210522  \n",
       "4            90  Aqueduct of Vanvitelli - Benevento, Caserta, I...  20180505  \n",
       "...         ...                                                ...       ...  \n",
       "28479      4401  Exploring Huashan Kung Fu, popular martial art...  20170518  \n",
       "28480       356                      #TravelChina Chongzuo Guangxi  20200514  \n",
       "28481        57  Amazing Kung Fu at Huashan: Illustrated by Mas...  20170518  \n",
       "28482      2019       Wollemi | PERAHU Rock Art Documentary Series  20140807  \n",
       "28483        22                                   Amanecer Huashan  20180607  \n",
       "\n",
       "[28484 rows x 5 columns]"
      ]
     },
     "execution_count": 28,
     "metadata": {},
     "output_type": "execute_result"
    }
   ],
   "source": [
    "df"
   ]
  },
  {
   "cell_type": "code",
   "execution_count": 43,
   "metadata": {},
   "outputs": [],
   "source": [
    "youtube_ids = df.iloc[0:9].id.tolist()"
   ]
  },
  {
   "cell_type": "code",
   "execution_count": 44,
   "metadata": {},
   "outputs": [
    {
     "data": {
      "text/plain": [
       "['xv_0tpSn_6s',\n",
       " 'WLbGooeJHbg',\n",
       " 'mmpHqNGda70',\n",
       " 'HIHRW8DLqFg',\n",
       " 'hB8_td6HOYw',\n",
       " 'n88Mbk1F1TM',\n",
       " 'CyiMlcRKE9w',\n",
       " 'nG4eC_Ou4mQ',\n",
       " 'c9h5gF62jM8']"
      ]
     },
     "execution_count": 44,
     "metadata": {},
     "output_type": "execute_result"
    }
   ],
   "source": [
    "youtube_ids"
   ]
  },
  {
   "cell_type": "code",
   "execution_count": 45,
   "metadata": {
    "scrolled": true
   },
   "outputs": [
    {
     "name": "stdout",
     "output_type": "stream",
     "text": [
      "xv_0tpSn_6s\n",
      "[youtube] xv_0tpSn_6s: Downloading webpage\n",
      "None 1060515\n",
      "None 1130635\n",
      "None 2078507\n",
      "None 2804125\n",
      "144 1656100\n",
      "144 1697087\n",
      "240 3167104\n",
      "240 4146628\n",
      "360 6003941\n",
      "360 9220058\n",
      "480 10983842\n",
      "480 17711328\n",
      "720 24128631\n",
      "720 36963052\n",
      "1080 44039647\n",
      "1080 75654959\n",
      "360 12675854\n",
      "720 None\n",
      "\n",
      "WLbGooeJHbg\n",
      "[youtube] WLbGooeJHbg: Downloading webpage\n",
      "None 797260\n",
      "None 1055422\n",
      "None 1912115\n",
      "None 2061965\n",
      "144 1348832\n",
      "144 1662145\n",
      "240 2435433\n",
      "240 3680775\n",
      "360 4793344\n",
      "360 7552240\n",
      "480 8935609\n",
      "480 14301012\n",
      "720 21815367\n",
      "720 29686483\n",
      "270 9792874\n",
      "720 None\n",
      "\n",
      "mmpHqNGda70\n",
      "[youtube] mmpHqNGda70: Downloading webpage\n",
      "None 450380\n",
      "None 597183\n",
      "None 1190270\n",
      "None 1242307\n",
      "144 866336\n",
      "144 887613\n",
      "240 1684920\n",
      "240 2105692\n",
      "360 3176419\n",
      "360 4502111\n",
      "480 5733846\n",
      "480 9226141\n",
      "720 11409092\n",
      "720 18712269\n",
      "1080 20217390\n",
      "1080 37644352\n",
      "360 6279993\n",
      "720 None\n",
      "\n",
      "HIHRW8DLqFg\n",
      "[youtube] HIHRW8DLqFg: Downloading webpage\n",
      "None 1376930\n",
      "None 1833789\n",
      "None 3599334\n",
      "None 3612072\n",
      "144 2871960\n",
      "144 3242118\n",
      "240 6357100\n",
      "240 7087015\n",
      "360 11538573\n",
      "360 15923984\n",
      "480 21239142\n",
      "480 30410168\n",
      "720 43256527\n",
      "720 59950527\n",
      "1080 70028439\n",
      "1080 126525226\n",
      "1440 214331906\n",
      "2160 410215623\n",
      "360 19223413\n",
      "720 None\n",
      "\n",
      "hB8_td6HOYw\n",
      "[youtube] hB8_td6HOYw: Downloading webpage\n",
      "None 639942\n",
      "None 841126\n",
      "None 1457736\n",
      "None 1614674\n",
      "144 859685\n",
      "144 1007899\n",
      "240 1995719\n",
      "240 2107977\n",
      "360 3491407\n",
      "360 3736905\n",
      "480 7028447\n",
      "480 8291729\n",
      "720 14794971\n",
      "720 17877288\n",
      "1080 27694757\n",
      "1080 41200758\n",
      "1440 90074501\n",
      "2160 197937404\n",
      "360 6585497\n",
      "720 None\n",
      "\n",
      "n88Mbk1F1TM\n",
      "[youtube] n88Mbk1F1TM: Downloading webpage\n",
      "[youtube] n88Mbk1F1TM: Downloading MPD manifest\n",
      "None 1777624\n",
      "None 4714550\n",
      "None 1851940\n",
      "144 None\n",
      "144 None\n",
      "240 None\n",
      "240 None\n",
      "360 12131234\n",
      "360 None\n",
      "480 None\n",
      "480 None\n",
      "720 44044367\n",
      "720 None\n",
      "360 8947923\n",
      "720 None\n",
      "\n",
      "CyiMlcRKE9w\n",
      "[youtube] CyiMlcRKE9w: Downloading webpage\n",
      "None 914770\n",
      "None 1225788\n",
      "None 2439596\n",
      "None 2471934\n",
      "144 2109116\n",
      "144 2209727\n",
      "240 4716632\n",
      "240 4902221\n",
      "360 9171428\n",
      "360 11042530\n",
      "480 17682022\n",
      "480 21214444\n",
      "720 38791712\n",
      "720 43413567\n",
      "1080 64444540\n",
      "1080 88009054\n",
      "1440 179837673\n",
      "2160 353620408\n",
      "360 14085904\n",
      "720 None\n",
      "\n",
      "nG4eC_Ou4mQ\n",
      "[youtube] nG4eC_Ou4mQ: Downloading webpage\n",
      "[youtube] nG4eC_Ou4mQ: Downloading MPD manifest\n",
      "None 210652\n",
      "None 558909\n",
      "None 605551\n",
      "144 None\n",
      "144 None\n",
      "240 None\n",
      "240 None\n",
      "360 None\n",
      "360 2755184\n",
      "480 None\n",
      "480 None\n",
      "720 None\n",
      "720 None\n",
      "1080 None\n",
      "1080 None\n",
      "360 3218010\n",
      "720 None\n",
      "\n",
      "c9h5gF62jM8\n",
      "[youtube] c9h5gF62jM8: Downloading webpage\n",
      "[youtube] c9h5gF62jM8: Downloading MPD manifest\n",
      "None 1513602\n",
      "None 4034609\n",
      "None 4129050\n",
      "144 None\n",
      "144 None\n",
      "240 None\n",
      "240 None\n",
      "360 None\n",
      "360 15370417\n",
      "480 None\n",
      "480 None\n",
      "720 None\n",
      "720 None\n",
      "1080 None\n",
      "1080 126849750\n",
      "360 23380762\n",
      "720 None\n",
      "\n"
     ]
    }
   ],
   "source": [
    "for youtube_id in youtube_ids:\n",
    "    print(youtube_id)\n",
    "    video_url = 'https://www.youtube.com/watch?v=%s' % youtube_id  #The Youtube URL\n",
    "    ydl_opts = {}\n",
    "    ydl = youtube_dl.YoutubeDL(ydl_opts)\n",
    "    info_dict = ydl.extract_info(video_url, download=False)\n",
    "\n",
    "    formats = info_dict.get('formats',None)\n",
    "\n",
    "    for f in formats:\n",
    "        print(f.get('height'), f.get('filesize'))\n",
    "    print()"
   ]
  },
  {
   "cell_type": "code",
   "execution_count": 94,
   "metadata": {},
   "outputs": [],
   "source": [
    "x = 1080\n",
    "for f in formats:\n",
    "    h = f.get('height')\n",
    "    if h is not None and h >= x and f.get('filesize') is not None:\n",
    "        filesize = f.get('filesize')\n",
    "        x = h"
   ]
  },
  {
   "cell_type": "code",
   "execution_count": 95,
   "metadata": {},
   "outputs": [
    {
     "data": {
      "text/plain": [
       "1080"
      ]
     },
     "execution_count": 95,
     "metadata": {},
     "output_type": "execute_result"
    }
   ],
   "source": [
    "x"
   ]
  },
  {
   "cell_type": "code",
   "execution_count": 47,
   "metadata": {},
   "outputs": [
    {
     "name": "stdout",
     "output_type": "stream",
     "text": [
      "None 1513602\n",
      "None 4034609\n",
      "None 4129050\n",
      "144 None\n",
      "144 None\n",
      "240 None\n",
      "240 None\n",
      "360 None\n",
      "360 15370417\n",
      "480 None\n",
      "480 None\n",
      "720 None\n",
      "720 None\n",
      "1080 None\n",
      "1080 126849750\n",
      "360 23380762\n",
      "720 None\n"
     ]
    }
   ],
   "source": [
    "for f in formats:\n",
    "    print(f.get('height'), f.get('filesize'))"
   ]
  },
  {
   "cell_type": "code",
   "execution_count": 60,
   "metadata": {},
   "outputs": [
    {
     "data": {
      "text/plain": [
       "'c9h5gF62jM8'"
      ]
     },
     "execution_count": 60,
     "metadata": {},
     "output_type": "execute_result"
    }
   ],
   "source": [
    "youtube_id"
   ]
  },
  {
   "cell_type": "code",
   "execution_count": 87,
   "metadata": {},
   "outputs": [
    {
     "name": "stdout",
     "output_type": "stream",
     "text": [
      "[youtube] c9h5gF62jM8: Downloading webpage\n",
      "[youtube] c9h5gF62jM8: Downloading MPD manifest\n"
     ]
    }
   ],
   "source": [
    "for video_id in video_ids:\n",
    "    \n",
    "    video_url = 'https://www.youtube.com/watch?v=%s' % youtube_id  #The Youtube URL\n",
    "    ydl_opts = {}\n",
    "    ydl = youtube_dl.YoutubeDL(ydl_opts)\n",
    "    info_dict = ydl.extract_info(video_url, download=False)\n",
    "\n",
    "    formats = info_dict.get('formats',None)\n",
    "\n",
    "    x = 1080\n",
    "    \n",
    "    for f in formats:\n",
    "        height = f.get('height')\n",
    "        if height is not None and height >= x and f.get('filesize') is not None:\n",
    "            filesize = f.get('filesize')\n",
    "            x = height\n",
    "        \n",
    "    video_dict.update({video_id : [place_clean1, info_dict.get('duration'), info_dict.get('title'), info_dict.get('upload_date'), height, filesize ]})\n",
    "\n",
    "    except Exception as e:\n",
    "        print(\"ERROR Catched and Passed\", e)\n",
    "        pass "
   ]
  },
  {
   "cell_type": "code",
   "execution_count": 92,
   "metadata": {},
   "outputs": [
    {
     "data": {
      "text/plain": [
       "True"
      ]
     },
     "execution_count": 92,
     "metadata": {},
     "output_type": "execute_result"
    }
   ],
   "source": [
    "len(myVideo.streams.filter(res=\"1080p\")) != 0\n"
   ]
  },
  {
   "cell_type": "code",
   "execution_count": 99,
   "metadata": {},
   "outputs": [
    {
     "data": {
      "text/plain": [
       "'20180409'"
      ]
     },
     "execution_count": 99,
     "metadata": {},
     "output_type": "execute_result"
    }
   ],
   "source": [
    "info_dict.get('upload_date')"
   ]
  },
  {
   "cell_type": "code",
   "execution_count": 76,
   "metadata": {},
   "outputs": [
    {
     "name": "stdout",
     "output_type": "stream",
     "text": [
      "[youtube] c9h5gF62jM8: Downloading webpage\n",
      "[youtube] c9h5gF62jM8: Downloading MPD manifest\n"
     ]
    }
   ],
   "source": [
    "video_url = 'https://www.youtube.com/watch?v=%s' % youtube_id  #The Youtube URL\n",
    "ydl_opts = {}\n",
    "ydl = youtube_dl.YoutubeDL(ydl_opts)\n",
    "info_dict = ydl.extract_info(video_url, download=False)\n",
    "\n",
    "formats = info_dict.get('formats',None)\n",
    "\n"
   ]
  },
  {
   "cell_type": "code",
   "execution_count": 93,
   "metadata": {},
   "outputs": [
    {
     "name": "stdout",
     "output_type": "stream",
     "text": [
      "None 1513602\n",
      "None 4034609\n",
      "None 4129050\n",
      "144 None\n",
      "144 None\n",
      "240 None\n",
      "240 None\n",
      "360 None\n",
      "360 15370417\n",
      "480 None\n",
      "480 None\n",
      "720 None\n",
      "720 None\n",
      "1080 None\n",
      "1080 126849750\n",
      "360 23380762\n",
      "720 None\n"
     ]
    }
   ],
   "source": [
    "for f in formats:\n",
    "    \n",
    "    print(f.get('height'), f.get('filesize'))"
   ]
  },
  {
   "cell_type": "code",
   "execution_count": null,
   "metadata": {},
   "outputs": [],
   "source": []
  },
  {
   "cell_type": "code",
   "execution_count": null,
   "metadata": {},
   "outputs": [],
   "source": []
  },
  {
   "cell_type": "code",
   "execution_count": null,
   "metadata": {},
   "outputs": [],
   "source": []
  },
  {
   "cell_type": "code",
   "execution_count": null,
   "metadata": {},
   "outputs": [],
   "source": []
  },
  {
   "cell_type": "code",
   "execution_count": null,
   "metadata": {},
   "outputs": [],
   "source": []
  },
  {
   "cell_type": "code",
   "execution_count": null,
   "metadata": {},
   "outputs": [],
   "source": []
  },
  {
   "cell_type": "code",
   "execution_count": null,
   "metadata": {},
   "outputs": [],
   "source": []
  },
  {
   "cell_type": "code",
   "execution_count": null,
   "metadata": {},
   "outputs": [],
   "source": []
  },
  {
   "cell_type": "code",
   "execution_count": null,
   "metadata": {},
   "outputs": [],
   "source": []
  }
 ],
 "metadata": {
  "kernelspec": {
   "display_name": "Python 3",
   "language": "python",
   "name": "python3"
  },
  "language_info": {
   "codemirror_mode": {
    "name": "ipython",
    "version": 3
   },
   "file_extension": ".py",
   "mimetype": "text/x-python",
   "name": "python",
   "nbconvert_exporter": "python",
   "pygments_lexer": "ipython3",
   "version": "3.8.5"
  }
 },
 "nbformat": 4,
 "nbformat_minor": 5
}
