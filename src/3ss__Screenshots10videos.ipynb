{
 "cells": [
  {
   "cell_type": "markdown",
   "id": "85d56f2a",
   "metadata": {},
   "source": [
    "## Visual analysis of the videos"
   ]
  },
  {
   "cell_type": "markdown",
   "id": "8c25fcc6",
   "metadata": {},
   "source": [
    "Select randomly 10 places, for each place select randomly 10 videos, and for each video select randomly 3 frames "
   ]
  },
  {
   "cell_type": "code",
   "execution_count": 51,
   "id": "58f7be41",
   "metadata": {},
   "outputs": [],
   "source": [
    "import pandas as pd\n",
    "import random"
   ]
  },
  {
   "cell_type": "code",
   "execution_count": 52,
   "id": "9156e837",
   "metadata": {},
   "outputs": [],
   "source": [
    "df = pd.read_csv('video_info2.csv', delimiter=',')"
   ]
  },
  {
   "cell_type": "code",
   "execution_count": 53,
   "id": "9cee1da1",
   "metadata": {},
   "outputs": [
    {
     "data": {
      "text/html": [
       "<div>\n",
       "<style scoped>\n",
       "    .dataframe tbody tr th:only-of-type {\n",
       "        vertical-align: middle;\n",
       "    }\n",
       "\n",
       "    .dataframe tbody tr th {\n",
       "        vertical-align: top;\n",
       "    }\n",
       "\n",
       "    .dataframe thead th {\n",
       "        text-align: right;\n",
       "    }\n",
       "</style>\n",
       "<table border=\"1\" class=\"dataframe\">\n",
       "  <thead>\n",
       "    <tr style=\"text-align: right;\">\n",
       "      <th></th>\n",
       "      <th>id</th>\n",
       "      <th>id.1</th>\n",
       "      <th>duration</th>\n",
       "      <th>title</th>\n",
       "      <th>date</th>\n",
       "    </tr>\n",
       "  </thead>\n",
       "  <tbody>\n",
       "    <tr>\n",
       "      <th>0</th>\n",
       "      <td>CIdjpF_zhhI</td>\n",
       "      <td>Aapravasi Ghat</td>\n",
       "      <td>486</td>\n",
       "      <td>Aapravasi Ghat World Heritage site</td>\n",
       "      <td>20181121</td>\n",
       "    </tr>\n",
       "    <tr>\n",
       "      <th>1</th>\n",
       "      <td>Z_cf5JmUFzY</td>\n",
       "      <td>Aapravasi Ghat</td>\n",
       "      <td>1758</td>\n",
       "      <td>Aapravasi Ghat Patrimoine Mondial</td>\n",
       "      <td>20210716</td>\n",
       "    </tr>\n",
       "    <tr>\n",
       "      <th>2</th>\n",
       "      <td>Qcov8mIwWYA</td>\n",
       "      <td>Aapravasi Ghat</td>\n",
       "      <td>194</td>\n",
       "      <td>Aapravasi Ghat - Inscription</td>\n",
       "      <td>20210715</td>\n",
       "    </tr>\n",
       "    <tr>\n",
       "      <th>3</th>\n",
       "      <td>FxGz-BP2uL0</td>\n",
       "      <td>Aapravasi Ghat</td>\n",
       "      <td>514</td>\n",
       "      <td>The Aapravasi Ghat</td>\n",
       "      <td>20180317</td>\n",
       "    </tr>\n",
       "    <tr>\n",
       "      <th>4</th>\n",
       "      <td>7DSGKgZwrsk</td>\n",
       "      <td>Aapravasi Ghat</td>\n",
       "      <td>201</td>\n",
       "      <td>Aapravasi Ghat - Grande Expérience</td>\n",
       "      <td>20210715</td>\n",
       "    </tr>\n",
       "    <tr>\n",
       "      <th>...</th>\n",
       "      <td>...</td>\n",
       "      <td>...</td>\n",
       "      <td>...</td>\n",
       "      <td>...</td>\n",
       "      <td>...</td>\n",
       "    </tr>\n",
       "    <tr>\n",
       "      <th>207</th>\n",
       "      <td>39OgGIE9CEY</td>\n",
       "      <td>Ancient Ferrous Metallurgy Sites of Burkina Faso</td>\n",
       "      <td>1041</td>\n",
       "      <td>History of Burkina Faso</td>\n",
       "      <td>20210512</td>\n",
       "    </tr>\n",
       "    <tr>\n",
       "      <th>208</th>\n",
       "      <td>AUn6LzakHsM</td>\n",
       "      <td>Ancient Ferrous Metallurgy Sites of Burkina Faso</td>\n",
       "      <td>1175</td>\n",
       "      <td>Smelting Iron from ROCKS (Primitive Iron Age E...</td>\n",
       "      <td>20200813</td>\n",
       "    </tr>\n",
       "    <tr>\n",
       "      <th>209</th>\n",
       "      <td>4suIzm-t0_g</td>\n",
       "      <td>Ancient Ferrous Metallurgy Sites of Burkina Faso</td>\n",
       "      <td>971</td>\n",
       "      <td>Aspects of Archaeology: Drones</td>\n",
       "      <td>20170529</td>\n",
       "    </tr>\n",
       "    <tr>\n",
       "      <th>210</th>\n",
       "      <td>B6b9XzFVvfk</td>\n",
       "      <td>Ancient Ferrous Metallurgy Sites of Burkina Faso</td>\n",
       "      <td>3774</td>\n",
       "      <td>Masks of Burkina Faso 1976-1985</td>\n",
       "      <td>20160330</td>\n",
       "    </tr>\n",
       "    <tr>\n",
       "      <th>211</th>\n",
       "      <td>aV8Q6Amhtwc</td>\n",
       "      <td>Ancient Ferrous Metallurgy Sites of Burkina Faso</td>\n",
       "      <td>253</td>\n",
       "      <td>Africa   Suka   Iron Farming</td>\n",
       "      <td>20110802</td>\n",
       "    </tr>\n",
       "  </tbody>\n",
       "</table>\n",
       "<p>212 rows × 5 columns</p>\n",
       "</div>"
      ],
      "text/plain": [
       "              id                                              id.1  duration  \\\n",
       "0    CIdjpF_zhhI                                    Aapravasi Ghat       486   \n",
       "1    Z_cf5JmUFzY                                    Aapravasi Ghat      1758   \n",
       "2    Qcov8mIwWYA                                    Aapravasi Ghat       194   \n",
       "3    FxGz-BP2uL0                                    Aapravasi Ghat       514   \n",
       "4    7DSGKgZwrsk                                    Aapravasi Ghat       201   \n",
       "..           ...                                               ...       ...   \n",
       "207  39OgGIE9CEY  Ancient Ferrous Metallurgy Sites of Burkina Faso      1041   \n",
       "208  AUn6LzakHsM  Ancient Ferrous Metallurgy Sites of Burkina Faso      1175   \n",
       "209  4suIzm-t0_g  Ancient Ferrous Metallurgy Sites of Burkina Faso       971   \n",
       "210  B6b9XzFVvfk  Ancient Ferrous Metallurgy Sites of Burkina Faso      3774   \n",
       "211  aV8Q6Amhtwc  Ancient Ferrous Metallurgy Sites of Burkina Faso       253   \n",
       "\n",
       "                                                 title      date  \n",
       "0                   Aapravasi Ghat World Heritage site  20181121  \n",
       "1                    Aapravasi Ghat Patrimoine Mondial  20210716  \n",
       "2                         Aapravasi Ghat - Inscription  20210715  \n",
       "3                                   The Aapravasi Ghat  20180317  \n",
       "4                   Aapravasi Ghat - Grande Expérience  20210715  \n",
       "..                                                 ...       ...  \n",
       "207                            History of Burkina Faso  20210512  \n",
       "208  Smelting Iron from ROCKS (Primitive Iron Age E...  20200813  \n",
       "209                     Aspects of Archaeology: Drones  20170529  \n",
       "210                    Masks of Burkina Faso 1976-1985  20160330  \n",
       "211                       Africa   Suka   Iron Farming  20110802  \n",
       "\n",
       "[212 rows x 5 columns]"
      ]
     },
     "execution_count": 53,
     "metadata": {},
     "output_type": "execute_result"
    }
   ],
   "source": [
    "df"
   ]
  },
  {
   "cell_type": "code",
   "execution_count": 54,
   "id": "86ae386a",
   "metadata": {},
   "outputs": [],
   "source": [
    "# we set the index of the dataframe on the 'place' columns\n",
    "df.set_index('id.1', inplace = True)"
   ]
  },
  {
   "cell_type": "code",
   "execution_count": 55,
   "id": "d776558d",
   "metadata": {},
   "outputs": [
    {
     "data": {
      "text/html": [
       "<div>\n",
       "<style scoped>\n",
       "    .dataframe tbody tr th:only-of-type {\n",
       "        vertical-align: middle;\n",
       "    }\n",
       "\n",
       "    .dataframe tbody tr th {\n",
       "        vertical-align: top;\n",
       "    }\n",
       "\n",
       "    .dataframe thead th {\n",
       "        text-align: right;\n",
       "    }\n",
       "</style>\n",
       "<table border=\"1\" class=\"dataframe\">\n",
       "  <thead>\n",
       "    <tr style=\"text-align: right;\">\n",
       "      <th></th>\n",
       "      <th>id</th>\n",
       "      <th>duration</th>\n",
       "      <th>title</th>\n",
       "      <th>date</th>\n",
       "    </tr>\n",
       "    <tr>\n",
       "      <th>id.1</th>\n",
       "      <th></th>\n",
       "      <th></th>\n",
       "      <th></th>\n",
       "      <th></th>\n",
       "    </tr>\n",
       "  </thead>\n",
       "  <tbody>\n",
       "    <tr>\n",
       "      <th>Aapravasi Ghat</th>\n",
       "      <td>CIdjpF_zhhI</td>\n",
       "      <td>486</td>\n",
       "      <td>Aapravasi Ghat World Heritage site</td>\n",
       "      <td>20181121</td>\n",
       "    </tr>\n",
       "    <tr>\n",
       "      <th>Aapravasi Ghat</th>\n",
       "      <td>Z_cf5JmUFzY</td>\n",
       "      <td>1758</td>\n",
       "      <td>Aapravasi Ghat Patrimoine Mondial</td>\n",
       "      <td>20210716</td>\n",
       "    </tr>\n",
       "    <tr>\n",
       "      <th>Aapravasi Ghat</th>\n",
       "      <td>Qcov8mIwWYA</td>\n",
       "      <td>194</td>\n",
       "      <td>Aapravasi Ghat - Inscription</td>\n",
       "      <td>20210715</td>\n",
       "    </tr>\n",
       "    <tr>\n",
       "      <th>Aapravasi Ghat</th>\n",
       "      <td>FxGz-BP2uL0</td>\n",
       "      <td>514</td>\n",
       "      <td>The Aapravasi Ghat</td>\n",
       "      <td>20180317</td>\n",
       "    </tr>\n",
       "    <tr>\n",
       "      <th>Aapravasi Ghat</th>\n",
       "      <td>7DSGKgZwrsk</td>\n",
       "      <td>201</td>\n",
       "      <td>Aapravasi Ghat - Grande Expérience</td>\n",
       "      <td>20210715</td>\n",
       "    </tr>\n",
       "    <tr>\n",
       "      <th>...</th>\n",
       "      <td>...</td>\n",
       "      <td>...</td>\n",
       "      <td>...</td>\n",
       "      <td>...</td>\n",
       "    </tr>\n",
       "    <tr>\n",
       "      <th>Ancient Ferrous Metallurgy Sites of Burkina Faso</th>\n",
       "      <td>39OgGIE9CEY</td>\n",
       "      <td>1041</td>\n",
       "      <td>History of Burkina Faso</td>\n",
       "      <td>20210512</td>\n",
       "    </tr>\n",
       "    <tr>\n",
       "      <th>Ancient Ferrous Metallurgy Sites of Burkina Faso</th>\n",
       "      <td>AUn6LzakHsM</td>\n",
       "      <td>1175</td>\n",
       "      <td>Smelting Iron from ROCKS (Primitive Iron Age E...</td>\n",
       "      <td>20200813</td>\n",
       "    </tr>\n",
       "    <tr>\n",
       "      <th>Ancient Ferrous Metallurgy Sites of Burkina Faso</th>\n",
       "      <td>4suIzm-t0_g</td>\n",
       "      <td>971</td>\n",
       "      <td>Aspects of Archaeology: Drones</td>\n",
       "      <td>20170529</td>\n",
       "    </tr>\n",
       "    <tr>\n",
       "      <th>Ancient Ferrous Metallurgy Sites of Burkina Faso</th>\n",
       "      <td>B6b9XzFVvfk</td>\n",
       "      <td>3774</td>\n",
       "      <td>Masks of Burkina Faso 1976-1985</td>\n",
       "      <td>20160330</td>\n",
       "    </tr>\n",
       "    <tr>\n",
       "      <th>Ancient Ferrous Metallurgy Sites of Burkina Faso</th>\n",
       "      <td>aV8Q6Amhtwc</td>\n",
       "      <td>253</td>\n",
       "      <td>Africa   Suka   Iron Farming</td>\n",
       "      <td>20110802</td>\n",
       "    </tr>\n",
       "  </tbody>\n",
       "</table>\n",
       "<p>212 rows × 4 columns</p>\n",
       "</div>"
      ],
      "text/plain": [
       "                                                           id  duration  \\\n",
       "id.1                                                                      \n",
       "Aapravasi Ghat                                    CIdjpF_zhhI       486   \n",
       "Aapravasi Ghat                                    Z_cf5JmUFzY      1758   \n",
       "Aapravasi Ghat                                    Qcov8mIwWYA       194   \n",
       "Aapravasi Ghat                                    FxGz-BP2uL0       514   \n",
       "Aapravasi Ghat                                    7DSGKgZwrsk       201   \n",
       "...                                                       ...       ...   \n",
       "Ancient Ferrous Metallurgy Sites of Burkina Faso  39OgGIE9CEY      1041   \n",
       "Ancient Ferrous Metallurgy Sites of Burkina Faso  AUn6LzakHsM      1175   \n",
       "Ancient Ferrous Metallurgy Sites of Burkina Faso  4suIzm-t0_g       971   \n",
       "Ancient Ferrous Metallurgy Sites of Burkina Faso  B6b9XzFVvfk      3774   \n",
       "Ancient Ferrous Metallurgy Sites of Burkina Faso  aV8Q6Amhtwc       253   \n",
       "\n",
       "                                                                                              title  \\\n",
       "id.1                                                                                                  \n",
       "Aapravasi Ghat                                                   Aapravasi Ghat World Heritage site   \n",
       "Aapravasi Ghat                                                    Aapravasi Ghat Patrimoine Mondial   \n",
       "Aapravasi Ghat                                                         Aapravasi Ghat - Inscription   \n",
       "Aapravasi Ghat                                                                   The Aapravasi Ghat   \n",
       "Aapravasi Ghat                                                   Aapravasi Ghat - Grande Expérience   \n",
       "...                                                                                             ...   \n",
       "Ancient Ferrous Metallurgy Sites of Burkina Faso                            History of Burkina Faso   \n",
       "Ancient Ferrous Metallurgy Sites of Burkina Faso  Smelting Iron from ROCKS (Primitive Iron Age E...   \n",
       "Ancient Ferrous Metallurgy Sites of Burkina Faso                     Aspects of Archaeology: Drones   \n",
       "Ancient Ferrous Metallurgy Sites of Burkina Faso                    Masks of Burkina Faso 1976-1985   \n",
       "Ancient Ferrous Metallurgy Sites of Burkina Faso                       Africa   Suka   Iron Farming   \n",
       "\n",
       "                                                      date  \n",
       "id.1                                                        \n",
       "Aapravasi Ghat                                    20181121  \n",
       "Aapravasi Ghat                                    20210716  \n",
       "Aapravasi Ghat                                    20210715  \n",
       "Aapravasi Ghat                                    20180317  \n",
       "Aapravasi Ghat                                    20210715  \n",
       "...                                                    ...  \n",
       "Ancient Ferrous Metallurgy Sites of Burkina Faso  20210512  \n",
       "Ancient Ferrous Metallurgy Sites of Burkina Faso  20200813  \n",
       "Ancient Ferrous Metallurgy Sites of Burkina Faso  20170529  \n",
       "Ancient Ferrous Metallurgy Sites of Burkina Faso  20160330  \n",
       "Ancient Ferrous Metallurgy Sites of Burkina Faso  20110802  \n",
       "\n",
       "[212 rows x 4 columns]"
      ]
     },
     "execution_count": 55,
     "metadata": {},
     "output_type": "execute_result"
    }
   ],
   "source": [
    "df"
   ]
  },
  {
   "cell_type": "code",
   "execution_count": 60,
   "id": "38a13a63",
   "metadata": {},
   "outputs": [
    {
     "name": "stdout",
     "output_type": "stream",
     "text": [
      "8\n"
     ]
    },
    {
     "data": {
      "text/plain": [
       "Index(['Aapravasi Ghat', 'Abu Mena', 'Air and Ténéré Natural Reserves',\n",
       "       'Aksum', 'Al Qal'a of Beni Hammad', 'Aldabra Atoll',\n",
       "       'Amphitheatre of El Jem',\n",
       "       'Ancient Ferrous Metallurgy Sites of Burkina Faso'],\n",
       "      dtype='object', name='id.1')"
      ]
     },
     "execution_count": 60,
     "metadata": {},
     "output_type": "execute_result"
    }
   ],
   "source": [
    "print(len(df.index.unique()))\n",
    "df.index.unique()\n",
    "\n",
    "# there are only 8 different places, so we'll just select 4 for now"
   ]
  },
  {
   "cell_type": "code",
   "execution_count": 61,
   "id": "dc4f8bb4",
   "metadata": {},
   "outputs": [],
   "source": [
    "places_sel = random.sample(df.index.unique().tolist(), 4)"
   ]
  },
  {
   "cell_type": "code",
   "execution_count": 62,
   "id": "48f741ab",
   "metadata": {},
   "outputs": [
    {
     "data": {
      "text/plain": [
       "['Aapravasi Ghat', 'Aldabra Atoll', 'Air and Ténéré Natural Reserves', 'Aksum']"
      ]
     },
     "execution_count": 62,
     "metadata": {},
     "output_type": "execute_result"
    }
   ],
   "source": [
    "places_sel"
   ]
  },
  {
   "cell_type": "code",
   "execution_count": 63,
   "id": "15a9b12f",
   "metadata": {},
   "outputs": [],
   "source": [
    "dict_sample = {}\n",
    "for place in places_sel:\n",
    "    ids = df.loc[place].id.tolist()\n",
    "    ids_sample = random.sample(ids, 10)\n",
    "    dict_sample.update({place : ids_sample})"
   ]
  },
  {
   "cell_type": "code",
   "execution_count": 64,
   "id": "80808aee",
   "metadata": {},
   "outputs": [
    {
     "data": {
      "text/plain": [
       "{'Aapravasi Ghat': ['Jxk9O8QGZj4',\n",
       "  '7DSGKgZwrsk',\n",
       "  'Slh2IZLAT9U',\n",
       "  'FxGz-BP2uL0',\n",
       "  '0gd2Z6233Jc',\n",
       "  'E5B4XKtTolA',\n",
       "  'bHSDVLeraEc',\n",
       "  'MQVIHIawI_8',\n",
       "  'IP05jI9Uw7A',\n",
       "  'jaTp_I6Ett4'],\n",
       " 'Aldabra Atoll': ['3CK_inDmuoU',\n",
       "  's9owa3BiXhQ',\n",
       "  'eGLhWR5e9Bk',\n",
       "  'hdE3Bj0bTgk',\n",
       "  'n0kW_wIuxD4',\n",
       "  '8MevVUp924c',\n",
       "  '5M2ZxO6SSQA',\n",
       "  'VBdQYNOMLdg',\n",
       "  '6wNVKhLn7ZU',\n",
       "  'H6J5wdZUxck'],\n",
       " 'Air and Ténéré Natural Reserves': ['K4nSRILA47g',\n",
       "  'ERYPCbtWDxQ',\n",
       "  'euIAIyYdyBg',\n",
       "  'f3ID9J-hQA4',\n",
       "  'GJS0u9ZGg_s',\n",
       "  '5I_m41pfkkg',\n",
       "  '3eP_PhTyRyc',\n",
       "  'sb2xJvMNWpM',\n",
       "  'jWDHhAQyemQ',\n",
       "  'DCB9CqV_vEE'],\n",
       " 'Aksum': ['IJCy64adY3Y',\n",
       "  'o3euZ38gQXQ',\n",
       "  '_v9y1xipoF8',\n",
       "  'cduwVlGpK0Q',\n",
       "  'R2JOI6i042w',\n",
       "  '9A8-Z3z7gUw',\n",
       "  'BYUiDyqowEw',\n",
       "  'OMnH9gFjS9M',\n",
       "  'pGogpFbSpMM',\n",
       "  '9MSuQPOSADU']}"
      ]
     },
     "execution_count": 64,
     "metadata": {},
     "output_type": "execute_result"
    }
   ],
   "source": [
    "dict_sample"
   ]
  },
  {
   "cell_type": "code",
   "execution_count": 32,
   "id": "ea9e22a3",
   "metadata": {},
   "outputs": [],
   "source": [
    "import youtube_dl\n",
    "import numpy\n",
    "import cv2"
   ]
  },
  {
   "cell_type": "code",
   "execution_count": 39,
   "id": "4030d437",
   "metadata": {},
   "outputs": [],
   "source": [
    "youtube_id = 'B6b9XzFVvfk'"
   ]
  },
  {
   "cell_type": "code",
   "execution_count": 71,
   "id": "719aa26d",
   "metadata": {},
   "outputs": [
    {
     "data": {
      "text/plain": [
       "{'asr': 44100,\n",
       " 'filesize': None,\n",
       " 'format_id': '22',\n",
       " 'format_note': '720p',\n",
       " 'fps': 30,\n",
       " 'height': 720,\n",
       " 'quality': 4,\n",
       " 'tbr': 1943.947,\n",
       " 'url': 'https://r3---sn-nfpuji-1gil.googlevideo.com/videoplayback?expire=1634679248&ei=cOVuYd-8NsmU-ga0g5vwDw&ip=128.178.21.36&id=o-AKv6CUcWXnE6TqbydJo84czOwWEB15DOxfWuO3loK07u&itag=22&source=youtube&requiressl=yes&mh=EB&mm=31%2C29&mn=sn-nfpuji-1gil%2Csn-1gi7znek&ms=au%2Crdu&mv=m&mvi=3&pl=16&initcwndbps=1390000&vprv=1&mime=video%2Fmp4&ns=YoDPE7JMXy2djaauSASbV4YG&cnr=14&ratebypass=yes&dur=990.656&lmt=1555473570265151&mt=1634657359&fvip=4&fexp=24001373%2C24007246&c=WEB&txp=5432432&n=-xzj2DHHira-KAtP2Pd&sparams=expire%2Cei%2Cip%2Cid%2Citag%2Csource%2Crequiressl%2Cvprv%2Cmime%2Cns%2Ccnr%2Cratebypass%2Cdur%2Clmt&lsparams=mh%2Cmm%2Cmn%2Cms%2Cmv%2Cmvi%2Cpl%2Cinitcwndbps&lsig=AG3C_xAwRAIgU6iC9P3BR6agYVSzxEaiAPrTd4XOiYn9f_MaDRvmjBwCIE0EoObJyR2LiO15ZNvIM9siLE4zWyPknCfmGA4DkEKP&sig=AOq0QJ8wRQIgNlT1rl1ZHOXrrOUX0koVBqV0nKpJPUC3R0gBS9ai_CcCIQCUuGB9ph7pnfuNQ7PfHcweIT3kmPLs8ykjdbiVaa_kPA==',\n",
       " 'width': 1280,\n",
       " 'ext': 'mp4',\n",
       " 'vcodec': 'avc1.64001F',\n",
       " 'acodec': 'mp4a.40.2',\n",
       " 'format': '22 - 1280x720 (720p)',\n",
       " 'protocol': 'https',\n",
       " 'http_headers': {'User-Agent': 'Mozilla/5.0 (Windows NT 10.0; Win64; x64) AppleWebKit/537.36 (KHTML, like Gecko) Chrome/72.0.3626.31 Safari/537.36',\n",
       "  'Accept-Charset': 'ISO-8859-1,utf-8;q=0.7,*;q=0.7',\n",
       "  'Accept': 'text/html,application/xhtml+xml,application/xml;q=0.9,*/*;q=0.8',\n",
       "  'Accept-Encoding': 'gzip, deflate',\n",
       "  'Accept-Language': 'en-us,en;q=0.5'}}"
      ]
     },
     "execution_count": 71,
     "metadata": {},
     "output_type": "execute_result"
    }
   ],
   "source": [
    "formats[-1]\n"
   ]
  },
  {
   "cell_type": "code",
   "execution_count": null,
   "id": "a4928f99",
   "metadata": {},
   "outputs": [
    {
     "name": "stdout",
     "output_type": "stream",
     "text": [
      "Jxk9O8QGZj4\n",
      "[youtube] Jxk9O8QGZj4: Downloading webpage\n",
      "[youtube] Jxk9O8QGZj4: Downloading MPD manifest\n",
      "test\n",
      "0\n",
      "1\n",
      "2\n",
      "7DSGKgZwrsk\n",
      "[youtube] 7DSGKgZwrsk: Downloading webpage\n",
      "test\n",
      "0\n",
      "1\n",
      "2\n",
      "Slh2IZLAT9U\n",
      "[youtube] Slh2IZLAT9U: Downloading webpage\n",
      "test\n",
      "0\n",
      "1\n",
      "2\n",
      "FxGz-BP2uL0\n",
      "[youtube] FxGz-BP2uL0: Downloading webpage\n",
      "[youtube] FxGz-BP2uL0: Downloading MPD manifest\n",
      "test\n",
      "0\n",
      "1\n",
      "2\n",
      "0gd2Z6233Jc\n",
      "[youtube] 0gd2Z6233Jc: Downloading webpage\n",
      "[youtube] 0gd2Z6233Jc: Downloading MPD manifest\n",
      "test\n",
      "0\n",
      "1\n",
      "2\n",
      "E5B4XKtTolA\n",
      "[youtube] E5B4XKtTolA: Downloading webpage\n",
      "test\n",
      "0\n",
      "1\n",
      "2\n",
      "bHSDVLeraEc\n",
      "[youtube] bHSDVLeraEc: Downloading webpage\n",
      "test\n",
      "0\n",
      "1\n",
      "2\n",
      "MQVIHIawI_8\n",
      "[youtube] MQVIHIawI_8: Downloading webpage\n",
      "[youtube] MQVIHIawI_8: Downloading MPD manifest\n",
      "test\n",
      "0\n",
      "1\n",
      "2\n",
      "IP05jI9Uw7A\n",
      "[youtube] IP05jI9Uw7A: Downloading webpage\n",
      "test\n",
      "jaTp_I6Ett4\n",
      "[youtube] jaTp_I6Ett4: Downloading webpage\n"
     ]
    },
    {
     "name": "stderr",
     "output_type": "stream",
     "text": [
      "[h264 @ 0x55dd821ecf00] Invalid NAL unit size (116953 > 48182).\n",
      "[h264 @ 0x55dd821ecf00] Error splitting the input into NAL units.\n"
     ]
    },
    {
     "name": "stdout",
     "output_type": "stream",
     "text": [
      "test\n",
      "0\n",
      "1\n",
      "2\n",
      "3CK_inDmuoU\n",
      "[youtube] 3CK_inDmuoU: Downloading webpage\n",
      "test\n",
      "0\n",
      "1\n",
      "2\n",
      "s9owa3BiXhQ\n",
      "[youtube] s9owa3BiXhQ: Downloading webpage\n",
      "test\n",
      "0\n",
      "1\n",
      "2\n",
      "eGLhWR5e9Bk\n",
      "[youtube] eGLhWR5e9Bk: Downloading webpage\n",
      "test\n",
      "hdE3Bj0bTgk\n",
      "[youtube] hdE3Bj0bTgk: Downloading webpage\n"
     ]
    },
    {
     "name": "stderr",
     "output_type": "stream",
     "text": [
      "[ERROR:0] global /tmp/pip-req-build-afu9cjzs/opencv/modules/videoio/src/cap.cpp (160) open VIDEOIO(CV_IMAGES): raised OpenCV exception:\n",
      "\n",
      "OpenCV(4.5.3) /tmp/pip-req-build-afu9cjzs/opencv/modules/videoio/src/cap_images.cpp:235: error: (-5:Bad argument) CAP_IMAGES: error, expected '0?[1-9][du]' pattern, got: https://r3---sn-nfpuji-1gil.googlevideo.com/videoplayback?expire=1634679816&ei=qOduYaauFMWA6dsP99OF6AU&ip=128.178.21.36&id=o-AAkrdGVDMGDGYdiBoFGD3d6I3mBtJLvifXG2VGbekuYq&itag=22&source=youtube&requiressl=yes&mh=H2&mm=31%2C29&mn=sn-nfpuji-1gil%2Csn-1gi7znes&ms=au%2Crdu&mv=m&mvi=3&pcm2cms=yes&pl=16&initcwndbps=1220000&vprv=1&mime=video%2Fmp4&ns=TI_FBHOvbmv7IdiO-Okrwd4G&cnr=14&ratebypass=yes&dur=494.445&lmt=1470972637707754&mt=1634657837&fvip=3&fexp=24001373%2C24007246&c=WEB&n=71813FIZc-j1MfZ0cY7&sparams=expire%2Cei%2Cip%2Cid%2Citag%2Csource%2Crequiressl%2Cvprv%2Cmime%2Cns%2Ccnr%2Cratebypass%2Cdur%2Clmt&sig=AOq0QJ8wRgIhAJAXuRg7LeocLb8pfx5hQgpGElabKDsiwV0r4FpVdq_SAiEAmeJzvoxrqKKd9NyOP94e2nq2IJK1_8GRYIE0Im607f8%3D&lsparams=mh%2Cmm%2Cmn%2Cms%2Cmv%2Cmvi%2Cpcm2cms%2Cpl%2Cinitcwndbps&lsig=AG3C_xAwRQIgdcMYu9lzIoQ4M8EIdPNMbAseaOj13pzhvmLNbBD7pvECIQCnfBmCxhOX13gCuqe1ZyGy7w7jznAJUF-G39ejdn49Hw%3D%3D in function 'icvExtractPattern'\n",
      "\n",
      "\n"
     ]
    },
    {
     "name": "stdout",
     "output_type": "stream",
     "text": [
      "test\n",
      "n0kW_wIuxD4\n",
      "[youtube] n0kW_wIuxD4: Downloading webpage\n"
     ]
    },
    {
     "name": "stderr",
     "output_type": "stream",
     "text": [
      "[mov,mp4,m4a,3gp,3g2,mj2 @ 0x55dd8216e580] error reading header\n",
      "[ERROR:0] global /tmp/pip-req-build-afu9cjzs/opencv/modules/videoio/src/cap.cpp (160) open VIDEOIO(CV_IMAGES): raised OpenCV exception:\n",
      "\n",
      "OpenCV(4.5.3) /tmp/pip-req-build-afu9cjzs/opencv/modules/videoio/src/cap_images.cpp:235: error: (-5:Bad argument) CAP_IMAGES: error, expected '0?[1-9][du]' pattern, got: https://r2---sn-nfpuji-1gil.googlevideo.com/videoplayback?expire=1634679816&ei=qOduYfWFM4ja1gLJsaGYCQ&ip=128.178.21.36&id=o-AJZSOKivuTNlsZwlfJTGtIpiqGVehUxsaB1m7VBmsgJ8&itag=22&source=youtube&requiressl=yes&mh=8S&mm=31%2C29&mn=sn-nfpuji-1gil%2Csn-1gieen7e&ms=au%2Crdu&mv=m&mvi=2&pl=16&initcwndbps=1220000&vprv=1&mime=video%2Fmp4&ns=yDxWNDQPcZ50-dOwmsSlcd8G&cnr=14&ratebypass=yes&dur=11031.521&lmt=1615141050502160&mt=1634657837&fvip=3&fexp=24001373%2C24007246&c=WEB&txp=6216222&n=mstQJyi-1AoKguRI1AJ&sparams=expire%2Cei%2Cip%2Cid%2Citag%2Csource%2Crequiressl%2Cvprv%2Cmime%2Cns%2Ccnr%2Cratebypass%2Cdur%2Clmt&sig=AOq0QJ8wRQIgJL14Q4mauxnsU15S12gV7I7eCecIHFvdjA73N6CV3ZECIQCzcrE6UZ3cndSCmr2JgF2RfN-SM5VwAFnrZNqYUAa45Q%3D%3D&lsparams=mh%2Cmm%2Cmn%2Cms%2Cmv%2Cmvi%2Cpl%2Cinitcwndbps&lsig=AG3C_xAwRQIhAIQjLQLsjbXBx_PZP7iznclUYeQi_FAVrff1T6GatDiOAiANs60Oeo_L1UGhUE_wgDGJBJRXRhu_L58wWsn94eFf_A%3D%3D in function 'icvExtractPattern'\n",
      "\n",
      "\n"
     ]
    },
    {
     "name": "stdout",
     "output_type": "stream",
     "text": [
      "test\n",
      "0\n",
      "1\n",
      "2\n",
      "8MevVUp924c\n",
      "[youtube] 8MevVUp924c: Downloading webpage\n",
      "[youtube] 8MevVUp924c: Downloading MPD manifest\n",
      "test\n",
      "0\n",
      "1\n",
      "2\n",
      "5M2ZxO6SSQA\n",
      "[youtube] 5M2ZxO6SSQA: Downloading webpage\n",
      "test\n",
      "0\n",
      "1\n",
      "2\n",
      "VBdQYNOMLdg\n",
      "[youtube] VBdQYNOMLdg: Downloading webpage\n",
      "test\n",
      "0\n",
      "1\n",
      "2\n",
      "6wNVKhLn7ZU\n",
      "[youtube] 6wNVKhLn7ZU: Downloading webpage\n",
      "[youtube] 6wNVKhLn7ZU: Downloading MPD manifest\n",
      "test\n",
      "0\n",
      "1\n",
      "2\n",
      "H6J5wdZUxck\n",
      "[youtube] H6J5wdZUxck: Downloading webpage\n",
      "test\n",
      "0\n",
      "1\n",
      "2\n",
      "K4nSRILA47g\n",
      "[youtube] K4nSRILA47g: Downloading webpage\n",
      "test\n",
      "0\n",
      "1\n",
      "2\n",
      "ERYPCbtWDxQ\n",
      "[youtube] ERYPCbtWDxQ: Downloading webpage\n",
      "test\n",
      "0\n"
     ]
    }
   ],
   "source": [
    "for key, value in dict_sample.items():\n",
    "    \n",
    "    place = key\n",
    "    for youtube_id in value:\n",
    "        print(youtube_id)\n",
    "        video_url= 'https://www.youtube.com/watch?v=%s' % youtube_id  #The Youtube URL\n",
    "        ydl_opts={}\n",
    "        ydl=youtube_dl.YoutubeDL(ydl_opts)\n",
    "        info_dict=ydl.extract_info(video_url, download=False)\n",
    "\n",
    "        formats = info_dict.get('formats',None)\n",
    "\n",
    "        f = formats[-1]\n",
    "        print('test')\n",
    "        url = f.get('url',None)\n",
    "        cap = cv2.VideoCapture(url)\n",
    "\n",
    "        x=0\n",
    "        count=info_dict['duration']/4\n",
    "        while x<3:\n",
    "            ret, frame = cap.read()\n",
    "            if not ret:\n",
    "                break\n",
    "            filename =\"screenshots/%s-%d-%d.png\" % (youtube_id, x, count)\n",
    "            print(x)\n",
    "            x+=1\n",
    "            cv2.imwrite(filename.format(count), frame)\n",
    "            count+=int(info_dict['duration']/4) #Skip 300 frames i.e. 10 seconds for 30 fps\n",
    "            cap.set(1,count)\n",
    "            if cv2.waitKey(30)&0xFF == ord('q'):\n",
    "                print('test5')\n",
    "                break\n",
    "        cap.release()"
   ]
  },
  {
   "cell_type": "code",
   "execution_count": null,
   "id": "398330c9",
   "metadata": {},
   "outputs": [],
   "source": []
  },
  {
   "cell_type": "code",
   "execution_count": null,
   "id": "29501467",
   "metadata": {},
   "outputs": [],
   "source": []
  },
  {
   "cell_type": "code",
   "execution_count": null,
   "id": "5f615da1",
   "metadata": {},
   "outputs": [],
   "source": []
  },
  {
   "cell_type": "code",
   "execution_count": null,
   "id": "f6079ee8",
   "metadata": {},
   "outputs": [],
   "source": []
  },
  {
   "cell_type": "code",
   "execution_count": null,
   "id": "e3a88ed1",
   "metadata": {},
   "outputs": [],
   "source": []
  },
  {
   "cell_type": "code",
   "execution_count": null,
   "id": "5d91bcd1",
   "metadata": {},
   "outputs": [],
   "source": []
  },
  {
   "cell_type": "code",
   "execution_count": null,
   "id": "ebbfee51",
   "metadata": {},
   "outputs": [],
   "source": []
  },
  {
   "cell_type": "code",
   "execution_count": null,
   "id": "e639a466",
   "metadata": {},
   "outputs": [],
   "source": []
  },
  {
   "cell_type": "code",
   "execution_count": null,
   "id": "1384fdaf",
   "metadata": {},
   "outputs": [],
   "source": []
  },
  {
   "cell_type": "code",
   "execution_count": null,
   "id": "4fd5e243",
   "metadata": {},
   "outputs": [],
   "source": []
  },
  {
   "cell_type": "code",
   "execution_count": null,
   "id": "bad758be",
   "metadata": {},
   "outputs": [],
   "source": []
  },
  {
   "cell_type": "code",
   "execution_count": null,
   "id": "5c6a8b49",
   "metadata": {},
   "outputs": [],
   "source": []
  },
  {
   "cell_type": "code",
   "execution_count": null,
   "id": "6dc60895",
   "metadata": {},
   "outputs": [],
   "source": []
  },
  {
   "cell_type": "code",
   "execution_count": null,
   "id": "b10831fc",
   "metadata": {},
   "outputs": [],
   "source": []
  },
  {
   "cell_type": "code",
   "execution_count": null,
   "id": "4bab234a",
   "metadata": {},
   "outputs": [],
   "source": []
  },
  {
   "cell_type": "code",
   "execution_count": null,
   "id": "f18d75bd",
   "metadata": {},
   "outputs": [],
   "source": []
  },
  {
   "cell_type": "code",
   "execution_count": null,
   "id": "ed4e7164",
   "metadata": {},
   "outputs": [],
   "source": []
  },
  {
   "cell_type": "code",
   "execution_count": null,
   "id": "314493a7",
   "metadata": {},
   "outputs": [],
   "source": []
  },
  {
   "cell_type": "code",
   "execution_count": null,
   "id": "bc97077a",
   "metadata": {},
   "outputs": [],
   "source": []
  }
 ],
 "metadata": {
  "kernelspec": {
   "display_name": "Python 3",
   "language": "python",
   "name": "python3"
  },
  "language_info": {
   "codemirror_mode": {
    "name": "ipython",
    "version": 3
   },
   "file_extension": ".py",
   "mimetype": "text/x-python",
   "name": "python",
   "nbconvert_exporter": "python",
   "pygments_lexer": "ipython3",
   "version": "3.9.1"
  }
 },
 "nbformat": 4,
 "nbformat_minor": 5
}
