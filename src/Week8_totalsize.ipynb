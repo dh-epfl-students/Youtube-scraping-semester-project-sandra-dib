{
 "cells": [
  {
   "cell_type": "code",
   "execution_count": 5,
   "id": "5e10490e",
   "metadata": {},
   "outputs": [],
   "source": [
    "import pandas as pd\n",
    "import random\n",
    "import youtube_dl\n",
    "import numpy\n",
    "import cv2"
   ]
  },
  {
   "cell_type": "code",
   "execution_count": 6,
   "id": "6f7d0cc4",
   "metadata": {},
   "outputs": [],
   "source": [
    "inputfile = pd.read_csv('../data/video_info_2.csv',delimiter=',')"
   ]
  },
  {
   "cell_type": "code",
   "execution_count": 7,
   "id": "ff570996",
   "metadata": {},
   "outputs": [
    {
     "data": {
      "text/html": [
       "<div>\n",
       "<style scoped>\n",
       "    .dataframe tbody tr th:only-of-type {\n",
       "        vertical-align: middle;\n",
       "    }\n",
       "\n",
       "    .dataframe tbody tr th {\n",
       "        vertical-align: top;\n",
       "    }\n",
       "\n",
       "    .dataframe thead th {\n",
       "        text-align: right;\n",
       "    }\n",
       "</style>\n",
       "<table border=\"1\" class=\"dataframe\">\n",
       "  <thead>\n",
       "    <tr style=\"text-align: right;\">\n",
       "      <th></th>\n",
       "      <th>id</th>\n",
       "      <th>place</th>\n",
       "      <th>duration</th>\n",
       "      <th>title</th>\n",
       "      <th>date</th>\n",
       "      <th>height</th>\n",
       "      <th>filesize</th>\n",
       "    </tr>\n",
       "  </thead>\n",
       "  <tbody>\n",
       "    <tr>\n",
       "      <th>0</th>\n",
       "      <td>SAm6Awzqyr8</td>\n",
       "      <td>Aachen cathedral</td>\n",
       "      <td>417</td>\n",
       "      <td>Aachen Highlights by drone 2021</td>\n",
       "      <td>20210505</td>\n",
       "      <td>2160</td>\n",
       "      <td>678002004</td>\n",
       "    </tr>\n",
       "    <tr>\n",
       "      <th>1</th>\n",
       "      <td>vJ1HftOGa7o</td>\n",
       "      <td>Aachen cathedral</td>\n",
       "      <td>215</td>\n",
       "      <td>Lake Aachen (Achensee) - 4k drone based teaser</td>\n",
       "      <td>20180929</td>\n",
       "      <td>2160</td>\n",
       "      <td>686665728</td>\n",
       "    </tr>\n",
       "    <tr>\n",
       "      <th>2</th>\n",
       "      <td>7s5TYFPP6Uw</td>\n",
       "      <td>Abu mena</td>\n",
       "      <td>733</td>\n",
       "      <td>How to fly drones for beginners</td>\n",
       "      <td>20210624</td>\n",
       "      <td>2160</td>\n",
       "      <td>863190914</td>\n",
       "    </tr>\n",
       "    <tr>\n",
       "      <th>3</th>\n",
       "      <td>weK4NgWcUN8</td>\n",
       "      <td>Dilmun burial mounds</td>\n",
       "      <td>805</td>\n",
       "      <td>I went to Iceland to fly my drone over an acti...</td>\n",
       "      <td>20211008</td>\n",
       "      <td>2160</td>\n",
       "      <td>1052880396</td>\n",
       "    </tr>\n",
       "    <tr>\n",
       "      <th>4</th>\n",
       "      <td>-lzFLM8hte0</td>\n",
       "      <td>Acropolis athens</td>\n",
       "      <td>136</td>\n",
       "      <td>Acropolis by drone / Athens Aerial - ἀκρόπολις</td>\n",
       "      <td>20210622</td>\n",
       "      <td>2160</td>\n",
       "      <td>252359734</td>\n",
       "    </tr>\n",
       "    <tr>\n",
       "      <th>...</th>\n",
       "      <td>...</td>\n",
       "      <td>...</td>\n",
       "      <td>...</td>\n",
       "      <td>...</td>\n",
       "      <td>...</td>\n",
       "      <td>...</td>\n",
       "      <td>...</td>\n",
       "    </tr>\n",
       "    <tr>\n",
       "      <th>751</th>\n",
       "      <td>SijeZTOl7s4</td>\n",
       "      <td>Xinjiang tianshan</td>\n",
       "      <td>229</td>\n",
       "      <td>China's amazing INNER MONGOLIA grasslands by d...</td>\n",
       "      <td>20200910</td>\n",
       "      <td>2160</td>\n",
       "      <td>364998557</td>\n",
       "    </tr>\n",
       "    <tr>\n",
       "      <th>752</th>\n",
       "      <td>35_7gL6W3kM</td>\n",
       "      <td>Yin xu</td>\n",
       "      <td>382</td>\n",
       "      <td>UK Drone Code (EXPLAINED) | 6 MUST KNOWS on ho...</td>\n",
       "      <td>20190611</td>\n",
       "      <td>2160</td>\n",
       "      <td>447087485</td>\n",
       "    </tr>\n",
       "    <tr>\n",
       "      <th>753</th>\n",
       "      <td>0Q3uf1YeTek</td>\n",
       "      <td>Yosemite national park</td>\n",
       "      <td>169</td>\n",
       "      <td>Yosemite National Park - California, USA 🇺🇸 - ...</td>\n",
       "      <td>20200508</td>\n",
       "      <td>2160</td>\n",
       "      <td>209016569</td>\n",
       "    </tr>\n",
       "    <tr>\n",
       "      <th>754</th>\n",
       "      <td>IWi_kfryEEU</td>\n",
       "      <td>Yosemite national park</td>\n",
       "      <td>120</td>\n",
       "      <td>Tour de Teemu: Yosemite national park, USA. Oc...</td>\n",
       "      <td>20191020</td>\n",
       "      <td>2160</td>\n",
       "      <td>278322936</td>\n",
       "    </tr>\n",
       "    <tr>\n",
       "      <th>755</th>\n",
       "      <td>nkRdPYuU0u0</td>\n",
       "      <td>Zollverein coal mine industrial complex</td>\n",
       "      <td>65</td>\n",
       "      <td>Mine. Mavic Pro sample drone footage 4K</td>\n",
       "      <td>20181214</td>\n",
       "      <td>2160</td>\n",
       "      <td>179716821</td>\n",
       "    </tr>\n",
       "  </tbody>\n",
       "</table>\n",
       "<p>756 rows × 7 columns</p>\n",
       "</div>"
      ],
      "text/plain": [
       "              id                                    place  duration  \\\n",
       "0    SAm6Awzqyr8                         Aachen cathedral       417   \n",
       "1    vJ1HftOGa7o                         Aachen cathedral       215   \n",
       "2    7s5TYFPP6Uw                                 Abu mena       733   \n",
       "3    weK4NgWcUN8                     Dilmun burial mounds       805   \n",
       "4    -lzFLM8hte0                         Acropolis athens       136   \n",
       "..           ...                                      ...       ...   \n",
       "751  SijeZTOl7s4                        Xinjiang tianshan       229   \n",
       "752  35_7gL6W3kM                                   Yin xu       382   \n",
       "753  0Q3uf1YeTek                   Yosemite national park       169   \n",
       "754  IWi_kfryEEU                   Yosemite national park       120   \n",
       "755  nkRdPYuU0u0  Zollverein coal mine industrial complex        65   \n",
       "\n",
       "                                                 title      date  height  \\\n",
       "0                      Aachen Highlights by drone 2021  20210505    2160   \n",
       "1       Lake Aachen (Achensee) - 4k drone based teaser  20180929    2160   \n",
       "2                      How to fly drones for beginners  20210624    2160   \n",
       "3    I went to Iceland to fly my drone over an acti...  20211008    2160   \n",
       "4       Acropolis by drone / Athens Aerial - ἀκρόπολις  20210622    2160   \n",
       "..                                                 ...       ...     ...   \n",
       "751  China's amazing INNER MONGOLIA grasslands by d...  20200910    2160   \n",
       "752  UK Drone Code (EXPLAINED) | 6 MUST KNOWS on ho...  20190611    2160   \n",
       "753  Yosemite National Park - California, USA 🇺🇸 - ...  20200508    2160   \n",
       "754  Tour de Teemu: Yosemite national park, USA. Oc...  20191020    2160   \n",
       "755            Mine. Mavic Pro sample drone footage 4K  20181214    2160   \n",
       "\n",
       "       filesize  \n",
       "0     678002004  \n",
       "1     686665728  \n",
       "2     863190914  \n",
       "3    1052880396  \n",
       "4     252359734  \n",
       "..          ...  \n",
       "751   364998557  \n",
       "752   447087485  \n",
       "753   209016569  \n",
       "754   278322936  \n",
       "755   179716821  \n",
       "\n",
       "[756 rows x 7 columns]"
      ]
     },
     "execution_count": 7,
     "metadata": {},
     "output_type": "execute_result"
    }
   ],
   "source": [
    "inputfile"
   ]
  },
  {
   "cell_type": "code",
   "execution_count": 14,
   "id": "4e12a10f",
   "metadata": {},
   "outputs": [],
   "source": [
    "df = pd.DataFrame(inputfile)\n",
    "col_name = \"filesize\""
   ]
  },
  {
   "cell_type": "code",
   "execution_count": 15,
   "id": "258b47da",
   "metadata": {},
   "outputs": [],
   "source": [
    "col_sum = df[col_name].sum()"
   ]
  },
  {
   "cell_type": "code",
   "execution_count": 28,
   "id": "9449cdb0",
   "metadata": {},
   "outputs": [
    {
     "data": {
      "text/plain": [
       "502301.607854"
      ]
     },
     "execution_count": 28,
     "metadata": {},
     "output_type": "execute_result"
    }
   ],
   "source": [
    "col_sum /1000000"
   ]
  },
  {
   "cell_type": "code",
   "execution_count": 25,
   "id": "c84d6ab8",
   "metadata": {},
   "outputs": [
    {
     "name": "stdout",
     "output_type": "stream",
     "text": [
      "[youtube] 1_s0CD4GT18: Downloading webpage\n"
     ]
    }
   ],
   "source": [
    "video_url = 'https://www.youtube.com/watch?v=1_s0CD4GT18'\n",
    "ydl_opts = {}\n",
    "ydl = youtube_dl.YoutubeDL(ydl_opts)\n",
    "info_dict = ydl.extract_info(video_url, download=False)\n",
    "formats = info_dict.get('formats',None)\n",
    "\n",
    "x = 1080 # HD -> change to 2160 for 4k\n",
    "\n",
    "for f in formats:\n",
    "    height = f.get('height')\n",
    "    if height is not None and height >= x and f.get('filesize') is not None:\n",
    "# add conditions : \"drone\" must be in title OR description\n",
    "        a = height\n",
    "        filesize = f.get('filesize')\n"
   ]
  },
  {
   "cell_type": "code",
   "execution_count": 26,
   "id": "bea147e4",
   "metadata": {},
   "outputs": [
    {
     "data": {
      "text/plain": [
       "2160"
      ]
     },
     "execution_count": 26,
     "metadata": {},
     "output_type": "execute_result"
    }
   ],
   "source": [
    "a"
   ]
  },
  {
   "cell_type": "code",
   "execution_count": 27,
   "id": "926d2360",
   "metadata": {},
   "outputs": [
    {
     "data": {
      "text/plain": [
       "239100190"
      ]
     },
     "execution_count": 27,
     "metadata": {},
     "output_type": "execute_result"
    }
   ],
   "source": [
    "filesize"
   ]
  },
  {
   "cell_type": "code",
   "execution_count": null,
   "id": "3d325451",
   "metadata": {},
   "outputs": [],
   "source": []
  }
 ],
 "metadata": {
  "kernelspec": {
   "display_name": "Python 3 (ipykernel)",
   "language": "python",
   "name": "python3"
  },
  "language_info": {
   "codemirror_mode": {
    "name": "ipython",
    "version": 3
   },
   "file_extension": ".py",
   "mimetype": "text/x-python",
   "name": "python",
   "nbconvert_exporter": "python",
   "pygments_lexer": "ipython3",
   "version": "3.8.8"
  }
 },
 "nbformat": 4,
 "nbformat_minor": 5
}
